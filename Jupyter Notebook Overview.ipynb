{
 "cells": [
  {
   "cell_type": "code",
   "execution_count": 1,
   "id": "ae4fbf5a-f2ce-441c-a82e-a138d4cb8335",
   "metadata": {},
   "outputs": [
    {
     "name": "stdout",
     "output_type": "stream",
     "text": [
      "hello world\n"
     ]
    }
   ],
   "source": [
    "print(\"hello world\")"
   ]
  },
  {
   "cell_type": "code",
   "execution_count": null,
   "id": "7db26093-3772-4ff0-b34e-89d9d32e07f6",
   "metadata": {},
   "outputs": [],
   "source": [
    "# This code will assign the string golf to to a variable called sport\n",
    "sport = 'golf' # This is an end of line comment"
   ]
  },
  {
   "cell_type": "code",
   "execution_count": null,
   "id": "951da495-4f4c-45b3-8c52-3b49ffd135a5",
   "metadata": {},
   "outputs": [],
   "source": [
    "sport = 'golf'\n",
    "sport = 'golf'\n",
    "sport = 'golf'"
   ]
  },
  {
   "cell_type": "markdown",
   "id": "be13b519-365e-482f-8e76-3d85ef211c80",
   "metadata": {},
   "source": [
    "# Print Statement"
   ]
  },
  {
   "cell_type": "code",
   "execution_count": 1,
   "id": "994463dc-65b1-48af-baa0-3bc2e9f45d9c",
   "metadata": {},
   "outputs": [
    {
     "name": "stdout",
     "output_type": "stream",
     "text": [
      "hello everyone\n"
     ]
    }
   ],
   "source": [
    "print(\"hello everyone\")"
   ]
  },
  {
   "cell_type": "markdown",
   "id": "c9b83c66-bafe-44a6-a361-9f4ba11a5cd9",
   "metadata": {},
   "source": [
    "# Variables"
   ]
  },
  {
   "cell_type": "code",
   "execution_count": 3,
   "id": "e9bdd047-23b8-4f5a-a082-3eee4f5f0d1e",
   "metadata": {},
   "outputs": [],
   "source": [
    "first_name  = 'Sally'\n"
   ]
  },
  {
   "cell_type": "code",
   "execution_count": 4,
   "id": "d9c4ce92-7393-4492-9def-653b83ab2824",
   "metadata": {},
   "outputs": [
    {
     "name": "stdout",
     "output_type": "stream",
     "text": [
      "Sally\n"
     ]
    }
   ],
   "source": [
    "print(first_name)"
   ]
  },
  {
   "cell_type": "markdown",
   "id": "4bea6c1a-7e95-4ed4-a08b-bc57a61ceff3",
   "metadata": {},
   "source": [
    "# variables can't include symbols"
   ]
  },
  {
   "cell_type": "code",
   "execution_count": 5,
   "id": "9b31a0dd-f8cd-4354-92be-d5fec90b51c2",
   "metadata": {},
   "outputs": [],
   "source": [
    "times_3 = 10*3"
   ]
  },
  {
   "cell_type": "code",
   "execution_count": 6,
   "id": "643d0881-ee17-4af1-8d7c-82f05e065148",
   "metadata": {},
   "outputs": [
    {
     "data": {
      "text/plain": [
       "30"
      ]
     },
     "execution_count": 6,
     "metadata": {},
     "output_type": "execute_result"
    }
   ],
   "source": [
    "times_3"
   ]
  },
  {
   "cell_type": "code",
   "execution_count": 7,
   "id": "c1c89d48-6c9d-4b7e-9b5b-6b3571902736",
   "metadata": {},
   "outputs": [
    {
     "name": "stdout",
     "output_type": "stream",
     "text": [
      "Sally\n",
      "Simon\n",
      "Jozef Stalin\n"
     ]
    }
   ],
   "source": [
    "first_name = 'Sally'\n",
    "print(first_name)\n",
    "first_name = 'Simon'\n",
    "print(first_name)\n",
    "first_name = 'Jozef Stalin'\n",
    "print(first_name)"
   ]
  },
  {
   "cell_type": "markdown",
   "id": "cc198f8c-add1-4536-9486-d891d40843ec",
   "metadata": {},
   "source": [
    "# Constants"
   ]
  },
  {
   "cell_type": "code",
   "execution_count": 8,
   "id": "304ca66a-c6e8-4690-ad8d-cae37f96d268",
   "metadata": {},
   "outputs": [],
   "source": [
    "PI = 3.142"
   ]
  },
  {
   "cell_type": "code",
   "execution_count": 9,
   "id": "4b2eb7d4-683c-4b5f-8e1e-e45aba60f057",
   "metadata": {},
   "outputs": [],
   "source": [
    "GRAVITY = 9.8"
   ]
  },
  {
   "cell_type": "markdown",
   "id": "90874484-7b05-406f-aca8-40eaf2acd84c",
   "metadata": {},
   "source": [
    "# Python Keywords"
   ]
  },
  {
   "cell_type": "markdown",
   "id": "9c10f344-986c-48e3-9c72-1efeda294e0f",
   "metadata": {},
   "source": [
    "# Numbers"
   ]
  },
  {
   "cell_type": "code",
   "execution_count": 15,
   "id": "0d41e002-9ad0-4f56-a009-ee24305a86b8",
   "metadata": {},
   "outputs": [],
   "source": [
    "daily_steps = 10000 # this variable is storing an integer"
   ]
  },
  {
   "cell_type": "code",
   "execution_count": 16,
   "id": "1d073732-7913-4386-9607-29f522213a20",
   "metadata": {},
   "outputs": [
    {
     "data": {
      "text/plain": [
       "int"
      ]
     },
     "execution_count": 16,
     "metadata": {},
     "output_type": "execute_result"
    }
   ],
   "source": [
    "type(daily_steps)"
   ]
  },
  {
   "cell_type": "code",
   "execution_count": 17,
   "id": "0135d145-144d-41cd-98e1-e0a4282aa288",
   "metadata": {},
   "outputs": [],
   "source": [
    "film_rating = 7.5"
   ]
  },
  {
   "cell_type": "code",
   "execution_count": 18,
   "id": "311b9e6d-d08e-4001-a3a9-e4dd450eca84",
   "metadata": {},
   "outputs": [
    {
     "data": {
      "text/plain": [
       "float"
      ]
     },
     "execution_count": 18,
     "metadata": {},
     "output_type": "execute_result"
    }
   ],
   "source": [
    "type(film_rating)"
   ]
  },
  {
   "cell_type": "code",
   "execution_count": 19,
   "id": "a89db231-47a0-405f-afe4-9003833606f6",
   "metadata": {},
   "outputs": [
    {
     "data": {
      "text/plain": [
       "5.0"
      ]
     },
     "execution_count": 19,
     "metadata": {},
     "output_type": "execute_result"
    }
   ],
   "source": [
    "20 / 4"
   ]
  },
  {
   "cell_type": "code",
   "execution_count": 21,
   "id": "e29292a3-ee02-4a08-9a95-f518d8a95548",
   "metadata": {},
   "outputs": [
    {
     "data": {
      "text/plain": [
       "15"
      ]
     },
     "execution_count": 21,
     "metadata": {},
     "output_type": "execute_result"
    }
   ],
   "source": [
    "5+2*5 # normal order of arthm. operations "
   ]
  },
  {
   "cell_type": "code",
   "execution_count": 24,
   "id": "f09c959d-91c7-4a07-8066-ec15006b36a5",
   "metadata": {},
   "outputs": [],
   "source": [
    "sales = 1300\n",
    "cost = 465\n",
    "profit = sales - cost"
   ]
  },
  {
   "cell_type": "code",
   "execution_count": 25,
   "id": "14a321bf-67f0-4ee0-9e96-d87ca2baaf9d",
   "metadata": {},
   "outputs": [
    {
     "name": "stdout",
     "output_type": "stream",
     "text": [
      "835\n"
     ]
    }
   ],
   "source": [
    "print(profit)"
   ]
  },
  {
   "cell_type": "code",
   "execution_count": 26,
   "id": "eaa26a35-ab73-483f-b7e2-10a34dd82914",
   "metadata": {},
   "outputs": [],
   "source": [
    "footsteps = 500"
   ]
  },
  {
   "cell_type": "code",
   "execution_count": 27,
   "id": "9a4edde4-426d-4acb-ba7e-0bf0024b9ba4",
   "metadata": {},
   "outputs": [],
   "source": [
    "footsteps += 2000"
   ]
  },
  {
   "cell_type": "code",
   "execution_count": 28,
   "id": "782c1f8d-cad4-49fa-bbbf-a75916c0351c",
   "metadata": {},
   "outputs": [
    {
     "name": "stdout",
     "output_type": "stream",
     "text": [
      "2500\n"
     ]
    }
   ],
   "source": [
    "print(footsteps)"
   ]
  },
  {
   "cell_type": "code",
   "execution_count": 29,
   "id": "f7790b15-5192-451f-a799-51ced0105028",
   "metadata": {},
   "outputs": [],
   "source": [
    "footsteps -= 300"
   ]
  },
  {
   "cell_type": "code",
   "execution_count": 30,
   "id": "0d08ad69-5da5-4e5f-abc2-65ab74de60b1",
   "metadata": {},
   "outputs": [
    {
     "name": "stdout",
     "output_type": "stream",
     "text": [
      "2200\n"
     ]
    }
   ],
   "source": [
    "print(footsteps)"
   ]
  },
  {
   "cell_type": "code",
   "execution_count": 31,
   "id": "1a0becd5-86ca-47ff-98d6-2673cad62721",
   "metadata": {},
   "outputs": [],
   "source": [
    "footsteps *= 7"
   ]
  },
  {
   "cell_type": "code",
   "execution_count": 32,
   "id": "631ac39d-e437-4a51-9fb3-0eda31d767cc",
   "metadata": {},
   "outputs": [
    {
     "name": "stdout",
     "output_type": "stream",
     "text": [
      "15400\n"
     ]
    }
   ],
   "source": [
    "print(footsteps)\n"
   ]
  },
  {
   "cell_type": "code",
   "execution_count": 33,
   "id": "ecbc5a51-0170-4d56-ac75-48cfac09e3f0",
   "metadata": {},
   "outputs": [],
   "source": [
    "footsteps /= 2"
   ]
  },
  {
   "cell_type": "code",
   "execution_count": 34,
   "id": "89e5c2ea-2394-42c9-bd26-e1dc0692d640",
   "metadata": {},
   "outputs": [
    {
     "name": "stdout",
     "output_type": "stream",
     "text": [
      "7700.0\n"
     ]
    }
   ],
   "source": [
    "print(footsteps)"
   ]
  },
  {
   "cell_type": "code",
   "execution_count": 35,
   "id": "503cecc6-e371-4c72-a7ff-bc3cf867c437",
   "metadata": {},
   "outputs": [
    {
     "data": {
      "text/plain": [
       "5.333333333333333"
      ]
     },
     "execution_count": 35,
     "metadata": {},
     "output_type": "execute_result"
    }
   ],
   "source": [
    "16 / 3"
   ]
  },
  {
   "cell_type": "code",
   "execution_count": 36,
   "id": "6b32092b-9ece-41db-bbd6-4eb5b3d9557c",
   "metadata": {},
   "outputs": [
    {
     "data": {
      "text/plain": [
       "5"
      ]
     },
     "execution_count": 36,
     "metadata": {},
     "output_type": "execute_result"
    }
   ],
   "source": [
    "16 // 3 "
   ]
  },
  {
   "cell_type": "code",
   "execution_count": 37,
   "id": "01a57afb-11c3-49bd-9bec-1a4be117af4b",
   "metadata": {},
   "outputs": [
    {
     "data": {
      "text/plain": [
       "5.75"
      ]
     },
     "execution_count": 37,
     "metadata": {},
     "output_type": "execute_result"
    }
   ],
   "source": [
    "69 / 12"
   ]
  },
  {
   "cell_type": "code",
   "execution_count": 38,
   "id": "22f6ca15-b32c-432a-b926-1d980f071de8",
   "metadata": {},
   "outputs": [
    {
     "data": {
      "text/plain": [
       "5"
      ]
     },
     "execution_count": 38,
     "metadata": {},
     "output_type": "execute_result"
    }
   ],
   "source": [
    "69 // 12"
   ]
  },
  {
   "cell_type": "code",
   "execution_count": 39,
   "id": "f6ed5064-ad31-4ac7-b001-3135d2886ebd",
   "metadata": {},
   "outputs": [
    {
     "data": {
      "text/plain": [
       "0"
      ]
     },
     "execution_count": 39,
     "metadata": {},
     "output_type": "execute_result"
    }
   ],
   "source": [
    "4 % 2 "
   ]
  },
  {
   "cell_type": "code",
   "execution_count": 40,
   "id": "f27e1906-6458-4e17-8673-c2c906e6047b",
   "metadata": {},
   "outputs": [
    {
     "data": {
      "text/plain": [
       "1"
      ]
     },
     "execution_count": 40,
     "metadata": {},
     "output_type": "execute_result"
    }
   ],
   "source": [
    "16 % 3 "
   ]
  },
  {
   "cell_type": "code",
   "execution_count": 41,
   "id": "431ebc05-5b4f-43d7-a6a9-cd1c9c1eba10",
   "metadata": {},
   "outputs": [
    {
     "data": {
      "text/plain": [
       "9"
      ]
     },
     "execution_count": 41,
     "metadata": {},
     "output_type": "execute_result"
    }
   ],
   "source": [
    "69 % 12 "
   ]
  },
  {
   "cell_type": "code",
   "execution_count": 42,
   "id": "4860ecb6-a233-4ac6-b85b-778f787d5a87",
   "metadata": {},
   "outputs": [
    {
     "data": {
      "text/plain": [
       "512"
      ]
     },
     "execution_count": 42,
     "metadata": {},
     "output_type": "execute_result"
    }
   ],
   "source": [
    "8 ** 3"
   ]
  },
  {
   "cell_type": "code",
   "execution_count": 43,
   "id": "ebe8f2cb-86cf-462d-9ee1-6896ee8e27d6",
   "metadata": {},
   "outputs": [
    {
     "data": {
      "text/plain": [
       "2.0"
      ]
     },
     "execution_count": 43,
     "metadata": {},
     "output_type": "execute_result"
    }
   ],
   "source": [
    "1 + 1.0"
   ]
  },
  {
   "cell_type": "code",
   "execution_count": 44,
   "id": "5cd60c8a-2f00-4421-ad27-67de57d529f1",
   "metadata": {},
   "outputs": [
    {
     "data": {
      "text/plain": [
       "2.0"
      ]
     },
     "execution_count": 44,
     "metadata": {},
     "output_type": "execute_result"
    }
   ],
   "source": [
    "1 + 1.0 "
   ]
  },
  {
   "cell_type": "code",
   "execution_count": 45,
   "id": "18315f86-c9d6-4b2d-b584-572221394cda",
   "metadata": {},
   "outputs": [
    {
     "data": {
      "text/plain": [
       "2"
      ]
     },
     "execution_count": 45,
     "metadata": {},
     "output_type": "execute_result"
    }
   ],
   "source": [
    "int(2.8)"
   ]
  },
  {
   "cell_type": "code",
   "execution_count": 46,
   "id": "cf43eb6e-eb9f-4ccb-9981-67153cdd9660",
   "metadata": {},
   "outputs": [
    {
     "data": {
      "text/plain": [
       "10.0"
      ]
     },
     "execution_count": 46,
     "metadata": {},
     "output_type": "execute_result"
    }
   ],
   "source": [
    "float(10)"
   ]
  },
  {
   "cell_type": "code",
   "execution_count": 47,
   "id": "50dba74a-ab06-4847-9368-80aa98d213fb",
   "metadata": {},
   "outputs": [
    {
     "data": {
      "text/plain": [
       "2"
      ]
     },
     "execution_count": 47,
     "metadata": {},
     "output_type": "execute_result"
    }
   ],
   "source": [
    "1 + 1"
   ]
  },
  {
   "cell_type": "code",
   "execution_count": 48,
   "id": "2246eeb5-8b49-4f0a-af0a-7aaf62c30508",
   "metadata": {},
   "outputs": [
    {
     "data": {
      "text/plain": [
       "True"
      ]
     },
     "execution_count": 48,
     "metadata": {},
     "output_type": "execute_result"
    }
   ],
   "source": [
    "1.1 + 1 == 2.1"
   ]
  },
  {
   "cell_type": "code",
   "execution_count": 49,
   "id": "7a063ef3-e277-4064-8661-baeeb5ca17b1",
   "metadata": {},
   "outputs": [
    {
     "data": {
      "text/plain": [
       "False"
      ]
     },
     "execution_count": 49,
     "metadata": {},
     "output_type": "execute_result"
    }
   ],
   "source": [
    "1.1 + 2.2 == 3.3"
   ]
  },
  {
   "cell_type": "code",
   "execution_count": 50,
   "id": "784a3548-c0c9-4160-a07a-815ab3d7d611",
   "metadata": {},
   "outputs": [
    {
     "data": {
      "text/plain": [
       "3.3000000000000003"
      ]
     },
     "execution_count": 50,
     "metadata": {},
     "output_type": "execute_result"
    }
   ],
   "source": [
    "1.1 + 2.2"
   ]
  },
  {
   "cell_type": "markdown",
   "id": "cdf042ad-f43c-4bcb-8729-4fdb5947c7bd",
   "metadata": {},
   "source": [
    "# 15 numbers of precision by default"
   ]
  },
  {
   "cell_type": "code",
   "execution_count": 51,
   "id": "44419c12-8e3a-4a54-aeef-38df7ea117e5",
   "metadata": {},
   "outputs": [
    {
     "name": "stdout",
     "output_type": "stream",
     "text": [
      "0.1\n",
      "0.1000000000000000055511151231257827021181583404541015625\n"
     ]
    }
   ],
   "source": [
    "import decimal\n",
    "\n",
    "print(0.1)\n",
    "print(decimal.Decimal(0.1))"
   ]
  },
  {
   "cell_type": "code",
   "execution_count": 52,
   "id": "0912820f-37dd-43bc-8c44-37c87e0e0afa",
   "metadata": {},
   "outputs": [
    {
     "data": {
      "text/plain": [
       "True"
      ]
     },
     "execution_count": 52,
     "metadata": {},
     "output_type": "execute_result"
    }
   ],
   "source": [
    "from decimal import Decimal as D\n",
    "\n",
    "D('1.1') + D('2.2') == D('3.3')"
   ]
  },
  {
   "cell_type": "code",
   "execution_count": 53,
   "id": "560ffa47-5663-41da-b561-e445e1fcf572",
   "metadata": {},
   "outputs": [
    {
     "data": {
      "text/plain": [
       "3.141592653589793"
      ]
     },
     "execution_count": 53,
     "metadata": {},
     "output_type": "execute_result"
    }
   ],
   "source": [
    "import math \n",
    "\n",
    "math.pi"
   ]
  },
  {
   "cell_type": "code",
   "execution_count": 54,
   "id": "0458d099-0a4b-48b5-aaf6-59f240ae4c58",
   "metadata": {},
   "outputs": [
    {
     "data": {
      "text/plain": [
       "720"
      ]
     },
     "execution_count": 54,
     "metadata": {},
     "output_type": "execute_result"
    }
   ],
   "source": [
    "math.factorial(6)"
   ]
  },
  {
   "cell_type": "markdown",
   "id": "d9d60c8f-49c5-4dae-8824-583d446f86b3",
   "metadata": {},
   "source": [
    "# What is a String?"
   ]
  },
  {
   "cell_type": "markdown",
   "id": "8ab5f855-0f90-4854-8641-64b96a4894ac",
   "metadata": {},
   "source": [
    "Python is using UNI as coding schema"
   ]
  },
  {
   "cell_type": "code",
   "execution_count": 55,
   "id": "6ec39d1b-1bb4-47a7-a0ac-552e2a7cc051",
   "metadata": {},
   "outputs": [
    {
     "name": "stdout",
     "output_type": "stream",
     "text": [
      "hello\n"
     ]
    }
   ],
   "source": [
    "print('hello')"
   ]
  },
  {
   "cell_type": "code",
   "execution_count": 56,
   "id": "a9e9c048-a3d3-43cb-a5c8-eb5e110fbea3",
   "metadata": {},
   "outputs": [
    {
     "name": "stdout",
     "output_type": "stream",
     "text": [
      "hello\n"
     ]
    }
   ],
   "source": [
    "print('''hello''')"
   ]
  },
  {
   "cell_type": "code",
   "execution_count": 57,
   "id": "dd76123d-ef79-486c-93f9-8b893e7ffd09",
   "metadata": {},
   "outputs": [
    {
     "name": "stdout",
     "output_type": "stream",
     "text": [
      "hello\n"
     ]
    }
   ],
   "source": [
    "print(\"hello\")"
   ]
  },
  {
   "cell_type": "code",
   "execution_count": 58,
   "id": "eaecb673-68af-43eb-8a8a-8b9802ea5e04",
   "metadata": {},
   "outputs": [
    {
     "data": {
      "text/plain": [
       "str"
      ]
     },
     "execution_count": 58,
     "metadata": {},
     "output_type": "execute_result"
    }
   ],
   "source": [
    "type('hello')\n",
    "type('''hello''')"
   ]
  },
  {
   "cell_type": "code",
   "execution_count": 61,
   "id": "719898c6-8160-40c6-a69f-2fec750b4782",
   "metadata": {},
   "outputs": [
    {
     "name": "stdout",
     "output_type": "stream",
     "text": [
      "I'm having a great time of learning Python!\n"
     ]
    }
   ],
   "source": [
    "print(\"I'm having a great time of learning Python!\")\n"
   ]
  },
  {
   "cell_type": "code",
   "execution_count": 62,
   "id": "814e5c88-7f93-4f0e-b695-66dfe5102901",
   "metadata": {},
   "outputs": [
    {
     "name": "stdout",
     "output_type": "stream",
     "text": [
      "My teacher said, \"never give up\"\n"
     ]
    }
   ],
   "source": [
    "print('My teacher said, \"never give up\"')"
   ]
  },
  {
   "cell_type": "markdown",
   "id": "8237ccc3-4aea-4fb7-8f86-383a26203ffa",
   "metadata": {},
   "source": [
    "escaping example"
   ]
  },
  {
   "cell_type": "code",
   "execution_count": 63,
   "id": "fa29dab6-65ad-4a71-96b5-544b8dc51d7c",
   "metadata": {},
   "outputs": [
    {
     "name": "stdout",
     "output_type": "stream",
     "text": [
      "They're over there shouting, \"help! help!\"\n"
     ]
    }
   ],
   "source": [
    "print('They\\'re over there shouting, \"help! help!\"')"
   ]
  },
  {
   "cell_type": "markdown",
   "id": "49d4c124-ab3d-4483-bdf6-e2391358328e",
   "metadata": {},
   "source": [
    "# Sting Indexing"
   ]
  },
  {
   "cell_type": "code",
   "execution_count": 64,
   "id": "995498d9-9c6d-4a17-8ef6-d1e340147ae2",
   "metadata": {},
   "outputs": [],
   "source": [
    "word = 'Hello'"
   ]
  },
  {
   "cell_type": "code",
   "execution_count": 65,
   "id": "1941bd69-44e7-4c0f-adaa-5e3edc3481e4",
   "metadata": {},
   "outputs": [
    {
     "data": {
      "text/plain": [
       "5"
      ]
     },
     "execution_count": 65,
     "metadata": {},
     "output_type": "execute_result"
    }
   ],
   "source": [
    "len(word)"
   ]
  },
  {
   "cell_type": "code",
   "execution_count": 66,
   "id": "98bcbdfe-56b7-4af1-988c-5fb052e11ec1",
   "metadata": {},
   "outputs": [
    {
     "data": {
      "text/plain": [
       "'o'"
      ]
     },
     "execution_count": 66,
     "metadata": {},
     "output_type": "execute_result"
    }
   ],
   "source": [
    "word[4]"
   ]
  },
  {
   "cell_type": "code",
   "execution_count": 70,
   "id": "f96d384c-4a2e-46b9-93d2-9c82eacc9a5b",
   "metadata": {},
   "outputs": [
    {
     "data": {
      "text/plain": [
       "'o'"
      ]
     },
     "execution_count": 70,
     "metadata": {},
     "output_type": "execute_result"
    }
   ],
   "source": [
    "word[-1]"
   ]
  },
  {
   "cell_type": "code",
   "execution_count": 71,
   "id": "bae4b35f-9a21-490f-b48e-314bb2b6e384",
   "metadata": {},
   "outputs": [
    {
     "data": {
      "text/plain": [
       "'H'"
      ]
     },
     "execution_count": 71,
     "metadata": {},
     "output_type": "execute_result"
    }
   ],
   "source": [
    "word[-5]"
   ]
  },
  {
   "cell_type": "code",
   "execution_count": 73,
   "id": "c71b9b8a-cb7f-4002-b968-3139108ef545",
   "metadata": {},
   "outputs": [
    {
     "data": {
      "text/plain": [
       "'o'"
      ]
     },
     "execution_count": 73,
     "metadata": {},
     "output_type": "execute_result"
    }
   ],
   "source": [
    "word[4]"
   ]
  },
  {
   "cell_type": "code",
   "execution_count": 74,
   "id": "045b4929-7126-460f-8e0b-a9cf76d7e6c0",
   "metadata": {},
   "outputs": [],
   "source": [
    "sentence = \"this is an example sentence\""
   ]
  },
  {
   "cell_type": "code",
   "execution_count": 75,
   "id": "42d99747-4faf-4972-ad32-cdd6c5241df3",
   "metadata": {},
   "outputs": [
    {
     "data": {
      "text/plain": [
       "'t'"
      ]
     },
     "execution_count": 75,
     "metadata": {},
     "output_type": "execute_result"
    }
   ],
   "source": [
    "sentence[0]"
   ]
  },
  {
   "cell_type": "code",
   "execution_count": 76,
   "id": "9e463822-e4f4-475b-8639-24d9c7d841ef",
   "metadata": {},
   "outputs": [
    {
     "data": {
      "text/plain": [
       "27"
      ]
     },
     "execution_count": 76,
     "metadata": {},
     "output_type": "execute_result"
    }
   ],
   "source": [
    "len(sentence)\n"
   ]
  },
  {
   "cell_type": "code",
   "execution_count": 78,
   "id": "c252a65d-7bf6-46dd-b5aa-51d7c7a134c8",
   "metadata": {},
   "outputs": [
    {
     "data": {
      "text/plain": [
       "'e'"
      ]
     },
     "execution_count": 78,
     "metadata": {},
     "output_type": "execute_result"
    }
   ],
   "source": [
    "sentence[26]"
   ]
  },
  {
   "cell_type": "code",
   "execution_count": 79,
   "id": "e0391937-7e39-430e-a51e-54545b5ee395",
   "metadata": {},
   "outputs": [
    {
     "data": {
      "text/plain": [
       "'this'"
      ]
     },
     "execution_count": 79,
     "metadata": {},
     "output_type": "execute_result"
    }
   ],
   "source": [
    "sentence[0:4]"
   ]
  },
  {
   "cell_type": "code",
   "execution_count": 80,
   "id": "62e31969-15c4-42fc-9d87-7ab32a72b2cf",
   "metadata": {},
   "outputs": [
    {
     "data": {
      "text/plain": [
       "'this'"
      ]
     },
     "execution_count": 80,
     "metadata": {},
     "output_type": "execute_result"
    }
   ],
   "source": [
    "sentence[:4]"
   ]
  },
  {
   "cell_type": "code",
   "execution_count": 81,
   "id": "74fc9f72-ab5b-4367-839c-e5becf1c9c5b",
   "metadata": {},
   "outputs": [],
   "source": [
    "new_word = sentence[:4]"
   ]
  },
  {
   "cell_type": "code",
   "execution_count": 82,
   "id": "433d95ae-37f1-44b3-8724-afd711df5ece",
   "metadata": {},
   "outputs": [
    {
     "name": "stdout",
     "output_type": "stream",
     "text": [
      "this\n"
     ]
    }
   ],
   "source": [
    "print(new_word)"
   ]
  },
  {
   "cell_type": "code",
   "execution_count": 83,
   "id": "4433efaa-1970-4f09-8768-b73076ea7c03",
   "metadata": {},
   "outputs": [
    {
     "data": {
      "text/plain": [
       "'ence'"
      ]
     },
     "execution_count": 83,
     "metadata": {},
     "output_type": "execute_result"
    }
   ],
   "source": [
    "sentence[-4:]"
   ]
  },
  {
   "cell_type": "code",
   "execution_count": 84,
   "id": "38044647-aaa0-41b0-a391-4b17490d5c4b",
   "metadata": {},
   "outputs": [
    {
     "data": {
      "text/plain": [
       "'hsi'"
      ]
     },
     "execution_count": 84,
     "metadata": {},
     "output_type": "execute_result"
    }
   ],
   "source": [
    "sentence[1:6:2]"
   ]
  },
  {
   "cell_type": "code",
   "execution_count": 85,
   "id": "02919d13-fc45-4a94-94d4-2585ae5fca3d",
   "metadata": {},
   "outputs": [],
   "source": [
    "numbers = '123456789'"
   ]
  },
  {
   "cell_type": "code",
   "execution_count": 86,
   "id": "cc8fe70d-26be-4e64-b4c9-33949fc02aa4",
   "metadata": {},
   "outputs": [
    {
     "data": {
      "text/plain": [
       "'2468'"
      ]
     },
     "execution_count": 86,
     "metadata": {},
     "output_type": "execute_result"
    }
   ],
   "source": [
    "numbers[1::2]"
   ]
  },
  {
   "cell_type": "code",
   "execution_count": 87,
   "id": "9127e2af-1586-40ea-a8e5-abd2aeb96e38",
   "metadata": {},
   "outputs": [
    {
     "data": {
      "text/plain": [
       "'13579'"
      ]
     },
     "execution_count": 87,
     "metadata": {},
     "output_type": "execute_result"
    }
   ],
   "source": [
    "numbers[::2]"
   ]
  },
  {
   "cell_type": "code",
   "execution_count": 88,
   "id": "c93b4825-7a95-49d5-baab-ec24fb5c8a91",
   "metadata": {},
   "outputs": [
    {
     "data": {
      "text/plain": [
       "'987654321'"
      ]
     },
     "execution_count": 88,
     "metadata": {},
     "output_type": "execute_result"
    }
   ],
   "source": [
    "numbers[::-1]"
   ]
  },
  {
   "cell_type": "markdown",
   "id": "55f1fd4f-4a75-4d41-a361-2e29b4fb9e88",
   "metadata": {},
   "source": [
    "# String Membership"
   ]
  },
  {
   "cell_type": "code",
   "execution_count": 1,
   "id": "81fc7e61-74e7-4c17-91ec-f947dcd4ba66",
   "metadata": {},
   "outputs": [
    {
     "data": {
      "text/plain": [
       "True"
      ]
     },
     "execution_count": 1,
     "metadata": {},
     "output_type": "execute_result"
    }
   ],
   "source": [
    "'a' in 'hamburger'"
   ]
  },
  {
   "cell_type": "code",
   "execution_count": 2,
   "id": "0917b077-b34b-4654-8dde-8bebda7a2e45",
   "metadata": {},
   "outputs": [
    {
     "data": {
      "text/plain": [
       "False"
      ]
     },
     "execution_count": 2,
     "metadata": {},
     "output_type": "execute_result"
    }
   ],
   "source": [
    "'e' not in 'Chicken'"
   ]
  },
  {
   "cell_type": "code",
   "execution_count": 3,
   "id": "73fb795a-934a-4ac1-9b88-6bdbd18372f7",
   "metadata": {},
   "outputs": [],
   "source": [
    "juice = 'Apple and Strawberry'"
   ]
  },
  {
   "cell_type": "code",
   "execution_count": 4,
   "id": "c193ddb5-f95b-4fbd-b988-7c030ea74445",
   "metadata": {},
   "outputs": [
    {
     "data": {
      "text/plain": [
       "True"
      ]
     },
     "execution_count": 4,
     "metadata": {},
     "output_type": "execute_result"
    }
   ],
   "source": [
    "'Apple' in juice"
   ]
  },
  {
   "cell_type": "code",
   "execution_count": 5,
   "id": "097c9116-77ef-4a4f-9e69-6c3e8857b523",
   "metadata": {},
   "outputs": [],
   "source": [
    "raffle_ticket = '158A'\n",
    "winner = '158A'"
   ]
  },
  {
   "cell_type": "code",
   "execution_count": 6,
   "id": "c77cfffd-5d33-4284-bb3b-ed5e13cdc699",
   "metadata": {},
   "outputs": [
    {
     "data": {
      "text/plain": [
       "True"
      ]
     },
     "execution_count": 6,
     "metadata": {},
     "output_type": "execute_result"
    }
   ],
   "source": [
    "winner in raffle_ticket"
   ]
  },
  {
   "cell_type": "code",
   "execution_count": 8,
   "id": "a9803a8d-6abb-496a-b113-06f448d17c0d",
   "metadata": {},
   "outputs": [
    {
     "data": {
      "text/plain": [
       "True"
      ]
     },
     "execution_count": 8,
     "metadata": {},
     "output_type": "execute_result"
    }
   ],
   "source": [
    "'1' in winner"
   ]
  },
  {
   "cell_type": "markdown",
   "id": "8ca9c269-7776-48c6-9ca8-404631ebf088",
   "metadata": {},
   "source": [
    "# String Methods"
   ]
  },
  {
   "cell_type": "code",
   "execution_count": 9,
   "id": "6fb8a8b1-a1d1-41d4-a20f-fdd080087b77",
   "metadata": {},
   "outputs": [],
   "source": [
    "sentence = 'I LOVE learning Python'"
   ]
  },
  {
   "cell_type": "code",
   "execution_count": 10,
   "id": "28f30503-0cf9-4576-bf20-87136fbcb62d",
   "metadata": {},
   "outputs": [
    {
     "data": {
      "text/plain": [
       "'I LOVE learning Python'"
      ]
     },
     "execution_count": 10,
     "metadata": {},
     "output_type": "execute_result"
    }
   ],
   "source": [
    "sentence"
   ]
  },
  {
   "cell_type": "code",
   "execution_count": 11,
   "id": "0b14203f-40de-4770-9263-46ef5c2bb1a7",
   "metadata": {},
   "outputs": [
    {
     "data": {
      "text/plain": [
       "'I love learning python'"
      ]
     },
     "execution_count": 11,
     "metadata": {},
     "output_type": "execute_result"
    }
   ],
   "source": [
    ".capitalize()"
   ]
  },
  {
   "cell_type": "code",
   "execution_count": 12,
   "id": "c4bd2c31-2fc6-4f4c-90ad-f01a89d79e9c",
   "metadata": {},
   "outputs": [
    {
     "data": {
      "text/plain": [
       "'I LOVE learning Python'"
      ]
     },
     "execution_count": 12,
     "metadata": {},
     "output_type": "execute_result"
    }
   ],
   "source": [
    "sentence"
   ]
  },
  {
   "cell_type": "code",
   "execution_count": 13,
   "id": "6b356eee-8200-4859-a9fd-44ee626270ee",
   "metadata": {},
   "outputs": [],
   "source": [
    "new_sentence = sentence.capitalize()"
   ]
  },
  {
   "cell_type": "code",
   "execution_count": 14,
   "id": "b6345b62-6288-4247-bc36-614d8e2f4421",
   "metadata": {},
   "outputs": [
    {
     "data": {
      "text/plain": [
       "'I love learning python'"
      ]
     },
     "execution_count": 14,
     "metadata": {},
     "output_type": "execute_result"
    }
   ],
   "source": [
    "new_sentence"
   ]
  },
  {
   "cell_type": "code",
   "execution_count": 18,
   "id": "aefb893a-5b80-473b-b910-fcd84c55f54d",
   "metadata": {},
   "outputs": [
    {
     "data": {
      "text/plain": [
       "0"
      ]
     },
     "execution_count": 18,
     "metadata": {},
     "output_type": "execute_result"
    }
   ],
   "source": [
    "sentence.count('I', 1)"
   ]
  },
  {
   "cell_type": "code",
   "execution_count": 19,
   "id": "0f6fa2e5-6603-42d0-aede-c2b70d4866ba",
   "metadata": {},
   "outputs": [
    {
     "data": {
      "text/plain": [
       "True"
      ]
     },
     "execution_count": 19,
     "metadata": {},
     "output_type": "execute_result"
    }
   ],
   "source": [
    "sentence.endswith('n')"
   ]
  },
  {
   "cell_type": "code",
   "execution_count": 20,
   "id": "1eceb056-9f49-436b-8902-a6be1e3499fd",
   "metadata": {},
   "outputs": [
    {
     "data": {
      "text/plain": [
       "False"
      ]
     },
     "execution_count": 20,
     "metadata": {},
     "output_type": "execute_result"
    }
   ],
   "source": [
    "sentence.endswith('o')"
   ]
  },
  {
   "cell_type": "code",
   "execution_count": 21,
   "id": "f0e1eba6-2223-4723-8ce0-d013f834455d",
   "metadata": {},
   "outputs": [
    {
     "data": {
      "text/plain": [
       "True"
      ]
     },
     "execution_count": 21,
     "metadata": {},
     "output_type": "execute_result"
    }
   ],
   "source": [
    "sentence.startswith('I')"
   ]
  },
  {
   "cell_type": "code",
   "execution_count": 22,
   "id": "5b6bcb9a-61e9-4cbc-8334-16be4ddc2f73",
   "metadata": {},
   "outputs": [
    {
     "data": {
      "text/plain": [
       "2"
      ]
     },
     "execution_count": 22,
     "metadata": {},
     "output_type": "execute_result"
    }
   ],
   "source": [
    "sentence.find('L')"
   ]
  },
  {
   "cell_type": "code",
   "execution_count": 23,
   "id": "450c7523-848a-472d-a37f-635c055d618f",
   "metadata": {},
   "outputs": [
    {
     "data": {
      "text/plain": [
       "-1"
      ]
     },
     "execution_count": 23,
     "metadata": {},
     "output_type": "execute_result"
    }
   ],
   "source": [
    "sentence.find('z')"
   ]
  },
  {
   "cell_type": "code",
   "execution_count": 24,
   "id": "cd0079c1-870e-4fa2-b092-5eb18cff8367",
   "metadata": {},
   "outputs": [
    {
     "data": {
      "text/plain": [
       "6"
      ]
     },
     "execution_count": 24,
     "metadata": {},
     "output_type": "execute_result"
    }
   ],
   "source": [
    "sentence.find(' ', 3)"
   ]
  },
  {
   "cell_type": "code",
   "execution_count": 27,
   "id": "90121b4e-c7a4-49c1-973a-08cb61183df4",
   "metadata": {},
   "outputs": [
    {
     "data": {
      "text/plain": [
       "10"
      ]
     },
     "execution_count": 27,
     "metadata": {},
     "output_type": "execute_result"
    }
   ],
   "source": [
    "sentence.index('r')"
   ]
  },
  {
   "cell_type": "code",
   "execution_count": 28,
   "id": "5f7ce025-694c-4d68-9643-3190c283ba53",
   "metadata": {},
   "outputs": [
    {
     "data": {
      "text/plain": [
       "True"
      ]
     },
     "execution_count": 28,
     "metadata": {},
     "output_type": "execute_result"
    }
   ],
   "source": [
    "'10'.isdigit()"
   ]
  },
  {
   "cell_type": "code",
   "execution_count": 29,
   "id": "263f807f-109f-4a4a-b536-0772b32d9475",
   "metadata": {},
   "outputs": [
    {
     "data": {
      "text/plain": [
       "False"
      ]
     },
     "execution_count": 29,
     "metadata": {},
     "output_type": "execute_result"
    }
   ],
   "source": [
    "sentence.isalpha()"
   ]
  },
  {
   "cell_type": "code",
   "execution_count": 30,
   "id": "49dfed7a-530d-42f1-99b5-19b829de7edc",
   "metadata": {},
   "outputs": [],
   "source": [
    "new_sentence =\"IlovePython\""
   ]
  },
  {
   "cell_type": "code",
   "execution_count": 31,
   "id": "287d7237-2de6-4e1a-bd68-b06793d9af42",
   "metadata": {},
   "outputs": [
    {
     "data": {
      "text/plain": [
       "True"
      ]
     },
     "execution_count": 31,
     "metadata": {},
     "output_type": "execute_result"
    }
   ],
   "source": [
    "new_sentence.isalpha()"
   ]
  },
  {
   "cell_type": "code",
   "execution_count": 32,
   "id": "2b98b68d-2ba4-4046-8826-42c6a4ae6719",
   "metadata": {},
   "outputs": [
    {
     "data": {
      "text/plain": [
       "'i love learning python'"
      ]
     },
     "execution_count": 32,
     "metadata": {},
     "output_type": "execute_result"
    }
   ],
   "source": [
    "sentence.lower()"
   ]
  },
  {
   "cell_type": "code",
   "execution_count": 33,
   "id": "48a00daf-2715-4c5f-9146-dac362ae2299",
   "metadata": {},
   "outputs": [
    {
     "data": {
      "text/plain": [
       "'I LOVE LEARNING PYTHON'"
      ]
     },
     "execution_count": 33,
     "metadata": {},
     "output_type": "execute_result"
    }
   ],
   "source": [
    "sentence.upper()"
   ]
  },
  {
   "cell_type": "code",
   "execution_count": 34,
   "id": "553b4943-2b08-424c-a70a-d39ed6967228",
   "metadata": {},
   "outputs": [
    {
     "data": {
      "text/plain": [
       "'I LOVE learning to code'"
      ]
     },
     "execution_count": 34,
     "metadata": {},
     "output_type": "execute_result"
    }
   ],
   "source": [
    "sentence.replace('Python', 'to code')"
   ]
  },
  {
   "cell_type": "code",
   "execution_count": 35,
   "id": "3ab6db6f-387a-453e-9fa9-6bc0fda5ec19",
   "metadata": {},
   "outputs": [
    {
     "data": {
      "text/plain": [
       "'   Hello'"
      ]
     },
     "execution_count": 35,
     "metadata": {},
     "output_type": "execute_result"
    }
   ],
   "source": [
    "'   Hello   '.rstrip()"
   ]
  },
  {
   "cell_type": "code",
   "execution_count": 36,
   "id": "767926d0-6786-4e98-9b72-14bff525378f",
   "metadata": {},
   "outputs": [
    {
     "data": {
      "text/plain": [
       "'Hello   '"
      ]
     },
     "execution_count": 36,
     "metadata": {},
     "output_type": "execute_result"
    }
   ],
   "source": [
    "'   Hello   '.lstrip()"
   ]
  },
  {
   "cell_type": "code",
   "execution_count": 37,
   "id": "2e87f5c9-7d9a-4f9f-9682-36ad8eed04d3",
   "metadata": {},
   "outputs": [
    {
     "data": {
      "text/plain": [
       "'Hello'"
      ]
     },
     "execution_count": 37,
     "metadata": {},
     "output_type": "execute_result"
    }
   ],
   "source": [
    "'   Hello   '.strip()"
   ]
  },
  {
   "cell_type": "code",
   "execution_count": 38,
   "id": "d0edcfc4-2898-4d23-ae55-a320b52b1114",
   "metadata": {},
   "outputs": [
    {
     "data": {
      "text/plain": [
       "'I Love Learning Python'"
      ]
     },
     "execution_count": 38,
     "metadata": {},
     "output_type": "execute_result"
    }
   ],
   "source": [
    "sentence.title()"
   ]
  },
  {
   "cell_type": "markdown",
   "id": "ba7c2a53-89bc-46ab-9bbb-ebc2681fab4d",
   "metadata": {},
   "source": [
    "# The format() method"
   ]
  },
  {
   "cell_type": "code",
   "execution_count": 39,
   "id": "f973d762-b037-4d05-a154-4216509b5a5d",
   "metadata": {},
   "outputs": [
    {
     "data": {
      "text/plain": [
       "'I like to play golf'"
      ]
     },
     "execution_count": 39,
     "metadata": {},
     "output_type": "execute_result"
    }
   ],
   "source": [
    "'I like to play {}'.format('golf')"
   ]
  },
  {
   "cell_type": "code",
   "execution_count": 40,
   "id": "5a0bb020-91eb-4c23-bb1f-c940c216edfa",
   "metadata": {},
   "outputs": [
    {
     "data": {
      "text/plain": [
       "'I am in a band with Tom, James and Sally'"
      ]
     },
     "execution_count": 40,
     "metadata": {},
     "output_type": "execute_result"
    }
   ],
   "source": [
    "'I am in a band with {}, {} and {}'.format('Tom', 'James', 'Sally')"
   ]
  },
  {
   "cell_type": "code",
   "execution_count": 42,
   "id": "b3e429b0-d88d-464e-ac6f-11c946bde4e1",
   "metadata": {},
   "outputs": [
    {
     "data": {
      "text/plain": [
       "'I am in a band with James, Tom and Sally'"
      ]
     },
     "execution_count": 42,
     "metadata": {},
     "output_type": "execute_result"
    }
   ],
   "source": [
    "'I am in a band with {1}, {0} and {2}'.format('Tom', 'James', 'Sally', 'Mandy')"
   ]
  },
  {
   "cell_type": "code",
   "execution_count": 45,
   "id": "be7b7b91-b1ea-4288-81c3-951ede408434",
   "metadata": {},
   "outputs": [
    {
     "data": {
      "text/plain": [
       "'I am in a band with Sally, Tom and James'"
      ]
     },
     "execution_count": 45,
     "metadata": {},
     "output_type": "execute_result"
    }
   ],
   "source": [
    "'I am in a band with {b}, {a} and {c}'.format(a='Tom', c='James', b='Sally')"
   ]
  },
  {
   "cell_type": "markdown",
   "id": "da754835-0844-4eae-b919-a578852bd630",
   "metadata": {},
   "source": [
    "# String Concatenation"
   ]
  },
  {
   "cell_type": "code",
   "execution_count": 47,
   "id": "5ba29f93-9825-4150-b725-31934617c655",
   "metadata": {},
   "outputs": [
    {
     "data": {
      "text/plain": [
       "'Hello World'"
      ]
     },
     "execution_count": 47,
     "metadata": {},
     "output_type": "execute_result"
    }
   ],
   "source": [
    "'Hello' + ' ' + 'World'"
   ]
  },
  {
   "cell_type": "code",
   "execution_count": 48,
   "id": "000aebf7-7139-4dfc-a5d4-8d0018bfd833",
   "metadata": {},
   "outputs": [],
   "source": [
    "welcome = 'Welcome to the game, '"
   ]
  },
  {
   "cell_type": "code",
   "execution_count": 49,
   "id": "f318d810-012d-4585-96d9-26e2bbfe6cdf",
   "metadata": {},
   "outputs": [],
   "source": [
    "name = 'Julie'"
   ]
  },
  {
   "cell_type": "code",
   "execution_count": 50,
   "id": "0032058e-7571-4b47-9146-ed07977d7824",
   "metadata": {},
   "outputs": [],
   "source": [
    "instructions = '! You need to collect as many coins as possible!'\n"
   ]
  },
  {
   "cell_type": "code",
   "execution_count": 51,
   "id": "8c274ea7-0308-4651-8b20-af52552913d0",
   "metadata": {},
   "outputs": [
    {
     "data": {
      "text/plain": [
       "'Welcome to the game, Julie! You need to collect as many coins as possible!'"
      ]
     },
     "execution_count": 51,
     "metadata": {},
     "output_type": "execute_result"
    }
   ],
   "source": [
    "welcome + name + instructions"
   ]
  },
  {
   "cell_type": "code",
   "execution_count": 53,
   "id": "85eca3cc-7063-4b4f-afe4-9e242fcecb4c",
   "metadata": {},
   "outputs": [
    {
     "data": {
      "text/plain": [
       "'Hello Julie'"
      ]
     },
     "execution_count": 53,
     "metadata": {},
     "output_type": "execute_result"
    }
   ],
   "source": [
    "'Hello'' Julie'"
   ]
  },
  {
   "cell_type": "code",
   "execution_count": 54,
   "id": "d5e2ecc4-1783-4f7b-be65-7e3db22f1cb0",
   "metadata": {},
   "outputs": [],
   "source": [
    "welcome = ('Welcome to the game, '\n",
    "            'Julie')"
   ]
  },
  {
   "cell_type": "code",
   "execution_count": 55,
   "id": "5a3c1ec5-263e-4126-be2e-1c47d4e346f9",
   "metadata": {},
   "outputs": [
    {
     "data": {
      "text/plain": [
       "'Welcome to the game, Julie'"
      ]
     },
     "execution_count": 55,
     "metadata": {},
     "output_type": "execute_result"
    }
   ],
   "source": [
    "welcome"
   ]
  },
  {
   "cell_type": "code",
   "execution_count": 56,
   "id": "1182a779-4bb8-4d8b-aedc-3045ddd42948",
   "metadata": {},
   "outputs": [],
   "source": [
    "repeat = 'Hello '*3"
   ]
  },
  {
   "cell_type": "code",
   "execution_count": 57,
   "id": "da9a2a0a-321e-4e6e-9277-a390a2a86bd1",
   "metadata": {},
   "outputs": [
    {
     "data": {
      "text/plain": [
       "'Hello Hello Hello '"
      ]
     },
     "execution_count": 57,
     "metadata": {},
     "output_type": "execute_result"
    }
   ],
   "source": [
    "repeat"
   ]
  },
  {
   "cell_type": "code",
   "execution_count": null,
   "id": "6e532348-5d8e-408b-9f46-7fd15fd7d296",
   "metadata": {},
   "outputs": [],
   "source": []
  }
 ],
 "metadata": {
  "kernelspec": {
   "display_name": "Python 3 (ipykernel)",
   "language": "python",
   "name": "python3"
  },
  "language_info": {
   "codemirror_mode": {
    "name": "ipython",
    "version": 3
   },
   "file_extension": ".py",
   "mimetype": "text/x-python",
   "name": "python",
   "nbconvert_exporter": "python",
   "pygments_lexer": "ipython3",
   "version": "3.11.7"
  }
 },
 "nbformat": 4,
 "nbformat_minor": 5
}
