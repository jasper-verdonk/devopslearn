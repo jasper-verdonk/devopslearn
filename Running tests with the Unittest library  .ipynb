{
 "cells": [
  {
   "cell_type": "code",
   "execution_count": 2,
   "id": "2b096f45-03af-48af-915e-f7a203c3d4a3",
   "metadata": {},
   "outputs": [],
   "source": [
    "import math"
   ]
  },
  {
   "cell_type": "code",
   "execution_count": 4,
   "id": "6a764b25-ac1d-405e-9d19-9ea5c23cf799",
   "metadata": {},
   "outputs": [],
   "source": [
    "def square_root(num):\n",
    "    return math.sqrt(num)"
   ]
  },
  {
   "cell_type": "code",
   "execution_count": 7,
   "id": "898eac09-564c-47b3-abcc-b7e12a0dc4fe",
   "metadata": {},
   "outputs": [
    {
     "name": "stdout",
     "output_type": "stream",
     "text": [
      "5.0\n"
     ]
    }
   ],
   "source": [
    "number = square_root(25)\n",
    "print(number)"
   ]
  },
  {
   "cell_type": "code",
   "execution_count": 9,
   "id": "b1a69773-4c3e-4049-8460-a90f2390d662",
   "metadata": {},
   "outputs": [
    {
     "name": "stdout",
     "output_type": "stream",
     "text": [
      "the square root of 25 is:  5.0\n"
     ]
    }
   ],
   "source": [
    "print(\"the square root of 25 is: \", square_root(25))"
   ]
  },
  {
   "cell_type": "code",
   "execution_count": 8,
   "id": "4d0acaa7-5a9e-4f4b-b0f7-4d2122029af8",
   "metadata": {},
   "outputs": [
    {
     "name": "stdout",
     "output_type": "stream",
     "text": [
      "not a number you fool\n"
     ]
    }
   ],
   "source": [
    "try:    \n",
    "    print(\"the square root of \\\"five\\\" is: \", square_root(\"five\"))\n",
    "except TypeError:\n",
    "    print(\"not a number you fool\")\n",
    "else:\n",
    "    print(\"oke\")"
   ]
  },
  {
   "cell_type": "code",
   "execution_count": 12,
   "id": "87c0210b-46d5-446e-8654-6d41199e2eb6",
   "metadata": {},
   "outputs": [],
   "source": [
    "assert square_root(100) == 10, \"The result should be 10.\""
   ]
  },
  {
   "cell_type": "code",
   "execution_count": 10,
   "id": "68fbc493-db5c-46d1-81fa-23f5bbb8bdea",
   "metadata": {},
   "outputs": [],
   "source": [
    "def test_sqrt():\n",
    "    assert square_root(49), \"The result should be 7\"\n",
    "    assert square_root(81), \"The result should be 9\"\n",
    "    assert square_root(100), \"The result should be 10\""
   ]
  },
  {
   "cell_type": "code",
   "execution_count": 11,
   "id": "71a47b3e-4a43-4952-b3be-022ab4b8637c",
   "metadata": {},
   "outputs": [
    {
     "name": "stdout",
     "output_type": "stream",
     "text": [
      "Everything passed!\n"
     ]
    }
   ],
   "source": [
    "if __name__ == \"__main__\":\n",
    "    test_sqrt()\n",
    "    print(\"Everything passed!\")"
   ]
  },
  {
   "cell_type": "markdown",
   "id": "d71c680e-34d1-4371-acdd-1a6db9f14161",
   "metadata": {},
   "source": [
    "Print this this code as from the start. "
   ]
  },
  {
   "cell_type": "code",
   "execution_count": 12,
   "id": "012f95e0-7030-41ce-b6e5-30218e359a9a",
   "metadata": {},
   "outputs": [],
   "source": [
    "import unittest\n"
   ]
  },
  {
   "cell_type": "code",
   "execution_count": null,
   "id": "ea6ea525-3989-4b24-b8e5-ce2299c6a2ad",
   "metadata": {},
   "outputs": [],
   "source": [
    "unittest.TestCase.assertTrue"
   ]
  }
 ],
 "metadata": {
  "kernelspec": {
   "display_name": "Python 3 (ipykernel)",
   "language": "python",
   "name": "python3"
  },
  "language_info": {
   "codemirror_mode": {
    "name": "ipython",
    "version": 3
   },
   "file_extension": ".py",
   "mimetype": "text/x-python",
   "name": "python",
   "nbconvert_exporter": "python",
   "pygments_lexer": "ipython3",
   "version": "3.11.7"
  }
 },
 "nbformat": 4,
 "nbformat_minor": 5
}
