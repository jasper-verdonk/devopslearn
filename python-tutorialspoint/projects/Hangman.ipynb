{
 "cells": [
  {
   "cell_type": "markdown",
   "id": "2693efa5-2f62-4a3c-96cb-c1c28f583477",
   "metadata": {},
   "source": [
    "# Hangman"
   ]
  },
  {
   "cell_type": "markdown",
   "id": "4b47ddff-f598-4fb1-8475-034a407d3e83",
   "metadata": {},
   "source": [
    "Games Ltd want to add their collection of online games. They would like you to produce a version of the popular game Hangman!"
   ]
  },
  {
   "cell_type": "markdown",
   "id": "84a5358c-5f25-4d84-937a-6aaf43fd96a5",
   "metadata": {},
   "source": [
    "The application should:\n",
    "- Obtain a randomly selected word from a file called words.py\n",
    "- Allow a user to guess a letter or a word\n",
    "- If a letter is guessed correctly, the word status should be updated\n",
    "- If a word is guessed correclty, the player wins\n",
    "- The player should get 6 tries. After 6 tries, the game is over. "
   ]
  },
  {
   "cell_type": "markdown",
   "id": "ab42a0f3-8e80-4b7b-b5db-212fcc3f0589",
   "metadata": {},
   "source": [
    "# Imports"
   ]
  },
  {
   "cell_type": "code",
   "execution_count": 1,
   "id": "70ed2c71-a27a-4913-a8bb-45f2a42c4124",
   "metadata": {},
   "outputs": [],
   "source": [
    "import random\n",
    "from IPython.display import clear_output\n",
    "from randomwords import list_of_words"
   ]
  },
  {
   "cell_type": "markdown",
   "id": "8f8d6363-2769-4cad-b450-bbb97b89c9f8",
   "metadata": {},
   "source": [
    "# 1. Create a function that obtains a randomly selected word from a separate file called words.py"
   ]
  },
  {
   "cell_type": "code",
   "execution_count": 2,
   "id": "dc9cd854-4420-403f-9926-aa8d5647d214",
   "metadata": {},
   "outputs": [],
   "source": [
    "def get_word():    \n",
    "    word = random.choice(list_of_words)\n",
    "    return word.upper()"
   ]
  },
  {
   "cell_type": "code",
   "execution_count": 3,
   "id": "cefa1204-71da-454d-ae7a-a5771c40f67e",
   "metadata": {},
   "outputs": [
    {
     "data": {
      "text/plain": [
       "'YELLOW'"
      ]
     },
     "execution_count": 3,
     "metadata": {},
     "output_type": "execute_result"
    }
   ],
   "source": [
    "get_word()"
   ]
  },
  {
   "cell_type": "markdown",
   "id": "bab0e7cf-c73a-4e4e-ab2b-1db8078e8ff1",
   "metadata": {},
   "source": [
    "# 2. Create a function that deals with all of the game logic"
   ]
  },
  {
   "cell_type": "code",
   "execution_count": 4,
   "id": "55926175-1e38-49ce-8369-dcb3cc66a60e",
   "metadata": {},
   "outputs": [],
   "source": [
    "def play(word):\n",
    "    word_status = \"-\" * len(word)\n",
    "    guessed = False\n",
    "    guessed_letters = []\n",
    "    guessed_words = []\n",
    "    tries = 6\n",
    "\n",
    "    name = input(\"What is your name?: \")\n",
    "    clear_output()\n",
    "\n",
    "    print(\"Welcome to Hangman, \" + name + \"!\")\n",
    "    print(display_hangman(tries))\n",
    "    print(word_status)\n",
    "    print(\"\")\n",
    "\n",
    "    while not guessed  and tries > 0:\n",
    "        guess = input(\"Please guess a letter or a word: \").upper()\n",
    "\n",
    "        if len(guess) == 1 and guess.isalpha():\n",
    "            if guess in guessed_letters:\n",
    "                print(\"You have already guessed this letter {}. Try again\".format(guess))\n",
    "            elif guess not in word:\n",
    "                print(\"{} is not in word.\".format(guess))\n",
    "                tries -= 1\n",
    "                guessed_letters.append(guess)\n",
    "            else:\n",
    "                print(\"Nicely done! {} is in the word!\".format(guess))\n",
    "                guessed_letters.append(guess)\n",
    "\n",
    "                word_as_list = list(word_status)\n",
    "\n",
    "                indices = [i for i, letter in enumerate(word) if letter == guess]\n",
    "\n",
    "                for index in indices:\n",
    "                    word_as_list[index] = guess\n",
    "                word_status = \"\".join(word_as_list)\n",
    "\n",
    "                if \"-\" not in word_status:\n",
    "                    guessed = True\n",
    "        elif len(guess) == len(word) and guess.isalpha():\n",
    "            if guess in guessed_words:\n",
    "                print(\"You have already guessed the word {}. Try again\".format(guess))\n",
    "                \n",
    "            elif guess != word:\n",
    "                print(guess + \" is not the word.\")\n",
    "                tries -= 1\n",
    "                guessed_words.append(guess)\n",
    "                \n",
    "            else:\n",
    "                guessed = True\n",
    "                word_status = word\n",
    "        else:\n",
    "            print(\"Not a valid guess.\")\n",
    "\n",
    "        print(display_hangman(tries))\n",
    "        print(word_status)\n",
    "        print(\"\")\n",
    "\n",
    "    if guessed:\n",
    "        print(\"Congratulations! You guessed the word! You win!\")\n",
    "\n",
    "    else:\n",
    "        print(display_hangman(0))\n",
    "        print(\"\")\n",
    "        print(\"Sorry, you ran out of tries. The word was \" + word + \". Better luck next time!\")\n",
    "        "
   ]
  },
  {
   "cell_type": "code",
   "execution_count": 5,
   "id": "0b67634c-b96d-4b17-8ff7-75b71bb075e8",
   "metadata": {},
   "outputs": [
    {
     "name": "stdout",
     "output_type": "stream",
     "text": [
      "[2, 3]\n",
      "{0: 'y', 1: 'e', 2: 'l', 3: 'l', 4: 'o', 5: 'w'}\n"
     ]
    }
   ],
   "source": [
    "word = 'yellow'\n",
    "guess = 'l'\n",
    "dict(enumerate(word))\n",
    "indices = [i for i, letter in enumerate(word) if letter == guess]\n",
    "print(indices)\n",
    "print(dict(enumerate(word)))"
   ]
  },
  {
   "cell_type": "code",
   "execution_count": 6,
   "id": "49046e16-d03c-4335-8384-663a653cb957",
   "metadata": {},
   "outputs": [
    {
     "name": "stdout",
     "output_type": "stream",
     "text": [
      "------\n",
      "<class 'str'>\n",
      "['-', '-', '-', '-', '-', '-']\n"
     ]
    }
   ],
   "source": [
    "word_status = \"-\" * len(word)\n",
    "print(word_status)\n",
    "print(type(word_status))\n",
    "word_as_list = list(word_status)\n",
    "type(word_as_list)\n",
    "print(word_as_list)"
   ]
  },
  {
   "cell_type": "code",
   "execution_count": null,
   "id": "8fb18537-301e-4fa2-bc0e-afd6434e3774",
   "metadata": {},
   "outputs": [],
   "source": []
  },
  {
   "cell_type": "code",
   "execution_count": 7,
   "id": "bd997f04-7705-4018-8c1a-f0b037417561",
   "metadata": {},
   "outputs": [],
   "source": [
    "#play('Stalingrad')"
   ]
  },
  {
   "cell_type": "markdown",
   "id": "7c55dcc6-babb-4c52-906e-8ac4ccba5e2e",
   "metadata": {},
   "source": [
    "# 3. Create a function that creates an image of the hangman states (head, body, arms and legs)"
   ]
  },
  {
   "cell_type": "code",
   "execution_count": 8,
   "id": "8c625ebf-021f-487a-b1fd-a620198367df",
   "metadata": {},
   "outputs": [],
   "source": [
    "def display_hangman(tries):\n",
    "    states = ['''\n",
    "  +---+\n",
    "  |   |\n",
    "  O   |\n",
    " /|\\  |\n",
    " / \\  |\n",
    "      |\n",
    "=========''', '''\n",
    "  +---+\n",
    "  |   |\n",
    "  O   |\n",
    " /|\\  |\n",
    " /    |\n",
    "      |\n",
    "=========''', '''\n",
    "  +---+\n",
    "  |   |\n",
    "  O   |\n",
    " /|\\  |\n",
    "      |\n",
    "      |\n",
    "=========''', '''\n",
    "  +---+\n",
    "  |   |\n",
    "  O   |\n",
    " /|   |\n",
    "      |\n",
    "      |\n",
    "=========''', '''\n",
    "  +---+\n",
    "  |   |\n",
    "  O   |\n",
    "  |   |\n",
    "      |\n",
    "      |\n",
    "=========''', '''\n",
    "  +---+\n",
    "  |   |\n",
    "  O   |\n",
    "      |\n",
    "      |\n",
    "      |\n",
    "=========''', '''\n",
    "  +---+\n",
    "  |   |\n",
    "      |\n",
    "      |\n",
    "      |\n",
    "      |\n",
    "=========''']\n",
    "    return states[tries]\n",
    "    "
   ]
  },
  {
   "cell_type": "code",
   "execution_count": 9,
   "id": "5b07a799-8164-4cc8-b787-a462e79570c0",
   "metadata": {},
   "outputs": [
    {
     "name": "stdout",
     "output_type": "stream",
     "text": [
      "\n",
      "  +---+\n",
      "  |   |\n",
      "  O   |\n",
      " /|   |\n",
      "      |\n",
      "      |\n",
      "=========\n"
     ]
    }
   ],
   "source": [
    "print(display_hangman(3))"
   ]
  },
  {
   "cell_type": "markdown",
   "id": "449625de-0934-4bc0-8bc5-ddc94a6a1d20",
   "metadata": {},
   "source": [
    "# 4. Create a function that checks to see if a user wants to play the game again"
   ]
  },
  {
   "cell_type": "code",
   "execution_count": 10,
   "id": "0a3e3596-526c-4c16-a11c-fa1b1050a5b3",
   "metadata": {},
   "outputs": [],
   "source": [
    "def play_again():\n",
    "    replay = input(\"Play again? (Y/N) \").lower()\n",
    "    if replay == 'y':\n",
    "        return True\n",
    "    else:\n",
    "        return False\n",
    "    "
   ]
  },
  {
   "cell_type": "markdown",
   "id": "18f8e8c1-2636-472a-8596-406fad87d58c",
   "metadata": {},
   "source": [
    "# 5. Produce and call a function that combines the above functions into a single program"
   ]
  },
  {
   "cell_type": "code",
   "execution_count": 11,
   "id": "a391a781-c62b-438c-aa85-d38d68a4d60c",
   "metadata": {},
   "outputs": [],
   "source": [
    "def main():\n",
    "    while True:\n",
    "        word = get_word()\n",
    "        play(word)\n",
    "        if not play_again():\n",
    "            print(\"Hope to see you soon!\")\n",
    "            break"
   ]
  },
  {
   "cell_type": "code",
   "execution_count": null,
   "id": "e560dea0-7b2c-4306-8303-cb9f72490a34",
   "metadata": {},
   "outputs": [
    {
     "name": "stdout",
     "output_type": "stream",
     "text": [
      "Welcome to Hangman, Susan!\n",
      "\n",
      "  +---+\n",
      "  |   |\n",
      "      |\n",
      "      |\n",
      "      |\n",
      "      |\n",
      "=========\n",
      "-----\n",
      "\n"
     ]
    },
    {
     "name": "stdin",
     "output_type": "stream",
     "text": [
      "Please guess a letter or a word:  R\n"
     ]
    },
    {
     "name": "stdout",
     "output_type": "stream",
     "text": [
      "R is not in word.\n",
      "\n",
      "  +---+\n",
      "  |   |\n",
      "  O   |\n",
      "      |\n",
      "      |\n",
      "      |\n",
      "=========\n",
      "-----\n",
      "\n"
     ]
    },
    {
     "name": "stdin",
     "output_type": "stream",
     "text": [
      "Please guess a letter or a word:  e\n"
     ]
    },
    {
     "name": "stdout",
     "output_type": "stream",
     "text": [
      "Nicely done! E is in the word!\n",
      "\n",
      "  +---+\n",
      "  |   |\n",
      "  O   |\n",
      "      |\n",
      "      |\n",
      "      |\n",
      "=========\n",
      "----E\n",
      "\n"
     ]
    },
    {
     "name": "stdin",
     "output_type": "stream",
     "text": [
      "Please guess a letter or a word:  a\n"
     ]
    },
    {
     "name": "stdout",
     "output_type": "stream",
     "text": [
      "A is not in word.\n",
      "\n",
      "  +---+\n",
      "  |   |\n",
      "  O   |\n",
      "  |   |\n",
      "      |\n",
      "      |\n",
      "=========\n",
      "----E\n",
      "\n"
     ]
    },
    {
     "name": "stdin",
     "output_type": "stream",
     "text": [
      "Please guess a letter or a word:  n\n"
     ]
    },
    {
     "name": "stdout",
     "output_type": "stream",
     "text": [
      "N is not in word.\n",
      "\n",
      "  +---+\n",
      "  |   |\n",
      "  O   |\n",
      " /|   |\n",
      "      |\n",
      "      |\n",
      "=========\n",
      "----E\n",
      "\n"
     ]
    },
    {
     "name": "stdin",
     "output_type": "stream",
     "text": [
      "Please guess a letter or a word:  m\n"
     ]
    },
    {
     "name": "stdout",
     "output_type": "stream",
     "text": [
      "M is not in word.\n",
      "\n",
      "  +---+\n",
      "  |   |\n",
      "  O   |\n",
      " /|\\  |\n",
      "      |\n",
      "      |\n",
      "=========\n",
      "----E\n",
      "\n"
     ]
    },
    {
     "name": "stdin",
     "output_type": "stream",
     "text": [
      "Please guess a letter or a word:  r\n"
     ]
    },
    {
     "name": "stdout",
     "output_type": "stream",
     "text": [
      "You have already guessed this letter R. Try again\n",
      "\n",
      "  +---+\n",
      "  |   |\n",
      "  O   |\n",
      " /|\\  |\n",
      "      |\n",
      "      |\n",
      "=========\n",
      "----E\n",
      "\n"
     ]
    },
    {
     "name": "stdin",
     "output_type": "stream",
     "text": [
      "Please guess a letter or a word:  u\n"
     ]
    },
    {
     "name": "stdout",
     "output_type": "stream",
     "text": [
      "U is not in word.\n",
      "\n",
      "  +---+\n",
      "  |   |\n",
      "  O   |\n",
      " /|\\  |\n",
      " /    |\n",
      "      |\n",
      "=========\n",
      "----E\n",
      "\n"
     ]
    },
    {
     "name": "stdin",
     "output_type": "stream",
     "text": [
      "Please guess a letter or a word:  d\n"
     ]
    },
    {
     "name": "stdout",
     "output_type": "stream",
     "text": [
      "D is not in word.\n",
      "\n",
      "  +---+\n",
      "  |   |\n",
      "  O   |\n",
      " /|\\  |\n",
      " / \\  |\n",
      "      |\n",
      "=========\n",
      "----E\n",
      "\n",
      "\n",
      "  +---+\n",
      "  |   |\n",
      "  O   |\n",
      " /|\\  |\n",
      " / \\  |\n",
      "      |\n",
      "=========\n",
      "\n",
      "Sorry, you ran out of tries. The word was WHITE. Better luck next time!\n"
     ]
    }
   ],
   "source": [
    "main()\n"
   ]
  }
 ],
 "metadata": {
  "kernelspec": {
   "display_name": "Python 3 (ipykernel)",
   "language": "python",
   "name": "python3"
  },
  "language_info": {
   "codemirror_mode": {
    "name": "ipython",
    "version": 3
   },
   "file_extension": ".py",
   "mimetype": "text/x-python",
   "name": "python",
   "nbconvert_exporter": "python",
   "pygments_lexer": "ipython3",
   "version": "3.11.7"
  }
 },
 "nbformat": 4,
 "nbformat_minor": 5
}
