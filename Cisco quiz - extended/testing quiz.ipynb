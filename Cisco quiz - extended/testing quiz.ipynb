{
 "cells": [
  {
   "cell_type": "code",
   "execution_count": 1,
   "id": "39753c94-f59e-4197-92ab-671427de2103",
   "metadata": {},
   "outputs": [],
   "source": [
    "import importlib\n",
    "import random\n",
    "import sys"
   ]
  },
  {
   "cell_type": "code",
   "execution_count": 9,
   "id": "4f2d4b70-298b-4bbc-a808-1669d00e5d58",
   "metadata": {},
   "outputs": [
    {
     "name": "stdout",
     "output_type": "stream",
     "text": [
      "{'What does EIGRP stand for?': 'Enhanced Interior Gateway Routing Protocol', 'What is the EIGRP metric based on?': 'Bandwidth and delay', 'What is the default EIGRP administative distance?': '90', '(Y/N) The Autonomous system number (ASN) must match for neighborship formation': 'Y'}\n"
     ]
    }
   ],
   "source": [
    "import importlib\n",
    "\n",
    "topic_name = \"eigrp\"  # pretend user chose EIGRP\n",
    "module = importlib.import_module(f\"questions.{topic_name}\")\n",
    "# This loads questions/eigrp.py as a module.\n",
    "print(module.questions)"
   ]
  },
  {
   "cell_type": "code",
   "execution_count": 7,
   "id": "c624cffe-bae3-4717-a347-b4946d3e707c",
   "metadata": {},
   "outputs": [
    {
     "data": {
      "text/plain": [
       "{'What does EIGRP stand for?': 'Enhanced Interior Gateway Routing Protocol',\n",
       " 'What is the EIGRP metric based on?': 'Bandwidth and delay',\n",
       " 'What is the default EIGRP administative distance?': '90',\n",
       " '(Y/N) The Autonomous system number (ASN) must match for neighborship formation': 'Y'}"
      ]
     },
     "execution_count": 7,
     "metadata": {},
     "output_type": "execute_result"
    }
   ],
   "source": [
    "module.questions"
   ]
  },
  {
   "cell_type": "code",
   "execution_count": 2,
   "id": "8ab37878-8b7c-4372-b71d-49f9ef20c1d3",
   "metadata": {},
   "outputs": [],
   "source": [
    "def load_questions(topic_name):\n",
    "    try:\n",
    "        module = importlib.import_module(f\"questions.{topic_name}\")\n",
    "        return module.questions\n",
    "    except (ModuleNotFoundError, AttributeError):\n",
    "        print(\"Topic file not found or improperly formatted.\")\n",
    "        return {}\n",
    "# https://www.scaler.com/topics/python-importlib/ read about importlib.import_module"
   ]
  },
  {
   "cell_type": "code",
   "execution_count": 1,
   "id": "36672987-eb1a-4a9b-ad96-d43ca4c82eb9",
   "metadata": {},
   "outputs": [],
   "source": [
    "TOPICS = {\n",
    "    \"1\": \"eigrp\",\n",
    "    \"2\": \"ospf\",\n",
    "    \"3\": \"bgp\",\n",
    "    \"0\": \"exit\"\n",
    "}"
   ]
  },
  {
   "cell_type": "code",
   "execution_count": 2,
   "id": "2e32aee6-ee33-4c31-84bb-6322be7e87f8",
   "metadata": {},
   "outputs": [
    {
     "data": {
      "text/plain": [
       "dict_items([('1', 'eigrp'), ('2', 'ospf'), ('3', 'bgp'), ('0', 'exit')])"
      ]
     },
     "execution_count": 2,
     "metadata": {},
     "output_type": "execute_result"
    }
   ],
   "source": [
    "type(TOPICS.items())\n",
    "TOPICS.items()"
   ]
  },
  {
   "cell_type": "code",
   "execution_count": 3,
   "id": "2c701711-d1d2-4afb-be46-964ce95d41d8",
   "metadata": {},
   "outputs": [
    {
     "data": {
      "text/plain": [
       "dict_items([('1', 'eigrp'), ('2', 'ospf'), ('3', 'bgp'), ('0', 'exit')])"
      ]
     },
     "execution_count": 3,
     "metadata": {},
     "output_type": "execute_result"
    }
   ],
   "source": [
    "TOPICS.items()"
   ]
  },
  {
   "cell_type": "code",
   "execution_count": 5,
   "id": "ddbe57bc-d401-412c-b929-9e34fe57b112",
   "metadata": {},
   "outputs": [
    {
     "data": {
      "text/plain": [
       "tuple"
      ]
     },
     "execution_count": 5,
     "metadata": {},
     "output_type": "execute_result"
    }
   ],
   "source": [
    "A = ('2', 'ospf')\n",
    "type(A)"
   ]
  },
  {
   "cell_type": "code",
   "execution_count": 7,
   "id": "e0043110-aaa9-4c9e-8def-cfdd1b68a75d",
   "metadata": {},
   "outputs": [
    {
     "data": {
      "text/plain": [
       "'ospf'"
      ]
     },
     "execution_count": 7,
     "metadata": {},
     "output_type": "execute_result"
    }
   ],
   "source": [
    "TOPICS[\"2\"]"
   ]
  },
  {
   "cell_type": "code",
   "execution_count": 4,
   "id": "ae24b756-d8e7-464e-8145-f45c70e6bf66",
   "metadata": {},
   "outputs": [],
   "source": [
    "def quiz_topic(topic):\n",
    "    questions = load_questions(topic)\n",
    "    if not questions:\n",
    "        return\n",
    "\n",
    "    question_keys = list(questions.keys())\n",
    "    random.shuffle(question_keys)\n",
    "\n",
    "    for q in question_keys:\n",
    "        print(f\"\\nQuestion: {q}\")\n",
    "        answer = input(\"Your answer: \").strip()\n",
    "\n",
    "        if answer.lower() == questions[q].lower():\n",
    "            print(\"✅ Correct!\")\n",
    "        else:\n",
    "            print(f\"❌ Incorrect! Correct answer: {questions[q]}\")\n",
    "\n",
    "        next_action = input(\"Press [Enter] for next, [m]enu, or [e]xit: \").strip().lower()\n",
    "        if next_action == \"m\":\n",
    "            return\n",
    "        elif next_action == \"e\":\n",
    "            sys.exit(\"Goodbye!\")"
   ]
  },
  {
   "cell_type": "code",
   "execution_count": null,
   "id": "75e30281-b51e-43ed-a138-29cbf405697a",
   "metadata": {},
   "outputs": [
    {
     "name": "stdout",
     "output_type": "stream",
     "text": [
      "\n",
      "--- Cisco Exam Quiz ---\n",
      "1. EIGRP\n",
      "2. OSPF\n",
      "3. BGP\n",
      "0. Exit\n"
     ]
    },
    {
     "name": "stdin",
     "output_type": "stream",
     "text": [
      "Choose a topic:  1\n"
     ]
    },
    {
     "name": "stdout",
     "output_type": "stream",
     "text": [
      "\n",
      "Question: What is the EIGRP metric based on?\n"
     ]
    },
    {
     "name": "stdin",
     "output_type": "stream",
     "text": [
      "Your answer:  Bandwidth and Delay\n"
     ]
    },
    {
     "name": "stdout",
     "output_type": "stream",
     "text": [
      "✅ Correct!\n"
     ]
    },
    {
     "name": "stdin",
     "output_type": "stream",
     "text": [
      "Press [Enter] for next, [m]enu, or [e]xit:  \n"
     ]
    },
    {
     "name": "stdout",
     "output_type": "stream",
     "text": [
      "\n",
      "Question: What is the default EIGRP administative distance?\n"
     ]
    },
    {
     "name": "stdin",
     "output_type": "stream",
     "text": [
      "Your answer:  90\n"
     ]
    },
    {
     "name": "stdout",
     "output_type": "stream",
     "text": [
      "✅ Correct!\n"
     ]
    },
    {
     "name": "stdin",
     "output_type": "stream",
     "text": [
      "Press [Enter] for next, [m]enu, or [e]xit:  \n"
     ]
    },
    {
     "name": "stdout",
     "output_type": "stream",
     "text": [
      "\n",
      "Question: What does EIGRP stand for?\n"
     ]
    },
    {
     "name": "stdin",
     "output_type": "stream",
     "text": [
      "Your answer:  Enhanced Interior Gateway Routing Protocol\n"
     ]
    },
    {
     "name": "stdout",
     "output_type": "stream",
     "text": [
      "✅ Correct!\n"
     ]
    }
   ],
   "source": [
    "def main_menu():\n",
    "    while True:\n",
    "        print(\"\\n--- Cisco Exam Quiz ---\")\n",
    "        for key, value in TOPICS.items():\n",
    "            if value != \"exit\":\n",
    "                print(f\"{key}. {value.upper()}\")\n",
    "        print(\"0. Exit\")\n",
    "\n",
    "        choice = input(\"Choose a topic: \").strip()\n",
    "        if choice in TOPICS:\n",
    "            if choice == \"0\":\n",
    "                print(\"Good luck with your exam!\")\n",
    "                break\n",
    "            else:\n",
    "                quiz_topic(TOPICS[choice])\n",
    "        else:\n",
    "            print(\"Invalid choice. Please try again.\")\n",
    "\n",
    "if __name__ == \"__main__\":\n",
    "    main_menu()"
   ]
  },
  {
   "cell_type": "code",
   "execution_count": null,
   "id": "b59f70aa-efb3-4b78-bfd0-61424ed4f161",
   "metadata": {},
   "outputs": [],
   "source": [
    "TOPICS"
   ]
  },
  {
   "cell_type": "code",
   "execution_count": 8,
   "id": "325aa050-c0dc-4a67-a1b9-3ebf11b8955b",
   "metadata": {},
   "outputs": [],
   "source": [
    "questions = {\n",
    "    \"What does BGP stand for?\": {\n",
    "        \"anwser\": \"Border Gateway Protocol\", \n",
    "        \"notes\": \"...\"\n",
    "         },\n",
    "    \"What is the default administrative distance for eBGP?\": {\n",
    "        \"answer\": \"20\", \n",
    "        \"notes\": \"...\"\n",
    "         },\n",
    "    \"What is the TCP port of BGP?\": {\n",
    "        \"answer\": \"179\", \n",
    "        \"notes\": \"This is the default BGP port\"\n",
    "         },\n",
    "    \"Which BGP attribute must be recogonized by all BGP implementations and advertised to other autonomous systems?\": {\n",
    "        \"answer\": \"Well-known mandatory\", \n",
    "        \"notes\": \"...\"\n",
    "         }, \n",
    "    \"How are the BGP Path Attributes (PAs) classified?\": {\n",
    "        \"answer\": \"Well-known mandatory, well-known discretionary, optional transitive, optional non-transitive\", \n",
    "        \"notes\": \"...\"\n",
    "         }, \n",
    "    \"Well-known mandatory PAs must be included with every prefix advertisement (Y/N)\": {\n",
    "        \"answer\": \"Y\", \n",
    "        \"notes\":\"Example of well-know mandatory attributes: AS-path\" \n",
    "         },\n",
    "    \"Well-known discretionary PAs must be included with the prefix advertisement (Y/N)\": {\n",
    "        \"answer\": \"N\", \n",
    "        \"notes\":\"...\" },\n",
    "    \"The IPv6 address family must be initialized to establish a BGP session with a peer using IPv6 addressing (Y/N)\": {\n",
    "        \"answer\": \"Y\", \n",
    "        \"notes\": \"The IPv6 address family does not exits by default on IOS-based devices\"\n",
    "         },    \n",
    "}"
   ]
  },
  {
   "cell_type": "code",
   "execution_count": 9,
   "id": "65862d5c-2548-4abc-b723-239fbd91075e",
   "metadata": {},
   "outputs": [
    {
     "data": {
      "text/plain": [
       "{'What does BGP stand for?': {'anwser': 'Border Gateway Protocol',\n",
       "  'notes': '...'},\n",
       " 'What is the default administrative distance for eBGP?': {'answer': '20',\n",
       "  'notes': '...'},\n",
       " 'What is the TCP port of BGP?': {'answer': '179',\n",
       "  'notes': 'This is the default BGP port'},\n",
       " 'Which BGP attribute must be recogonized by all BGP implementations and advertised to other autonomous systems?': {'answer': 'Well-known mandatory',\n",
       "  'notes': '...'},\n",
       " 'How are the BGP Path Attributes (PAs) classified?': {'answer': 'Well-known mandatory, well-known discretionary, optional transitive, optional non-transitive',\n",
       "  'notes': '...'},\n",
       " 'Well-known mandatory PAs must be included with every prefix advertisement (Y/N)': {'answer': 'Y',\n",
       "  'notes': 'Example of well-know mandatory attributes: AS-path'},\n",
       " 'Well-known discretionary PAs must be included with the prefix advertisement (Y/N)': {'answer': 'N',\n",
       "  'notes': '...'},\n",
       " 'The IPv6 address family must be initialized to establish a BGP session with a peer using IPv6 addressing (Y/N)': {'answer': 'Y',\n",
       "  'notes': 'The IPv6 address family does not exits by default on IOS-based devices'}}"
      ]
     },
     "execution_count": 9,
     "metadata": {},
     "output_type": "execute_result"
    }
   ],
   "source": [
    "questions\n"
   ]
  },
  {
   "cell_type": "code",
   "execution_count": 10,
   "id": "233c97e0-0e90-465d-9d22-90f8c016d1f0",
   "metadata": {},
   "outputs": [],
   "source": [
    "question_keys = list(questions.keys())\n"
   ]
  },
  {
   "cell_type": "code",
   "execution_count": 11,
   "id": "96903e44-0796-473a-b67c-7b2309f43618",
   "metadata": {},
   "outputs": [
    {
     "data": {
      "text/plain": [
       "['What does BGP stand for?',\n",
       " 'What is the default administrative distance for eBGP?',\n",
       " 'What is the TCP port of BGP?',\n",
       " 'Which BGP attribute must be recogonized by all BGP implementations and advertised to other autonomous systems?',\n",
       " 'How are the BGP Path Attributes (PAs) classified?',\n",
       " 'Well-known mandatory PAs must be included with every prefix advertisement (Y/N)',\n",
       " 'Well-known discretionary PAs must be included with the prefix advertisement (Y/N)',\n",
       " 'The IPv6 address family must be initialized to establish a BGP session with a peer using IPv6 addressing (Y/N)']"
      ]
     },
     "execution_count": 11,
     "metadata": {},
     "output_type": "execute_result"
    }
   ],
   "source": [
    "question_keys"
   ]
  },
  {
   "cell_type": "code",
   "execution_count": 12,
   "id": "7fb0b2f6-75f9-4801-91a5-4f2207e7a026",
   "metadata": {},
   "outputs": [],
   "source": [
    "correct_info = questions['The IPv6 address family must be initialized to establish a BGP session with a peer using IPv6 addressing (Y/N)']"
   ]
  },
  {
   "cell_type": "code",
   "execution_count": 13,
   "id": "0ace05c6-16db-4f08-a84c-e33f7902eb19",
   "metadata": {},
   "outputs": [
    {
     "data": {
      "text/plain": [
       "{'answer': 'Y',\n",
       " 'notes': 'The IPv6 address family does not exits by default on IOS-based devices'}"
      ]
     },
     "execution_count": 13,
     "metadata": {},
     "output_type": "execute_result"
    }
   ],
   "source": [
    "correct_info"
   ]
  },
  {
   "cell_type": "code",
   "execution_count": 14,
   "id": "68b8cbce-7d0e-4c13-99ad-d00a695481bb",
   "metadata": {},
   "outputs": [
    {
     "data": {
      "text/plain": [
       "True"
      ]
     },
     "execution_count": 14,
     "metadata": {},
     "output_type": "execute_result"
    }
   ],
   "source": [
    "isinstance(correct_info, dict)"
   ]
  },
  {
   "cell_type": "code",
   "execution_count": 15,
   "id": "aafec6fe-32c6-4e11-b3cc-a75ef1371cb2",
   "metadata": {},
   "outputs": [],
   "source": [
    "notes = correct_info.get(\"notes\")"
   ]
  },
  {
   "cell_type": "code",
   "execution_count": 16,
   "id": "62399ba0-fb19-4f2f-8494-304cfbed12e5",
   "metadata": {},
   "outputs": [
    {
     "data": {
      "text/plain": [
       "'The IPv6 address family does not exits by default on IOS-based devices'"
      ]
     },
     "execution_count": 16,
     "metadata": {},
     "output_type": "execute_result"
    }
   ],
   "source": [
    "notes"
   ]
  },
  {
   "cell_type": "code",
   "execution_count": 17,
   "id": "8d97dc1a-b136-44b3-8ae6-1ede6ea6b33a",
   "metadata": {},
   "outputs": [
    {
     "ename": "SyntaxError",
     "evalue": "incomplete input (1426432082.py, line 1)",
     "output_type": "error",
     "traceback": [
      "\u001b[1;36m  Cell \u001b[1;32mIn[17], line 1\u001b[1;36m\u001b[0m\n\u001b[1;33m    if notes:\u001b[0m\n\u001b[1;37m             ^\u001b[0m\n\u001b[1;31mSyntaxError\u001b[0m\u001b[1;31m:\u001b[0m incomplete input\n"
     ]
    }
   ],
   "source": [
    "if notes:"
   ]
  },
  {
   "cell_type": "code",
   "execution_count": 18,
   "id": "2fef95eb-c841-48d3-8ad2-63f043045a53",
   "metadata": {},
   "outputs": [
    {
     "name": "stdout",
     "output_type": "stream",
     "text": [
      "💡 Note: The IPv6 address family does not exits by default on IOS-based devices\n"
     ]
    }
   ],
   "source": [
    "if notes:\n",
    "    print(f\"💡 Note: {notes}\")"
   ]
  },
  {
   "cell_type": "code",
   "execution_count": 40,
   "id": "1fe12dd2-e07d-47f2-a889-d2767b4ce02a",
   "metadata": {},
   "outputs": [],
   "source": [
    "VENDORS = {\"1\": \"cisco\", \"2\": \"juniper\"}\n",
    "CATEGORIES = {\"1\": \"routing\", \"2\": \"switching\", \"3\": \"os\"}\n",
    "TOPICS = {\n",
    "    \"cisco\": {\n",
    "        \"routing\": [\"general_eigrp\", \"operational_eigrp\", \"config_eigrp\", \"general_ospf\", \"operational_ospf\", \"config_ospf\", \"general_bgp\", \"operational_bgp\", \"config_bgp\"],\n",
    "        \"switching\": [\"vlan\"],\n",
    "        \"os\": [\"ios_basics\"]\n",
    "    },\n",
    "    \"juniper\": {\n",
    "        \"routing\": [\"general_ospf\", \"operational_ospf\", \"config_ospf\", \"general_bgp\", \"operational_bgp\", \"config_bgp\"],\n",
    "        \"os\": [\"junos_basics\"]\n",
    "    }\n",
    "}"
   ]
  },
  {
   "cell_type": "code",
   "execution_count": 51,
   "id": "145e16f3-1b3b-4bd0-8a6b-e511c917d32e",
   "metadata": {},
   "outputs": [
    {
     "data": {
      "text/plain": [
       "'Return an enumerate object.\\n\\n  iterable\\n    an object supporting iteration\\n\\nThe enumerate object yields pairs containing a count (from start, which\\ndefaults to zero) and a value yielded by the iterable argument.\\n\\nenumerate is useful for obtaining an indexed list:\\n    (0, seq[0]), (1, seq[1]), (2, seq[2]), ...'"
      ]
     },
     "execution_count": 51,
     "metadata": {},
     "output_type": "execute_result"
    }
   ],
   "source": [
    "topic_list = TOPICS.get('cisco', {}).get('routing', [])\n",
    "topic_list\n",
    "enumerate.__doc__\n"
   ]
  },
  {
   "cell_type": "code",
   "execution_count": 49,
   "id": "40f25dea-21da-41cb-9a18-2ffc76ee8aaa",
   "metadata": {},
   "outputs": [
    {
     "name": "stdout",
     "output_type": "stream",
     "text": [
      "<enumerate object at 0x0000014854467F10>\n",
      "1. General eigrp\n",
      "2. Operational eigrp\n",
      "3. Config eigrp\n",
      "4. General ospf\n",
      "5. Operational ospf\n",
      "6. Config ospf\n",
      "7. General bgp\n",
      "8. Operational bgp\n",
      "9. Config bgp\n"
     ]
    }
   ],
   "source": [
    "list = enumerate(topic_list, 1)\n",
    "print(list)\n",
    "for i, topic_name in enumerate(topic_list, 1):\n",
    "                print(f\"{i}. {topic_name.replace('_', ' ').capitalize()}\")\n",
    "list_test = enumerate("
   ]
  },
  {
   "cell_type": "code",
   "execution_count": 42,
   "id": "ac5f50fc-dd70-4e14-8faf-f6d2a5929c28",
   "metadata": {},
   "outputs": [],
   "source": [
    "topic_list_test = TOPICS.get('cisco', {})"
   ]
  },
  {
   "cell_type": "code",
   "execution_count": 43,
   "id": "7b7c8698-82ae-4e19-8656-54479150e56d",
   "metadata": {},
   "outputs": [
    {
     "data": {
      "text/plain": [
       "{'routing': ['general_eigrp',\n",
       "  'operational_eigrp',\n",
       "  'config_eigrp',\n",
       "  'general_ospf',\n",
       "  'operational_ospf',\n",
       "  'config_ospf',\n",
       "  'general_bgp',\n",
       "  'operational_bgp',\n",
       "  'config_bgp'],\n",
       " 'switching': ['vlan'],\n",
       " 'os': ['ios_basics']}"
      ]
     },
     "execution_count": 43,
     "metadata": {},
     "output_type": "execute_result"
    }
   ],
   "source": [
    "topic_list_test"
   ]
  },
  {
   "cell_type": "code",
   "execution_count": 2,
   "id": "970be10f-9cf4-4f15-98e0-5e5798789fe7",
   "metadata": {},
   "outputs": [
    {
     "data": {
      "text/plain": [
       "dict_items([('1', 'cisco'), ('2', 'juniper')])"
      ]
     },
     "execution_count": 2,
     "metadata": {},
     "output_type": "execute_result"
    }
   ],
   "source": [
    "VENDORS.items()"
   ]
  },
  {
   "cell_type": "code",
   "execution_count": 3,
   "id": "a8237109-2102-4c80-9a53-31efec156651",
   "metadata": {},
   "outputs": [],
   "source": [
    "vendors = VENDORS.items()"
   ]
  },
  {
   "cell_type": "code",
   "execution_count": 4,
   "id": "f98171ea-b06c-4fb4-8666-b79d7d02fb6f",
   "metadata": {},
   "outputs": [
    {
     "data": {
      "text/plain": [
       "dict_items([('1', 'cisco'), ('2', 'juniper')])"
      ]
     },
     "execution_count": 4,
     "metadata": {},
     "output_type": "execute_result"
    }
   ],
   "source": [
    "vendors"
   ]
  },
  {
   "cell_type": "code",
   "execution_count": 5,
   "id": "3e66f05c-4d2c-479e-aafe-602dcf72f971",
   "metadata": {},
   "outputs": [
    {
     "data": {
      "text/plain": [
       "dict_items"
      ]
     },
     "execution_count": 5,
     "metadata": {},
     "output_type": "execute_result"
    }
   ],
   "source": [
    "type(vendors)"
   ]
  },
  {
   "cell_type": "code",
   "execution_count": 33,
   "id": "68a7d659-75b0-402d-a309-20cb6e28efdc",
   "metadata": {},
   "outputs": [
    {
     "data": {
      "text/plain": [
       "True"
      ]
     },
     "execution_count": 33,
     "metadata": {},
     "output_type": "execute_result"
    }
   ],
   "source": [
    "'1' in VENDORS\n",
    "'cisco' in TOPICS\n"
   ]
  },
  {
   "cell_type": "code",
   "execution_count": 7,
   "id": "8cd25dec-3a7e-436b-8127-416b286f1cc7",
   "metadata": {},
   "outputs": [
    {
     "ename": "SyntaxError",
     "evalue": "expected ':' (515097610.py, line 1)",
     "output_type": "error",
     "traceback": [
      "\u001b[1;36m  Cell \u001b[1;32mIn[7], line 1\u001b[1;36m\u001b[0m\n\u001b[1;33m    if cisco in VENDORS\u001b[0m\n\u001b[1;37m                       ^\u001b[0m\n\u001b[1;31mSyntaxError\u001b[0m\u001b[1;31m:\u001b[0m expected ':'\n"
     ]
    }
   ],
   "source": [
    "if cisco in VENDORS"
   ]
  },
  {
   "cell_type": "code",
   "execution_count": 8,
   "id": "addb5ad0-64c4-45fb-bad4-033a19a8cdb4",
   "metadata": {},
   "outputs": [
    {
     "data": {
      "text/plain": [
       "False"
      ]
     },
     "execution_count": 8,
     "metadata": {},
     "output_type": "execute_result"
    }
   ],
   "source": [
    "1 in VENDORS"
   ]
  },
  {
   "cell_type": "code",
   "execution_count": 9,
   "id": "6d58b324-c73b-44a7-8d67-fffcc46f6cc9",
   "metadata": {},
   "outputs": [
    {
     "data": {
      "text/plain": [
       "{'1': 'cisco', '2': 'juniper'}"
      ]
     },
     "execution_count": 9,
     "metadata": {},
     "output_type": "execute_result"
    }
   ],
   "source": [
    "VENDORS"
   ]
  },
  {
   "cell_type": "code",
   "execution_count": 10,
   "id": "62a8fa3d-4570-4e1e-b153-2b92fab5cb20",
   "metadata": {},
   "outputs": [
    {
     "data": {
      "text/plain": [
       "True"
      ]
     },
     "execution_count": 10,
     "metadata": {},
     "output_type": "execute_result"
    }
   ],
   "source": [
    "\"1\" in VENDORS"
   ]
  },
  {
   "cell_type": "code",
   "execution_count": 13,
   "id": "c2bc28cf-a592-422d-a148-44ac30e6012b",
   "metadata": {},
   "outputs": [
    {
     "ename": "NameError",
     "evalue": "name 'cisco' is not defined",
     "output_type": "error",
     "traceback": [
      "\u001b[1;31m---------------------------------------------------------------------------\u001b[0m",
      "\u001b[1;31mNameError\u001b[0m                                 Traceback (most recent call last)",
      "Cell \u001b[1;32mIn[13], line 1\u001b[0m\n\u001b[1;32m----> 1\u001b[0m TOPICS\u001b[38;5;241m.\u001b[39mget(cisco, {})\u001b[38;5;241m.\u001b[39mget(routing, {})\n",
      "\u001b[1;31mNameError\u001b[0m: name 'cisco' is not defined"
     ]
    }
   ],
   "source": [
    "TOPICS.get(cisco, {}).get(routing, {})"
   ]
  },
  {
   "cell_type": "code",
   "execution_count": 14,
   "id": "1691571e-1f01-4dee-97ee-7d75a3542bea",
   "metadata": {},
   "outputs": [
    {
     "data": {
      "text/plain": [
       "['general_eigrp',\n",
       " 'operational_eigrp',\n",
       " 'config_eigrp',\n",
       " 'general_ospf',\n",
       " 'operational_ospf',\n",
       " 'config_ospf',\n",
       " 'general_bgp',\n",
       " 'operational_bgp',\n",
       " 'config_bgp']"
      ]
     },
     "execution_count": 14,
     "metadata": {},
     "output_type": "execute_result"
    }
   ],
   "source": [
    "TOPICS.get(\"cisco\", {}).get(\"routing\", {})"
   ]
  },
  {
   "cell_type": "code",
   "execution_count": 1,
   "id": "bedb659f-8990-4689-abdf-6422b4d5d8b9",
   "metadata": {},
   "outputs": [],
   "source": [
    "import importlib"
   ]
  },
  {
   "cell_type": "code",
   "execution_count": 2,
   "id": "1edebcf6-b573-470d-a9f0-d222ab91b450",
   "metadata": {},
   "outputs": [
    {
     "ename": "NameError",
     "evalue": "name 'questions' is not defined",
     "output_type": "error",
     "traceback": [
      "\u001b[1;31m---------------------------------------------------------------------------\u001b[0m",
      "\u001b[1;31mNameError\u001b[0m                                 Traceback (most recent call last)",
      "Cell \u001b[1;32mIn[2], line 1\u001b[0m\n\u001b[1;32m----> 1\u001b[0m module_path \u001b[38;5;241m=\u001b[39m questions\u001b[38;5;241m.\u001b[39mcisco\u001b[38;5;241m.\u001b[39mrouting\u001b[38;5;241m.\u001b[39mconfig_ospf\n",
      "\u001b[1;31mNameError\u001b[0m: name 'questions' is not defined"
     ]
    }
   ],
   "source": [
    "module_path = questions.cisco.routing.config_ospf"
   ]
  },
  {
   "cell_type": "code",
   "execution_count": 3,
   "id": "45544939-58a7-4166-b00b-43cdcb86f565",
   "metadata": {},
   "outputs": [],
   "source": [
    "import questions.cisco.routing.config_ospf"
   ]
  },
  {
   "cell_type": "code",
   "execution_count": 4,
   "id": "9d95a6be-5618-40af-8c80-dda354b52678",
   "metadata": {},
   "outputs": [
    {
     "data": {
      "text/plain": [
       "{'Initialize the OSFP process 100': {'answer': 'router ospf 100',\n",
       "  'notes': '...'},\n",
       " 'Under OSFP process 100 hierarchy, define RID 192.168.1.1': {'answer': 'router-id 192.168.1.1',\n",
       "  'notes': 'This is at hierarchy R(config)# router ospf 100'},\n",
       " 'Under OSFP process 100 hierarchy, enable OSFP on all interfaces with one statement for area 1234': {'answer': 'network 0.0.0.0 255.255.255.255 area 1234',\n",
       "  'notes': 'This is at hierarchy R(config)#router ospf 100. Very specific has the format (i.e): 192.168.1.1 0.0.0.0 area 1234.'},\n",
       " 'Under OSFP process 100 hierarchy, enable OSFP on interface with IP 192.168.10.10 very specific for area 1234': {'answer': 'network 192.168.10.10 0.0.0.0 area 1234',\n",
       "  'notes': 'Enable all interface for OSFP for area 1234: network 0.0.0.0 255.255.255.255 area 1234'}}"
      ]
     },
     "execution_count": 4,
     "metadata": {},
     "output_type": "execute_result"
    }
   ],
   "source": [
    "questions.cisco.routing.config_ospf.questions"
   ]
  },
  {
   "cell_type": "code",
   "execution_count": 5,
   "id": "a9b555fe-67e2-4f0d-877a-f4d37e9be948",
   "metadata": {},
   "outputs": [],
   "source": [
    "module_path = questions.cisco.routing.config_ospf"
   ]
  },
  {
   "cell_type": "code",
   "execution_count": 6,
   "id": "957568a7-f68f-44a1-ac6c-eb00eae952bc",
   "metadata": {},
   "outputs": [
    {
     "data": {
      "text/plain": [
       "<module 'questions.cisco.routing.config_ospf' from 'C:\\\\Users\\\\everjas\\\\Red Bee Media Limited\\\\Galileo and Security Programmes - Connectivity Transformation - Detailed Design Phase\\\\Documents\\\\Courses\\\\Python\\\\Cisco quiz - extended\\\\questions\\\\cisco\\\\routing\\\\config_ospf.py'>"
      ]
     },
     "execution_count": 6,
     "metadata": {},
     "output_type": "execute_result"
    }
   ],
   "source": [
    "module_path\n",
    "\n"
   ]
  },
  {
   "cell_type": "code",
   "execution_count": 7,
   "id": "5c808102-b7e2-4097-8181-e5ee93a3396e",
   "metadata": {},
   "outputs": [
    {
     "ename": "AttributeError",
     "evalue": "module 'questions.cisco.routing.config_ospf' has no attribute 'startswith'",
     "output_type": "error",
     "traceback": [
      "\u001b[1;31m---------------------------------------------------------------------------\u001b[0m",
      "\u001b[1;31mAttributeError\u001b[0m                            Traceback (most recent call last)",
      "Cell \u001b[1;32mIn[7], line 1\u001b[0m\n\u001b[1;32m----> 1\u001b[0m module \u001b[38;5;241m=\u001b[39m importlib\u001b[38;5;241m.\u001b[39mimport_module(module_path)\n",
      "File \u001b[1;32m~\\AppData\\Local\\anaconda3\\Lib\\importlib\\__init__.py:117\u001b[0m, in \u001b[0;36mimport_module\u001b[1;34m(name, package)\u001b[0m\n\u001b[0;32m    109\u001b[0m \u001b[38;5;250m\u001b[39m\u001b[38;5;124;03m\"\"\"Import a module.\u001b[39;00m\n\u001b[0;32m    110\u001b[0m \n\u001b[0;32m    111\u001b[0m \u001b[38;5;124;03mThe 'package' argument is required when performing a relative import. It\u001b[39;00m\n\u001b[1;32m   (...)\u001b[0m\n\u001b[0;32m    114\u001b[0m \n\u001b[0;32m    115\u001b[0m \u001b[38;5;124;03m\"\"\"\u001b[39;00m\n\u001b[0;32m    116\u001b[0m level \u001b[38;5;241m=\u001b[39m \u001b[38;5;241m0\u001b[39m\n\u001b[1;32m--> 117\u001b[0m \u001b[38;5;28;01mif\u001b[39;00m name\u001b[38;5;241m.\u001b[39mstartswith(\u001b[38;5;124m'\u001b[39m\u001b[38;5;124m.\u001b[39m\u001b[38;5;124m'\u001b[39m):\n\u001b[0;32m    118\u001b[0m     \u001b[38;5;28;01mif\u001b[39;00m \u001b[38;5;129;01mnot\u001b[39;00m package:\n\u001b[0;32m    119\u001b[0m         msg \u001b[38;5;241m=\u001b[39m (\u001b[38;5;124m\"\u001b[39m\u001b[38;5;124mthe \u001b[39m\u001b[38;5;124m'\u001b[39m\u001b[38;5;124mpackage\u001b[39m\u001b[38;5;124m'\u001b[39m\u001b[38;5;124m argument is required to perform a relative \u001b[39m\u001b[38;5;124m\"\u001b[39m\n\u001b[0;32m    120\u001b[0m                \u001b[38;5;124m\"\u001b[39m\u001b[38;5;124mimport for \u001b[39m\u001b[38;5;132;01m{!r}\u001b[39;00m\u001b[38;5;124m\"\u001b[39m)\n",
      "\u001b[1;31mAttributeError\u001b[0m: module 'questions.cisco.routing.config_ospf' has no attribute 'startswith'"
     ]
    }
   ],
   "source": [
    "module = importlib.import_module(module_path)"
   ]
  },
  {
   "cell_type": "code",
   "execution_count": 9,
   "id": "c6848989-205e-4682-a795-38d907861379",
   "metadata": {},
   "outputs": [],
   "source": [
    "module_path = f\"questions.{'cisco'}.{'routing'}.{'config_ospf'}\""
   ]
  },
  {
   "cell_type": "code",
   "execution_count": 10,
   "id": "8b03bb83-7be0-4546-b571-d6e76dfc4689",
   "metadata": {},
   "outputs": [
    {
     "data": {
      "text/plain": [
       "'questions.cisco.routing.config_ospf'"
      ]
     },
     "execution_count": 10,
     "metadata": {},
     "output_type": "execute_result"
    }
   ],
   "source": [
    "module_path"
   ]
  },
  {
   "cell_type": "code",
   "execution_count": 11,
   "id": "762a3513-f3e6-4056-9968-44ddc1a785fd",
   "metadata": {},
   "outputs": [],
   "source": [
    "module = importlib.import_module(module_path)"
   ]
  },
  {
   "cell_type": "code",
   "execution_count": 12,
   "id": "3a78ff4f-5c5d-4a3c-a825-9b2031274fa7",
   "metadata": {},
   "outputs": [
    {
     "data": {
      "text/plain": [
       "dict"
      ]
     },
     "execution_count": 12,
     "metadata": {},
     "output_type": "execute_result"
    }
   ],
   "source": [
    "type(module.questions)"
   ]
  },
  {
   "cell_type": "code",
   "execution_count": 13,
   "id": "6d40af97-8637-4489-ae1b-bb695682d82d",
   "metadata": {},
   "outputs": [
    {
     "data": {
      "text/plain": [
       "{'Initialize the OSFP process 100': {'answer': 'router ospf 100',\n",
       "  'notes': '...'},\n",
       " 'Under OSFP process 100 hierarchy, define RID 192.168.1.1': {'answer': 'router-id 192.168.1.1',\n",
       "  'notes': 'This is at hierarchy R(config)# router ospf 100'},\n",
       " 'Under OSFP process 100 hierarchy, enable OSFP on all interfaces with one statement for area 1234': {'answer': 'network 0.0.0.0 255.255.255.255 area 1234',\n",
       "  'notes': 'This is at hierarchy R(config)#router ospf 100. Very specific has the format (i.e): 192.168.1.1 0.0.0.0 area 1234.'},\n",
       " 'Under OSFP process 100 hierarchy, enable OSFP on interface with IP 192.168.10.10 very specific for area 1234': {'answer': 'network 192.168.10.10 0.0.0.0 area 1234',\n",
       "  'notes': 'Enable all interface for OSFP for area 1234: network 0.0.0.0 255.255.255.255 area 1234'}}"
      ]
     },
     "execution_count": 13,
     "metadata": {},
     "output_type": "execute_result"
    }
   ],
   "source": [
    "module.questions"
   ]
  },
  {
   "cell_type": "code",
   "execution_count": 14,
   "id": "1f5c491a-0208-4029-9b7a-4b72c75704fb",
   "metadata": {},
   "outputs": [],
   "source": [
    "module_path = 'questions.{}.{}.{}'.format('cisco', 'routing', 'config_ospf')"
   ]
  },
  {
   "cell_type": "code",
   "execution_count": 15,
   "id": "6b1ea2e2-1146-44c1-bf69-e3c43ed2d059",
   "metadata": {},
   "outputs": [
    {
     "data": {
      "text/plain": [
       "<module 'questions.cisco.routing.config_ospf' from 'C:\\\\Users\\\\everjas\\\\Red Bee Media Limited\\\\Galileo and Security Programmes - Connectivity Transformation - Detailed Design Phase\\\\Documents\\\\Courses\\\\Python\\\\Cisco quiz - extended\\\\questions\\\\cisco\\\\routing\\\\config_ospf.py'>"
      ]
     },
     "execution_count": 15,
     "metadata": {},
     "output_type": "execute_result"
    }
   ],
   "source": [
    "module\n"
   ]
  },
  {
   "cell_type": "code",
   "execution_count": 16,
   "id": "27fad9b3-24ad-4caf-a7c8-a5155e58aaa1",
   "metadata": {},
   "outputs": [
    {
     "data": {
      "text/plain": [
       "module"
      ]
     },
     "execution_count": 16,
     "metadata": {},
     "output_type": "execute_result"
    }
   ],
   "source": [
    "type(module)"
   ]
  },
  {
   "cell_type": "code",
   "execution_count": 17,
   "id": "f25acc1e-dcb6-41ec-81a5-c9c8339f0a80",
   "metadata": {},
   "outputs": [],
   "source": [
    "questions = module.questions"
   ]
  },
  {
   "cell_type": "code",
   "execution_count": 26,
   "id": "789a1969-6cdf-41f3-b357-65602b57bd2b",
   "metadata": {},
   "outputs": [],
   "source": [
    "question_keys = list(questions.keys())"
   ]
  },
  {
   "cell_type": "code",
   "execution_count": 27,
   "id": "f8d91295-dd28-48e6-b3cf-c725c75ede9d",
   "metadata": {},
   "outputs": [
    {
     "data": {
      "text/plain": [
       "['Initialize the OSFP process 100',\n",
       " 'Under OSFP process 100 hierarchy, define RID 192.168.1.1',\n",
       " 'Under OSFP process 100 hierarchy, enable OSFP on all interfaces with one statement for area 1234',\n",
       " 'Under OSFP process 100 hierarchy, enable OSFP on interface with IP 192.168.10.10 very specific for area 1234']"
      ]
     },
     "execution_count": 27,
     "metadata": {},
     "output_type": "execute_result"
    }
   ],
   "source": [
    "question_keys"
   ]
  },
  {
   "cell_type": "code",
   "execution_count": 28,
   "id": "989705ac-6a93-47df-b6d9-c4765b8a97c5",
   "metadata": {},
   "outputs": [],
   "source": [
    "import random"
   ]
  },
  {
   "cell_type": "code",
   "execution_count": 29,
   "id": "5e957067-9da6-479d-be42-874958165ea4",
   "metadata": {},
   "outputs": [],
   "source": [
    "random_list = random.shuffle(question_keys)"
   ]
  },
  {
   "cell_type": "code",
   "execution_count": 30,
   "id": "67c49235-e0eb-471f-af2a-fc322735e88f",
   "metadata": {},
   "outputs": [],
   "source": [
    "random_list"
   ]
  },
  {
   "cell_type": "code",
   "execution_count": null,
   "id": "12c0bc66-4ff3-460c-ba6f-e291e2b8cf8e",
   "metadata": {},
   "outputs": [],
   "source": []
  }
 ],
 "metadata": {
  "kernelspec": {
   "display_name": "Python 3 (ipykernel)",
   "language": "python",
   "name": "python3"
  },
  "language_info": {
   "codemirror_mode": {
    "name": "ipython",
    "version": 3
   },
   "file_extension": ".py",
   "mimetype": "text/x-python",
   "name": "python",
   "nbconvert_exporter": "python",
   "pygments_lexer": "ipython3",
   "version": "3.11.7"
  }
 },
 "nbformat": 4,
 "nbformat_minor": 5
}
