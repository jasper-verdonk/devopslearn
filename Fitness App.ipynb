{
 "cells": [
  {
   "cell_type": "markdown",
   "id": "470b3b35-7f5a-47e5-80ec-50ab040401ea",
   "metadata": {},
   "source": [
    "Imports "
   ]
  },
  {
   "cell_type": "code",
   "execution_count": 1,
   "id": "ce19a4c4-7b1f-4222-b9e2-d0ef6352fa93",
   "metadata": {},
   "outputs": [],
   "source": [
    "from IPython.display import clear_output"
   ]
  },
  {
   "cell_type": "markdown",
   "id": "5a566957-ee03-47f8-9286-8cc577631db8",
   "metadata": {},
   "source": [
    "Fitness App logic\n",
    "1. Create function that can calculate a person's BMI"
   ]
  },
  {
   "cell_type": "code",
   "execution_count": 2,
   "id": "b14ed050-4f89-412f-84ba-1c6dd3dc246c",
   "metadata": {},
   "outputs": [],
   "source": [
    "def bmi(height, weight):\n",
    "    bmi_calc = weight / (height ** 2)\n",
    "    return round(bmi_calc, 2)\n",
    "    "
   ]
  },
  {
   "cell_type": "code",
   "execution_count": 3,
   "id": "b30ba6ce-ffd0-494c-afe4-bcd69a75f952",
   "metadata": {},
   "outputs": [
    {
     "data": {
      "text/plain": [
       "24.22"
      ]
     },
     "execution_count": 3,
     "metadata": {},
     "output_type": "execute_result"
    }
   ],
   "source": [
    "bmi(1.7, 70)"
   ]
  },
  {
   "cell_type": "markdown",
   "id": "2776b4ea-2874-46d3-80cc-b263ee1b78ba",
   "metadata": {},
   "source": [
    "2. Create a function that can output a person BMI rating\n",
    "\n",
    "Underweight: < 18.5\n",
    "Healthy: 18.5 - 24.9\n",
    "Overweight: 25.0 - 29.9\n",
    "Obese: > 30.0"
   ]
  },
  {
   "cell_type": "code",
   "execution_count": 4,
   "id": "c357441d-5675-4677-a280-824d414a8478",
   "metadata": {},
   "outputs": [],
   "source": [
    "def bmi_rating(bmi):\n",
    "    if bmi < 18.5:\n",
    "        return \"underweight\"\n",
    "    elif bmi >= 18.5 and bmi <= 24.9:\n",
    "        return \"healthy\"\n",
    "    elif bmi >= 25.0 and bmi <= 29.9:\n",
    "        return \"overweight\"\n",
    "    else:\n",
    "        return \"obese\"\n"
   ]
  },
  {
   "cell_type": "code",
   "execution_count": 5,
   "id": "3d315085-f955-40f1-bdd9-b75a3ff53a11",
   "metadata": {},
   "outputs": [
    {
     "data": {
      "text/plain": [
       "'healthy'"
      ]
     },
     "execution_count": 5,
     "metadata": {},
     "output_type": "execute_result"
    }
   ],
   "source": [
    "bmi_rating(24.22)"
   ]
  },
  {
   "cell_type": "code",
   "execution_count": 6,
   "id": "f820bac1-557c-428a-a4d4-a32e4cac52fc",
   "metadata": {},
   "outputs": [
    {
     "data": {
      "text/plain": [
       "'obese'"
      ]
     },
     "execution_count": 6,
     "metadata": {},
     "output_type": "execute_result"
    }
   ],
   "source": [
    "bmi_rating(40)"
   ]
  },
  {
   "cell_type": "markdown",
   "id": "b408be95-01dd-48cc-b6db-4512da57012c",
   "metadata": {},
   "source": [
    "3. Create a function that can calculate a person's BMR\n",
    "Mifflin-St Jeor Equation:\n",
    "For men: BMR = 10W + 6.25H -5A + 5\n",
    "For women: BMR = 10W + 6.25H -5A - 161\n",
    "W = weight in kg\n",
    "H = height in cm\n",
    "A = age in years\n",
    "\n"
   ]
  },
  {
   "cell_type": "code",
   "execution_count": 7,
   "id": "21ba527f-b397-4fd6-b7d9-6f4b8b284088",
   "metadata": {},
   "outputs": [],
   "source": [
    "def bmr(height, weight, age, sex):\n",
    "    if sex[0].lower() == 'm':\n",
    "        bmr_calc = (10 * weight) + (6.25 * height * 100 )  - (5 * age) + 5\n",
    "    else:\n",
    "        bmr_calc = (10 * weight) + (6.25 * height * 100 )  - (5 * age) - 161\n",
    "    return int(round(bmr_calc, 0))\n",
    "        "
   ]
  },
  {
   "cell_type": "code",
   "execution_count": 8,
   "id": "11801170-06f4-40ff-a2da-251ecb660677",
   "metadata": {},
   "outputs": [
    {
     "data": {
      "text/plain": [
       "1618"
      ]
     },
     "execution_count": 8,
     "metadata": {},
     "output_type": "execute_result"
    }
   ],
   "source": [
    "bmr(1.7, 70, 30, 'Male')"
   ]
  },
  {
   "cell_type": "markdown",
   "id": "7cc3b688-6733-4451-bc43-8cb82050ddfb",
   "metadata": {},
   "source": [
    "4. Create a function that uses the Harris-Benedict Equation to determine an individuals total daily energy expenditure\n",
    "\n",
    "The Harris-Benedict Equation is a formula that uses your BMR and then applies an activity factor to determine your total daily energy expenditure. \n",
    "\n",
    "Sedentary (little or no exercise): BMR * 1.2\n",
    "Lightly active (light exercise/sports 1-3 days/week): BMR * 1.375\n",
    "Moderately active (moderate exercise/sports 3-5 days/week): BMR * 1.55\n",
    "Very active (hard exercise/sports 3-5 days/week): BMR * 1.725\n",
    "Extra active (very hard exercise/sports & a physical job): BMR * 1.9"
   ]
  },
  {
   "cell_type": "code",
   "execution_count": 9,
   "id": "b157ad06-0a53-4fec-9a1e-bbe98b007703",
   "metadata": {},
   "outputs": [],
   "source": [
    "def calories_burn(bmr):\n",
    "    sedentary = round(bmr * 1.2, 0)\n",
    "    light = round(bmr * 1.375, 0)\n",
    "    moderate = round(bmr * 1.55, 0)\n",
    "    active = round(bmr * 1.725, 0)\n",
    "    extra_active = round(bmr * 1.9, 0)\n",
    "\n",
    "    calorie_burn = {1 : sedentary, 2 : light, 3 : moderate, 4 : active, 5 : extra_active}\n",
    "\n",
    "    print(\"To maintain your weight, follow these daily calorie guideliness:\")\n",
    "    print(\"1. Little to no exercise: You need = {} k/cals\".format(sedentary))\n",
    "    print(\"2. Light exercise (1-3 days per week): You need = {} k/cals\".format(light))\n",
    "    print(\"3. Moderate exercise (3-5 days per week): You need = {} k/cals\".format(moderate))\n",
    "    print(\"4. Heavy exercise (6-7 days per week): You need = {} k/cals\".format(active))\n",
    "    print(\"5. Very heavy exercise: (twice per day): You need = {} k/cals\".format(extra_active))\n",
    "    \n",
    "    return calorie_burn\n",
    "    "
   ]
  },
  {
   "cell_type": "code",
   "execution_count": 10,
   "id": "79d52ed1-b562-4662-9d0c-b90e7f26d219",
   "metadata": {},
   "outputs": [
    {
     "name": "stdout",
     "output_type": "stream",
     "text": [
      "To maintain your weight, follow these daily calorie guideliness:\n",
      "1. Little to no exercise: You need = 1942.0 k/cals\n",
      "2. Light exercise (1-3 days per week): You need = 2225.0 k/cals\n",
      "3. Moderate exercise (3-5 days per week): You need = 2508.0 k/cals\n",
      "4. Heavy exercise (6-7 days per week): You need = 2791.0 k/cals\n",
      "5. Very heavy exercise: (twice per day): You need = 3074.0 k/cals\n"
     ]
    },
    {
     "data": {
      "text/plain": [
       "{1: 1942.0, 2: 2225.0, 3: 2508.0, 4: 2791.0, 5: 3074.0}"
      ]
     },
     "execution_count": 10,
     "metadata": {},
     "output_type": "execute_result"
    }
   ],
   "source": [
    "calories_burn(1618)"
   ]
  },
  {
   "cell_type": "markdown",
   "id": "aa68c9f6-62de-466f-87ff-b9358d51ee4a",
   "metadata": {},
   "source": [
    "5. Based on a target weight provided by the user and the timeframe they would like to achieve their goal, determine the amount of daily calories they should consume.\n",
    "\n",
    "By maintaining a calorie deficit for the long term, you can lose weight. \n",
    "\n",
    "There are two ways to maintain a calorie deficit: \n",
    "    1) Eating fewer calories than what you burn; and\n",
    "    2) Buring more calories than you eat. \n",
    "\n",
    "It is always recommended that you combine both of the above for a healthy weight loss. \n",
    "\n",
    "Remember that 1 pound (0.45 kg) of fat is about 3,500 calories. Hence, to lose 1 pound of fat, you need to create a calorie deficit of 3,500 calories. \n",
    "\n",
    "This means that to lose 1 pound per week, you should consume 3500/7 = 500 calories less then the number of calories your body needs per day. \n",
    "\n",
    "To lose weight without significantly affecting your energy levels, you should aim for a calorie deficit of 500 calories per day. \n",
    "\n"
   ]
  },
  {
   "cell_type": "code",
   "execution_count": 11,
   "id": "ef5702d6-41f3-4e05-8890-24660e0de1fb",
   "metadata": {},
   "outputs": [],
   "source": [
    "def target_weight():\n",
    "    delta_kg = weight_goal - weight\n",
    "\n",
    "    if delta_kg < 0: \n",
    "        deficit_surplus = 'deficit'\n",
    "    else: \n",
    "        deficit_surplus = 'surplus'\n",
    "    delta_pounds = abs(delta_kg * 2.2)\n",
    "    delta_calories = delta_pounds * 3500\n",
    "    pounds_per_day = delta_pounds / (weeks * 7)\n",
    "\n",
    "    if deficit_surplus == 'deficit':\n",
    "        calories_per_day = round((delta_calories / (weeks * 7))* -1, 0)\n",
    "    else:\n",
    "        calories_per_day = round((delta_calories / (weeks * 7)), 0)\n",
    "\n",
    "    return {'delta_kg': delta_kg, 'deficit_surplus': deficit_surplus, \n",
    "            'delta_pounds': delta_pounds, 'delta_calories':delta_calories, 'pounds_per_day':pounds_per_day, \n",
    "            'calories_per_day': calories_per_day}\n",
    "        "
   ]
  },
  {
   "cell_type": "markdown",
   "id": "57224bb9-9c91-4233-970c-67d1fa7da117",
   "metadata": {},
   "source": [
    "5. Create a function that checks to see if a user wants to use the app again"
   ]
  },
  {
   "cell_type": "code",
   "execution_count": 12,
   "id": "5a3d7e93-1f1b-40fd-8829-283b2ad7d8c5",
   "metadata": {},
   "outputs": [],
   "source": [
    "def use_again():\n",
    "    replay = input(\"Would you like to use this app again? (Y/N): \")\n",
    "    if replay.lower() == 'y':\n",
    "        return True\n",
    "    else:\n",
    "        return False"
   ]
  },
  {
   "cell_type": "markdown",
   "id": "f3b71f0c-ed58-4e2c-8e1e-584120d9069d",
   "metadata": {},
   "source": [
    "Generate a 'Body Statistics' report for individuals who use the app"
   ]
  },
  {
   "cell_type": "code",
   "execution_count": null,
   "id": "61e7e485-04a4-4401-b33b-29b45b9d866d",
   "metadata": {},
   "outputs": [
    {
     "name": "stdout",
     "output_type": "stream",
     "text": [
      " Hello Susan! Here is your fitness report:\n",
      "\n",
      "You are 52 year old femal. You are 1.8m tall and weigh 70.0kg.\n",
      "\n",
      "Here are your body statisctics:\n",
      "------------------------------------\n",
      "Your BMI is 21.6\n",
      "\n",
      "Based on your BMI, your are classified as healthy\n",
      "------------------------------------\n",
      "Your BMR is 1404\n",
      "To maintain your weight, follow these daily calorie guideliness:\n",
      "1. Little to no exercise: You need = 1685.0 k/cals\n",
      "2. Light exercise (1-3 days per week): You need = 1930.0 k/cals\n",
      "3. Moderate exercise (3-5 days per week): You need = 2176.0 k/cals\n",
      "4. Heavy exercise (6-7 days per week): You need = 2422.0 k/cals\n",
      "5. Very heavy exercise: (twice per day): You need = 2668.0 k/cals\n",
      "\n"
     ]
    },
    {
     "name": "stdin",
     "output_type": "stream",
     "text": [
      "Which activity level are you? (1-5): 3\n"
     ]
    },
    {
     "name": "stdout",
     "output_type": "stream",
     "text": [
      "------------------------------------\n"
     ]
    },
    {
     "name": "stdin",
     "output_type": "stream",
     "text": [
      "What is your weight goal (kg)?:  65\n",
      "In how many weeks would you like to achieve this goal?:  10\n"
     ]
    },
    {
     "name": "stdout",
     "output_type": "stream",
     "text": [
      "------------------------------------\n",
      "To achieve a target weight of 65kg in 10 weeks, you will need to consume\n",
      "a deficit of 550.0 calories. This means your daily calorie intake should\n",
      "be 1626.0 calories! Good luck in achieving your weight goal!\n",
      "---------------------------------------\n"
     ]
    }
   ],
   "source": [
    "while True:\n",
    "    name = input(\"What is your name?: \")\n",
    "    age = int(input(\"What is your age?: \"))\n",
    "    sex = input(\"What is your sex? (male or female): \")\n",
    "    height = float(input(\"What is your height in meters?: \"))\n",
    "    weight = float(input(\"What is your weight in kg?: \"))\n",
    "\n",
    "    bmi_result = bmi(height, weight)\n",
    "    bmr_result = bmr(height, weight, age, sex)\n",
    "    clear_output()\n",
    "    print(''' Hello {}! Here is your fitness report:\n",
    "\n",
    "You are {} year old {}. You are {}m tall and weigh {}kg.\n",
    "\n",
    "Here are your body statisctics:'''. format(name, age, sex, height, weight))\n",
    "    print(\"------------------------------------\")\n",
    "    print(\"Your BMI is {}\".format(bmi_result))\n",
    "    print(\"\")\n",
    "    print(\"Based on your BMI, your are classified as {}\".format(bmi_rating(bmi_result)))\n",
    "    print(\"------------------------------------\")\n",
    "    print(\"Your BMR is {}\".format(bmr_result))\n",
    "    calorie_consumption = calories_burn(bmr_result)\n",
    "    print(\"\")\n",
    "    activity_level = int(input(\"Which activity level are you? (1-5):\"))\n",
    "    print(\"------------------------------------\")\n",
    "    weight_goal = int(input(\"What is your weight goal (kg)?: \"))\n",
    "    weeks = int(input(\"In how many weeks would you like to achieve this goal?: \"))\n",
    "    calorie_info = target_weight()\n",
    "    print(\"------------------------------------\")\n",
    "    print('''To achieve a target weight of {}kg in {} weeks, you will need to consume\n",
    "a {} of {} calories. This means your daily calorie intake should\n",
    "be {} calories! Good luck in achieving your weight goal!'''. format(weight_goal, \n",
    "                                                                    weeks,\n",
    "                                                                    calorie_info['deficit_surplus'], \n",
    "                                                                    abs(calorie_info['calories_per_day']), \n",
    "                                                                    calorie_consumption[activity_level] + calorie_info['calories_per_day']))\n",
    "    print(\"---------------------------------------\")\n",
    "\n",
    "    if not use_again():\n",
    "        break\n",
    "\n",
    "    clear_output()\n"
   ]
  },
  {
   "cell_type": "code",
   "execution_count": null,
   "id": "5682cb94-8663-481e-9879-fe34d5312777",
   "metadata": {},
   "outputs": [],
   "source": []
  }
 ],
 "metadata": {
  "kernelspec": {
   "display_name": "Python 3 (ipykernel)",
   "language": "python",
   "name": "python3"
  },
  "language_info": {
   "codemirror_mode": {
    "name": "ipython",
    "version": 3
   },
   "file_extension": ".py",
   "mimetype": "text/x-python",
   "name": "python",
   "nbconvert_exporter": "python",
   "pygments_lexer": "ipython3",
   "version": "3.11.7"
  }
 },
 "nbformat": 4,
 "nbformat_minor": 5
}
