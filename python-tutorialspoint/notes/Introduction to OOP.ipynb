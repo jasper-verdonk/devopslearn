{
 "cells": [
  {
   "cell_type": "markdown",
   "id": "24508b6c-dcbb-4b78-860a-be1767382184",
   "metadata": {},
   "source": [
    "Classes - User defined data structures. "
   ]
  },
  {
   "cell_type": "code",
   "execution_count": null,
   "id": "dcce10c9-ea3f-467f-add1-f604446c42d0",
   "metadata": {},
   "outputs": [],
   "source": [
    "Methodes - functions defined within classes. "
   ]
  },
  {
   "cell_type": "markdown",
   "id": "555baa46-ceb0-421d-a6f1-59b700302343",
   "metadata": {},
   "source": [
    "# The class keyword"
   ]
  },
  {
   "cell_type": "code",
   "execution_count": 4,
   "id": "83c173e7-0bf8-48de-bd73-1292bc79de8a",
   "metadata": {},
   "outputs": [],
   "source": [
    "class Dog:\n",
    "    '''User-defined object to represent and manage dog data'''\n",
    "    def __init__(self, name, age):\n",
    "        self.name = name\n",
    "        self.age = age"
   ]
  },
  {
   "cell_type": "code",
   "execution_count": 10,
   "id": "0981ce1c-c1eb-4008-ba3f-812733b0e337",
   "metadata": {},
   "outputs": [
    {
     "name": "stdout",
     "output_type": "stream",
     "text": [
      "User-defined object to represent and manage dog data\n"
     ]
    }
   ],
   "source": [
    "my_dog = Dog('Pluto', 12)\n",
    "print(Dog.__doc__)"
   ]
  },
  {
   "cell_type": "code",
   "execution_count": 3,
   "id": "f210e01e-5439-4c57-95fe-4a073caff3ac",
   "metadata": {},
   "outputs": [
    {
     "data": {
      "text/plain": [
       "__main__.Dog"
      ]
     },
     "execution_count": 3,
     "metadata": {},
     "output_type": "execute_result"
    }
   ],
   "source": [
    "type(my_dog)"
   ]
  },
  {
   "cell_type": "markdown",
   "id": "de807190-8a2f-4ba2-8d2f-7ac5ecf19ba9",
   "metadata": {},
   "source": [
    "# Instance Attributes"
   ]
  },
  {
   "cell_type": "code",
   "execution_count": 6,
   "id": "793a2d21-5f6c-4bb4-8ffc-00d08ca54e9e",
   "metadata": {},
   "outputs": [],
   "source": [
    "my_dog = Dog('Bruno', 3)"
   ]
  },
  {
   "cell_type": "code",
   "execution_count": 7,
   "id": "52bc6fb2-afb6-4308-8ba4-d73e59ea8f70",
   "metadata": {},
   "outputs": [
    {
     "data": {
      "text/plain": [
       "3"
      ]
     },
     "execution_count": 7,
     "metadata": {},
     "output_type": "execute_result"
    }
   ],
   "source": [
    "my_dog.age\n"
   ]
  },
  {
   "cell_type": "code",
   "execution_count": 8,
   "id": "c79a18ac-6a75-497f-a82a-5f17264ce44b",
   "metadata": {},
   "outputs": [
    {
     "data": {
      "text/plain": [
       "'Bruno'"
      ]
     },
     "execution_count": 8,
     "metadata": {},
     "output_type": "execute_result"
    }
   ],
   "source": [
    "my_dog.name"
   ]
  },
  {
   "cell_type": "markdown",
   "id": "934af429-f19f-40d1-921a-ad780bba7248",
   "metadata": {},
   "source": [
    "name and age are 'instance attributes' within the class 'Dog'. An instance attribute value is specific to an instance of the class. If you instantiating  more objects with all can different instance values. "
   ]
  },
  {
   "cell_type": "markdown",
   "id": "7f5045f2-a34e-491e-ae95-b4d0f142ed1b",
   "metadata": {},
   "source": [
    "1️⃣ Classes and Objects\n",
    "\n",
    "A class in Python is a blueprint for creating objects.\n",
    "An object is an instance of a class — it holds data (attributes) and can have behavior (methods).\n",
    "\n",
    "```\n",
    "class Dog:\n",
    "    '''User-defined object to represent and manage dog data'''\n",
    "```\n",
    "\n"
   ]
  },
  {
   "cell_type": "markdown",
   "id": "4bae3f0f-3150-4045-81cc-81c9fb65e6b9",
   "metadata": {},
   "source": [
    "3️⃣ The __init__ Method\n",
    "\n",
    "```\n",
    "def __init__(self, name, age):\n",
    "```\n",
    "\n",
    "__init__ is a special method called a constructor.\n",
    "\n",
    "It gets called automatically when you create a new object of the class.\n",
    "\n",
    "It is used to initialize the object’s attributes.\n",
    "\n",
    "\n"
   ]
  },
  {
   "cell_type": "markdown",
   "id": "233ab758-bd86-43af-ab15-5eba1b3bb291",
   "metadata": {},
   "source": [
    "4️⃣ self parameter\n",
    "\n",
    "```\n",
    "self.name = name\n",
    "self.age = age\n",
    "```\n",
    "self is a reference to the current instance of the object being created.\n",
    "\n",
    "Inside the class, when you want to set or access attributes of that object, you use self.\n",
    "\n",
    "self.name and self.age become attributes of the object."
   ]
  },
  {
   "cell_type": "markdown",
   "id": "f51b4147-7155-4a3a-82bd-a6693943745d",
   "metadata": {},
   "source": [
    "5️⃣ Putting it all together\n",
    "\n",
    "Here’s how you would use this class:\n",
    "\n",
    "```\n",
    "# Create an object of the Dog class\n",
    "my_dog = Dog(\"Buddy\", 3)\n",
    "\n",
    "# Access attributes\n",
    "print(my_dog.name)  # Output: Buddy\n",
    "print(my_dog.age)   # Output: 3\n",
    "```\n",
    "When you write ```my_dog = Dog(\"Buddy\", 3)```, Python does this:\n",
    "\n",
    "    Creates a new Dog object.\n",
    "\n",
    "    Calls __init__ with self, \"Buddy\", and 3.\n",
    "\n",
    "    Sets my_dog.name to \"Buddy\" and my_dog.age to 3."
   ]
  },
  {
   "cell_type": "markdown",
   "id": "0fd2943a-6dc6-40b6-b4a8-d73b65140d31",
   "metadata": {},
   "source": [
    "Summary Theory Points:\n",
    "\n",
    "-  Class:\tBlueprint for creating objects\n",
    "-  Object:\tAn instance of a class\n",
    "-  Attributes:\tData stored in an object\n",
    "-  Methods:\tFunctions defined inside a class\n",
    "-  __init__ method:\tConstructor, initializes new objects\n",
    "-  self:\tReference to the current object instance\n",
    "-  Docstring:\tString documenting the purpose of the class"
   ]
  },
  {
   "cell_type": "markdown",
   "id": "c175b76d-f52b-4566-9b6c-c25061bf2a49",
   "metadata": {},
   "source": [
    "### Extended example"
   ]
  },
  {
   "cell_type": "code",
   "execution_count": 27,
   "id": "20028b7b-cafc-4a28-8ef0-c8f4851c8e9d",
   "metadata": {},
   "outputs": [],
   "source": [
    "class Dog:\n",
    "    '''User-defined object to represent and manage dog data'''\n",
    "    Kingdom = 'Animal'\n",
    "\n",
    "    def __init__(self, name, age):\n",
    "        self.name = name\n",
    "        self.age = age\n",
    "\n",
    "    def __str__(self):\n",
    "        return \"{} is {} years old\".format(self.name, self.age)\n",
    "\n",
    "    def bark(self):\n",
    "        '''Simulate the dog barking'''\n",
    "        print(f\"{self.name} says: Woof! 🐾\")\n",
    "\n",
    "    def speak(self, sound):\n",
    "        '''Simulate the dog sound'''\n",
    "        return \"{} says {}\".format(self.name, sound)\n",
    "\n",
    "    def description(self):\n",
    "        '''Return a description of the dog'''\n",
    "        return f\"{self.name} is {self.age} years old.\"\n",
    "        # return \"{} is {} years old\".format(self.name, self.age)\n",
    "\n",
    "    def birthday(self):\n",
    "        '''Increase the dog's age by 1'''\n",
    "        self.age += 1\n",
    "        print(f\"Happy Birthday {self.name}! 🎂 You are now {self.age} years old.\")"
   ]
  },
  {
   "cell_type": "code",
   "execution_count": 13,
   "id": "f4ae6b3c-5ced-4191-ab5a-caf4ac42c9d9",
   "metadata": {},
   "outputs": [],
   "source": [
    "my_dog = Dog('Bruno', 5)"
   ]
  },
  {
   "cell_type": "code",
   "execution_count": 14,
   "id": "bf56c339-665e-49f6-a553-615a07a19aab",
   "metadata": {},
   "outputs": [
    {
     "name": "stdout",
     "output_type": "stream",
     "text": [
      "Bruno says: Woof! 🐾\n",
      "None\n"
     ]
    }
   ],
   "source": [
    "print(my_dog.bark())"
   ]
  },
  {
   "cell_type": "code",
   "execution_count": 15,
   "id": "3fe525dd-1523-4891-b54a-5f1c33e8fbe1",
   "metadata": {},
   "outputs": [
    {
     "name": "stdout",
     "output_type": "stream",
     "text": [
      "Happy Birthday Bruno! 🎂 You are now 6 years old.\n",
      "None\n"
     ]
    }
   ],
   "source": [
    "print(my_dog.birthday())"
   ]
  },
  {
   "cell_type": "markdown",
   "id": "557c0f8c-e4f6-49a1-ab8c-5e12c22764d1",
   "metadata": {},
   "source": [
    "## Class Object attributes. \n",
    "This object attribute is the same for all the object instance instantiations. "
   ]
  },
  {
   "cell_type": "code",
   "execution_count": 19,
   "id": "f4d33f67-62f1-412f-b030-97d65c44ef65",
   "metadata": {},
   "outputs": [],
   "source": [
    "my_dog = Dog('Bruno', 4)"
   ]
  },
  {
   "cell_type": "code",
   "execution_count": 20,
   "id": "2509fbcb-7dc7-40c9-bc8f-5225e6ab6c67",
   "metadata": {},
   "outputs": [
    {
     "data": {
      "text/plain": [
       "'Animal'"
      ]
     },
     "execution_count": 20,
     "metadata": {},
     "output_type": "execute_result"
    }
   ],
   "source": [
    "my_dog.Kingdom"
   ]
  },
  {
   "cell_type": "markdown",
   "id": "243e5db5-4f52-4f22-a0e1-de8311598b4e",
   "metadata": {},
   "source": [
    "## Changing attributes"
   ]
  },
  {
   "cell_type": "code",
   "execution_count": 8,
   "id": "56220543-4f38-4214-b8af-7d2120ca37a3",
   "metadata": {},
   "outputs": [],
   "source": [
    "my_dog = Dog('Piet', 4)"
   ]
  },
  {
   "cell_type": "code",
   "execution_count": 9,
   "id": "93457c1f-b0b0-4782-8b88-455f76087082",
   "metadata": {},
   "outputs": [],
   "source": [
    "my_dog.name = 'Pluto'"
   ]
  },
  {
   "cell_type": "code",
   "execution_count": 4,
   "id": "1e7d2bbf-22e8-4612-9d8e-da4010cb7a92",
   "metadata": {},
   "outputs": [
    {
     "data": {
      "text/plain": [
       "<__main__.Dog at 0x1d428994310>"
      ]
     },
     "execution_count": 4,
     "metadata": {},
     "output_type": "execute_result"
    }
   ],
   "source": [
    "my_dog"
   ]
  },
  {
   "cell_type": "code",
   "execution_count": 5,
   "id": "d088cddf-f2a2-46c5-99f3-3b423783b531",
   "metadata": {},
   "outputs": [
    {
     "name": "stdout",
     "output_type": "stream",
     "text": [
      "Pluto\n"
     ]
    }
   ],
   "source": [
    "print(my_dog.name)"
   ]
  },
  {
   "cell_type": "code",
   "execution_count": 10,
   "id": "58c24b2f-5064-4616-8a15-72cd0867bebc",
   "metadata": {},
   "outputs": [
    {
     "data": {
      "text/plain": [
       "'Pluto'"
      ]
     },
     "execution_count": 10,
     "metadata": {},
     "output_type": "execute_result"
    }
   ],
   "source": [
    "my_dog.name"
   ]
  },
  {
   "cell_type": "code",
   "execution_count": 11,
   "id": "07ceb584-d269-49c9-804a-c35724f016ca",
   "metadata": {},
   "outputs": [],
   "source": [
    "my_dog.name = 'Piet'"
   ]
  },
  {
   "cell_type": "code",
   "execution_count": 12,
   "id": "a8d80603-cc5d-414c-9561-25ac025c6666",
   "metadata": {},
   "outputs": [
    {
     "name": "stdout",
     "output_type": "stream",
     "text": [
      "Piet\n"
     ]
    }
   ],
   "source": [
    "print(my_dog.name)"
   ]
  },
  {
   "cell_type": "code",
   "execution_count": 14,
   "id": "14afa574-072a-4f35-aeb8-bc508b3d56b3",
   "metadata": {},
   "outputs": [
    {
     "data": {
      "text/plain": [
       "'Animal'"
      ]
     },
     "execution_count": 14,
     "metadata": {},
     "output_type": "execute_result"
    }
   ],
   "source": [
    "my_dog.Kingdom"
   ]
  },
  {
   "cell_type": "code",
   "execution_count": 15,
   "id": "da37e3f9-c23b-43d5-8abd-4afeb9255638",
   "metadata": {},
   "outputs": [],
   "source": [
    "my_dog.Kingdom = 'Stalingrad'"
   ]
  },
  {
   "cell_type": "code",
   "execution_count": 16,
   "id": "236ea916-23c5-48b9-b94f-dbcd028f286c",
   "metadata": {},
   "outputs": [
    {
     "data": {
      "text/plain": [
       "'Stalingrad'"
      ]
     },
     "execution_count": 16,
     "metadata": {},
     "output_type": "execute_result"
    }
   ],
   "source": [
    "my_dog.Kingdom"
   ]
  },
  {
   "cell_type": "markdown",
   "id": "26c50ac3-034c-41a3-8f50-36f72e0e201d",
   "metadata": {},
   "source": [
    "## Instance methods"
   ]
  },
  {
   "cell_type": "code",
   "execution_count": 29,
   "id": "e81abd2d-df77-4ac9-b5af-a7eeb8641b10",
   "metadata": {},
   "outputs": [],
   "source": [
    "my_dog = Dog('Bruno', 4)"
   ]
  },
  {
   "cell_type": "code",
   "execution_count": 19,
   "id": "8d4b36f2-f505-4ca5-a46d-1db87b8587a0",
   "metadata": {},
   "outputs": [
    {
     "data": {
      "text/plain": [
       "'Bruno is 4 years old.'"
      ]
     },
     "execution_count": 19,
     "metadata": {},
     "output_type": "execute_result"
    }
   ],
   "source": [
    "my_dog.description()"
   ]
  },
  {
   "cell_type": "code",
   "execution_count": 22,
   "id": "635cb042-a36c-47de-b63e-867be493cbad",
   "metadata": {},
   "outputs": [
    {
     "data": {
      "text/plain": [
       "'Bruno says woof!'"
      ]
     },
     "execution_count": 22,
     "metadata": {},
     "output_type": "execute_result"
    }
   ],
   "source": [
    "my_dog.speak('woof!')"
   ]
  },
  {
   "cell_type": "code",
   "execution_count": 23,
   "id": "a35269c5-3525-484e-8b11-74e30ed7fe96",
   "metadata": {},
   "outputs": [
    {
     "data": {
      "text/plain": [
       "'Bruno says yap!'"
      ]
     },
     "execution_count": 23,
     "metadata": {},
     "output_type": "execute_result"
    }
   ],
   "source": [
    "my_dog.speak('yap!')"
   ]
  },
  {
   "cell_type": "code",
   "execution_count": 24,
   "id": "d1ffe184-c01e-43f6-90cd-ff172344d644",
   "metadata": {},
   "outputs": [],
   "source": [
    "my_list = ['apple', 'banana', 'pear']"
   ]
  },
  {
   "cell_type": "code",
   "execution_count": 25,
   "id": "66bf3a5c-f76e-4c1d-97d0-29e5280e93d2",
   "metadata": {},
   "outputs": [
    {
     "name": "stdout",
     "output_type": "stream",
     "text": [
      "['apple', 'banana', 'pear']\n"
     ]
    }
   ],
   "source": [
    "print(my_list)"
   ]
  },
  {
   "cell_type": "code",
   "execution_count": 26,
   "id": "e8045513-1447-4e28-a5c9-3eca3d679fc5",
   "metadata": {},
   "outputs": [
    {
     "name": "stdout",
     "output_type": "stream",
     "text": [
      "<__main__.Dog object at 0x000001D4284FB850>\n"
     ]
    }
   ],
   "source": [
    "print(my_dog)"
   ]
  },
  {
   "cell_type": "markdown",
   "id": "5482610d-4372-426b-845a-9b92920fe948",
   "metadata": {},
   "source": [
    "after defining method:\n",
    "```\n",
    "def __str__(self):\n",
    "        return \"{} is {} years old\".format(self.name, self.age)\n",
    "```\n",
    "in the class Dog. Check also the 'string form' of instantiated object 'my_dog'. "
   ]
  },
  {
   "cell_type": "code",
   "execution_count": 30,
   "id": "e61bf9eb-1aee-49b9-b896-9e22b9d73ff0",
   "metadata": {},
   "outputs": [
    {
     "name": "stdout",
     "output_type": "stream",
     "text": [
      "Bruno is 4 years old\n"
     ]
    }
   ],
   "source": [
    "print(my_dog)"
   ]
  },
  {
   "cell_type": "markdown",
   "id": "69ca905e-6c27-481c-943e-4052433e1226",
   "metadata": {},
   "source": [
    "## Inheritance"
   ]
  },
  {
   "cell_type": "code",
   "execution_count": 7,
   "id": "bb3ffb0c-33e1-427a-b1b7-426cc77d638f",
   "metadata": {},
   "outputs": [],
   "source": [
    "class Dog:\n",
    "    '''User-defined object to represent and manage dog data'''\n",
    "    Kingdom = 'Animal'\n",
    "\n",
    "    def __init__(self, name, age):\n",
    "        self.name = name\n",
    "        self.age = age\n",
    "        \n",
    "\n",
    "    def __str__(self):\n",
    "        return \"{} is {} years old\".format(self.name, self.age)\n",
    "\n",
    "    def bark(self):\n",
    "        '''Simulate the dog barking'''\n",
    "        print(f\"{self.name} says: Woof! 🐾\")\n",
    "\n",
    "    def speak(self, sound):\n",
    "        '''Simulate the dog sound'''\n",
    "        return \"{} says {}\".format(self.name, sound)\n",
    "\n",
    "    def description(self):\n",
    "        '''Return a description of the dog'''\n",
    "        return f\"{self.name} is {self.age} years old.\"\n",
    "        # return \"{} is {} years old\".format(self.name, self.age)\n",
    "\n",
    "    def birthday(self):\n",
    "        '''Increase the dog's age by 1'''\n",
    "        self.age += 1\n",
    "        print(f\"Happy Birthday {self.name}! 🎂 You are now {self.age} years old.\")"
   ]
  },
  {
   "cell_type": "code",
   "execution_count": 4,
   "id": "ae15595d-bdd1-4b6a-81b3-69ce43328c40",
   "metadata": {},
   "outputs": [],
   "source": [
    "dolly = Dog('Dolly', 7, 'Shih Tzu')\n",
    "flo = Dog('Flo', 9, 'Dachshund')\n",
    "sassy = Dog('Sassy', 3, 'Poodle')\n",
    "betty = Dog('Betty', 1, 'Frug')"
   ]
  },
  {
   "cell_type": "code",
   "execution_count": 5,
   "id": "cc3f4495-371d-4f10-9179-cbdc32de3e07",
   "metadata": {},
   "outputs": [
    {
     "data": {
      "text/plain": [
       "'Dolly says Yap'"
      ]
     },
     "execution_count": 5,
     "metadata": {},
     "output_type": "execute_result"
    }
   ],
   "source": [
    "dolly.speak('Yap')"
   ]
  },
  {
   "cell_type": "code",
   "execution_count": 35,
   "id": "331d4771-907d-40f4-9278-7c72000e5f8a",
   "metadata": {},
   "outputs": [
    {
     "data": {
      "text/plain": [
       "'Flo says Woof'"
      ]
     },
     "execution_count": 35,
     "metadata": {},
     "output_type": "execute_result"
    }
   ],
   "source": [
    "flo.speak('Woof')"
   ]
  },
  {
   "cell_type": "code",
   "execution_count": 14,
   "id": "d67ce156-96e7-4577-84e2-c1c2f32220a8",
   "metadata": {},
   "outputs": [],
   "source": [
    "class ShihTzu(Dog):\n",
    "    def speak(self, sound=\"Shih Tzu Woof\"):\n",
    "        '''Simulate the dog sound'''\n",
    "        return \"{} says {}\".format(self.name, sound)\n",
    "\n",
    "class Dachshund(Dog):\n",
    "    def speak(self, sound=\"Dachshund Woof\"):\n",
    "        '''Simulate the dog sound'''\n",
    "        return \"{} says {}\".format(self.name, sound)\n",
    "\n",
    "class Poodle(Dog):\n",
    "    def speak(self, sound=\"Poodle Woof\"):\n",
    "        '''Simulate the dog sound'''\n",
    "        return \"{} says {}\".format(self.name, sound)\n",
    "\n",
    "class Frug(Dog):\n",
    "    def speak(self, sound=\"Frug\"):\n",
    "        '''Simulate the dog sound'''\n",
    "        return \"{} says {}\".format(self.name, sound)\n"
   ]
  },
  {
   "cell_type": "code",
   "execution_count": 15,
   "id": "5ef6feec-5711-4f3d-98d3-384d6b4b9eda",
   "metadata": {},
   "outputs": [],
   "source": [
    "dolly = ShihTzu('Dolly', 7)\n",
    "flo = Dachshund('Flo', 9)\n",
    "sassy = Poodle('Sassy', 3)\n",
    "betty = Frug('Betty', 1)"
   ]
  },
  {
   "cell_type": "code",
   "execution_count": 19,
   "id": "a605bc56-ad47-492c-ad6d-cc0580c6f649",
   "metadata": {},
   "outputs": [
    {
     "name": "stdout",
     "output_type": "stream",
     "text": [
      "Dolly says Shih Tzu Woof\n",
      "Sassy says Stalingrad\n"
     ]
    }
   ],
   "source": [
    "print(dolly.speak())\n",
    "print(sassy.speak(\"Stalingrad\"))"
   ]
  },
  {
   "cell_type": "code",
   "execution_count": 41,
   "id": "eb9defbd-a02d-4d5d-9e90-52c86f84dd81",
   "metadata": {},
   "outputs": [
    {
     "data": {
      "text/plain": [
       "'Animal'"
      ]
     },
     "execution_count": 41,
     "metadata": {},
     "output_type": "execute_result"
    }
   ],
   "source": [
    "dolly.Kingdom"
   ]
  },
  {
   "cell_type": "code",
   "execution_count": 42,
   "id": "6e04aee1-67bc-4faf-91d8-13456068651b",
   "metadata": {},
   "outputs": [
    {
     "name": "stdout",
     "output_type": "stream",
     "text": [
      "Flo is 9 years old\n"
     ]
    }
   ],
   "source": [
    "print(flo)"
   ]
  },
  {
   "cell_type": "code",
   "execution_count": 43,
   "id": "31e40a1d-28af-48ad-ab44-b908ae026572",
   "metadata": {},
   "outputs": [
    {
     "data": {
      "text/plain": [
       "__main__.Poodle"
      ]
     },
     "execution_count": 43,
     "metadata": {},
     "output_type": "execute_result"
    }
   ],
   "source": [
    "type(sassy)"
   ]
  },
  {
   "cell_type": "markdown",
   "id": "5352fe96-bb75-4aa3-a515-25a16504f5b3",
   "metadata": {},
   "source": [
    "'sassy' is of the object type Poodle. Determine if sassy is also an instance of the Dog class. "
   ]
  },
  {
   "cell_type": "code",
   "execution_count": 44,
   "id": "224b6717-eafd-4818-93f0-03c83d6ddd53",
   "metadata": {},
   "outputs": [
    {
     "data": {
      "text/plain": [
       "True"
      ]
     },
     "execution_count": 44,
     "metadata": {},
     "output_type": "execute_result"
    }
   ],
   "source": [
    "isinstance(sassy, Dog)"
   ]
  },
  {
   "cell_type": "code",
   "execution_count": 45,
   "id": "3d67003e-982a-41c2-a059-15a1d18dc4eb",
   "metadata": {},
   "outputs": [
    {
     "data": {
      "text/plain": [
       "False"
      ]
     },
     "execution_count": 45,
     "metadata": {},
     "output_type": "execute_result"
    }
   ],
   "source": [
    "isinstance(betty, Poodle)"
   ]
  },
  {
   "cell_type": "code",
   "execution_count": 20,
   "id": "63e045a2-b872-47a7-b074-a6ba6b11f5f7",
   "metadata": {},
   "outputs": [],
   "source": [
    "class Dog:\n",
    "    '''User-defined object to represent and manage dog data'''\n",
    "    Kingdom = 'Animal'\n",
    "\n",
    "    def __init__(self, name, age):\n",
    "        self.name = name\n",
    "        self.age = age\n",
    "        \n",
    "\n",
    "    def __str__(self):\n",
    "        return \"{} is {} years old\".format(self.name, self.age)\n",
    "\n",
    "    def bark(self):\n",
    "        '''Simulate the dog barking'''\n",
    "        print(f\"{self.name} says: Woof! 🐾\")\n",
    "\n",
    "    def speak(self, sound):\n",
    "        '''Simulate the dog sound'''\n",
    "        return \"My name is {} and I love saying {}\".format(self.name, sound)\n",
    "\n",
    "    def description(self):\n",
    "        '''Return a description of the dog'''\n",
    "        return f\"{self.name} is {self.age} years old.\"\n",
    "        # return \"{} is {} years old\".format(self.name, self.age)\n",
    "\n",
    "    def birthday(self):\n",
    "        '''Increase the dog's age by 1'''\n",
    "        self.age += 1\n",
    "        print(f\"Happy Birthday {self.name}! 🎂 You are now {self.age} years old.\")"
   ]
  },
  {
   "cell_type": "code",
   "execution_count": 21,
   "id": "d7d669b8-a4f9-4357-bda7-391f1ea1fb12",
   "metadata": {},
   "outputs": [],
   "source": [
    "class Bulldog(Dog):\n",
    "    pass"
   ]
  },
  {
   "cell_type": "code",
   "execution_count": 22,
   "id": "1a9ea6ef-71d7-49bf-88bc-3618c61eaf1b",
   "metadata": {},
   "outputs": [],
   "source": [
    "jake = Bulldog('Jake', 4)"
   ]
  },
  {
   "cell_type": "code",
   "execution_count": 23,
   "id": "d1e7698e-d648-44f0-888d-45517daa3a0f",
   "metadata": {},
   "outputs": [
    {
     "data": {
      "text/plain": [
       "<__main__.Bulldog at 0x1b0ba44c350>"
      ]
     },
     "execution_count": 23,
     "metadata": {},
     "output_type": "execute_result"
    }
   ],
   "source": [
    "jake"
   ]
  },
  {
   "cell_type": "code",
   "execution_count": 24,
   "id": "c1e70a27-3594-4668-9524-765f81dea750",
   "metadata": {},
   "outputs": [
    {
     "name": "stdout",
     "output_type": "stream",
     "text": [
      "Jake is 4 years old\n"
     ]
    }
   ],
   "source": [
    "print(jake)"
   ]
  },
  {
   "cell_type": "code",
   "execution_count": 25,
   "id": "76e34ab3-bd05-41f9-b735-c6c3d5740e8b",
   "metadata": {},
   "outputs": [
    {
     "name": "stdout",
     "output_type": "stream",
     "text": [
      "My name is Jake and I love saying Grrr\n"
     ]
    }
   ],
   "source": [
    "print(jake.speak(\"Grrr\"))"
   ]
  },
  {
   "cell_type": "code",
   "execution_count": 27,
   "id": "66103527-7fde-41de-a558-569c5aa56ea5",
   "metadata": {},
   "outputs": [],
   "source": [
    "class ShihTzu(Dog):\n",
    "    def speak(self, sound=\"Shih Tzu Woof!\"):\n",
    "     return super().speak(sound)"
   ]
  },
  {
   "cell_type": "code",
   "execution_count": 28,
   "id": "be8daf41-b0d2-4c8b-8251-2025e9041926",
   "metadata": {},
   "outputs": [],
   "source": [
    "dolly = ShihTzu('Dolly', 7)\n"
   ]
  },
  {
   "cell_type": "code",
   "execution_count": 29,
   "id": "507559f2-33a9-415e-b815-e3edc0ed1efd",
   "metadata": {},
   "outputs": [
    {
     "name": "stdout",
     "output_type": "stream",
     "text": [
      "My name is Dolly and I love saying Shih Tzu Woof!\n"
     ]
    }
   ],
   "source": [
    "print(dolly.speak())"
   ]
  },
  {
   "cell_type": "code",
   "execution_count": 30,
   "id": "ea6c2b21-a9cc-40c4-8ab8-55e11480224f",
   "metadata": {},
   "outputs": [
    {
     "name": "stdout",
     "output_type": "stream",
     "text": [
      "My name is Dolly and I love saying Jozef Stalin\n"
     ]
    }
   ],
   "source": [
    "print(dolly.speak(\"Jozef Stalin\"))"
   ]
  },
  {
   "cell_type": "markdown",
   "id": "d3bb4ee8-129f-4ac0-9975-08c5f4211cd4",
   "metadata": {},
   "source": [
    "Concept of Polymorphism"
   ]
  },
  {
   "cell_type": "code",
   "execution_count": 31,
   "id": "8a8c82f5-f18a-4c1f-be89-fe12873bb126",
   "metadata": {},
   "outputs": [
    {
     "name": "stdout",
     "output_type": "stream",
     "text": [
      "4\n",
      "3\n",
      "2\n"
     ]
    }
   ],
   "source": [
    "print(len(\"Dean\"))\n",
    "print(len(['Tennis', 'Football', 'Spinning']))\n",
    "print(len({\"type\":\"metal\",\"key\":\"value\"}))"
   ]
  },
  {
   "cell_type": "markdown",
   "id": "1cef4261-0631-4278-bf59-fcf40f48203c",
   "metadata": {},
   "source": [
    "This is an example of Polymorphism. Len automatically understands the type on input. "
   ]
  },
  {
   "cell_type": "code",
   "execution_count": 32,
   "id": "966cd102-9c47-4f39-b0d7-3a55bb8e37a4",
   "metadata": {},
   "outputs": [],
   "source": [
    "class Dog:\n",
    "    def __init__(self, name, age):\n",
    "        self.name = name\n",
    "        self.age = age\n",
    "    def description(self):\n",
    "        print(\"I am a dog. My name is {}. I am {} years old.\".format(self.name, self.age))\n",
    "\n",
    "    def speak(self):\n",
    "        print(\"Bark!\")\n",
    "\n",
    "class Cat:\n",
    "    def __init__(self, name, age):\n",
    "        self.name = name\n",
    "        self.age = age\n",
    "    def description(self):\n",
    "        print(\"I am a cat. My name is {}. I am {} years old.\".format(self.name, self.age))\n",
    "\n",
    "    def speak(self):\n",
    "        print(\"Meow!\")\n",
    "        \n",
    "        "
   ]
  },
  {
   "cell_type": "code",
   "execution_count": 33,
   "id": "f6a7b1bb-bd63-494d-9197-d9da71d72b8f",
   "metadata": {},
   "outputs": [],
   "source": [
    "dog1 = Dog('Dolly', 4)\n",
    "cat1 = Cat('Felix', 2)"
   ]
  },
  {
   "cell_type": "code",
   "execution_count": 34,
   "id": "66f1c839-523b-422f-a252-443655f3a01d",
   "metadata": {},
   "outputs": [
    {
     "name": "stdout",
     "output_type": "stream",
     "text": [
      "Meow!\n",
      "I am a cat. My name is Felix. I am 2 years old.\n",
      "Meow!\n",
      "Bark!\n",
      "I am a dog. My name is Dolly. I am 4 years old.\n",
      "Bark!\n"
     ]
    }
   ],
   "source": [
    "for animal in (cat1, dog1):\n",
    "    animal.speak()\n",
    "    animal.description()\n",
    "    animal.speak()"
   ]
  },
  {
   "cell_type": "markdown",
   "id": "11dcacd4-cfd6-42d5-bec2-cf3a786bdad2",
   "metadata": {},
   "source": [
    "# Special/Dundar/Magical Methods"
   ]
  },
  {
   "cell_type": "code",
   "execution_count": 7,
   "id": "304fb240-6ee3-4cff-91c2-dbebc1b6ecee",
   "metadata": {},
   "outputs": [],
   "source": [
    "class BankAccount:\n",
    "\n",
    "    def __init__(self, name, balance=0):\n",
    "        self.name = name\n",
    "        self.balance = balance\n",
    "        print(\"__init__ Account created with {} balance\".format(self.balance))\n",
    "\n",
    "    def getbalance(self):\n",
    "        return self.balance\n",
    "\n",
    "    def __repr__(self):\n",
    "        return \"__repr__ Account ({}, {})\".format(self.name, self.balance)\n",
    "\n",
    "    def __str__(self):\n",
    "        return \"__str__ Account name = {}, Account balance = {}\".format(self.name, self.balance)\n",
    "\n",
    "    def __int__(self):\n",
    "        return int(self.balance)\n",
    "\n",
    "    def __float__(self):\n",
    "        return float(self.balance)\n",
    "\n",
    "    def __lt__(self, obj):\n",
    "        try:\n",
    "            return self.balance < obj.getbalance()\n",
    "        except:\n",
    "            return \"Are you sure you are comparing two bank accounts?\"\n",
    "    def __del__(self):\n",
    "        self.balance = 0\n",
    "        print(\"__del__ Account deleted\")"
   ]
  },
  {
   "cell_type": "code",
   "execution_count": 8,
   "id": "e8273ad1-7a58-4d5d-934d-3e304df5476a",
   "metadata": {},
   "outputs": [
    {
     "name": "stdout",
     "output_type": "stream",
     "text": [
      "__init__ Account created with 1000 balance\n",
      "__init__ Account created with 50 balance\n"
     ]
    }
   ],
   "source": [
    "jasper_account = BankAccount(\"Jasper\", 1000)\n",
    "sam_account = BankAccount(\"Sam\", 50)"
   ]
  },
  {
   "cell_type": "code",
   "execution_count": 9,
   "id": "b9d1e39b-e843-42e0-88a1-a509069788c6",
   "metadata": {},
   "outputs": [
    {
     "data": {
      "text/plain": [
       "1000"
      ]
     },
     "execution_count": 9,
     "metadata": {},
     "output_type": "execute_result"
    }
   ],
   "source": [
    "jasper_account.getbalance()"
   ]
  },
  {
   "cell_type": "code",
   "execution_count": 12,
   "id": "4bd625b3-2705-4bde-93e6-2d3b658cfc94",
   "metadata": {},
   "outputs": [
    {
     "name": "stdout",
     "output_type": "stream",
     "text": [
      "__str__ Account name = Jasper, Account balance = 1000\n",
      "__repr__ Account (Sam, 50)\n",
      "__str__ Account name = Jasper, Account balance = 1000\n"
     ]
    }
   ],
   "source": [
    "print(str(jasper_account))\n",
    "print(repr(sam_account))\n",
    "print(jasper_account)"
   ]
  },
  {
   "cell_type": "code",
   "execution_count": 13,
   "id": "b1fca096-c31b-4524-9da5-05aed0ba8a4d",
   "metadata": {},
   "outputs": [
    {
     "data": {
      "text/plain": [
       "50"
      ]
     },
     "execution_count": 13,
     "metadata": {},
     "output_type": "execute_result"
    }
   ],
   "source": [
    "int(sam_account)"
   ]
  },
  {
   "cell_type": "code",
   "execution_count": 14,
   "id": "5868984b-c0fe-4d34-acc1-8770575e0087",
   "metadata": {},
   "outputs": [
    {
     "data": {
      "text/plain": [
       "50.0"
      ]
     },
     "execution_count": 14,
     "metadata": {},
     "output_type": "execute_result"
    }
   ],
   "source": [
    "float(sam_account)"
   ]
  },
  {
   "cell_type": "code",
   "execution_count": 15,
   "id": "355d1424-f05e-4ef5-b452-b62e2f652a2d",
   "metadata": {},
   "outputs": [
    {
     "data": {
      "text/plain": [
       "50"
      ]
     },
     "execution_count": 15,
     "metadata": {},
     "output_type": "execute_result"
    }
   ],
   "source": [
    "sam_account.__int__()"
   ]
  },
  {
   "cell_type": "code",
   "execution_count": 16,
   "id": "8e6c4886-3679-4639-a4c5-f4df34e2fa48",
   "metadata": {},
   "outputs": [
    {
     "data": {
      "text/plain": [
       "50.0"
      ]
     },
     "execution_count": 16,
     "metadata": {},
     "output_type": "execute_result"
    }
   ],
   "source": [
    "sam_account.__float__()"
   ]
  },
  {
   "cell_type": "code",
   "execution_count": 17,
   "id": "f6075071-7113-4b5c-ab01-9882e5aa218d",
   "metadata": {},
   "outputs": [
    {
     "data": {
      "text/plain": [
       "False"
      ]
     },
     "execution_count": 17,
     "metadata": {},
     "output_type": "execute_result"
    }
   ],
   "source": [
    "jasper_account < sam_account"
   ]
  },
  {
   "cell_type": "code",
   "execution_count": null,
   "id": "a1fae49c-9070-4e9e-bd5e-56ff870f56a9",
   "metadata": {},
   "outputs": [],
   "source": []
  }
 ],
 "metadata": {
  "kernelspec": {
   "display_name": "Python 3 (ipykernel)",
   "language": "python",
   "name": "python3"
  },
  "language_info": {
   "codemirror_mode": {
    "name": "ipython",
    "version": 3
   },
   "file_extension": ".py",
   "mimetype": "text/x-python",
   "name": "python",
   "nbconvert_exporter": "python",
   "pygments_lexer": "ipython3",
   "version": "3.11.7"
  }
 },
 "nbformat": 4,
 "nbformat_minor": 5
}
