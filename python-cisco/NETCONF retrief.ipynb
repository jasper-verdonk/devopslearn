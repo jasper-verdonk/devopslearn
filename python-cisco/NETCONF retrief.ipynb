{
 "cells": [
  {
   "cell_type": "code",
   "execution_count": 4,
   "id": "443f319a-3e2b-4709-bdbd-ada5360088e0",
   "metadata": {},
   "outputs": [],
   "source": [
    "import re"
   ]
  },
  {
   "cell_type": "code",
   "execution_count": 1,
   "id": "f97e3ff5-77fe-4fa7-bd33-dc7710fa19a3",
   "metadata": {},
   "outputs": [],
   "source": [
    "config = \"\"\"\n",
    "<data>\n",
    "  <System xmlns=\"http://cisco.com/ns/yang/cisco-nx-os-device\">\n",
    "    <intf-items>\n",
    "      <phys-items>\n",
    "        <PhysIf-list>\n",
    "          <id>Ethernet1/1</id>\n",
    "          <adminSt>up</adminSt>\n",
    "        </PhysIf-list>\n",
    "        <PhysIf-list>\n",
    "          <id>Ethernet1/2</id>\n",
    "          <adminSt>down</adminSt>\n",
    "        </PhysIf-list>\n",
    "        <PhysIf-list>\n",
    "          <id>Ethernet1/10</id>\n",
    "          <adminSt>up</adminSt>\n",
    "        </PhysIf-list>\n",
    "        <PhysIf-list>\n",
    "          <id>Ethernet1/3</id>\n",
    "          <adminSt>up</adminSt>\n",
    "        </PhysIf-list>\n",
    "        <PhysIf-list>\n",
    "          <id>Ethernet1/20</id>\n",
    "          <adminSt>down</adminSt>\n",
    "        </PhysIf-list>\n",
    "      </phys-items>\n",
    "    </intf-items>\n",
    "  </System>\n",
    "</data>\n",
    "\"\"\""
   ]
  },
  {
   "cell_type": "code",
   "execution_count": 5,
   "id": "3076fde3-56b5-42d7-ac00-cb610720fb1f",
   "metadata": {},
   "outputs": [
    {
     "name": "stdout",
     "output_type": "stream",
     "text": [
      "Interface: Ethernet1/1, Admin Status: up\n",
      "Interface: Ethernet1/2, Admin Status: down\n",
      "Interface: Ethernet1/3, Admin Status: up\n",
      "Interface: Ethernet1/10, Admin Status: up\n",
      "Interface: Ethernet1/20, Admin Status: down\n"
     ]
    }
   ],
   "source": [
    "interfaces = config.split(\"<PhysIf-list>\")\n",
    "interface_data = []\n",
    "\n",
    "for interface in interfaces[1:]:\n",
    "    try:\n",
    "        name = interface.split(\"<id>\")[1].split(\"</id>\")[0].strip()\n",
    "        admin_status = interface.split(\"<adminSt>\")[1].split(\"</adminSt>\")[0].strip()\n",
    "        interface_data.append((name, admin_status))\n",
    "    except IndexError:\n",
    "        continue\n",
    "\n",
    "interface_data.sort(key=lambda x: [int(part) if part.isdigit() else part.lower() for part in re.split(r'(\\d+)', x[0])])\n",
    "\n",
    "for name, admin_status in interface_data[:10]:\n",
    "    print(f\"Interface: {name}, Admin Status: {admin_status}\")"
   ]
  },
  {
   "cell_type": "code",
   "execution_count": 10,
   "id": "3426c5ab-1b04-4f84-92b9-2157bdb8ac48",
   "metadata": {},
   "outputs": [],
   "source": [
    "interfaces = config.split(\"<PhysIf-list>\")"
   ]
  },
  {
   "cell_type": "code",
   "execution_count": 11,
   "id": "b6fd0050-0b61-4ce0-98c2-d2c56aec0044",
   "metadata": {},
   "outputs": [
    {
     "data": {
      "text/plain": [
       "['\\n<data>\\n  <System xmlns=\"http://cisco.com/ns/yang/cisco-nx-os-device\">\\n    <intf-items>\\n      <phys-items>\\n        ',\n",
       " '\\n          <id>Ethernet1/1</id>\\n          <adminSt>up</adminSt>\\n        </PhysIf-list>\\n        ',\n",
       " '\\n          <id>Ethernet1/2</id>\\n          <adminSt>down</adminSt>\\n        </PhysIf-list>\\n        ',\n",
       " '\\n          <id>Ethernet1/10</id>\\n          <adminSt>up</adminSt>\\n        </PhysIf-list>\\n        ',\n",
       " '\\n          <id>Ethernet1/3</id>\\n          <adminSt>up</adminSt>\\n        </PhysIf-list>\\n        ',\n",
       " '\\n          <id>Ethernet1/20</id>\\n          <adminSt>down</adminSt>\\n        </PhysIf-list>\\n      </phys-items>\\n    </intf-items>\\n  </System>\\n</data>\\n']"
      ]
     },
     "execution_count": 11,
     "metadata": {},
     "output_type": "execute_result"
    }
   ],
   "source": [
    "interfaces"
   ]
  },
  {
   "cell_type": "code",
   "execution_count": 12,
   "id": "79b54f21-43fc-4e59-9dca-7f142da9c193",
   "metadata": {},
   "outputs": [
    {
     "data": {
      "text/plain": [
       "'\\n<data>\\n  <System xmlns=\"http://cisco.com/ns/yang/cisco-nx-os-device\">\\n    <intf-items>\\n      <phys-items>\\n        <PhysIf-list>\\n          <id>Ethernet1/1</id>\\n          <adminSt>up</adminSt>\\n        </PhysIf-list>\\n        <PhysIf-list>\\n          <id>Ethernet1/2</id>\\n          <adminSt>down</adminSt>\\n        </PhysIf-list>\\n        <PhysIf-list>\\n          <id>Ethernet1/10</id>\\n          <adminSt>up</adminSt>\\n        </PhysIf-list>\\n        <PhysIf-list>\\n          <id>Ethernet1/3</id>\\n          <adminSt>up</adminSt>\\n        </PhysIf-list>\\n        <PhysIf-list>\\n          <id>Ethernet1/20</id>\\n          <adminSt>down</adminSt>\\n        </PhysIf-list>\\n      </phys-items>\\n    </intf-items>\\n  </System>\\n</data>\\n'"
      ]
     },
     "execution_count": 12,
     "metadata": {},
     "output_type": "execute_result"
    }
   ],
   "source": [
    "config"
   ]
  },
  {
   "cell_type": "code",
   "execution_count": 13,
   "id": "ee77ae05-b1ea-44c4-8aab-574d08003a14",
   "metadata": {},
   "outputs": [
    {
     "data": {
      "text/plain": [
       "['\\n          <id>Ethernet1/1</id>\\n          <adminSt>up</adminSt>\\n        </PhysIf-list>\\n        ',\n",
       " '\\n          <id>Ethernet1/2</id>\\n          <adminSt>down</adminSt>\\n        </PhysIf-list>\\n        ',\n",
       " '\\n          <id>Ethernet1/10</id>\\n          <adminSt>up</adminSt>\\n        </PhysIf-list>\\n        ',\n",
       " '\\n          <id>Ethernet1/3</id>\\n          <adminSt>up</adminSt>\\n        </PhysIf-list>\\n        ',\n",
       " '\\n          <id>Ethernet1/20</id>\\n          <adminSt>down</adminSt>\\n        </PhysIf-list>\\n      </phys-items>\\n    </intf-items>\\n  </System>\\n</data>\\n']"
      ]
     },
     "execution_count": 13,
     "metadata": {},
     "output_type": "execute_result"
    }
   ],
   "source": [
    "interfaces[1:]"
   ]
  },
  {
   "cell_type": "code",
   "execution_count": 18,
   "id": "4debcc7b-63a9-4b62-9980-05b66f5ad50c",
   "metadata": {},
   "outputs": [],
   "source": [
    "int = \"\\n          <id>Ethernet1/1</id>\\n          <adminSt>up</adminSt>\\n        </PhysIf-list>\\n\""
   ]
  },
  {
   "cell_type": "code",
   "execution_count": 19,
   "id": "63435f0b-dcae-4299-9efe-8d772506f759",
   "metadata": {},
   "outputs": [
    {
     "data": {
      "text/plain": [
       "str"
      ]
     },
     "execution_count": 19,
     "metadata": {},
     "output_type": "execute_result"
    }
   ],
   "source": [
    "type(int)"
   ]
  },
  {
   "cell_type": "code",
   "execution_count": 25,
   "id": "d40e6f41-e5be-4198-b5d5-0ab6f2f12a33",
   "metadata": {},
   "outputs": [
    {
     "data": {
      "text/plain": [
       "['Ethernet1/1', '\\n          <adminSt>up</adminSt>\\n        </PhysIf-list>\\n']"
      ]
     },
     "execution_count": 25,
     "metadata": {},
     "output_type": "execute_result"
    }
   ],
   "source": [
    "int.split(\"<id>\")[1].split(\"</id>\")"
   ]
  },
  {
   "cell_type": "code",
   "execution_count": 26,
   "id": "d401c518-a6d1-4288-8605-59f7d597f358",
   "metadata": {},
   "outputs": [
    {
     "data": {
      "text/plain": [
       "'Ethernet1/1'"
      ]
     },
     "execution_count": 26,
     "metadata": {},
     "output_type": "execute_result"
    }
   ],
   "source": [
    "int.split(\"<id>\")[1].split(\"</id>\")[0]"
   ]
  },
  {
   "cell_type": "code",
   "execution_count": 27,
   "id": "72181010-e7d6-402e-9caa-25c4e856a1ec",
   "metadata": {},
   "outputs": [],
   "source": [
    "for interface in interfaces[1:]:\n",
    "    try:\n",
    "        name = interface.split(\"<id>\")[1].split(\"</id>\")[0].strip()\n",
    "        admin_status = interface.split(\"<adminSt>\")[1].split(\"</adminSt>\")[0].strip()\n",
    "        interface_data.append((name, admin_status))\n",
    "    except IndexError:\n",
    "        continue"
   ]
  },
  {
   "cell_type": "code",
   "execution_count": 28,
   "id": "ba4ff25d-b967-4feb-88c8-1345ee60c195",
   "metadata": {},
   "outputs": [
    {
     "data": {
      "text/plain": [
       "[('Ethernet1/1', 'up'),\n",
       " ('Ethernet1/2', 'down'),\n",
       " ('Ethernet1/3', 'up'),\n",
       " ('Ethernet1/10', 'up'),\n",
       " ('Ethernet1/20', 'down'),\n",
       " ('Ethernet1/1', 'up'),\n",
       " ('Ethernet1/2', 'down'),\n",
       " ('Ethernet1/10', 'up'),\n",
       " ('Ethernet1/3', 'up'),\n",
       " ('Ethernet1/20', 'down')]"
      ]
     },
     "execution_count": 28,
     "metadata": {},
     "output_type": "execute_result"
    }
   ],
   "source": [
    "interface_data"
   ]
  },
  {
   "cell_type": "code",
   "execution_count": 30,
   "id": "d974743c-8d50-467c-a04a-5097677f0d01",
   "metadata": {},
   "outputs": [],
   "source": [
    "interface_data.sort()"
   ]
  },
  {
   "cell_type": "code",
   "execution_count": 31,
   "id": "5ad556d2-6ca3-4e04-8197-7729c50b6971",
   "metadata": {},
   "outputs": [
    {
     "data": {
      "text/plain": [
       "[('Ethernet1/1', 'up'),\n",
       " ('Ethernet1/1', 'up'),\n",
       " ('Ethernet1/10', 'up'),\n",
       " ('Ethernet1/10', 'up'),\n",
       " ('Ethernet1/2', 'down'),\n",
       " ('Ethernet1/2', 'down'),\n",
       " ('Ethernet1/20', 'down'),\n",
       " ('Ethernet1/20', 'down'),\n",
       " ('Ethernet1/3', 'up'),\n",
       " ('Ethernet1/3', 'up')]"
      ]
     },
     "execution_count": 31,
     "metadata": {},
     "output_type": "execute_result"
    }
   ],
   "source": [
    "interface_data"
   ]
  },
  {
   "cell_type": "code",
   "execution_count": 32,
   "id": "0c167c57-20cc-44c9-8e42-df31347856d8",
   "metadata": {},
   "outputs": [
    {
     "data": {
      "text/plain": [
       "['Ethernet', '1', '/', '10', '']"
      ]
     },
     "execution_count": 32,
     "metadata": {},
     "output_type": "execute_result"
    }
   ],
   "source": [
    "re.split(r'(\\d+)', 'Ethernet1/10')"
   ]
  },
  {
   "cell_type": "markdown",
   "id": "24fd7f3e-90bb-48d9-9e49-6097ebcc9952",
   "metadata": {},
   "source": [
    "https://regex101.com/"
   ]
  },
  {
   "cell_type": "markdown",
   "id": "7ef501c4-6e4a-4bad-8857-828c969b627e",
   "metadata": {},
   "source": [
    "## new sub chapter"
   ]
  },
  {
   "cell_type": "markdown",
   "id": "139fadbc-48da-4676-91ce-78e4671500b1",
   "metadata": {},
   "source": [
    "Voorbeeld van DocString:\n",
    "```\n",
    "print(f\"blabla)\n",
    "```\n"
   ]
  },
  {
   "cell_type": "code",
   "execution_count": null,
   "id": "c69f8cbb-97bf-47e1-add5-cfcda1232d04",
   "metadata": {},
   "outputs": [],
   "source": []
  }
 ],
 "metadata": {
  "kernelspec": {
   "display_name": "Python 3 (ipykernel)",
   "language": "python",
   "name": "python3"
  },
  "language_info": {
   "codemirror_mode": {
    "name": "ipython",
    "version": 3
   },
   "file_extension": ".py",
   "mimetype": "text/x-python",
   "name": "python",
   "nbconvert_exporter": "python",
   "pygments_lexer": "ipython3",
   "version": "3.11.7"
  }
 },
 "nbformat": 4,
 "nbformat_minor": 5
}
