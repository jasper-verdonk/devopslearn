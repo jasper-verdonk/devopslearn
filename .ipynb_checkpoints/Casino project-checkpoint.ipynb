{
 "cells": [
  {
   "cell_type": "markdown",
   "id": "b8e43e82-b777-46f1-b551-bf04f72e24a9",
   "metadata": {},
   "source": [
    "## Imports"
   ]
  },
  {
   "cell_type": "code",
   "execution_count": 1,
   "id": "09bb75fa-fd3c-4a60-bc26-eeb2e112519d",
   "metadata": {},
   "outputs": [],
   "source": [
    "import random"
   ]
  },
  {
   "cell_type": "markdown",
   "id": "156fbc61-8eeb-4bd7-be76-31d553491e49",
   "metadata": {},
   "source": [
    "## Global variables"
   ]
  },
  {
   "cell_type": "code",
   "execution_count": 2,
   "id": "fc887f06-0b63-43f9-8ac0-f61b9751c72a",
   "metadata": {},
   "outputs": [],
   "source": [
    "suites = ('Diamonds', 'Hearts', 'Spades', 'Clubs')\n",
    "ranks = ('Two', 'Three', 'Four', 'Five', 'Six', 'Seven', 'Eight', 'Nine', 'Ten', 'Jack', 'Queen', 'King', 'Ace')\n",
    "values = {'Two':2, 'Three':3, 'Four':4, 'Five':5, 'Six':6, 'Seven':7, 'Eight':8, 'Nine':9, 'Ten':10, 'Jack':10, 'Queen':10, 'King':10, 'Ace':11}\n"
   ]
  },
  {
   "cell_type": "markdown",
   "id": "0b8da1dc-8c98-4d4b-bef6-b72eab97069d",
   "metadata": {},
   "source": [
    "## Logic to create standard playing cards"
   ]
  },
  {
   "cell_type": "code",
   "execution_count": 3,
   "id": "5d863307-6157-474b-8388-8650fcb2309b",
   "metadata": {},
   "outputs": [],
   "source": [
    "class Card:\n",
    "\n",
    "    def __init__(self, suit, rank):\n",
    "        self.suit = suit\n",
    "        self.rank = rank\n",
    "\n",
    "    def __str__(self):\n",
    "        return self.rank + ' of ' + self.suit\n",
    "        "
   ]
  },
  {
   "cell_type": "code",
   "execution_count": 13,
   "id": "b58f294f-66dc-4e3d-bc6a-b838b66f5512",
   "metadata": {},
   "outputs": [
    {
     "name": "stdout",
     "output_type": "stream",
     "text": [
      "Three of Clubs\n"
     ]
    }
   ],
   "source": [
    "three_clubs = Card('Clubs', 'Three')\n",
    "print(Card('Clubs', 'Three'))"
   ]
  },
  {
   "cell_type": "code",
   "execution_count": 8,
   "id": "98796bf4-3228-4189-9193-3a04cd34561a",
   "metadata": {},
   "outputs": [
    {
     "data": {
      "text/plain": [
       "'Clubs'"
      ]
     },
     "execution_count": 8,
     "metadata": {},
     "output_type": "execute_result"
    }
   ],
   "source": [
    "three_clubs.rank\n",
    "three_clubs.suit"
   ]
  },
  {
   "cell_type": "code",
   "execution_count": 9,
   "id": "fac43cac-f654-4cdf-a209-8bb02bdf89e9",
   "metadata": {},
   "outputs": [
    {
     "data": {
      "text/plain": [
       "'Clubs'"
      ]
     },
     "execution_count": 9,
     "metadata": {},
     "output_type": "execute_result"
    }
   ],
   "source": [
    "three_clubs.suit"
   ]
  },
  {
   "cell_type": "code",
   "execution_count": 10,
   "id": "9d7d76ed-314b-4b11-84d8-4b854b889353",
   "metadata": {},
   "outputs": [
    {
     "data": {
      "text/plain": [
       "'Three'"
      ]
     },
     "execution_count": 10,
     "metadata": {},
     "output_type": "execute_result"
    }
   ],
   "source": [
    "three_clubs.rank"
   ]
  },
  {
   "cell_type": "code",
   "execution_count": 14,
   "id": "5fc94b7c-9c4e-40e9-a9be-346b067d2655",
   "metadata": {},
   "outputs": [
    {
     "data": {
      "text/plain": [
       "'Three of Clubs'"
      ]
     },
     "execution_count": 14,
     "metadata": {},
     "output_type": "execute_result"
    }
   ],
   "source": [
    "three_clubs.__str__()"
   ]
  },
  {
   "cell_type": "code",
   "execution_count": 19,
   "id": "7950f897-b362-4921-a1c7-9842e644bc46",
   "metadata": {},
   "outputs": [],
   "source": [
    "class Deck:\n",
    "\n",
    "    def __init__(self):\n",
    "        self.deck = []\n",
    "        for suit in suites:\n",
    "            for rank in ranks:\n",
    "                self.deck.append(Card(suit, rank))\n",
    "\n",
    "    def __str__(self):\n",
    "        deck_check = ''\n",
    "        for card in self.deck:\n",
    "            deck_check += '\\n ' + card.__str__()\n",
    "        return 'The deck you are using has: ' + deck_check\n",
    "\n",
    "    def shuffle(self):\n",
    "        random.shuffle(self.deck)\n",
    "\n",
    "    def deal(self):\n",
    "        single_card = self.deck.pop()\n",
    "        return single_card"
   ]
  },
  {
   "cell_type": "code",
   "execution_count": 20,
   "id": "a7d53754-988b-4796-8070-6f415e887531",
   "metadata": {},
   "outputs": [],
   "source": [
    "test_deck = Deck()"
   ]
  },
  {
   "cell_type": "code",
   "execution_count": 15,
   "id": "55675053-ec2d-4e44-99e6-bcf6c4303f06",
   "metadata": {},
   "outputs": [
    {
     "name": "stdout",
     "output_type": "stream",
     "text": [
      "The deck you are using has: \n",
      " Two of Diamonds\n",
      " Three of Diamonds\n",
      " Four of Diamonds\n",
      " Five of Diamonds\n",
      " Six of Diamonds\n",
      " Seven of Diamonds\n",
      " Eight of Diamonds\n",
      " Nine of Diamonds\n",
      " Ten of Diamonds\n",
      " Jack of Diamonds\n",
      " Queen of Diamonds\n",
      " King of Diamonds\n",
      " Ace of Diamonds\n",
      " Two of Hearts\n",
      " Three of Hearts\n",
      " Four of Hearts\n",
      " Five of Hearts\n",
      " Six of Hearts\n",
      " Seven of Hearts\n",
      " Eight of Hearts\n",
      " Nine of Hearts\n",
      " Ten of Hearts\n",
      " Jack of Hearts\n",
      " Queen of Hearts\n",
      " King of Hearts\n",
      " Ace of Hearts\n",
      " Two of Spades\n",
      " Three of Spades\n",
      " Four of Spades\n",
      " Five of Spades\n",
      " Six of Spades\n",
      " Seven of Spades\n",
      " Eight of Spades\n",
      " Nine of Spades\n",
      " Ten of Spades\n",
      " Jack of Spades\n",
      " Queen of Spades\n",
      " King of Spades\n",
      " Ace of Spades\n",
      " Two of Clubs\n",
      " Three of Clubs\n",
      " Four of Clubs\n",
      " Five of Clubs\n",
      " Six of Clubs\n",
      " Seven of Clubs\n",
      " Eight of Clubs\n",
      " Nine of Clubs\n",
      " Ten of Clubs\n",
      " Jack of Clubs\n",
      " Queen of Clubs\n",
      " King of Clubs\n",
      " Ace of Clubs\n"
     ]
    }
   ],
   "source": [
    "print(test_deck)"
   ]
  },
  {
   "cell_type": "code",
   "execution_count": 21,
   "id": "92d00532-ecd0-4bd8-91b9-57a8be22ade2",
   "metadata": {},
   "outputs": [],
   "source": [
    "test_deck.shuffle()"
   ]
  },
  {
   "cell_type": "code",
   "execution_count": 22,
   "id": "986b354c-aa15-4b5a-ab86-ad9ca557d629",
   "metadata": {},
   "outputs": [
    {
     "name": "stdout",
     "output_type": "stream",
     "text": [
      "The deck you are using has: \n",
      " Six of Hearts\n",
      " Queen of Clubs\n",
      " Five of Clubs\n",
      " King of Diamonds\n",
      " Ace of Spades\n",
      " Nine of Diamonds\n",
      " Four of Diamonds\n",
      " Jack of Hearts\n",
      " King of Clubs\n",
      " Four of Spades\n",
      " Ace of Clubs\n",
      " Three of Diamonds\n",
      " Five of Diamonds\n",
      " Eight of Spades\n",
      " Seven of Spades\n",
      " Three of Hearts\n",
      " Four of Clubs\n",
      " Seven of Hearts\n",
      " Ten of Clubs\n",
      " King of Spades\n",
      " Eight of Diamonds\n",
      " Ace of Hearts\n",
      " Ten of Hearts\n",
      " Five of Spades\n",
      " Jack of Spades\n",
      " Ace of Diamonds\n",
      " Queen of Diamonds\n",
      " Two of Diamonds\n",
      " Two of Hearts\n",
      " Three of Spades\n",
      " Nine of Hearts\n",
      " Ten of Spades\n",
      " Six of Clubs\n",
      " Eight of Hearts\n",
      " Ten of Diamonds\n",
      " Eight of Clubs\n",
      " Jack of Clubs\n",
      " Three of Clubs\n",
      " King of Hearts\n",
      " Seven of Diamonds\n",
      " Two of Clubs\n",
      " Seven of Clubs\n",
      " Nine of Spades\n",
      " Queen of Spades\n",
      " Six of Spades\n",
      " Five of Hearts\n",
      " Two of Spades\n",
      " Nine of Clubs\n",
      " Four of Hearts\n",
      " Jack of Diamonds\n",
      " Queen of Hearts\n",
      " Six of Diamonds\n"
     ]
    }
   ],
   "source": [
    "print(test_deck)"
   ]
  },
  {
   "cell_type": "code",
   "execution_count": 25,
   "id": "bd26e14f-1689-4958-801a-cf073f51aa94",
   "metadata": {},
   "outputs": [
    {
     "data": {
      "text/plain": [
       "<__main__.Card at 0x2235b340490>"
      ]
     },
     "execution_count": 25,
     "metadata": {},
     "output_type": "execute_result"
    }
   ],
   "source": [
    "test_deck.deal()"
   ]
  },
  {
   "cell_type": "code",
   "execution_count": 26,
   "id": "e11b1468-6c56-44be-82b4-2217461006d5",
   "metadata": {},
   "outputs": [
    {
     "data": {
      "text/plain": [
       "<bound method Deck.deal of <__main__.Deck object at 0x000002235B325690>>"
      ]
     },
     "execution_count": 26,
     "metadata": {},
     "output_type": "execute_result"
    }
   ],
   "source": [
    "test_deck.deal"
   ]
  },
  {
   "cell_type": "code",
   "execution_count": 27,
   "id": "953dee40-bd62-4e7e-8c1c-535f1bb69eb7",
   "metadata": {},
   "outputs": [
    {
     "name": "stdout",
     "output_type": "stream",
     "text": [
      "King of Clubs\n"
     ]
    }
   ],
   "source": [
    "print(test_deck.deal())"
   ]
  },
  {
   "cell_type": "code",
   "execution_count": 28,
   "id": "d3182e7c-3a75-42d3-a35e-8a77b1d229d9",
   "metadata": {},
   "outputs": [],
   "source": [
    "class Hand:\n",
    "\n",
    "    def __init__(self):\n",
    "        self.cards = []\n",
    "        self.value = 0\n",
    "        self.aces = 0\n",
    "\n",
    "    def add_card(self, card):\n",
    "        self.cards.append(card)\n",
    "        self.value += values[card.rank]\n",
    "        if card.rank == 'Ace':\n",
    "            self.aces += 1\n",
    "\n",
    "    def adjust_for_ace(self):\n",
    "        while self.value > 21 and self.aces:\n",
    "            self.value -= 10\n",
    "            self.aces -= 1\n",
    "        "
   ]
  },
  {
   "cell_type": "code",
   "execution_count": 25,
   "id": "a3daaea4-4bb6-4f21-bb2f-0bb9de0a6f36",
   "metadata": {},
   "outputs": [
    {
     "data": {
      "text/plain": [
       "<__main__.Card at 0x142883a2910>"
      ]
     },
     "execution_count": 25,
     "metadata": {},
     "output_type": "execute_result"
    }
   ],
   "source": [
    "three_clubs"
   ]
  },
  {
   "cell_type": "code",
   "execution_count": 26,
   "id": "1371e769-6682-4dc0-b380-f16440586ccc",
   "metadata": {},
   "outputs": [
    {
     "name": "stdout",
     "output_type": "stream",
     "text": [
      "Three of Clubs\n"
     ]
    }
   ],
   "source": [
    "print(three_clubs)"
   ]
  },
  {
   "cell_type": "code",
   "execution_count": 27,
   "id": "e6186ddb-7e08-4645-9d5d-e88ecd6adce6",
   "metadata": {},
   "outputs": [
    {
     "data": {
      "text/plain": [
       "'Three'"
      ]
     },
     "execution_count": 27,
     "metadata": {},
     "output_type": "execute_result"
    }
   ],
   "source": [
    "three_clubs.rank"
   ]
  },
  {
   "cell_type": "code",
   "execution_count": 31,
   "id": "c3570044-9ef6-47b0-90c2-0f70cf5edee6",
   "metadata": {},
   "outputs": [
    {
     "name": "stdout",
     "output_type": "stream",
     "text": [
      "The deck you are using has: \n",
      " Seven of Clubs\n",
      " King of Diamonds\n",
      " Three of Diamonds\n",
      " Seven of Hearts\n",
      " Ace of Hearts\n",
      " Ten of Hearts\n",
      " Three of Clubs\n",
      " Four of Hearts\n",
      " Nine of Spades\n",
      " Five of Diamonds\n",
      " Queen of Diamonds\n",
      " Nine of Hearts\n",
      " Jack of Spades\n",
      " Nine of Diamonds\n",
      " Six of Diamonds\n",
      " Ten of Clubs\n",
      " Four of Clubs\n",
      " Four of Spades\n",
      " Two of Diamonds\n",
      " Six of Hearts\n",
      " Five of Spades\n",
      " Five of Clubs\n",
      " Five of Hearts\n",
      " Seven of Diamonds\n",
      " Two of Hearts\n",
      " Seven of Spades\n",
      " Two of Clubs\n",
      " Eight of Hearts\n",
      " Three of Hearts\n",
      " Eight of Diamonds\n",
      " Ten of Spades\n",
      " Jack of Hearts\n",
      " Ace of Diamonds\n",
      " King of Spades\n",
      " Ten of Diamonds\n",
      " Jack of Clubs\n",
      " Ace of Clubs\n",
      " Queen of Hearts\n",
      " King of Clubs\n",
      " Queen of Spades\n",
      " Queen of Clubs\n",
      " Nine of Clubs\n",
      " Six of Clubs\n",
      " Ace of Spades\n",
      " Jack of Diamonds\n",
      " Eight of Spades\n",
      " King of Hearts\n",
      " Four of Diamonds\n",
      " Eight of Clubs\n",
      " Six of Spades\n",
      " Three of Spades\n",
      " Two of Spades\n"
     ]
    },
    {
     "data": {
      "text/plain": [
       "5"
      ]
     },
     "execution_count": 31,
     "metadata": {},
     "output_type": "execute_result"
    }
   ],
   "source": [
    "test_deck = Deck()\n",
    "test_deck.shuffle()\n",
    "print(test_deck)\n",
    "test_player = Hand()\n",
    "test_player.add_card(test_deck.deal())\n",
    "test_player.add_card(test_deck.deal())\n",
    "test_player.value"
   ]
  },
  {
   "cell_type": "code",
   "execution_count": 32,
   "id": "a957b142-659a-477b-8ca9-2d4d21c7ab9b",
   "metadata": {},
   "outputs": [],
   "source": [
    "test_player = Hand()"
   ]
  },
  {
   "cell_type": "code",
   "execution_count": 34,
   "id": "631e09e8-374e-4b18-b806-d240f85e9145",
   "metadata": {},
   "outputs": [
    {
     "name": "stdout",
     "output_type": "stream",
     "text": [
      "Six of Spades\n",
      "Eight of Clubs\n"
     ]
    }
   ],
   "source": [
    "for card in test_player.cards:\n",
    "    print(card)"
   ]
  },
  {
   "cell_type": "code",
   "execution_count": 33,
   "id": "2ea6a4a1-0097-4e62-ad77-741fbca73e41",
   "metadata": {},
   "outputs": [
    {
     "data": {
      "text/plain": [
       "14"
      ]
     },
     "execution_count": 33,
     "metadata": {},
     "output_type": "execute_result"
    }
   ],
   "source": [
    "test_player.add_card(test_deck.deal())\n",
    "test_player.add_card(test_deck.deal())\n",
    "test_player.value"
   ]
  },
  {
   "cell_type": "markdown",
   "id": "5ccc795e-6d9c-4a25-81c9-b9b980060cc9",
   "metadata": {},
   "source": [
    "# Chip Account and Beting"
   ]
  },
  {
   "cell_type": "code",
   "execution_count": 35,
   "id": "4accac62-08e5-43f3-a777-1a0b3de7c82e",
   "metadata": {},
   "outputs": [],
   "source": [
    "class ChipAccount:\n",
    "\n",
    "    def __init__(self):\n",
    "        self.total = 100\n",
    "        self.bet = 0\n",
    "\n",
    "    def win_bet(self):\n",
    "        self.total += self.bet\n",
    "\n",
    "    def lose_bet(self):\n",
    "        self.total -= self.bet\n",
    "\n"
   ]
  },
  {
   "cell_type": "code",
   "execution_count": 36,
   "id": "d2fbca48-d42d-4aad-86e6-9e365bfdbe53",
   "metadata": {},
   "outputs": [],
   "source": [
    "player_chips = ChipAccount()"
   ]
  },
  {
   "cell_type": "code",
   "execution_count": 38,
   "id": "b13e2e5a-d218-4e1c-9574-162402b7568c",
   "metadata": {},
   "outputs": [
    {
     "data": {
      "text/plain": [
       "0"
      ]
     },
     "execution_count": 38,
     "metadata": {},
     "output_type": "execute_result"
    }
   ],
   "source": [
    "player_chips.total\n",
    "player_chips.bet"
   ]
  },
  {
   "cell_type": "code",
   "execution_count": 39,
   "id": "70369a43-b1bb-4a87-b68e-d20dfe380ea1",
   "metadata": {},
   "outputs": [],
   "source": [
    "def take_bet(chips):\n",
    "\n",
    "    while True:\n",
    "        try:\n",
    "            chips.bet = int(input(\"Place your bet! How many chips?\"))\n",
    "\n",
    "        except ValueError:\n",
    "            print(\"You must enter an integer!\")\n",
    "\n",
    "        else:\n",
    "            if chips.bet > chips.total:\n",
    "                print(\"You don't have enough chips. You only have\", chips.total)\n",
    "            else:\n",
    "                break"
   ]
  },
  {
   "cell_type": "code",
   "execution_count": 40,
   "id": "0449b79b-2f95-4123-b2a4-f7ff8848725f",
   "metadata": {},
   "outputs": [
    {
     "name": "stdin",
     "output_type": "stream",
     "text": [
      "Place your bet! How many chips? five\n"
     ]
    },
    {
     "name": "stdout",
     "output_type": "stream",
     "text": [
      "You must enter an integer!\n"
     ]
    },
    {
     "name": "stdin",
     "output_type": "stream",
     "text": [
      "Place your bet! How many chips? 120\n"
     ]
    },
    {
     "name": "stdout",
     "output_type": "stream",
     "text": [
      "You don't have enough chips. You only have 100\n"
     ]
    },
    {
     "name": "stdin",
     "output_type": "stream",
     "text": [
      "Place your bet! How many chips? 30\n"
     ]
    }
   ],
   "source": [
    "take_bet(player_chips)"
   ]
  },
  {
   "cell_type": "code",
   "execution_count": 41,
   "id": "72ec386c-2c23-4618-b25c-9099769ee3c9",
   "metadata": {},
   "outputs": [
    {
     "data": {
      "text/plain": [
       "30"
      ]
     },
     "execution_count": 41,
     "metadata": {},
     "output_type": "execute_result"
    }
   ],
   "source": [
    "player_chips.bet"
   ]
  },
  {
   "cell_type": "markdown",
   "id": "756fe4a4-6a71-4db6-9c4e-ce10e4cad06c",
   "metadata": {},
   "source": [
    "# Implement the 'hit'or 'stand' logic"
   ]
  },
  {
   "cell_type": "code",
   "execution_count": 42,
   "id": "81ea9503-3e58-40ec-ab87-62ce1b61f776",
   "metadata": {},
   "outputs": [],
   "source": [
    "def hit(deck, hand):\n",
    "\n",
    "    hand.add_card(deck.deal())\n",
    "    hand.adjust_for_ace()"
   ]
  },
  {
   "cell_type": "code",
   "execution_count": 43,
   "id": "1f1b3ac3-b57e-4ebc-874f-9a3772be1639",
   "metadata": {},
   "outputs": [],
   "source": [
    "def hit_or_stand(deck, hand):\n",
    "    \n",
    "    global playing\n",
    "\n",
    "    while True:\n",
    "        x = input(\"Would you like to hit or stand? Enter 'h' or 's': \")\n",
    "\n",
    "        if x[0].lower() == 'h':\n",
    "            hit(deck, hand)\n",
    "            \n",
    "        elif x[0].lower() == 's':\n",
    "            print(\"Player stands. Dealer is playing.\")\n",
    "            playing = False\n",
    "\n",
    "        else:\n",
    "            print(\"Sorry, please try again.\")\n",
    "            continue\n",
    "\n",
    "        break\n",
    "    "
   ]
  },
  {
   "cell_type": "markdown",
   "id": "3ec20a41-208c-48da-965a-0a97c166636d",
   "metadata": {},
   "source": [
    "# Showing the cards logic"
   ]
  },
  {
   "cell_type": "code",
   "execution_count": null,
   "id": "0b938dbe-8474-4579-9ee3-e3af2842133b",
   "metadata": {},
   "outputs": [],
   "source": [
    "def show_partial_cards(player, dealer):\n",
    "    print(\"\\nDealer's hand:\")\n",
    "    print(\" *** \")\n",
    "    print('', dealer.cards[1])\n",
    "    print(\"\\nPlayer's hand:\", *player.cards, sep= '\\n ')"
   ]
  },
  {
   "cell_type": "code",
   "execution_count": 44,
   "id": "ced6a22d-2af2-418d-99d5-236f8e7d3f04",
   "metadata": {},
   "outputs": [],
   "source": [
    "def show_all_cards(player, dealer):\n",
    "    print(\"\\nDealer's hand:\", *dealer.cards, sep= '\\n ')\n",
    "    print(\"Dealer's hand =\", dealer.value)\n",
    "    print(\"\\nPlayer's hand:\", *player.cards, sep= '\\n ')\n",
    "    print(\"Player's hand =\", player.value)"
   ]
  },
  {
   "cell_type": "markdown",
   "id": "bc206e7e-de32-49b3-9ec5-6f6ad7acdff7",
   "metadata": {},
   "source": [
    "# Implement logic for game outcomes"
   ]
  },
  {
   "cell_type": "code",
   "execution_count": null,
   "id": "1c09dec0-e43f-4369-8f51-a4e336b3bed0",
   "metadata": {},
   "outputs": [],
   "source": [
    "def player_busts(player, dealer, chips):\n",
    "    print(\"Player busts!\")\n",
    "    chips.lose_bet()\n",
    "def player_wins(player, dealer, chips):\n",
    "    print(\"Player wins!\")\n",
    "    chips.win_bet()\n",
    "def dealer_busts(player, dealer, chips):\n",
    "    print(\"Dealer busts!\")\n",
    "    chips.lose_bet()\n",
    "def dealer_wins(player, dealer, chips):\n",
    "    print(\"Dealer wins!\")\n",
    "    chips.win_bet()\n",
    "def tie(player, dealer):\n",
    "    print(\"Dealer and Player tie!\")"
   ]
  }
 ],
 "metadata": {
  "kernelspec": {
   "display_name": "Python 3 (ipykernel)",
   "language": "python",
   "name": "python3"
  },
  "language_info": {
   "codemirror_mode": {
    "name": "ipython",
    "version": 3
   },
   "file_extension": ".py",
   "mimetype": "text/x-python",
   "name": "python",
   "nbconvert_exporter": "python",
   "pygments_lexer": "ipython3",
   "version": "3.11.7"
  }
 },
 "nbformat": 4,
 "nbformat_minor": 5
}
