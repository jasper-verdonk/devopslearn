{
 "cells": [
  {
   "cell_type": "markdown",
   "id": "c5655713-db93-4122-a3bd-0e6b6c757e8d",
   "metadata": {},
   "source": [
    "# 1) create a data structure that can store naughts and crosses. This must have ordered sequence for easy accessibility. \n"
   ]
  },
  {
   "cell_type": "code",
   "execution_count": 1,
   "id": "79b5ef1a-3d3e-4239-bdd6-7751891ca4e4",
   "metadata": {},
   "outputs": [],
   "source": [
    "# ordered and mutable. \n",
    "def create_empty_board():\n",
    "    board = [' ', \n",
    "             ' ', ' ', ' ', \n",
    "             ' ', ' ', ' ',\n",
    "             ' ', ' ', ' ']\n",
    "    return board\n",
    "\n",
    "             "
   ]
  },
  {
   "cell_type": "code",
   "execution_count": 2,
   "id": "d8d9c88c-7f86-4999-9cf8-12f37419f590",
   "metadata": {},
   "outputs": [],
   "source": [
    "import random\n",
    "from IPython.display import clear_output"
   ]
  },
  {
   "cell_type": "code",
   "execution_count": null,
   "id": "a3c37110-c814-4ff5-8344-9c76a6174c1d",
   "metadata": {},
   "outputs": [],
   "source": []
  },
  {
   "cell_type": "markdown",
   "id": "5c49ae09-f336-4dc3-a2e2-e17dfeaf27e5",
   "metadata": {},
   "source": [
    "# 2) Write a function that can display the board. Access the elements from step 1 to display the board and corresponding markers"
   ]
  },
  {
   "cell_type": "code",
   "execution_count": 3,
   "id": "0442598f-88f8-4813-98d9-5d9047abc7b7",
   "metadata": {},
   "outputs": [],
   "source": [
    "def display_board(board):\n",
    "    print('   |   |')\n",
    "    print(' ' + board[1] + ' | ' + board[2] + ' | ' + board[3])\n",
    "    print('   |   |')\n",
    "    print('--------------')\n",
    "    print('   |   |')\n",
    "    print(' ' + board[4] + ' | ' + board[5] + ' | ' + board[6])\n",
    "    print('   |   |')\n",
    "    print('--------------')\n",
    "    print('   |   |')\n",
    "    print(' ' + board[7] + ' | ' + board[8] + ' | ' + board[9])\n",
    "    print('   |   |')\n",
    "    \n",
    "    \n",
    "\n",
    "        \n",
    "    "
   ]
  },
  {
   "cell_type": "markdown",
   "id": "13819be9-bdc8-4e77-9c35-ada073ccc272",
   "metadata": {},
   "source": [
    "# 3) Write a function that allows a player to pick either 'X'or 'O' and a placment position. No any other input is allowed! "
   ]
  },
  {
   "cell_type": "code",
   "execution_count": 4,
   "id": "29444d89-972a-4353-8bd1-bbcac483b774",
   "metadata": {},
   "outputs": [],
   "source": [
    "def player_markers():\n",
    "    marker = ''\n",
    "\n",
    "    while not (marker == 'X' or marker == 'O'):\n",
    "        # not (y or x) = (not y) and (not x). If marker is X then (not (true) and not (false)) = false. Hence while loop stops. Some logic when marker = O. \n",
    "        marker = input(\"Player 1: Do you want to be 'X' or 'O'? \").upper()\n",
    "\n",
    "    if marker == 'X':\n",
    "        return ('X', 'O')\n",
    "    else:        \n",
    "        return ('O', 'X')\n",
    "        "
   ]
  },
  {
   "cell_type": "markdown",
   "id": "04492075-4003-482f-a9a9-c4e9dee91a24",
   "metadata": {},
   "source": [
    "# 4) Write a function that takes in the board, a marker 'X'or 'O\", and a placement position. The function should assign the markers to the position on the board."
   ]
  },
  {
   "cell_type": "code",
   "execution_count": 5,
   "id": "56e36f96-9337-4e13-8326-bfc6c49e5e2a",
   "metadata": {},
   "outputs": [],
   "source": [
    "def place_marker(board, marker, position):\n",
    "    board[position] = marker\n",
    "    \n",
    "    "
   ]
  },
  {
   "cell_type": "markdown",
   "id": "c772f00d-dec2-48b1-8910-195d2ad0d946",
   "metadata": {},
   "source": [
    "# 5) Write a function that takes in the board and checks if someone has won! "
   ]
  },
  {
   "cell_type": "code",
   "execution_count": 6,
   "id": "159f9ea6-63a3-4a8c-ae3b-c034617d1408",
   "metadata": {},
   "outputs": [],
   "source": [
    "def check_winner(board, mark):\n",
    "    \n",
    "    return  (\n",
    "            (board[2] == mark and board[5] == mark and board[8] == mark) or\n",
    "            (board[1] == mark and board[4] == mark and board[7] == mark) or \n",
    "            (board[1] == mark and board[2] == mark and board[3] == mark) or\n",
    "            (board[4] == mark and board[5] == mark and board[6] == mark) or \n",
    "            (board[7] == mark and board[8] == mark and board[9] == mark) or\n",
    "            (board[3] == mark and board[5] == mark and board[7] == mark) or\n",
    "            (board[1] == mark and board[4] == mark and board[7] == mark) or\n",
    "            (board[2] == mark and board[5] == mark and board[8] == mark) or\n",
    "            (board[3] == mark and board[6] == mark and board[9] == mark)\n",
    "            )"
   ]
  },
  {
   "cell_type": "markdown",
   "id": "9dffd70d-4b9a-45b6-924b-73a7b5c460fd",
   "metadata": {},
   "source": [
    "# 6) Write a function that returns either 'Player 1'or 'Player 2' as a string. Use the random module to randomly decide which player goes first. Use random.randint(). "
   ]
  },
  {
   "cell_type": "code",
   "execution_count": 7,
   "id": "6db5971d-2cfb-4971-adbf-83d08a20b4ce",
   "metadata": {},
   "outputs": [],
   "source": [
    "def player_order():\n",
    "    if random.randint(0, 1) == 0:\n",
    "        return 'Player 1'\n",
    "    else:\n",
    "        return 'Player 2'"
   ]
  },
  {
   "cell_type": "markdown",
   "id": "e0b4eb8d-4f7b-4246-b394-19bf65f93b7a",
   "metadata": {},
   "source": [
    "# 7) Write a function that asks whether the players are ready. "
   ]
  },
  {
   "cell_type": "code",
   "execution_count": 8,
   "id": "6c79ce6f-bb41-4aaa-95b1-622c77e4cfc4",
   "metadata": {},
   "outputs": [],
   "source": [
    "def are_players_ready():\n",
    "    while True:\n",
    "        play_game = input(\"Are you ready to play? Enter 'yes' or 'no': \").strip().lower()\n",
    "        \n",
    "        if play_game.startswith('yes'):\n",
    "            return True\n",
    "        elif play_game.startswith('no'):\n",
    "            return False\n",
    "        else:\n",
    "            print(\"Please type 'yes' or 'no'.\")\n",
    "\n",
    "#✅.strip() → removes any spaces before/after the input.\n",
    "#✅ .lower() → makes the input lowercase so we can match it easily.\n",
    "#✅ .startswith('yes') or 'no' → more flexible: it accepts \"yes!\", \"yes please\", \"no thanks\", etc."
   ]
  },
  {
   "cell_type": "markdown",
   "id": "86c337cb-6a42-4c35-aed6-4ae6a2df4123",
   "metadata": {},
   "source": [
    "# 8 ) Write a function that returns a boolean indicating whether a space on the board is freely available. "
   ]
  },
  {
   "cell_type": "code",
   "execution_count": 9,
   "id": "f34d1327-b986-4a25-91a4-0b906a0083d7",
   "metadata": {},
   "outputs": [],
   "source": [
    "def space_check(board, position):\n",
    "\n",
    "    if board[position] == ' ':\n",
    "        return True\n",
    "    else:\n",
    "        return False  # position is already taken\n",
    "# more efficient: return board[postion] == ' '\n",
    "# by definition of the board ' ' (with a space is defined as an empty position). "
   ]
  },
  {
   "cell_type": "markdown",
   "id": "683928f3-ffe7-454a-b9d9-e6c1cfc85e7f",
   "metadata": {},
   "source": [
    "# 9) Write a function that checks if the board is full \n"
   ]
  },
  {
   "cell_type": "code",
   "execution_count": 10,
   "id": "27a9fd40-84ef-46b9-a745-d0e912814ecc",
   "metadata": {},
   "outputs": [],
   "source": [
    "def full_check(board):\n",
    "\n",
    "    return (board[1] != ' ' and board[2] != ' ' and board[3] != ' ' and board[4] != ' ' and board[5] != ' ' and board[6] != ' ' and board[7] != ' ' and board[8] != ' ' and board[9] != ' ' )\n",
    "\n",
    "#       for i in range(1, 10): (10 is not counted in the range). \n",
    "#           if space_check(board, i):\n",
    "#                return False           \n",
    "#       return True\n",
    "        "
   ]
  },
  {
   "cell_type": "code",
   "execution_count": 11,
   "id": "fdedbc99-dbdc-46f5-8e53-b62b87a32d60",
   "metadata": {},
   "outputs": [],
   "source": [
    "def ask_player_position(board):\n",
    "    #player_position = int(input(\"Please provide the position of your next play. Position 1 to 9\"))\n",
    "    #if space_check(board, player_position):\n",
    "    #    return player_position\n",
    "    #else:\n",
    "    #   return 'Postion is already taken. Please try again'\n",
    "\n",
    "    # alternative\n",
    "    position = 0\n",
    "    \n",
    "    while position not in [1, 2, 3, 4, 5, 6, 7, 8, 9] or not space_check(board, position):   # last test is 'already taken'\n",
    "        position = int(input(\"Choose your next position: (1-9)\"))\n",
    "        \n",
    "    return position"
   ]
  },
  {
   "cell_type": "markdown",
   "id": "7c1000eb-31ed-4187-ace2-593915c8d065",
   "metadata": {},
   "source": [
    "# 10) Write a function that asks for a player's next position (this should be an integer). You should check to see if this position is already taken. If the space isn't occupied, return the position. "
   ]
  },
  {
   "cell_type": "markdown",
   "id": "950bee8e-fddc-4f73-a141-40d941afb510",
   "metadata": {},
   "source": [
    "# 11) Write a function that operates the game. Incoporate a while loop that takes each players turn and places a marker on the board. "
   ]
  },
  {
   "cell_type": "code",
   "execution_count": 12,
   "id": "e063d9c9-6eea-46f7-9b6a-72b9b008ff53",
   "metadata": {},
   "outputs": [],
   "source": [
    "def game_controler(game_on, turn, board, p1_marker, p2_marker):\n",
    "    while game_on:\n",
    "        if turn == 'Player 1':\n",
    "            clear_output()\n",
    "            display_board(board)\n",
    "            position = ask_player_position(board)\n",
    "            place_marker(board, p1_marker, position)\n",
    "            \n",
    "            if check_winner(board, p1_marker):\n",
    "                clear_output()\n",
    "                display_board(board)\n",
    "                print('Player 1 has won the game!')\n",
    "                game_on = False\n",
    "            else:\n",
    "                if full_check(board):\n",
    "                    clear_output()\n",
    "                    display_board(board)\n",
    "                    print('The game is a draw!')\n",
    "                    break\n",
    "                else:\n",
    "                    turn = 'Player 2'\n",
    "        else:\n",
    "            clear_output()\n",
    "            display_board(board)\n",
    "            position = ask_player_position(board)\n",
    "            place_marker(board, p2_marker, position)\n",
    "\n",
    "            if check_winner(board, p2_marker):\n",
    "                clear_output()\n",
    "                display_board(board)\n",
    "                print('Player 2 has won the game!')\n",
    "                game_on = False\n",
    "            else:\n",
    "                if full_check(board):\n",
    "                    clear_output()\n",
    "                    display_board(board)\n",
    "                    print('The game is a draw!')\n",
    "                    break\n",
    "                else:\n",
    "                    turn = 'Player 1'\n",
    "\n",
    "            \n",
    "                \n",
    "                "
   ]
  },
  {
   "cell_type": "markdown",
   "id": "b256a98e-1b25-4d14-9008-5ed832fa3c74",
   "metadata": {},
   "source": [
    "# 12) Write a function that asks the player if they want to play again. "
   ]
  },
  {
   "cell_type": "code",
   "execution_count": 13,
   "id": "92a88286-38cb-4b02-a59b-4755a951388f",
   "metadata": {},
   "outputs": [],
   "source": [
    "def play_again():\n",
    "    replay = input(\"Play again? (Y/N) \").lower()\n",
    "    if replay == 'y':\n",
    "        return True\n",
    "    else:\n",
    "        return False\n",
    "# def play_again():\n",
    "# \n",
    "# return input('Do you want to play again? Enter Yes or No: ').lower().startswith('y') \n",
    "#\n",
    "    "
   ]
  },
  {
   "cell_type": "markdown",
   "id": "9d2d7338-bfae-4132-aefd-3f33d87849c6",
   "metadata": {},
   "source": [
    "# 13) Use a while loop and the functions you've made to get the game fully operational. "
   ]
  },
  {
   "cell_type": "code",
   "execution_count": 14,
   "id": "097f6298-9485-499a-a5e9-8dc476750927",
   "metadata": {
    "scrolled": true
   },
   "outputs": [
    {
     "name": "stdout",
     "output_type": "stream",
     "text": [
      "   |   |\n",
      " X | O | O\n",
      "   |   |\n",
      "--------------\n",
      "   |   |\n",
      " O | X | X\n",
      "   |   |\n",
      "--------------\n",
      "   |   |\n",
      " O | X | O\n",
      "   |   |\n",
      "The game is a draw!\n"
     ]
    },
    {
     "name": "stdin",
     "output_type": "stream",
     "text": [
      "Play again? (Y/N)  n\n"
     ]
    },
    {
     "name": "stdout",
     "output_type": "stream",
     "text": [
      "Hope to see you soon!\n"
     ]
    }
   ],
   "source": [
    "print('Welcome to Noughts and Crosses!')\n",
    "\n",
    "while True:\n",
    "    board = create_empty_board() \n",
    "\n",
    "    p1_marker, p2_marker = player_markers()\n",
    "    turn = player_order()\n",
    "    print(turn + ' will go first!')\n",
    "    game_on = are_players_ready()\n",
    "\n",
    "    game_controler(game_on, turn, board, p1_marker, p2_marker)\n",
    "\n",
    "    if not play_again():\n",
    "        print('Hope to see you soon!')\n",
    "        break"
   ]
  },
  {
   "cell_type": "code",
   "execution_count": null,
   "id": "9b00cbb8-8625-4440-a27d-7baed5a645de",
   "metadata": {},
   "outputs": [],
   "source": []
  },
  {
   "cell_type": "code",
   "execution_count": null,
   "id": "3d959d55-0a58-4bb2-9fdd-6651d61ae242",
   "metadata": {},
   "outputs": [],
   "source": []
  },
  {
   "cell_type": "code",
   "execution_count": null,
   "id": "f8c9aa0c-04f3-4b59-8bb4-beb7730ad7e5",
   "metadata": {},
   "outputs": [],
   "source": []
  }
 ],
 "metadata": {
  "kernelspec": {
   "display_name": "Python 3 (ipykernel)",
   "language": "python",
   "name": "python3"
  },
  "language_info": {
   "codemirror_mode": {
    "name": "ipython",
    "version": 3
   },
   "file_extension": ".py",
   "mimetype": "text/x-python",
   "name": "python",
   "nbconvert_exporter": "python",
   "pygments_lexer": "ipython3",
   "version": "3.11.7"
  }
 },
 "nbformat": 4,
 "nbformat_minor": 5
}
