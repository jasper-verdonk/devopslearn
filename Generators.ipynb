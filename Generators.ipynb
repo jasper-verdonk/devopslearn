{
 "cells": [
  {
   "cell_type": "markdown",
   "id": "c787003f-355e-4d52-b381-9019e929b1b2",
   "metadata": {},
   "source": [
    "Iterators"
   ]
  },
  {
   "cell_type": "code",
   "execution_count": 1,
   "id": "764895df-1ae7-4bcd-be96-705cbe1b48ec",
   "metadata": {},
   "outputs": [
    {
     "name": "stdout",
     "output_type": "stream",
     "text": [
      "1\n",
      "2\n",
      "3\n",
      "4\n",
      "5\n"
     ]
    }
   ],
   "source": [
    "list = [1, 2, 3, 4, 5]\n",
    "\n",
    "for i in list:\n",
    "    print(i)"
   ]
  },
  {
   "cell_type": "code",
   "execution_count": 2,
   "id": "1eabd660-7803-4b26-824d-7f11101515bb",
   "metadata": {},
   "outputs": [
    {
     "name": "stdout",
     "output_type": "stream",
     "text": [
      "1\n",
      "2\n",
      "3\n",
      "4\n"
     ]
    }
   ],
   "source": [
    "my_list = [1, 2, 3, 4 ]\n",
    "\n",
    "for i in my_list:\n",
    "    print(i)\n"
   ]
  },
  {
   "cell_type": "code",
   "execution_count": 3,
   "id": "a5fcadb9-2b5a-4b5e-9fef-59694b4c3362",
   "metadata": {},
   "outputs": [
    {
     "data": {
      "text/plain": [
       "['__add__',\n",
       " '__class__',\n",
       " '__class_getitem__',\n",
       " '__contains__',\n",
       " '__delattr__',\n",
       " '__delitem__',\n",
       " '__dir__',\n",
       " '__doc__',\n",
       " '__eq__',\n",
       " '__format__',\n",
       " '__ge__',\n",
       " '__getattribute__',\n",
       " '__getitem__',\n",
       " '__getstate__',\n",
       " '__gt__',\n",
       " '__hash__',\n",
       " '__iadd__',\n",
       " '__imul__',\n",
       " '__init__',\n",
       " '__init_subclass__',\n",
       " '__iter__',\n",
       " '__le__',\n",
       " '__len__',\n",
       " '__lt__',\n",
       " '__mul__',\n",
       " '__ne__',\n",
       " '__new__',\n",
       " '__reduce__',\n",
       " '__reduce_ex__',\n",
       " '__repr__',\n",
       " '__reversed__',\n",
       " '__rmul__',\n",
       " '__setattr__',\n",
       " '__setitem__',\n",
       " '__sizeof__',\n",
       " '__str__',\n",
       " '__subclasshook__',\n",
       " 'append',\n",
       " 'clear',\n",
       " 'copy',\n",
       " 'count',\n",
       " 'extend',\n",
       " 'index',\n",
       " 'insert',\n",
       " 'pop',\n",
       " 'remove',\n",
       " 'reverse',\n",
       " 'sort']"
      ]
     },
     "execution_count": 3,
     "metadata": {},
     "output_type": "execute_result"
    }
   ],
   "source": [
    "dir(my_list)"
   ]
  },
  {
   "cell_type": "code",
   "execution_count": 5,
   "id": "f279365f-8d33-4689-b850-8545ab9e7ccb",
   "metadata": {},
   "outputs": [],
   "source": [
    "value = my_list.__iter__()"
   ]
  },
  {
   "cell_type": "code",
   "execution_count": 6,
   "id": "3f37a39d-3822-418e-a2e2-438409432b2f",
   "metadata": {},
   "outputs": [
    {
     "name": "stdout",
     "output_type": "stream",
     "text": [
      "1\n"
     ]
    }
   ],
   "source": [
    "element1 = value.__next__()\n",
    "print(element1)"
   ]
  },
  {
   "cell_type": "code",
   "execution_count": 7,
   "id": "b03885d9-d488-4a60-9846-d6b5e3467fd0",
   "metadata": {},
   "outputs": [
    {
     "name": "stdout",
     "output_type": "stream",
     "text": [
      "2\n",
      "3\n"
     ]
    }
   ],
   "source": [
    "element2 = value.__next__()\n",
    "print(element2)\n",
    "element3 = value.__next__()\n",
    "print(element3)"
   ]
  },
  {
   "cell_type": "code",
   "execution_count": 8,
   "id": "4e0cfd76-ac2e-432f-80f0-b31988768904",
   "metadata": {},
   "outputs": [],
   "source": [
    "value = iter(my_list)\n"
   ]
  },
  {
   "cell_type": "code",
   "execution_count": 9,
   "id": "f8d682d5-2d5c-45e5-aa87-ae839705f8a4",
   "metadata": {},
   "outputs": [
    {
     "data": {
      "text/plain": [
       "<list_iterator at 0x287eaa4ad70>"
      ]
     },
     "execution_count": 9,
     "metadata": {},
     "output_type": "execute_result"
    }
   ],
   "source": [
    "value\n"
   ]
  },
  {
   "cell_type": "code",
   "execution_count": 10,
   "id": "e51830fc-a315-4c63-a6b9-3cf6fc0b8c1a",
   "metadata": {},
   "outputs": [
    {
     "name": "stdout",
     "output_type": "stream",
     "text": [
      "<list_iterator object at 0x00000287EAA4AD70>\n"
     ]
    }
   ],
   "source": [
    "print(value)"
   ]
  },
  {
   "cell_type": "code",
   "execution_count": 11,
   "id": "ac26611d-7e4c-4beb-816c-b28a82a6599b",
   "metadata": {},
   "outputs": [
    {
     "name": "stdout",
     "output_type": "stream",
     "text": [
      "1\n"
     ]
    }
   ],
   "source": [
    "element5 = next(value)\n",
    "print(element5)"
   ]
  },
  {
   "cell_type": "code",
   "execution_count": null,
   "id": "47937460-b3c8-4e68-b198-20eea5bbfe15",
   "metadata": {},
   "outputs": [],
   "source": []
  }
 ],
 "metadata": {
  "kernelspec": {
   "display_name": "Python 3 (ipykernel)",
   "language": "python",
   "name": "python3"
  },
  "language_info": {
   "codemirror_mode": {
    "name": "ipython",
    "version": 3
   },
   "file_extension": ".py",
   "mimetype": "text/x-python",
   "name": "python",
   "nbconvert_exporter": "python",
   "pygments_lexer": "ipython3",
   "version": "3.11.7"
  }
 },
 "nbformat": 4,
 "nbformat_minor": 5
}
