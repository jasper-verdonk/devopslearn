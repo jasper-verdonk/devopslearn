{
 "cells": [
  {
   "cell_type": "code",
   "execution_count": 11,
   "id": "30b16fc7-1b53-4ef6-bdfb-b79d1b44f6bb",
   "metadata": {},
   "outputs": [
    {
     "ename": "RuntimeError",
     "evalue": "Working outside of application context.\n\nThis typically means that you attempted to use functionality that needed\nthe current application. To solve this, set up an application context\nwith app.app_context(). See the documentation for more information.",
     "output_type": "error",
     "traceback": [
      "\u001b[1;31m---------------------------------------------------------------------------\u001b[0m",
      "\u001b[1;31mRuntimeError\u001b[0m                              Traceback (most recent call last)",
      "Cell \u001b[1;32mIn[11], line 1\u001b[0m\n\u001b[1;32m----> 1\u001b[0m random_message \u001b[38;5;241m=\u001b[39m db\u001b[38;5;241m.\u001b[39msession\u001b[38;5;241m.\u001b[39mquery(Feedback)\u001b[38;5;241m.\u001b[39morder_by(func\u001b[38;5;241m.\u001b[39mrandom())\u001b[38;5;241m.\u001b[39mlimit(\u001b[38;5;241m1\u001b[39m)\u001b[38;5;241m.\u001b[39mscalibility\n",
      "File \u001b[1;32m~\\AppData\\Local\\anaconda3\\Lib\\site-packages\\sqlalchemy\\orm\\scoping.py:1697\u001b[0m, in \u001b[0;36mscoped_session.query\u001b[1;34m(self, *entities, **kwargs)\u001b[0m\n\u001b[0;32m   1671\u001b[0m \u001b[38;5;28;01mdef\u001b[39;00m \u001b[38;5;21mquery\u001b[39m(\n\u001b[0;32m   1672\u001b[0m     \u001b[38;5;28mself\u001b[39m, \u001b[38;5;241m*\u001b[39mentities: _ColumnsClauseArgument[Any], \u001b[38;5;241m*\u001b[39m\u001b[38;5;241m*\u001b[39mkwargs: Any\n\u001b[0;32m   1673\u001b[0m ) \u001b[38;5;241m-\u001b[39m\u001b[38;5;241m>\u001b[39m Query[Any]:\n\u001b[0;32m   1674\u001b[0m \u001b[38;5;250m    \u001b[39m\u001b[38;5;124mr\u001b[39m\u001b[38;5;124;03m\"\"\"Return a new :class:`_query.Query` object corresponding to this\u001b[39;00m\n\u001b[0;32m   1675\u001b[0m \u001b[38;5;124;03m    :class:`_orm.Session`.\u001b[39;00m\n\u001b[0;32m   1676\u001b[0m \n\u001b[1;32m   (...)\u001b[0m\n\u001b[0;32m   1694\u001b[0m \n\u001b[0;32m   1695\u001b[0m \u001b[38;5;124;03m    \"\"\"\u001b[39;00m  \u001b[38;5;66;03m# noqa: E501\u001b[39;00m\n\u001b[1;32m-> 1697\u001b[0m     \u001b[38;5;28;01mreturn\u001b[39;00m \u001b[38;5;28mself\u001b[39m\u001b[38;5;241m.\u001b[39m_proxied\u001b[38;5;241m.\u001b[39mquery(\u001b[38;5;241m*\u001b[39mentities, \u001b[38;5;241m*\u001b[39m\u001b[38;5;241m*\u001b[39mkwargs)\n",
      "File \u001b[1;32m~\\AppData\\Local\\anaconda3\\Lib\\site-packages\\sqlalchemy\\orm\\scoping.py:198\u001b[0m, in \u001b[0;36mscoped_session._proxied\u001b[1;34m(self)\u001b[0m\n\u001b[0;32m    196\u001b[0m \u001b[38;5;129m@property\u001b[39m\n\u001b[0;32m    197\u001b[0m \u001b[38;5;28;01mdef\u001b[39;00m \u001b[38;5;21m_proxied\u001b[39m(\u001b[38;5;28mself\u001b[39m) \u001b[38;5;241m-\u001b[39m\u001b[38;5;241m>\u001b[39m _S:\n\u001b[1;32m--> 198\u001b[0m     \u001b[38;5;28;01mreturn\u001b[39;00m \u001b[38;5;28mself\u001b[39m\u001b[38;5;241m.\u001b[39mregistry()\n",
      "File \u001b[1;32m~\\AppData\\Local\\anaconda3\\Lib\\site-packages\\sqlalchemy\\util\\_collections.py:638\u001b[0m, in \u001b[0;36mScopedRegistry.__call__\u001b[1;34m(self)\u001b[0m\n\u001b[0;32m    637\u001b[0m \u001b[38;5;28;01mdef\u001b[39;00m \u001b[38;5;21m__call__\u001b[39m(\u001b[38;5;28mself\u001b[39m) \u001b[38;5;241m-\u001b[39m\u001b[38;5;241m>\u001b[39m _T:\n\u001b[1;32m--> 638\u001b[0m     key \u001b[38;5;241m=\u001b[39m \u001b[38;5;28mself\u001b[39m\u001b[38;5;241m.\u001b[39mscopefunc()\n\u001b[0;32m    639\u001b[0m     \u001b[38;5;28;01mtry\u001b[39;00m:\n\u001b[0;32m    640\u001b[0m         \u001b[38;5;28;01mreturn\u001b[39;00m \u001b[38;5;28mself\u001b[39m\u001b[38;5;241m.\u001b[39mregistry[key]  \u001b[38;5;66;03m# type: ignore[no-any-return]\u001b[39;00m\n",
      "File \u001b[1;32m~\\AppData\\Local\\anaconda3\\Lib\\site-packages\\flask_sqlalchemy\\session.py:111\u001b[0m, in \u001b[0;36m_app_ctx_id\u001b[1;34m()\u001b[0m\n\u001b[0;32m    109\u001b[0m \u001b[38;5;28;01mdef\u001b[39;00m \u001b[38;5;21m_app_ctx_id\u001b[39m() \u001b[38;5;241m-\u001b[39m\u001b[38;5;241m>\u001b[39m \u001b[38;5;28mint\u001b[39m:\n\u001b[0;32m    110\u001b[0m \u001b[38;5;250m    \u001b[39m\u001b[38;5;124;03m\"\"\"Get the id of the current Flask application context for the session scope.\"\"\"\u001b[39;00m\n\u001b[1;32m--> 111\u001b[0m     \u001b[38;5;28;01mreturn\u001b[39;00m \u001b[38;5;28mid\u001b[39m(app_ctx\u001b[38;5;241m.\u001b[39m_get_current_object())\n",
      "File \u001b[1;32m~\\AppData\\Local\\anaconda3\\Lib\\site-packages\\werkzeug\\local.py:513\u001b[0m, in \u001b[0;36mLocalProxy.__init__.<locals>._get_current_object\u001b[1;34m()\u001b[0m\n\u001b[0;32m    511\u001b[0m     obj \u001b[38;5;241m=\u001b[39m local\u001b[38;5;241m.\u001b[39mget()  \u001b[38;5;66;03m# type: ignore[union-attr]\u001b[39;00m\n\u001b[0;32m    512\u001b[0m \u001b[38;5;28;01mexcept\u001b[39;00m \u001b[38;5;167;01mLookupError\u001b[39;00m:\n\u001b[1;32m--> 513\u001b[0m     \u001b[38;5;28;01mraise\u001b[39;00m \u001b[38;5;167;01mRuntimeError\u001b[39;00m(unbound_message) \u001b[38;5;28;01mfrom\u001b[39;00m \u001b[38;5;28;01mNone\u001b[39;00m\n\u001b[0;32m    515\u001b[0m \u001b[38;5;28;01mreturn\u001b[39;00m get_name(obj)\n",
      "\u001b[1;31mRuntimeError\u001b[0m: Working outside of application context.\n\nThis typically means that you attempted to use functionality that needed\nthe current application. To solve this, set up an application context\nwith app.app_context(). See the documentation for more information."
     ]
    }
   ],
   "source": [
    "\n",
    "\n",
    "\n"
   ]
  },
  {
   "cell_type": "code",
   "execution_count": 1,
   "id": "0cca9e75-2115-48d6-95f3-5596c0146089",
   "metadata": {},
   "outputs": [],
   "source": [
    "import logging\n",
    "\n",
    "from flask import Blueprint, Flask, render_template, redirect, request, url_for\n",
    "from flask_sqlalchemy import SQLAlchemy\n",
    "from flask_redis import FlaskRedis\n",
    "from redis import StrictRedis\n",
    "from sqlalchemy.sql.expression import func\n",
    "\n",
    "# Setup logging\n",
    "stream_handler = logging.StreamHandler()\n",
    "stream_handler.setLevel(logging.INFO)\n",
    "\n",
    "# Database and Redis\n",
    "db = SQLAlchemy()\n",
    "redis_store = FlaskRedis.from_custom_provider(StrictRedis)\n",
    "\n",
    "# Blueprint\n",
    "page = Blueprint('page', __name__)\n",
    "\n",
    "# Flask App Factory\n",
    "def create_app():\n",
    "    \"\"\"\n",
    "    Create a Flask application using the app factory pattern.\n",
    "    \"\"\"\n",
    "    app = Flask(__name__, instance_relative_config=True)\n",
    "\n",
    "    # You can replace these with your own config files if they exist\n",
    "    app.config['SQLALCHEMY_DATABASE_URI'] = 'sqlite:///feedback.db'\n",
    "    app.config['REDIS_URL'] = 'redis://localhost:6379/0'\n",
    "    app.config['SQLALCHEMY_TRACK_MODIFICATIONS'] = False\n",
    "\n",
    "    db.init_app(app)\n",
    "    redis_store.init_app(app)\n",
    "\n",
    "    app.register_blueprint(page)\n",
    "    app.logger.addHandler(stream_handler)\n",
    "\n",
    "    return app\n",
    "\n",
    "# Home page\n",
    "@page.route('/')\n",
    "def index():\n",
    "    \"\"\"\n",
    "    Render the home page with a random feedback message and a feed counter.\n",
    "    \"\"\"\n",
    "    if request.args.get('feed'):\n",
    "        feedback = db.session.query(Feedback).order_by(func.random()).first()\n",
    "        random_message = feedback.message if feedback else ''\n",
    "        feed_count = redis_store.incr('feed_count')\n",
    "    else:\n",
    "        random_message = ''\n",
    "        feed_count = redis_store.get('feed_count')\n",
    "        if feed_count is None:\n",
    "            feed_count = 0\n",
    "        else:\n",
    "            feed_count = int(feed_count)\n",
    "\n",
    "    return render_template('layout.html', message=random_message, feed_count=feed_count)\n",
    "\n",
    "# Seed the database\n",
    "@page.route('/seed')\n",
    "def seed():\n",
    "    \"\"\"\n",
    "    Reset the database and seed it with a few messages.\n",
    "    \"\"\"\n",
    "    db.drop_all()\n",
    "    db.create_all()\n",
    "\n",
    "    messages = [\n",
    "        \"Thanks good sir. I'm feeling quite healthy!\",\n",
    "        \"Thanks for the meal buddy.\",\n",
    "        \"Please stop feeding me. I'm getting huge!\"\n",
    "    ]\n",
    "\n",
    "    for message in messages:\n",
    "        feedback = Feedback(message=message)\n",
    "        db.session.add(feedback)\n",
    "\n",
    "    db.session.commit()\n",
    "    return redirect(url_for('page.index'))\n",
    "\n",
    "# Feedback model\n",
    "class Feedback(db.Model):\n",
    "    id = db.Column(db.Integer, primary_key=True)\n",
    "    message = db.Column(db.Text())\n"
   ]
  },
  {
   "cell_type": "code",
   "execution_count": null,
   "id": "7e645e8e-83b6-4a5e-b234-78f55cb3863d",
   "metadata": {},
   "outputs": [],
   "source": [
    "db = SQLAlchemy()\n",
    "redis_store = FlaskRedis.from_custom_provider(FlaskRedis)\n"
   ]
  }
 ],
 "metadata": {
  "kernelspec": {
   "display_name": "Python 3 (ipykernel)",
   "language": "python",
   "name": "python3"
  },
  "language_info": {
   "codemirror_mode": {
    "name": "ipython",
    "version": 3
   },
   "file_extension": ".py",
   "mimetype": "text/x-python",
   "name": "python",
   "nbconvert_exporter": "python",
   "pygments_lexer": "ipython3",
   "version": "3.11.7"
  }
 },
 "nbformat": 4,
 "nbformat_minor": 5
}
