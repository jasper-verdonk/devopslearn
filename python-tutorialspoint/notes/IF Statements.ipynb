{
 "cells": [
  {
   "cell_type": "code",
   "execution_count": 1,
   "id": "885029f0-c0b5-47f1-8181-ea4a2e79d2c5",
   "metadata": {},
   "outputs": [],
   "source": [
    "it_is_cold = True"
   ]
  },
  {
   "cell_type": "code",
   "execution_count": 3,
   "id": "11cfdf7e-06d2-4cdc-8a9f-47bda5d59da7",
   "metadata": {},
   "outputs": [
    {
     "name": "stdout",
     "output_type": "stream",
     "text": [
      "Wear a coat!\n"
     ]
    }
   ],
   "source": [
    "if it_is_cold:\n",
    "    print(\"Wear a coat!\")"
   ]
  },
  {
   "cell_type": "code",
   "execution_count": 4,
   "id": "eb724977-33c7-4bda-a7d8-037888d607fd",
   "metadata": {},
   "outputs": [],
   "source": [
    "age = 21"
   ]
  },
  {
   "cell_type": "markdown",
   "id": "8facfa0d-5366-48a6-a8e3-fbc45788f1b1",
   "metadata": {},
   "source": [
    "if the condition before ':' is true then execute the statement after ':'. "
   ]
  },
  {
   "cell_type": "code",
   "execution_count": 5,
   "id": "dfcdf0af-af13-4acf-a067-c8ac2e1e0642",
   "metadata": {},
   "outputs": [],
   "source": [
    "if age < 18: \n",
    "    print(\"You are not old enough to watch this movie\")"
   ]
  },
  {
   "cell_type": "code",
   "execution_count": null,
   "id": "e48d31e0-16f5-4402-a860-9db4e76936bf",
   "metadata": {},
   "outputs": [],
   "source": [
    "and\n",
    "or\n",
    "not"
   ]
  },
  {
   "cell_type": "code",
   "execution_count": 7,
   "id": "348d5ae1-0d8a-42a6-b956-2bc72d99bf71",
   "metadata": {},
   "outputs": [
    {
     "data": {
      "text/plain": [
       "True"
      ]
     },
     "execution_count": 7,
     "metadata": {},
     "output_type": "execute_result"
    }
   ],
   "source": [
    "(1 + 1 == 2) and (2 + 2 == 4 )"
   ]
  },
  {
   "cell_type": "code",
   "execution_count": 8,
   "id": "1d59a514-e0dd-4603-bc9c-e677505e7c11",
   "metadata": {},
   "outputs": [
    {
     "data": {
      "text/plain": [
       "False"
      ]
     },
     "execution_count": 8,
     "metadata": {},
     "output_type": "execute_result"
    }
   ],
   "source": [
    "(1 > 2) and (1 != 2)"
   ]
  },
  {
   "cell_type": "code",
   "execution_count": 9,
   "id": "fc31728d-40eb-4674-b6c1-70106090f8ef",
   "metadata": {},
   "outputs": [
    {
     "data": {
      "text/plain": [
       "False"
      ]
     },
     "execution_count": 9,
     "metadata": {},
     "output_type": "execute_result"
    }
   ],
   "source": [
    "(1 + 2 == 3) and (10 < 1)"
   ]
  },
  {
   "cell_type": "code",
   "execution_count": 10,
   "id": "eb1b70ed-67e7-4ab9-8d2d-df24f6b790ba",
   "metadata": {},
   "outputs": [
    {
     "data": {
      "text/plain": [
       "True"
      ]
     },
     "execution_count": 10,
     "metadata": {},
     "output_type": "execute_result"
    }
   ],
   "source": [
    "True and it_is_cold"
   ]
  },
  {
   "cell_type": "code",
   "execution_count": 11,
   "id": "201e9bcb-5f0a-4c78-8712-a1505069599e",
   "metadata": {},
   "outputs": [
    {
     "data": {
      "text/plain": [
       "True"
      ]
     },
     "execution_count": 11,
     "metadata": {},
     "output_type": "execute_result"
    }
   ],
   "source": [
    "True or  (1 == 2) "
   ]
  },
  {
   "cell_type": "code",
   "execution_count": 12,
   "id": "4928bb23-fe34-4f92-9be5-377cafb45ca4",
   "metadata": {},
   "outputs": [
    {
     "data": {
      "text/plain": [
       "True"
      ]
     },
     "execution_count": 12,
     "metadata": {},
     "output_type": "execute_result"
    }
   ],
   "source": [
    "(1 - 1 == 0) or (2 == 3)"
   ]
  },
  {
   "cell_type": "code",
   "execution_count": 13,
   "id": "7067172b-8eae-4cc7-95f8-335c76cb56b3",
   "metadata": {},
   "outputs": [
    {
     "data": {
      "text/plain": [
       "False"
      ]
     },
     "execution_count": 13,
     "metadata": {},
     "output_type": "execute_result"
    }
   ],
   "source": [
    "not True"
   ]
  },
  {
   "cell_type": "code",
   "execution_count": 14,
   "id": "9fdfa6e2-b9bd-4ed7-bd8d-e0093d087545",
   "metadata": {},
   "outputs": [
    {
     "data": {
      "text/plain": [
       "True"
      ]
     },
     "execution_count": 14,
     "metadata": {},
     "output_type": "execute_result"
    }
   ],
   "source": [
    "1 + 1 == 2"
   ]
  },
  {
   "cell_type": "code",
   "execution_count": 15,
   "id": "66e5089c-aa2b-439d-9e39-e9356b223a60",
   "metadata": {},
   "outputs": [
    {
     "data": {
      "text/plain": [
       "False"
      ]
     },
     "execution_count": 15,
     "metadata": {},
     "output_type": "execute_result"
    }
   ],
   "source": [
    "not 1 + 1 == 2"
   ]
  },
  {
   "cell_type": "markdown",
   "id": "50f941ce-453c-4825-a7b0-2b5e93947610",
   "metadata": {},
   "source": [
    "Indentation. Service a purpose. Multiple statemetens after ':' must be at the same indentation level. "
   ]
  },
  {
   "cell_type": "code",
   "execution_count": 16,
   "id": "af842084-eb92-41ce-b652-878e0f648c34",
   "metadata": {},
   "outputs": [
    {
     "name": "stdout",
     "output_type": "stream",
     "text": [
      "Yes it is!\n"
     ]
    }
   ],
   "source": [
    "if 1 > 0: \n",
    "    print(\"Yes it is!\")"
   ]
  },
  {
   "cell_type": "code",
   "execution_count": 17,
   "id": "3b334ffb-c1f7-4820-808d-e31df09380e2",
   "metadata": {},
   "outputs": [
    {
     "ename": "IndentationError",
     "evalue": "expected an indented block after 'if' statement on line 1 (114672297.py, line 2)",
     "output_type": "error",
     "traceback": [
      "\u001b[1;36m  Cell \u001b[1;32mIn[17], line 2\u001b[1;36m\u001b[0m\n\u001b[1;33m    print(\"Yes it is!\")\u001b[0m\n\u001b[1;37m    ^\u001b[0m\n\u001b[1;31mIndentationError\u001b[0m\u001b[1;31m:\u001b[0m expected an indented block after 'if' statement on line 1\n"
     ]
    }
   ],
   "source": [
    "if 1 > 0: \n",
    "print(\"Yes it is!\")"
   ]
  },
  {
   "cell_type": "markdown",
   "id": "b60fe79e-e40e-4f48-87be-0c6d9af5fb04",
   "metadata": {},
   "source": [
    "Indentation is four spaces. This is best practise. You can go with an arbritary number of spaces thou. "
   ]
  },
  {
   "cell_type": "code",
   "execution_count": 19,
   "id": "9a200497-ae61-4381-82f3-1941ffe09db8",
   "metadata": {},
   "outputs": [
    {
     "name": "stdout",
     "output_type": "stream",
     "text": [
      "1 is greater then 0\n",
      "I promise...\n",
      "Finished!\n"
     ]
    }
   ],
   "source": [
    "if 1 > 0:\n",
    "    print(\"1 is greater then 0\")\n",
    "    print(\"I promise...\")\n",
    "print(\"Finished!\")\n",
    "          "
   ]
  },
  {
   "cell_type": "code",
   "execution_count": 23,
   "id": "bab932b6-4a3c-473c-bb4b-6d51f4a8c5f5",
   "metadata": {},
   "outputs": [],
   "source": [
    "age = 15"
   ]
  },
  {
   "cell_type": "markdown",
   "id": "c5533d0a-3590-40e6-9ab9-24660cecaca3",
   "metadata": {},
   "source": [
    "ELIF and ELSE"
   ]
  },
  {
   "cell_type": "code",
   "execution_count": 25,
   "id": "6188c853-1a6f-4883-8688-5931ebd52e6f",
   "metadata": {},
   "outputs": [
    {
     "name": "stdout",
     "output_type": "stream",
     "text": [
      "logout now!\n"
     ]
    }
   ],
   "source": [
    "if age > 18: \n",
    "    print(\"Yes it is!\")\n",
    "else:\n",
    "    print(\"logout now!\")"
   ]
  },
  {
   "cell_type": "code",
   "execution_count": 26,
   "id": "99958e8e-3399-4b31-bb09-c56e59b6629c",
   "metadata": {},
   "outputs": [
    {
     "name": "stdout",
     "output_type": "stream",
     "text": [
      "You are not old enough to watch this move\n"
     ]
    }
   ],
   "source": [
    "if age < 18: \n",
    "    print(\"You are not old enough to watch this move\")\n",
    "else:\n",
    "    print(\"Enjoy the movie!\")"
   ]
  },
  {
   "cell_type": "code",
   "execution_count": null,
   "id": "da6c1225-7d28-40f8-bd1c-a9e1d74721ea",
   "metadata": {},
   "outputs": [],
   "source": [
    "if\n",
    "elif\n",
    "else"
   ]
  },
  {
   "cell_type": "code",
   "execution_count": 32,
   "id": "c1dcd15f-6271-484f-88c4-2e3de4dd48b4",
   "metadata": {},
   "outputs": [],
   "source": [
    "score = 110"
   ]
  },
  {
   "cell_type": "code",
   "execution_count": 31,
   "id": "253f79c5-d3b5-4a7a-8d1d-5056d62b27db",
   "metadata": {},
   "outputs": [
    {
     "name": "stdout",
     "output_type": "stream",
     "text": [
      "No Award\n"
     ]
    }
   ],
   "source": [
    "if score >= 80:\n",
    "    print(\"Gold Award\")\n",
    "elif score >= 60:\n",
    "    print(\"Silver Award\")\n",
    "elif score >=40:\n",
    "    print(\"Bronze Award\")\n",
    "else:\n",
    "    print(\"No Award\")"
   ]
  },
  {
   "cell_type": "code",
   "execution_count": 33,
   "id": "f9fa6bd4-81af-40dd-b452-dd3cf396acaf",
   "metadata": {},
   "outputs": [
    {
     "name": "stdout",
     "output_type": "stream",
     "text": [
      "Gold Award\n",
      "Silver Award\n",
      "Bronze Award\n"
     ]
    }
   ],
   "source": [
    "if score >= 80:\n",
    "    print(\"Gold Award\")\n",
    "if score >= 60:\n",
    "    print(\"Silver Award\")\n",
    "if score >=40:\n",
    "    print(\"Bronze Award\")\n",
    "else:\n",
    "    print(\"No Award\")"
   ]
  },
  {
   "cell_type": "code",
   "execution_count": 35,
   "id": "98499c54-d7e6-48ad-ab25-986c1f49b84e",
   "metadata": {},
   "outputs": [],
   "source": [
    "shopping_list = []"
   ]
  },
  {
   "cell_type": "code",
   "execution_count": 36,
   "id": "831c6790-5e19-4a9a-919e-351a74541e26",
   "metadata": {},
   "outputs": [],
   "source": [
    "item = \"apples\""
   ]
  },
  {
   "cell_type": "code",
   "execution_count": 43,
   "id": "d1590a75-5c59-4839-b3ab-a15afd838070",
   "metadata": {},
   "outputs": [
    {
     "data": {
      "text/plain": [
       "False"
      ]
     },
     "execution_count": 43,
     "metadata": {},
     "output_type": "execute_result"
    }
   ],
   "source": [
    "item not in shopping_list"
   ]
  },
  {
   "cell_type": "code",
   "execution_count": 39,
   "id": "e8b5f114-014a-44a3-86ae-793013323c20",
   "metadata": {},
   "outputs": [],
   "source": [
    "if item not in shopping_list: \n",
    "    shopping_list.append(item)"
   ]
  },
  {
   "cell_type": "code",
   "execution_count": 40,
   "id": "b1f6fe1a-4cf5-4b81-9c5a-7daabde34cb0",
   "metadata": {},
   "outputs": [
    {
     "data": {
      "text/plain": [
       "['apples']"
      ]
     },
     "execution_count": 40,
     "metadata": {},
     "output_type": "execute_result"
    }
   ],
   "source": [
    "shopping_list"
   ]
  },
  {
   "cell_type": "code",
   "execution_count": 41,
   "id": "71017578-193f-485e-977e-e974c72eff39",
   "metadata": {},
   "outputs": [],
   "source": [
    "if item not in shopping_list: \n",
    "    shopping_list.append(item)"
   ]
  },
  {
   "cell_type": "code",
   "execution_count": 42,
   "id": "7158cb02-8726-46f2-9b5f-fb19587ce485",
   "metadata": {},
   "outputs": [
    {
     "data": {
      "text/plain": [
       "['apples']"
      ]
     },
     "execution_count": 42,
     "metadata": {},
     "output_type": "execute_result"
    }
   ],
   "source": [
    "shopping_list"
   ]
  },
  {
   "cell_type": "markdown",
   "id": "3664972a-656c-49f1-b3cf-225c11c45076",
   "metadata": {},
   "source": [
    "# Loops - FizzBuzz! "
   ]
  },
  {
   "cell_type": "code",
   "execution_count": 45,
   "id": "b94af56f-6fd8-49f6-a34f-f9ea8e626116",
   "metadata": {},
   "outputs": [
    {
     "name": "stdout",
     "output_type": "stream",
     "text": [
      "Pyton is cool\n",
      "Pyton is cool\n",
      "Pyton is cool\n",
      "Pyton is cool\n",
      "Pyton is cool\n"
     ]
    }
   ],
   "source": [
    "for element in [1, 2, 3, 4, 5]:\n",
    "    print(\"Pyton is cool\")"
   ]
  },
  {
   "cell_type": "code",
   "execution_count": 46,
   "id": "d981844c-e5cf-4905-8758-59b2c2914534",
   "metadata": {},
   "outputs": [
    {
     "name": "stdout",
     "output_type": "stream",
     "text": [
      "1\n",
      "2\n",
      "3\n",
      "4\n",
      "5\n"
     ]
    }
   ],
   "source": [
    "for element in [1, 2, 3, 4, 5]:\n",
    "    print(element)"
   ]
  },
  {
   "cell_type": "code",
   "execution_count": 47,
   "id": "3d8115e5-c6e3-4878-ab02-038a935d3f6b",
   "metadata": {},
   "outputs": [
    {
     "name": "stdout",
     "output_type": "stream",
     "text": [
      "55\n"
     ]
    }
   ],
   "source": [
    "numbers = [1, 2, 3, 4, 5, 6, 7, 8, 9, 10]\n",
    "total = 0\n",
    "for num in numbers:\n",
    "    total += num\n",
    "print(total)\n",
    "    \n",
    "    "
   ]
  },
  {
   "cell_type": "code",
   "execution_count": 48,
   "id": "547353f4-984d-466f-aadb-7987ac7d87d4",
   "metadata": {},
   "outputs": [
    {
     "data": {
      "text/plain": [
       "range(0, 10)"
      ]
     },
     "execution_count": 48,
     "metadata": {},
     "output_type": "execute_result"
    }
   ],
   "source": [
    "range(10)"
   ]
  },
  {
   "cell_type": "code",
   "execution_count": 49,
   "id": "41f2a98c-02c5-4fe0-91a8-9f73a0afb19d",
   "metadata": {},
   "outputs": [
    {
     "data": {
      "text/plain": [
       "[1, 3, 5, 7, 9]"
      ]
     },
     "execution_count": 49,
     "metadata": {},
     "output_type": "execute_result"
    }
   ],
   "source": [
    "list(range(1, 11, 2))"
   ]
  },
  {
   "cell_type": "code",
   "execution_count": 50,
   "id": "bcd8b330-7744-4e32-89e4-71da7da7c402",
   "metadata": {},
   "outputs": [
    {
     "data": {
      "text/plain": [
       "[1, 2, 3, 4, 5, 6, 7, 8, 9, 10]"
      ]
     },
     "execution_count": 50,
     "metadata": {},
     "output_type": "execute_result"
    }
   ],
   "source": [
    "list(range(1, 11))"
   ]
  },
  {
   "cell_type": "code",
   "execution_count": 51,
   "id": "67291ed1-d7be-46c8-8cb6-292ad473aabc",
   "metadata": {},
   "outputs": [
    {
     "name": "stdout",
     "output_type": "stream",
     "text": [
      "1\n",
      "2\n",
      "3\n",
      "4\n",
      "5\n",
      "6\n",
      "7\n",
      "8\n",
      "9\n",
      "10\n"
     ]
    }
   ],
   "source": [
    "for num in range(1, 11):\n",
    "    print(num)"
   ]
  },
  {
   "cell_type": "code",
   "execution_count": 55,
   "id": "9213f549-0e1c-4c07-bea2-34dd60116159",
   "metadata": {},
   "outputs": [
    {
     "name": "stdout",
     "output_type": "stream",
     "text": [
      "1\n",
      "3\n",
      "6\n",
      "10\n",
      "15\n",
      "21\n",
      "28\n",
      "36\n",
      "45\n",
      "55\n",
      "55\n"
     ]
    }
   ],
   "source": [
    "total = 0\n",
    "for num in range(1, 11):\n",
    "    total += num\n",
    "    print(total)\n",
    "print(total)\n"
   ]
  },
  {
   "cell_type": "code",
   "execution_count": 57,
   "id": "d2c1f35a-3332-4758-ab5e-b89d028eae43",
   "metadata": {},
   "outputs": [
    {
     "name": "stdout",
     "output_type": "stream",
     "text": [
      "I enjoy sport\n",
      "I enjoy music\n",
      "I enjoy coding\n"
     ]
    }
   ],
   "source": [
    "hobbies = ['sport', 'music', 'coding']\n",
    "for i in hobbies:\n",
    "    print(\"I enjoy \" + i)\n"
   ]
  },
  {
   "cell_type": "code",
   "execution_count": 58,
   "id": "292a5ff5-f56c-4041-b61b-11c9811cb8ce",
   "metadata": {},
   "outputs": [
    {
     "data": {
      "text/plain": [
       "'sport'"
      ]
     },
     "execution_count": 58,
     "metadata": {},
     "output_type": "execute_result"
    }
   ],
   "source": [
    "hobbies[0]"
   ]
  },
  {
   "cell_type": "code",
   "execution_count": 59,
   "id": "dbb4ffe0-54f5-4620-b8ec-e5b0373e4dea",
   "metadata": {},
   "outputs": [
    {
     "name": "stdout",
     "output_type": "stream",
     "text": [
      "I enjoy sport\n",
      "I enjoy music\n",
      "I enjoy coding\n"
     ]
    }
   ],
   "source": [
    "for i in range(len(hobbies)):\n",
    "    print(\"I enjoy \" + hobbies[i])\n"
   ]
  },
  {
   "cell_type": "code",
   "execution_count": 63,
   "id": "3feec05d-bcd2-47f6-8323-0a7887745480",
   "metadata": {},
   "outputs": [
    {
     "name": "stdout",
     "output_type": "stream",
     "text": [
      "there are 3 letter o's found\n"
     ]
    }
   ],
   "source": [
    "sentence = \"I love coding with Python\"\n",
    "count = 0 \n",
    "for letter in sentence:\n",
    "    if letter == 'o':\n",
    "        count += 1\n",
    "print(\"there are \" + str(count) + \" letter o's found\")\n",
    "        "
   ]
  },
  {
   "cell_type": "markdown",
   "id": "bc31dc5d-89c2-4347-a51d-e8ec2703a85a",
   "metadata": {},
   "source": [
    "# FizzBuzz using FOR loops\n"
   ]
  },
  {
   "cell_type": "markdown",
   "id": "a1e08d96-b7cb-4463-b423-edb749fb2a4a",
   "metadata": {},
   "source": [
    "## FizzBuzz rules"
   ]
  },
  {
   "cell_type": "markdown",
   "id": "5bbbc1e8-1245-4dbb-b56a-bd4163f60e0c",
   "metadata": {},
   "source": [
    "1. If a number is divisible by 3, print Fizz!\n",
    "2. If a number is divisible by 5, print Buzz!\n",
    "3. If a number is divisible by 3 and 5, print FizzBuzz!\n",
    "4. Enable a user to select the starting number and finish number\n",
    "5. The solution must contain a for loop! "
   ]
  },
  {
   "cell_type": "code",
   "execution_count": 68,
   "id": "f2c2794e-bb40-4b6b-a4f8-fe4da3d78ba3",
   "metadata": {},
   "outputs": [
    {
     "name": "stdout",
     "output_type": "stream",
     "text": [
      "1\n",
      "2\n",
      "Fizz\n",
      "4\n",
      "Buzz\n",
      "Fizz\n",
      "7\n",
      "8\n",
      "Fizz\n",
      "Buzz\n",
      "11\n",
      "Fizz\n",
      "13\n",
      "14\n",
      "FizzBuzz\n"
     ]
    }
   ],
   "source": [
    "start = 1\n",
    "stop = 16\n",
    "\n",
    "for i in range(start,stop):\n",
    "    if i % 3 == 0 and i % 5 == 0:\n",
    "        print(\"FizzBuzz\")\n",
    "    elif i % 3 == 0:\n",
    "        print(\"Fizz\")\n",
    "    elif i % 5 == 0:\n",
    "        print(\"Buzz\")\n",
    "    else:\n",
    "        print(i)\n",
    "    "
   ]
  },
  {
   "cell_type": "code",
   "execution_count": 1,
   "id": "1c820bae-14ac-4171-99c5-82d61a53d842",
   "metadata": {},
   "outputs": [
    {
     "name": "stdout",
     "output_type": "stream",
     "text": [
      "This is outer loop number 1\n",
      "Inner loop 1 calculates 1 * 1  = 1\n",
      "Inner loop 2 calculates 1 * 2  = 2\n",
      "Inner loop 3 calculates 1 * 3  = 3\n",
      "Inner loop 4 calculates 1 * 4  = 4\n",
      "Inner loop 5 calculates 1 * 5  = 5\n",
      "---\n",
      "This is outer loop number 2\n",
      "Inner loop 1 calculates 2 * 1  = 2\n",
      "Inner loop 2 calculates 2 * 2  = 4\n",
      "Inner loop 3 calculates 2 * 3  = 6\n",
      "Inner loop 4 calculates 2 * 4  = 8\n",
      "Inner loop 5 calculates 2 * 5  = 10\n",
      "---\n",
      "This is outer loop number 3\n",
      "Inner loop 1 calculates 3 * 1  = 3\n",
      "Inner loop 2 calculates 3 * 2  = 6\n",
      "Inner loop 3 calculates 3 * 3  = 9\n",
      "Inner loop 4 calculates 3 * 4  = 12\n",
      "Inner loop 5 calculates 3 * 5  = 15\n",
      "---\n"
     ]
    }
   ],
   "source": [
    "a = 1\n",
    "b = 1\n",
    "while a <= 3:\n",
    "    print(\"This is outer loop number {}\".format(a))\n",
    "    while b <= 5:\n",
    "        c = a * b\n",
    "        print(\"Inner loop {} calculates {} * {}  = {}\".format(b, a, b, c))\n",
    "        b += 1\n",
    "    a += 1\n",
    "    b = 1\n",
    "    print(\"---\")"
   ]
  },
  {
   "cell_type": "code",
   "execution_count": 3,
   "id": "ba78a444-bef1-4dfc-b5c1-3280fe51301b",
   "metadata": {},
   "outputs": [
    {
     "name": "stdout",
     "output_type": "stream",
     "text": [
      "I play Golf\n",
      "I play Futbull\n",
      "I play Swinning\n",
      "---\n",
      "I watch Golf\n",
      "I watch Futbull\n",
      "I watch Swinning\n",
      "---\n",
      "I perform Golf\n",
      "I perform Futbull\n",
      "I perform Swinning\n",
      "---\n"
     ]
    }
   ],
   "source": [
    "sport = ['Golf', 'Futbull', 'Swinning']\n",
    "habbits = ['I play ', 'I watch ', 'I perform ']\n",
    "\n",
    "for a in habbits:\n",
    "    for b in sport:\n",
    "        print(a + b)\n",
    "    print(\"---\")"
   ]
  },
  {
   "cell_type": "markdown",
   "id": "bf763ccd-9d78-47e8-a150-bd083129fe45",
   "metadata": {},
   "source": [
    "# Break\n"
   ]
  },
  {
   "cell_type": "code",
   "execution_count": 4,
   "id": "b26291ad-a300-4f36-92e0-45a831e4109a",
   "metadata": {},
   "outputs": [
    {
     "name": "stdout",
     "output_type": "stream",
     "text": [
      "1\n",
      "2\n",
      "3\n",
      "This is printed after the for loop\n"
     ]
    }
   ],
   "source": [
    "for num in [1, 2, 3, 4, 5, 6, 7, 8, 9, 10]:\n",
    "    if num == 4:\n",
    "        break\n",
    "    print(num)\n",
    "    \n",
    "print(\"This is printed after the for loop\")"
   ]
  },
  {
   "cell_type": "code",
   "execution_count": 5,
   "id": "0748e158-bcf4-4128-841d-1db878567cb7",
   "metadata": {},
   "outputs": [
    {
     "name": "stdout",
     "output_type": "stream",
     "text": [
      "K\n",
      "i\n",
      "n\n",
      "g\n",
      "---\n",
      "K\n",
      "i\n",
      "n\n",
      "g\n",
      "---\n",
      "K\n",
      "i\n",
      "n\n",
      "g\n",
      "---\n"
     ]
    }
   ],
   "source": [
    "for num in range(1,4):\n",
    "    for letter in 'Kingdom':\n",
    "        if letter == 'd':\n",
    "            break\n",
    "        print(letter)\n",
    "    print(\"---\")"
   ]
  },
  {
   "cell_type": "code",
   "execution_count": 6,
   "id": "950acb40-7f4b-4e08-856c-cc23713e0fe1",
   "metadata": {},
   "outputs": [
    {
     "name": "stdout",
     "output_type": "stream",
     "text": [
      "1\n",
      "2\n",
      "3\n",
      "5\n",
      "6\n",
      "7\n",
      "8\n",
      "9\n",
      "10\n",
      "This is the code after the for loop\n"
     ]
    }
   ],
   "source": [
    "for num in [1, 2, 3, 4, 5, 6, 7, 8, 9, 10]:\n",
    "    if num == 4:\n",
    "        continue\n",
    "    print(num)\n",
    "\n",
    "print(\"This is the code after the for loop\")\n"
   ]
  },
  {
   "cell_type": "code",
   "execution_count": 7,
   "id": "65b17dd0-9c93-4c41-aeb8-367282f60f0b",
   "metadata": {},
   "outputs": [
    {
     "name": "stdout",
     "output_type": "stream",
     "text": [
      "S\n",
      "t\n",
      "i\n",
      "n\n",
      "g\n",
      "This is the code after the for loop\n"
     ]
    }
   ],
   "source": [
    "for letter in 'String':\n",
    "    if letter == 'r':\n",
    "        continue\n",
    "    print(letter)\n",
    "print(\"This is the code after the for loop\")"
   ]
  },
  {
   "cell_type": "code",
   "execution_count": 8,
   "id": "81d549d9-c35d-4a32-bebf-e68a6d3f443b",
   "metadata": {},
   "outputs": [
    {
     "ename": "SyntaxError",
     "evalue": "incomplete input (4221912489.py, line 1)",
     "output_type": "error",
     "traceback": [
      "\u001b[1;36m  Cell \u001b[1;32mIn[8], line 1\u001b[1;36m\u001b[0m\n\u001b[1;33m    for i in [1, 2, 3, 4, 5]:\u001b[0m\n\u001b[1;37m                             ^\u001b[0m\n\u001b[1;31mSyntaxError\u001b[0m\u001b[1;31m:\u001b[0m incomplete input\n"
     ]
    }
   ],
   "source": [
    "for i in [1, 2, 3, 4, 5]:"
   ]
  },
  {
   "cell_type": "code",
   "execution_count": 9,
   "id": "fb82e24f-78db-4457-b386-5cce62bb25a1",
   "metadata": {},
   "outputs": [],
   "source": [
    "for i in [1, 2, 3, 4, 5]:\n",
    "    pass"
   ]
  },
  {
   "cell_type": "code",
   "execution_count": 15,
   "id": "5289a39f-2235-4b91-8919-100862684ecc",
   "metadata": {},
   "outputs": [
    {
     "name": "stdout",
     "output_type": "stream",
     "text": [
      "The find item is on the shopping list!\n"
     ]
    }
   ],
   "source": [
    "find_item = 'Grapes'\n",
    "shopping_list = ['Apples', 'Grapes', 'Butter', 'Mustard']\n",
    "for item in shopping_list:\n",
    "    if find_item == item:\n",
    "        print(\"The find item is on the shopping list!\")\n",
    "        break\n",
    "else:\n",
    "    print(\"the find item is not on the shopping list :-(\")"
   ]
  },
  {
   "cell_type": "code",
   "execution_count": 1,
   "id": "980b7fe8-11ea-41c2-ae01-fd95aba565ba",
   "metadata": {},
   "outputs": [
    {
     "name": "stdout",
     "output_type": "stream",
     "text": [
      "Built-in mutable sequence.\n",
      "\n",
      "If no argument is given, the constructor creates a new empty list.\n",
      "The argument must be an iterable if specified.\n"
     ]
    }
   ],
   "source": [
    "print([].__doc__)"
   ]
  },
  {
   "cell_type": "code",
   "execution_count": 2,
   "id": "38050065-4020-48df-92d3-a1772def7ca2",
   "metadata": {},
   "outputs": [
    {
     "name": "stdout",
     "output_type": "stream",
     "text": [
      "dict() -> new empty dictionary\n",
      "dict(mapping) -> new dictionary initialized from a mapping object's\n",
      "    (key, value) pairs\n",
      "dict(iterable) -> new dictionary initialized as if via:\n",
      "    d = {}\n",
      "    for k, v in iterable:\n",
      "        d[k] = v\n",
      "dict(**kwargs) -> new dictionary initialized with the name=value pairs\n",
      "    in the keyword argument list.  For example:  dict(one=1, two=2)\n"
     ]
    }
   ],
   "source": [
    "print({}.__doc__)"
   ]
  },
  {
   "cell_type": "code",
   "execution_count": 3,
   "id": "d9d67b40-de88-455b-910f-97d55c235423",
   "metadata": {},
   "outputs": [
    {
     "data": {
      "text/plain": [
       "'Prints the values to a stream, or to sys.stdout by default.\\n\\n  sep\\n    string inserted between values, default a space.\\n  end\\n    string appended after the last value, default a newline.\\n  file\\n    a file-like object (stream); defaults to the current sys.stdout.\\n  flush\\n    whether to forcibly flush the stream.'"
      ]
     },
     "execution_count": 3,
     "metadata": {},
     "output_type": "execute_result"
    }
   ],
   "source": [
    "print.__doc__"
   ]
  },
  {
   "cell_type": "code",
   "execution_count": 4,
   "id": "2725abfb-6163-4514-8104-750813c00e10",
   "metadata": {},
   "outputs": [],
   "source": [
    "def welcome():\n",
    "    '''This function asks how the user is doing and gives a welcome'''\n",
    "    print(\"Hello my friend\")\n"
   ]
  },
  {
   "cell_type": "code",
   "execution_count": 5,
   "id": "0090bd17-41f1-4466-b017-0c58cec71f6d",
   "metadata": {},
   "outputs": [
    {
     "data": {
      "text/plain": [
       "'This function asks how the user is doing and gives a welcome'"
      ]
     },
     "execution_count": 5,
     "metadata": {},
     "output_type": "execute_result"
    }
   ],
   "source": [
    "welcome.__doc__"
   ]
  },
  {
   "cell_type": "code",
   "execution_count": 6,
   "id": "a201aa78-aa4e-4a35-9d94-691c5eb64e37",
   "metadata": {},
   "outputs": [
    {
     "data": {
      "text/plain": [
       "<function __main__.welcome()>"
      ]
     },
     "execution_count": 6,
     "metadata": {},
     "output_type": "execute_result"
    }
   ],
   "source": [
    "welcome"
   ]
  },
  {
   "cell_type": "code",
   "execution_count": 7,
   "id": "a52ea016-dc8a-4b0b-ae95-7ca54c3efd2f",
   "metadata": {},
   "outputs": [
    {
     "name": "stdout",
     "output_type": "stream",
     "text": [
      "Hello my friend\n"
     ]
    }
   ],
   "source": [
    "welcome()"
   ]
  },
  {
   "cell_type": "code",
   "execution_count": null,
   "id": "93be8895-d7d3-4faa-ab6c-906439a962d5",
   "metadata": {},
   "outputs": [],
   "source": []
  }
 ],
 "metadata": {
  "kernelspec": {
   "display_name": "Python 3 (ipykernel)",
   "language": "python",
   "name": "python3"
  },
  "language_info": {
   "codemirror_mode": {
    "name": "ipython",
    "version": 3
   },
   "file_extension": ".py",
   "mimetype": "text/x-python",
   "name": "python",
   "nbconvert_exporter": "python",
   "pygments_lexer": "ipython3",
   "version": "3.11.7"
  }
 },
 "nbformat": 4,
 "nbformat_minor": 5
}
