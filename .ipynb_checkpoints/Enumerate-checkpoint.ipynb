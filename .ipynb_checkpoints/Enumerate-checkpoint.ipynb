{
 "cells": [
  {
   "cell_type": "code",
   "execution_count": 7,
   "id": "8d3fed99-cb43-4580-94f2-75f5e3a9cae5",
   "metadata": {},
   "outputs": [
    {
     "name": "stdout",
     "output_type": "stream",
     "text": [
      "Index 0 is the letter a\n",
      "Index 1 is the letter b\n",
      "Index 2 is the letter c\n",
      "Index 3 is the letter d\n",
      "Index 4 is the letter e\n",
      "Index 5 is the letter f\n",
      "Index 6 is the letter g\n",
      "Index 7 is the letter h\n"
     ]
    }
   ],
   "source": [
    "alphabet = 'abcdefgh'\n",
    "index_count = 0\n",
    "for letter in alphabet:\n",
    "    print(\"Index {} is the letter {}\".format(index_count, letter))\n",
    "    index_count += 1\n"
   ]
  },
  {
   "cell_type": "code",
   "execution_count": 8,
   "id": "eed98b1b-f7e9-480f-904c-58e6af71d331",
   "metadata": {},
   "outputs": [
    {
     "name": "stdout",
     "output_type": "stream",
     "text": [
      "(0, 'a')\n",
      "(1, 'b')\n",
      "(2, 'c')\n",
      "(3, 'd')\n",
      "(4, 'e')\n",
      "(5, 'f')\n",
      "(6, 'g')\n",
      "(7, 'h')\n"
     ]
    }
   ],
   "source": [
    "for letter in enumerate(alphabet):\n",
    "    print(letter)"
   ]
  },
  {
   "cell_type": "code",
   "execution_count": 9,
   "id": "e60cb088-46ca-417e-9d51-29eabd10bd18",
   "metadata": {},
   "outputs": [],
   "source": [
    "my_dict = {}\n",
    "for letter in enumerate(alphabet):\n",
    "    my_dict[letter[0]] = letter[1]"
   ]
  },
  {
   "cell_type": "code",
   "execution_count": 10,
   "id": "d25d7b9d-a992-4a5a-9955-d3b331f6d1b7",
   "metadata": {},
   "outputs": [
    {
     "data": {
      "text/plain": [
       "{0: 'a', 1: 'b', 2: 'c', 3: 'd', 4: 'e', 5: 'f', 6: 'g', 7: 'h'}"
      ]
     },
     "execution_count": 10,
     "metadata": {},
     "output_type": "execute_result"
    }
   ],
   "source": [
    "my_dict"
   ]
  },
  {
   "cell_type": "markdown",
   "id": "ecb31eca-4b38-4c06-a089-80f75788f888",
   "metadata": {},
   "source": [
    "# List comprehension\n",
    "Create a list of even numbers from 0 to 20 using a FOR loop"
   ]
  },
  {
   "cell_type": "code",
   "execution_count": 11,
   "id": "515ea1e1-2da7-4778-9a74-48690decca21",
   "metadata": {},
   "outputs": [
    {
     "data": {
      "text/plain": [
       "[0, 2, 4, 6, 8, 10, 12, 14, 16, 18, 20]"
      ]
     },
     "execution_count": 11,
     "metadata": {},
     "output_type": "execute_result"
    }
   ],
   "source": [
    "evens = []\n",
    "for x in range(11):\n",
    "    evens.append(x*2)\n",
    "evens"
   ]
  },
  {
   "cell_type": "code",
   "execution_count": null,
   "id": "de822e7b-a34b-4b99-a406-b723f0731f24",
   "metadata": {},
   "outputs": [],
   "source": []
  },
  {
   "cell_type": "markdown",
   "id": "86a281d9-77bf-47f3-86a0-69bb9e2ae540",
   "metadata": {},
   "source": [
    "Create a list of even numbers from 0 to 20 using list comprehension"
   ]
  },
  {
   "cell_type": "code",
   "execution_count": 12,
   "id": "54bcf846-ad30-4886-93f3-5a089dd1967d",
   "metadata": {},
   "outputs": [
    {
     "data": {
      "text/plain": [
       "[0, 2, 4, 6, 8, 10, 12, 14, 16, 18, 20]"
      ]
     },
     "execution_count": 12,
     "metadata": {},
     "output_type": "execute_result"
    }
   ],
   "source": [
    "evens = [(x*2) for x in range(11)]\n",
    "evens"
   ]
  },
  {
   "cell_type": "code",
   "execution_count": null,
   "id": "7dec1495-f531-41fd-bda9-84aed3f7efae",
   "metadata": {},
   "outputs": [],
   "source": []
  },
  {
   "cell_type": "markdown",
   "id": "6234dca3-11f6-44d4-b8a9-97ff1244c2e4",
   "metadata": {},
   "source": [
    "Create a list of even numbers from 0 to 20, excluding the numbers that are divisable by 6, using list comprehension"
   ]
  },
  {
   "cell_type": "code",
   "execution_count": 13,
   "id": "2d8bda10-1be1-476b-8c1c-77846152453b",
   "metadata": {},
   "outputs": [
    {
     "data": {
      "text/plain": [
       "[2, 4, 8, 10, 14, 16, 20]"
      ]
     },
     "execution_count": 13,
     "metadata": {},
     "output_type": "execute_result"
    }
   ],
   "source": [
    "evens = [(x * 2 ) for x in range(11) if x *2 % 6 != 0]\n",
    "evens"
   ]
  },
  {
   "cell_type": "markdown",
   "id": "1e8e88dc-2f8a-4a73-8abd-92a4cba488a4",
   "metadata": {},
   "source": [
    "# Dictionary & set comprehension"
   ]
  },
  {
   "cell_type": "code",
   "execution_count": 14,
   "id": "2758c599-853c-4249-b271-50da84a942ad",
   "metadata": {},
   "outputs": [
    {
     "data": {
      "text/plain": [
       "{0: 0, 1: 1, 2: 4, 3: 9, 4: 16, 5: 25}"
      ]
     },
     "execution_count": 14,
     "metadata": {},
     "output_type": "execute_result"
    }
   ],
   "source": [
    "squares = {} \n",
    "for x in range(6):\n",
    "    squares[x] = x * x\n",
    "squares"
   ]
  },
  {
   "cell_type": "code",
   "execution_count": 15,
   "id": "dfd6537b-9fa0-4480-b5d3-f22f6d2d62f2",
   "metadata": {},
   "outputs": [
    {
     "data": {
      "text/plain": [
       "{0: 0, 1: 1, 2: 4, 3: 9, 4: 16, 5: 25}"
      ]
     },
     "execution_count": 15,
     "metadata": {},
     "output_type": "execute_result"
    }
   ],
   "source": [
    "squares = {x: x*x for x in range(6)}\n",
    "squares"
   ]
  },
  {
   "cell_type": "code",
   "execution_count": 20,
   "id": "140eb8d0-ee64-4e09-93cd-f456ea28d8ff",
   "metadata": {},
   "outputs": [
    {
     "data": {
      "text/plain": [
       "{0: 0, 2: 4, 4: 16, 6: 36, 8: 64, 10: 100}"
      ]
     },
     "execution_count": 20,
     "metadata": {},
     "output_type": "execute_result"
    }
   ],
   "source": [
    "even_squares = {x: x*x for x in range(11) if x*x % 2 == 0}\n",
    "even_squares"
   ]
  },
  {
   "cell_type": "code",
   "execution_count": 21,
   "id": "78fb4b76-1acc-48e9-a085-1b52ad768d31",
   "metadata": {},
   "outputs": [
    {
     "name": "stdout",
     "output_type": "stream",
     "text": [
      "my_set contains {1, 2, 3, 4, 5, 6, 7, 8, 9, 10}\n",
      "new_set contains {64, 1, 4, 36, 100, 9, 16, 49, 81, 25}\n"
     ]
    }
   ],
   "source": [
    "my_set = {1, 2, 3, 4, 5, 6, 7, 8, 9, 10}\n",
    "new_set = set()\n",
    "\n",
    "for x in my_set:\n",
    "    new_set.add(x*x)\n",
    "print(\"my_set contains {}\".format(my_set))\n",
    "print(\"new_set contains {}\".format(new_set))\n",
    "\n",
    "\n"
   ]
  },
  {
   "cell_type": "code",
   "execution_count": null,
   "id": "c3eef92b-e2fe-43ae-96d3-6852bffb65b2",
   "metadata": {},
   "outputs": [],
   "source": []
  },
  {
   "cell_type": "code",
   "execution_count": 22,
   "id": "7701c767-a204-45d5-8721-8d2a0f72c2e1",
   "metadata": {},
   "outputs": [
    {
     "name": "stdout",
     "output_type": "stream",
     "text": [
      "my_set contains {1, 2, 3, 4, 5, 6, 7, 8, 9, 10}\n",
      "new_set contains {64, 1, 4, 36, 100, 9, 16, 49, 81, 25}\n"
     ]
    }
   ],
   "source": [
    "my_set = {1, 2, 3, 4, 5, 6, 7, 8, 9, 10}\n",
    "new_set = {x *x for x in my_set}\n",
    "\n",
    "print(\"my_set contains {}\".format(my_set))\n",
    "print(\"new_set contains {}\".format(new_set))\n",
    "\n",
    "\n"
   ]
  },
  {
   "cell_type": "code",
   "execution_count": null,
   "id": "d5bae62b-3e2f-4116-a842-a2cb6ec11cb1",
   "metadata": {},
   "outputs": [],
   "source": []
  }
 ],
 "metadata": {
  "kernelspec": {
   "display_name": "Python 3 (ipykernel)",
   "language": "python",
   "name": "python3"
  },
  "language_info": {
   "codemirror_mode": {
    "name": "ipython",
    "version": 3
   },
   "file_extension": ".py",
   "mimetype": "text/x-python",
   "name": "python",
   "nbconvert_exporter": "python",
   "pygments_lexer": "ipython3",
   "version": "3.11.7"
  }
 },
 "nbformat": 4,
 "nbformat_minor": 5
}
