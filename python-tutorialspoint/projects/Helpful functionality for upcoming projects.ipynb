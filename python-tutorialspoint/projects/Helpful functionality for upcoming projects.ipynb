{
 "cells": [
  {
   "cell_type": "code",
   "execution_count": 1,
   "id": "7a0f99eb-a583-42a4-8230-8d41db17c27f",
   "metadata": {},
   "outputs": [],
   "source": [
    "from IPython.display import clear_output\n",
    "\n"
   ]
  },
  {
   "cell_type": "code",
   "execution_count": 4,
   "id": "cea29dd9-e348-4ed5-ae43-7b9de6e0e03e",
   "metadata": {},
   "outputs": [
    {
     "name": "stdout",
     "output_type": "stream",
     "text": [
      "Coding\n"
     ]
    }
   ],
   "source": [
    "print(\"Hello\")\n",
    "print(\"Bye\")\n",
    "print(\"  |   |  \")\n",
    "clear_output()\n",
    "print(\"Coding\")\n"
   ]
  },
  {
   "cell_type": "code",
   "execution_count": 9,
   "id": "23556fe4-46c1-4cd8-bc11-6124a802b387",
   "metadata": {},
   "outputs": [],
   "source": [
    "import random\n"
   ]
  },
  {
   "cell_type": "code",
   "execution_count": 11,
   "id": "75985edb-1b00-4922-be27-8bc61d0a0d44",
   "metadata": {},
   "outputs": [
    {
     "data": {
      "text/plain": [
       "7"
      ]
     },
     "execution_count": 11,
     "metadata": {},
     "output_type": "execute_result"
    }
   ],
   "source": [
    "random.randint(0, 10)"
   ]
  },
  {
   "cell_type": "code",
   "execution_count": 14,
   "id": "750c0732-855a-4a70-847b-69bdd4f26cba",
   "metadata": {},
   "outputs": [
    {
     "data": {
      "text/plain": [
       "'b'"
      ]
     },
     "execution_count": 14,
     "metadata": {},
     "output_type": "execute_result"
    }
   ],
   "source": [
    "random.choice(['a', 'b', 'c'])"
   ]
  },
  {
   "cell_type": "markdown",
   "id": "89fc084a-39d9-4202-93a1-0fdeec608f72",
   "metadata": {},
   "source": [
    "# The Number Guessing Game"
   ]
  },
  {
   "cell_type": "markdown",
   "id": "b9c8aa56-f28c-4a28-9c49-348a391aa7bf",
   "metadata": {},
   "source": [
    "In this project, we will create a Number Guessing Game\n",
    "\n",
    "This game will: \n",
    "\n",
    "1. Get the computer to generate a random number\n",
    "2. Allow the user to submit a guess\n",
    "3. Produce game logic using conditional statements:\n",
    "   - If a guess is too high, the player should get a message\n",
    "   - If a guess is too low, the player should get a message\n",
    "   - If a guess is correct, the player should get a message\n",
    "4. A player should only get 5 guesses. Once the guess run out, the game is over\n",
    "5. A player should get asked if they want to play again. If yes, replay the game, if not, break out of the game. "
   ]
  },
  {
   "cell_type": "code",
   "execution_count": 20,
   "id": "253dcaf8-317c-4afb-9f25-d71f4c87a856",
   "metadata": {},
   "outputs": [
    {
     "name": "stdin",
     "output_type": "stream",
     "text": [
      "Please provide a number:  5\n"
     ]
    }
   ],
   "source": [
    "a = random.randint(0, 10)\n",
    "i = 0\n",
    "next = str()"
   ]
  },
  {
   "cell_type": "code",
   "execution_count": 21,
   "id": "2914af82-6ef5-4508-a5a6-c8e7b2cefdbe",
   "metadata": {},
   "outputs": [
    {
     "data": {
      "text/plain": [
       "''"
      ]
     },
     "execution_count": 21,
     "metadata": {},
     "output_type": "execute_result"
    }
   ],
   "source": [
    "next"
   ]
  },
  {
   "cell_type": "code",
   "execution_count": 5,
   "id": "ce4a7af5-348a-455c-a2ae-ca88c9339f51",
   "metadata": {},
   "outputs": [
    {
     "ename": "NameError",
     "evalue": "name 'b' is not defined",
     "output_type": "error",
     "traceback": [
      "\u001b[1;31m---------------------------------------------------------------------------\u001b[0m",
      "\u001b[1;31mNameError\u001b[0m                                 Traceback (most recent call last)",
      "Cell \u001b[1;32mIn[5], line 1\u001b[0m\n\u001b[1;32m----> 1\u001b[0m b\n",
      "\u001b[1;31mNameError\u001b[0m: name 'b' is not defined"
     ]
    }
   ],
   "source": [
    "b"
   ]
  },
  {
   "cell_type": "code",
   "execution_count": 24,
   "id": "c380e799-a44b-4d98-9468-03105724001d",
   "metadata": {},
   "outputs": [
    {
     "name": "stdout",
     "output_type": "stream",
     "text": [
      "I am sorry, you guessed to low\n",
      "I am sorry, you guessed to low\n",
      "I am sorry, you guessed to low\n",
      "I am sorry, you guessed to low\n",
      "I am sorry, you guessed to low\n",
      "I am sorry, you guessed to low\n"
     ]
    },
    {
     "name": "stdin",
     "output_type": "stream",
     "text": [
      "Would you like to continue with the game? Please submit 'Y' or 'N' y\n"
     ]
    }
   ],
   "source": [
    "while((next == 'y'or next == '') and i <= 5):\n",
    "    b = int(input(\"Please provide a number: \"))\n",
    "    if b > a:\n",
    "        print(\"I am sorry, you guessed to high\")\n",
    "        i += 1\n",
    "    elif b < a:\n",
    "        print(\"I am sorry, you guessed to low\")\n",
    "        i += 1\n",
    "    elif a == b and:\n",
    "        print(\"Wauw, your guess was correct!\")\n",
    "        next = input(\"Would you like to continue with the game? Please submit 'Y' or 'N'\")\n",
    "    else:\n",
    "        next = input(\"Would you like to continue with the game? Please submit 'Y' or 'N'\")\n",
    "        break\n",
    "                    \n",
    "        \n",
    "            \n",
    "            \n",
    "            \n",
    "\n",
    "\n",
    "    \n",
    "    "
   ]
  },
  {
   "cell_type": "code",
   "execution_count": 4,
   "id": "9e04ae05-59de-4f77-8e1a-84dd9dc0fabf",
   "metadata": {},
   "outputs": [
    {
     "name": "stdin",
     "output_type": "stream",
     "text": [
      "Please provide a number:  5\n"
     ]
    },
    {
     "name": "stdout",
     "output_type": "stream",
     "text": [
      "Wauw, your guess was correct!\n"
     ]
    },
    {
     "name": "stdin",
     "output_type": "stream",
     "text": [
      "Would you like to continue with the game? Please submit 'Y' or 'N' y\n",
      "Please provide a number:  7\n"
     ]
    },
    {
     "name": "stdout",
     "output_type": "stream",
     "text": [
      "I am sorry, you guessed to high\n"
     ]
    },
    {
     "name": "stdin",
     "output_type": "stream",
     "text": [
      "Please provide a number:  4\n"
     ]
    },
    {
     "name": "stdout",
     "output_type": "stream",
     "text": [
      "I am sorry, you guessed to low\n"
     ]
    },
    {
     "name": "stdin",
     "output_type": "stream",
     "text": [
      "Please provide a number:  3\n"
     ]
    },
    {
     "name": "stdout",
     "output_type": "stream",
     "text": [
      "I am sorry, you guessed to low\n"
     ]
    },
    {
     "name": "stdin",
     "output_type": "stream",
     "text": [
      "Please provide a number:  2\n"
     ]
    },
    {
     "name": "stdout",
     "output_type": "stream",
     "text": [
      "I am sorry, you guessed to low\n"
     ]
    },
    {
     "name": "stdin",
     "output_type": "stream",
     "text": [
      "Please provide a number:  \n"
     ]
    },
    {
     "ename": "ValueError",
     "evalue": "invalid literal for int() with base 10: ''",
     "output_type": "error",
     "traceback": [
      "\u001b[1;31m---------------------------------------------------------------------------\u001b[0m",
      "\u001b[1;31mValueError\u001b[0m                                Traceback (most recent call last)",
      "Cell \u001b[1;32mIn[4], line 22\u001b[0m\n\u001b[0;32m     20\u001b[0m \u001b[38;5;28;01mwhile\u001b[39;00m (nieuw \u001b[38;5;241m==\u001b[39m \u001b[38;5;124m'\u001b[39m\u001b[38;5;124my\u001b[39m\u001b[38;5;124m'\u001b[39m):\n\u001b[0;32m     21\u001b[0m     i \u001b[38;5;241m=\u001b[39m \u001b[38;5;241m0\u001b[39m\n\u001b[1;32m---> 22\u001b[0m     play_game(i)\n\u001b[0;32m     23\u001b[0m     \u001b[38;5;28;01mif\u001b[39;00m nieuw \u001b[38;5;241m==\u001b[39m \u001b[38;5;124m'\u001b[39m\u001b[38;5;124mn\u001b[39m\u001b[38;5;124m'\u001b[39m:\n\u001b[0;32m     24\u001b[0m         \u001b[38;5;28mprint\u001b[39m(\u001b[38;5;124m\"\u001b[39m\u001b[38;5;124mThank you, see you next time!\u001b[39m\u001b[38;5;124m\"\u001b[39m)\n",
      "Cell \u001b[1;32mIn[4], line 3\u001b[0m, in \u001b[0;36mplay_game\u001b[1;34m(nmb)\u001b[0m\n\u001b[0;32m      1\u001b[0m \u001b[38;5;28;01mdef\u001b[39;00m \u001b[38;5;21mplay_game\u001b[39m(nmb):\n\u001b[0;32m      2\u001b[0m     \u001b[38;5;28;01mwhile\u001b[39;00m(nmb \u001b[38;5;241m<\u001b[39m\u001b[38;5;241m=\u001b[39m \u001b[38;5;241m5\u001b[39m):\n\u001b[1;32m----> 3\u001b[0m         b \u001b[38;5;241m=\u001b[39m \u001b[38;5;28mint\u001b[39m(\u001b[38;5;28minput\u001b[39m(\u001b[38;5;124m\"\u001b[39m\u001b[38;5;124mPlease provide a number: \u001b[39m\u001b[38;5;124m\"\u001b[39m))\n\u001b[0;32m      4\u001b[0m         \u001b[38;5;28;01mif\u001b[39;00m b \u001b[38;5;241m>\u001b[39m a:\n\u001b[0;32m      5\u001b[0m             \u001b[38;5;28mprint\u001b[39m(\u001b[38;5;124m\"\u001b[39m\u001b[38;5;124mI am sorry, you guessed to high\u001b[39m\u001b[38;5;124m\"\u001b[39m)\n",
      "\u001b[1;31mValueError\u001b[0m: invalid literal for int() with base 10: ''"
     ]
    }
   ],
   "source": [
    "def play_game(nmb):\n",
    "    while(nmb <= 5):\n",
    "        b = int(input(\"Please provide a number: \"))\n",
    "        if b > a:\n",
    "            print(\"I am sorry, you guessed to high\")\n",
    "            nmb += 1\n",
    "        elif b < a:\n",
    "            print(\"I am sorry, you guessed to low\")\n",
    "            nmb += 1\n",
    "        else: \n",
    "            print(\"Wauw, your guess was correct!\")\n",
    "            next = input(\"Would you like to continue with the game? Please submit 'Y' or 'N'\")\n",
    "            opnieuw = next.lower()\n",
    "            return opnieuw\n",
    "        \n",
    "            \n",
    "a = random.randint(0, 10)\n",
    "i = 0      \n",
    "nieuw = play_game(i)\n",
    "while (nieuw == 'y'):\n",
    "    i = 0\n",
    "    play_game(i)\n",
    "    if nieuw == 'n':\n",
    "        print(\"Thank you, see you next time!\")\n",
    "    elif nieuw != 'n' and nieuw != 'y':\n",
    "        print(\"Please provide 'y' or 'n'\")\n",
    "    \n",
    "    \n",
    "\n",
    "\n",
    "\n",
    "\n",
    "\n"
   ]
  },
  {
   "cell_type": "code",
   "execution_count": 22,
   "id": "e778b682-ed70-4c29-887b-3e292ab4cfd4",
   "metadata": {},
   "outputs": [],
   "source": [
    "num = random.randint(1, 10)\n"
   ]
  },
  {
   "cell_type": "code",
   "execution_count": 6,
   "id": "16bb4c8a-31ac-4b0b-a1e8-5254097cf124",
   "metadata": {},
   "outputs": [
    {
     "data": {
      "text/plain": [
       "5"
      ]
     },
     "execution_count": 6,
     "metadata": {},
     "output_type": "execute_result"
    }
   ],
   "source": [
    "guess\n",
    "\n"
   ]
  },
  {
   "cell_type": "code",
   "execution_count": 7,
   "id": "445aa9b8-c1c4-49a4-beb1-c4685126c3f7",
   "metadata": {},
   "outputs": [
    {
     "data": {
      "text/plain": [
       "5"
      ]
     },
     "execution_count": 7,
     "metadata": {},
     "output_type": "execute_result"
    }
   ],
   "source": [
    "num"
   ]
  },
  {
   "cell_type": "code",
   "execution_count": 8,
   "id": "d4e057f2-9a41-48f1-98d9-1b164d88961c",
   "metadata": {},
   "outputs": [
    {
     "name": "stdout",
     "output_type": "stream",
     "text": [
      "Super guess, you are a genius!\n"
     ]
    }
   ],
   "source": [
    "if num == guess:\n",
    "    print(\"Super guess, you are a genius!\")\n",
    "elif num < guess:\n",
    "    print(\"You guessed to high. Please try with a lower number\")\n",
    "else:\n",
    "    print(\"You guessed to low. Please try with a higher number\")"
   ]
  },
  {
   "cell_type": "code",
   "execution_count": 34,
   "id": "20bea6c6-52c2-450a-b705-3964c31211c6",
   "metadata": {},
   "outputs": [
    {
     "name": "stdin",
     "output_type": "stream",
     "text": [
      "Please provide a number:  5\n"
     ]
    },
    {
     "name": "stdout",
     "output_type": "stream",
     "text": [
      "You guessed to low. Please try with a higher number. The number of tries are 4: \n"
     ]
    },
    {
     "name": "stdin",
     "output_type": "stream",
     "text": [
      "Please provide a number:  6\n"
     ]
    },
    {
     "name": "stdout",
     "output_type": "stream",
     "text": [
      "You guessed to low. Please try with a higher number. The number of tries are 3: \n"
     ]
    },
    {
     "name": "stdin",
     "output_type": "stream",
     "text": [
      "Please provide a number:  7\n"
     ]
    },
    {
     "name": "stdout",
     "output_type": "stream",
     "text": [
      "You guessed to low. Please try with a higher number. The number of tries are 2: \n"
     ]
    },
    {
     "name": "stdin",
     "output_type": "stream",
     "text": [
      "Please provide a number:  8\n"
     ]
    },
    {
     "name": "stdout",
     "output_type": "stream",
     "text": [
      "You guessed to low. Please try with a higher number. The number of tries are 1: \n"
     ]
    },
    {
     "name": "stdin",
     "output_type": "stream",
     "text": [
      "Please provide a number:  9\n"
     ]
    },
    {
     "name": "stdout",
     "output_type": "stream",
     "text": [
      "Next time better you fool!\n"
     ]
    }
   ],
   "source": [
    "tries = 5\n",
    "num = random.randint(1, 1000)\n",
    "while num != guess and tries != 0:    \n",
    "    guess = int(input(\"Please provide a number: \"))\n",
    "    if num == guess:\n",
    "        print(\"Super guess, you are a genius!\")\n",
    "    elif tries == 1 and num != guess:\n",
    "        print(\"Next time better you fool!\")\n",
    "        break\n",
    "    elif guess > num:\n",
    "        tries -= 1\n",
    "        print(\"You guessed to high. Please try with a lower number. The number of tries are {}: \".format(tries))\n",
    "    else:\n",
    "        tries -= 1\n",
    "        print(\"You guessed to low. Please try with a higher number. The number of tries are {}: \".format(tries))        \n",
    "    "
   ]
  },
  {
   "cell_type": "code",
   "execution_count": 35,
   "id": "26934127-6036-44a7-8812-65959deb8970",
   "metadata": {},
   "outputs": [
    {
     "data": {
      "text/plain": [
       "766"
      ]
     },
     "execution_count": 35,
     "metadata": {},
     "output_type": "execute_result"
    }
   ],
   "source": [
    "num"
   ]
  },
  {
   "cell_type": "code",
   "execution_count": 4,
   "id": "a97f20ad-8d53-4cae-a30c-7cdc17e3790d",
   "metadata": {},
   "outputs": [],
   "source": [
    "def game_logic(num, guess, tries):\n",
    "    while num != guess and tries != 0:  \n",
    "        guess = int(input(\"Please guess a number!\"))\n",
    "        if num == guess:\n",
    "            print(\"Super guess, you are a genius!\")\n",
    "        elif tries == 1 and num != guess:\n",
    "            print(\"Next time better you fool!\") \n",
    "            print(\"The number you needed to guess was: {}\".format(num))\n",
    "            break\n",
    "        elif guess > num:\n",
    "            tries -= 1\n",
    "            print(\"You guessed to high. Please try with a lower number. The number of tries are {}: \".format(tries))\n",
    "        else:\n",
    "            tries -= 1\n",
    "            print(\"You guessed to low. Please try with a higher number. The number of tries are {}: \".format(tries)) \n",
    "    "
   ]
  },
  {
   "cell_type": "code",
   "execution_count": 22,
   "id": "e40d206c-f6c4-4ea3-9651-30e9114feadc",
   "metadata": {},
   "outputs": [
    {
     "ename": "TypeError",
     "evalue": "game_logic() missing 3 required positional arguments: 'num', 'guess', and 'tries'",
     "output_type": "error",
     "traceback": [
      "\u001b[1;31m---------------------------------------------------------------------------\u001b[0m",
      "\u001b[1;31mTypeError\u001b[0m                                 Traceback (most recent call last)",
      "Cell \u001b[1;32mIn[22], line 1\u001b[0m\n\u001b[1;32m----> 1\u001b[0m game_logic()\n",
      "\u001b[1;31mTypeError\u001b[0m: game_logic() missing 3 required positional arguments: 'num', 'guess', and 'tries'"
     ]
    }
   ],
   "source": []
  },
  {
   "cell_type": "code",
   "execution_count": 14,
   "id": "73315212-0709-43f6-bbd5-09ceb2581c99",
   "metadata": {},
   "outputs": [],
   "source": [
    "def game_control():\n",
    "    again = ''\n",
    "    while again.lower() not in ['y', 'n']:\n",
    "        again = input(\"Do you want to play again? Please provide (Y/N).\")\n",
    "        if again.lower() == 'y':\n",
    "            return True \n",
    "        elif again.lower() == 'n':\n",
    "            return False\n",
    "            \n",
    "            \n",
    "    "
   ]
  },
  {
   "cell_type": "code",
   "execution_count": 8,
   "id": "6174f23a-87fe-425e-8c01-b94e1802d80b",
   "metadata": {},
   "outputs": [
    {
     "name": "stdin",
     "output_type": "stream",
     "text": [
      "Do you want to play again? Please provide (Y/N). Y\n"
     ]
    },
    {
     "data": {
      "text/plain": [
       "True"
      ]
     },
     "execution_count": 8,
     "metadata": {},
     "output_type": "execute_result"
    }
   ],
   "source": [
    "game_control()"
   ]
  },
  {
   "cell_type": "code",
   "execution_count": 1,
   "id": "cb657e51-6b1e-459d-b772-6e51f95b9fdf",
   "metadata": {},
   "outputs": [],
   "source": [
    "def play_game():\n",
    "    while True:\n",
    "        num = random.randint(1,10)\n",
    "        tries = 5\n",
    "        guess = None\n",
    "        print('''\n",
    "        Welcome to the number guessing game you fool! \n",
    "        You have five quesses in total...    ''')\n",
    "        game_logic(num, guess, tries)\n",
    "    \n",
    "        if not game_control():\n",
    "            print(\"See you next time!\")\n",
    "            break\n",
    "\n"
   ]
  },
  {
   "cell_type": "code",
   "execution_count": 7,
   "id": "e41f9928-6d5a-42cf-bb6f-84ea670c8137",
   "metadata": {},
   "outputs": [
    {
     "name": "stdout",
     "output_type": "stream",
     "text": [
      "\n",
      "        Welcome to the number guessing game you fool! \n",
      "        You have five quesses in total...    \n"
     ]
    },
    {
     "name": "stdin",
     "output_type": "stream",
     "text": [
      "Please guess a number! 5\n"
     ]
    },
    {
     "name": "stdout",
     "output_type": "stream",
     "text": [
      "You guessed to high. Please try with a lower number. The number of tries are 4: \n"
     ]
    },
    {
     "name": "stdin",
     "output_type": "stream",
     "text": [
      "Please guess a number! 5\n"
     ]
    },
    {
     "name": "stdout",
     "output_type": "stream",
     "text": [
      "You guessed to high. Please try with a lower number. The number of tries are 3: \n"
     ]
    },
    {
     "name": "stdin",
     "output_type": "stream",
     "text": [
      "Please guess a number! 5\n"
     ]
    },
    {
     "name": "stdout",
     "output_type": "stream",
     "text": [
      "You guessed to high. Please try with a lower number. The number of tries are 2: \n"
     ]
    },
    {
     "name": "stdin",
     "output_type": "stream",
     "text": [
      "Please guess a number! 5\n"
     ]
    },
    {
     "name": "stdout",
     "output_type": "stream",
     "text": [
      "You guessed to high. Please try with a lower number. The number of tries are 1: \n"
     ]
    },
    {
     "name": "stdin",
     "output_type": "stream",
     "text": [
      "Please guess a number! 5\n"
     ]
    },
    {
     "name": "stdout",
     "output_type": "stream",
     "text": [
      "Next time better you fool!\n",
      "The number you needed to guess was: 4\n"
     ]
    },
    {
     "ename": "NameError",
     "evalue": "name 'game_control' is not defined",
     "output_type": "error",
     "traceback": [
      "\u001b[1;31m---------------------------------------------------------------------------\u001b[0m",
      "\u001b[1;31mNameError\u001b[0m                                 Traceback (most recent call last)",
      "Cell \u001b[1;32mIn[7], line 1\u001b[0m\n\u001b[1;32m----> 1\u001b[0m play_game()\n",
      "Cell \u001b[1;32mIn[1], line 11\u001b[0m, in \u001b[0;36mplay_game\u001b[1;34m()\u001b[0m\n\u001b[0;32m      6\u001b[0m \u001b[38;5;28mprint\u001b[39m(\u001b[38;5;124m'''\u001b[39m\n\u001b[0;32m      7\u001b[0m \u001b[38;5;124mWelcome to the number guessing game you fool! \u001b[39m\n\u001b[0;32m      8\u001b[0m \u001b[38;5;124mYou have five quesses in total...    \u001b[39m\u001b[38;5;124m'''\u001b[39m)\n\u001b[0;32m      9\u001b[0m game_logic(num, guess, tries)\n\u001b[1;32m---> 11\u001b[0m \u001b[38;5;28;01mif\u001b[39;00m \u001b[38;5;129;01mnot\u001b[39;00m game_control():\n\u001b[0;32m     12\u001b[0m     \u001b[38;5;28mprint\u001b[39m(\u001b[38;5;124m\"\u001b[39m\u001b[38;5;124mSee you next time!\u001b[39m\u001b[38;5;124m\"\u001b[39m)\n\u001b[0;32m     13\u001b[0m     \u001b[38;5;28;01mbreak\u001b[39;00m\n",
      "\u001b[1;31mNameError\u001b[0m: name 'game_control' is not defined"
     ]
    }
   ],
   "source": [
    "play_game()\n"
   ]
  },
  {
   "cell_type": "code",
   "execution_count": 6,
   "id": "ff2284d7-249f-4067-b69d-2ffa31f09392",
   "metadata": {},
   "outputs": [],
   "source": [
    "import random\n"
   ]
  },
  {
   "cell_type": "code",
   "execution_count": 8,
   "id": "be1aee43-fd57-4cbb-937a-0e8368426566",
   "metadata": {},
   "outputs": [],
   "source": [
    "shopping_list = []"
   ]
  },
  {
   "cell_type": "code",
   "execution_count": 9,
   "id": "e87ad3b2-b67a-44b9-9a30-806f21a5dbc3",
   "metadata": {},
   "outputs": [
    {
     "data": {
      "text/plain": [
       "list"
      ]
     },
     "execution_count": 9,
     "metadata": {},
     "output_type": "execute_result"
    }
   ],
   "source": [
    "type(shopping_list)"
   ]
  },
  {
   "cell_type": "code",
   "execution_count": 10,
   "id": "68c147f6-5d02-4c65-a8c2-e1dabfff3154",
   "metadata": {},
   "outputs": [
    {
     "data": {
      "text/plain": [
       "['__add__',\n",
       " '__class__',\n",
       " '__class_getitem__',\n",
       " '__contains__',\n",
       " '__delattr__',\n",
       " '__delitem__',\n",
       " '__dir__',\n",
       " '__doc__',\n",
       " '__eq__',\n",
       " '__format__',\n",
       " '__ge__',\n",
       " '__getattribute__',\n",
       " '__getitem__',\n",
       " '__getstate__',\n",
       " '__gt__',\n",
       " '__hash__',\n",
       " '__iadd__',\n",
       " '__imul__',\n",
       " '__init__',\n",
       " '__init_subclass__',\n",
       " '__iter__',\n",
       " '__le__',\n",
       " '__len__',\n",
       " '__lt__',\n",
       " '__mul__',\n",
       " '__ne__',\n",
       " '__new__',\n",
       " '__reduce__',\n",
       " '__reduce_ex__',\n",
       " '__repr__',\n",
       " '__reversed__',\n",
       " '__rmul__',\n",
       " '__setattr__',\n",
       " '__setitem__',\n",
       " '__sizeof__',\n",
       " '__str__',\n",
       " '__subclasshook__',\n",
       " 'append',\n",
       " 'clear',\n",
       " 'copy',\n",
       " 'count',\n",
       " 'extend',\n",
       " 'index',\n",
       " 'insert',\n",
       " 'pop',\n",
       " 'remove',\n",
       " 'reverse',\n",
       " 'sort']"
      ]
     },
     "execution_count": 10,
     "metadata": {},
     "output_type": "execute_result"
    }
   ],
   "source": [
    "dir(shopping_list)"
   ]
  },
  {
   "cell_type": "code",
   "execution_count": 11,
   "id": "a2c2b059-c413-4f77-b15a-c2920b77af01",
   "metadata": {},
   "outputs": [
    {
     "data": {
      "text/plain": [
       "<function list.remove(value, /)>"
      ]
     },
     "execution_count": 11,
     "metadata": {},
     "output_type": "execute_result"
    }
   ],
   "source": [
    "shopping_list.remove"
   ]
  },
  {
   "cell_type": "code",
   "execution_count": null,
   "id": "18af0dfc-7a2b-42e5-be96-694d0dda1356",
   "metadata": {},
   "outputs": [],
   "source": []
  }
 ],
 "metadata": {
  "kernelspec": {
   "display_name": "Python 3 (ipykernel)",
   "language": "python",
   "name": "python3"
  },
  "language_info": {
   "codemirror_mode": {
    "name": "ipython",
    "version": 3
   },
   "file_extension": ".py",
   "mimetype": "text/x-python",
   "name": "python",
   "nbconvert_exporter": "python",
   "pygments_lexer": "ipython3",
   "version": "3.11.7"
  }
 },
 "nbformat": 4,
 "nbformat_minor": 5
}
