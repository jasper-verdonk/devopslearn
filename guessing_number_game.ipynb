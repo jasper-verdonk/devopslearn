{
 "cells": [
  {
   "cell_type": "markdown",
   "id": "68eceb82-0d19-42f9-9852-fc486fcdeeff",
   "metadata": {},
   "source": [
    "\n",
    "\n"
   ]
  },
  {
   "cell_type": "code",
   "execution_count": 1,
   "id": "10e6a0ab-2ab8-4be0-98cf-f41874968ebc",
   "metadata": {},
   "outputs": [],
   "source": [
    "import random"
   ]
  },
  {
   "cell_type": "code",
   "execution_count": 2,
   "id": "86f64d54-dfc7-4996-9945-e72ea9644d08",
   "metadata": {},
   "outputs": [],
   "source": [
    "def game_control():\n",
    "    again = ''\n",
    "    while again.lower() not in ['y', 'n']:\n",
    "        again = input(\"Do you want to play again? Please provide (Y/N).\")\n",
    "        if again.lower() == 'y':\n",
    "            return True \n",
    "        elif again.lower() == 'n':\n",
    "            return False"
   ]
  },
  {
   "cell_type": "code",
   "execution_count": 3,
   "id": "2d333fd0-5cc1-4f5a-bdb6-89fc58891c89",
   "metadata": {},
   "outputs": [],
   "source": [
    "def game_logic(num, guess, tries):\n",
    "    while num != guess and tries != 0:  \n",
    "        guess = int(input(\"Please guess a number!\"))\n",
    "        if num == guess:\n",
    "            print(\"Super guess, you are a genius!\")\n",
    "        elif tries == 1 and num != guess:\n",
    "            print(\"Next time better you fool!\") \n",
    "            print(\"The number you needed to guess was: {}\".format(num))\n",
    "            break\n",
    "        elif guess > num:\n",
    "            tries -= 1\n",
    "            print(\"You guessed to high. Please try with a lower number. The number of tries are {}: \".format(tries))\n",
    "        else:\n",
    "            tries -= 1\n",
    "            print(\"You guessed to low. Please try with a higher number. The number of tries are {}: \".format(tries)) \n",
    "    "
   ]
  },
  {
   "cell_type": "code",
   "execution_count": 4,
   "id": "ca7f1198-a5fb-4159-8540-8b45c69f39ff",
   "metadata": {},
   "outputs": [],
   "source": [
    "def play_game():\n",
    "    while True:\n",
    "        num = random.randint(1,10)\n",
    "        tries = 5\n",
    "        guess = None\n",
    "        print('''\n",
    "        Welcome to the number guessing game you fool! \n",
    "        You have five quesses in total...    ''')\n",
    "        game_logic(num, guess, tries)\n",
    "    \n",
    "        if not game_control():\n",
    "            print(\"See you next time!\")\n",
    "            break"
   ]
  },
  {
   "cell_type": "code",
   "execution_count": 5,
   "id": "0f1c26c5-07cf-4fb5-8564-a3984774ce93",
   "metadata": {},
   "outputs": [
    {
     "name": "stdout",
     "output_type": "stream",
     "text": [
      "\n",
      "        Welcome to the number guessing game you fool! \n",
      "        You have five quesses in total...    \n"
     ]
    },
    {
     "name": "stdin",
     "output_type": "stream",
     "text": [
      "Please guess a number! 50\n"
     ]
    },
    {
     "name": "stdout",
     "output_type": "stream",
     "text": [
      "You guessed to high. Please try with a lower number. The number of tries are 4: \n"
     ]
    },
    {
     "name": "stdin",
     "output_type": "stream",
     "text": [
      "Please guess a number! 25\n"
     ]
    },
    {
     "name": "stdout",
     "output_type": "stream",
     "text": [
      "You guessed to high. Please try with a lower number. The number of tries are 3: \n"
     ]
    },
    {
     "name": "stdin",
     "output_type": "stream",
     "text": [
      "Please guess a number! 13\n"
     ]
    },
    {
     "name": "stdout",
     "output_type": "stream",
     "text": [
      "You guessed to high. Please try with a lower number. The number of tries are 2: \n"
     ]
    },
    {
     "name": "stdin",
     "output_type": "stream",
     "text": [
      "Please guess a number! 6\n"
     ]
    },
    {
     "name": "stdout",
     "output_type": "stream",
     "text": [
      "You guessed to high. Please try with a lower number. The number of tries are 1: \n"
     ]
    },
    {
     "name": "stdin",
     "output_type": "stream",
     "text": [
      "Please guess a number! 3\n"
     ]
    },
    {
     "name": "stdout",
     "output_type": "stream",
     "text": [
      "Super guess, you are a genius!\n"
     ]
    },
    {
     "name": "stdin",
     "output_type": "stream",
     "text": [
      "Do you want to play again? Please provide (Y/N). n\n"
     ]
    },
    {
     "name": "stdout",
     "output_type": "stream",
     "text": [
      "See you next time!\n"
     ]
    }
   ],
   "source": [
    "play_game()"
   ]
  },
  {
   "cell_type": "code",
   "execution_count": null,
   "id": "1d8f914f-ef65-4cb0-afb7-3e65ff6310e4",
   "metadata": {},
   "outputs": [],
   "source": []
  }
 ],
 "metadata": {
  "kernelspec": {
   "display_name": "Python 3 (ipykernel)",
   "language": "python",
   "name": "python3"
  },
  "language_info": {
   "codemirror_mode": {
    "name": "ipython",
    "version": 3
   },
   "file_extension": ".py",
   "mimetype": "text/x-python",
   "name": "python",
   "nbconvert_exporter": "python",
   "pygments_lexer": "ipython3",
   "version": "3.11.7"
  }
 },
 "nbformat": 4,
 "nbformat_minor": 5
}
