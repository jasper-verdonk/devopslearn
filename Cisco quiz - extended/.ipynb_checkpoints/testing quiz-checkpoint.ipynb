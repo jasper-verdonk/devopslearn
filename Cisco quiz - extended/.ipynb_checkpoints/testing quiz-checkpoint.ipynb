{
 "cells": [
  {
   "cell_type": "code",
   "execution_count": 1,
   "id": "39753c94-f59e-4197-92ab-671427de2103",
   "metadata": {},
   "outputs": [],
   "source": [
    "import importlib\n",
    "import random\n",
    "import sys"
   ]
  },
  {
   "cell_type": "code",
   "execution_count": 9,
   "id": "4f2d4b70-298b-4bbc-a808-1669d00e5d58",
   "metadata": {},
   "outputs": [
    {
     "name": "stdout",
     "output_type": "stream",
     "text": [
      "{'What does EIGRP stand for?': 'Enhanced Interior Gateway Routing Protocol', 'What is the EIGRP metric based on?': 'Bandwidth and delay', 'What is the default EIGRP administative distance?': '90', '(Y/N) The Autonomous system number (ASN) must match for neighborship formation': 'Y'}\n"
     ]
    }
   ],
   "source": [
    "import importlib\n",
    "\n",
    "topic_name = \"eigrp\"  # pretend user chose EIGRP\n",
    "module = importlib.import_module(f\"questions.{topic_name}\")\n",
    "# This loads questions/eigrp.py as a module.\n",
    "print(module.questions)"
   ]
  },
  {
   "cell_type": "code",
   "execution_count": 7,
   "id": "c624cffe-bae3-4717-a347-b4946d3e707c",
   "metadata": {},
   "outputs": [
    {
     "data": {
      "text/plain": [
       "{'What does EIGRP stand for?': 'Enhanced Interior Gateway Routing Protocol',\n",
       " 'What is the EIGRP metric based on?': 'Bandwidth and delay',\n",
       " 'What is the default EIGRP administative distance?': '90',\n",
       " '(Y/N) The Autonomous system number (ASN) must match for neighborship formation': 'Y'}"
      ]
     },
     "execution_count": 7,
     "metadata": {},
     "output_type": "execute_result"
    }
   ],
   "source": [
    "module.questions"
   ]
  },
  {
   "cell_type": "code",
   "execution_count": 2,
   "id": "8ab37878-8b7c-4372-b71d-49f9ef20c1d3",
   "metadata": {},
   "outputs": [],
   "source": [
    "def load_questions(topic_name):\n",
    "    try:\n",
    "        module = importlib.import_module(f\"questions.{topic_name}\")\n",
    "        return module.questions\n",
    "    except (ModuleNotFoundError, AttributeError):\n",
    "        print(\"Topic file not found or improperly formatted.\")\n",
    "        return {}\n",
    "# https://www.scaler.com/topics/python-importlib/ read about importlib.import_module"
   ]
  },
  {
   "cell_type": "code",
   "execution_count": 1,
   "id": "36672987-eb1a-4a9b-ad96-d43ca4c82eb9",
   "metadata": {},
   "outputs": [],
   "source": [
    "TOPICS = {\n",
    "    \"1\": \"eigrp\",\n",
    "    \"2\": \"ospf\",\n",
    "    \"3\": \"bgp\",\n",
    "    \"0\": \"exit\"\n",
    "}"
   ]
  },
  {
   "cell_type": "code",
   "execution_count": 2,
   "id": "2e32aee6-ee33-4c31-84bb-6322be7e87f8",
   "metadata": {},
   "outputs": [
    {
     "data": {
      "text/plain": [
       "dict_items([('1', 'eigrp'), ('2', 'ospf'), ('3', 'bgp'), ('0', 'exit')])"
      ]
     },
     "execution_count": 2,
     "metadata": {},
     "output_type": "execute_result"
    }
   ],
   "source": [
    "type(TOPICS.items())\n",
    "TOPICS.items()"
   ]
  },
  {
   "cell_type": "code",
   "execution_count": 3,
   "id": "2c701711-d1d2-4afb-be46-964ce95d41d8",
   "metadata": {},
   "outputs": [
    {
     "data": {
      "text/plain": [
       "dict_items([('1', 'eigrp'), ('2', 'ospf'), ('3', 'bgp'), ('0', 'exit')])"
      ]
     },
     "execution_count": 3,
     "metadata": {},
     "output_type": "execute_result"
    }
   ],
   "source": [
    "TOPICS.items()"
   ]
  },
  {
   "cell_type": "code",
   "execution_count": 5,
   "id": "ddbe57bc-d401-412c-b929-9e34fe57b112",
   "metadata": {},
   "outputs": [
    {
     "data": {
      "text/plain": [
       "tuple"
      ]
     },
     "execution_count": 5,
     "metadata": {},
     "output_type": "execute_result"
    }
   ],
   "source": [
    "A = ('2', 'ospf')\n",
    "type(A)"
   ]
  },
  {
   "cell_type": "code",
   "execution_count": 7,
   "id": "e0043110-aaa9-4c9e-8def-cfdd1b68a75d",
   "metadata": {},
   "outputs": [
    {
     "data": {
      "text/plain": [
       "'ospf'"
      ]
     },
     "execution_count": 7,
     "metadata": {},
     "output_type": "execute_result"
    }
   ],
   "source": [
    "TOPICS[\"2\"]"
   ]
  },
  {
   "cell_type": "code",
   "execution_count": 4,
   "id": "ae24b756-d8e7-464e-8145-f45c70e6bf66",
   "metadata": {},
   "outputs": [],
   "source": [
    "def quiz_topic(topic):\n",
    "    questions = load_questions(topic)\n",
    "    if not questions:\n",
    "        return\n",
    "\n",
    "    question_keys = list(questions.keys())\n",
    "    random.shuffle(question_keys)\n",
    "\n",
    "    for q in question_keys:\n",
    "        print(f\"\\nQuestion: {q}\")\n",
    "        answer = input(\"Your answer: \").strip()\n",
    "\n",
    "        if answer.lower() == questions[q].lower():\n",
    "            print(\"✅ Correct!\")\n",
    "        else:\n",
    "            print(f\"❌ Incorrect! Correct answer: {questions[q]}\")\n",
    "\n",
    "        next_action = input(\"Press [Enter] for next, [m]enu, or [e]xit: \").strip().lower()\n",
    "        if next_action == \"m\":\n",
    "            return\n",
    "        elif next_action == \"e\":\n",
    "            sys.exit(\"Goodbye!\")"
   ]
  },
  {
   "cell_type": "code",
   "execution_count": null,
   "id": "75e30281-b51e-43ed-a138-29cbf405697a",
   "metadata": {},
   "outputs": [
    {
     "name": "stdout",
     "output_type": "stream",
     "text": [
      "\n",
      "--- Cisco Exam Quiz ---\n",
      "1. EIGRP\n",
      "2. OSPF\n",
      "3. BGP\n",
      "0. Exit\n"
     ]
    },
    {
     "name": "stdin",
     "output_type": "stream",
     "text": [
      "Choose a topic:  1\n"
     ]
    },
    {
     "name": "stdout",
     "output_type": "stream",
     "text": [
      "\n",
      "Question: What is the EIGRP metric based on?\n"
     ]
    },
    {
     "name": "stdin",
     "output_type": "stream",
     "text": [
      "Your answer:  Bandwidth and Delay\n"
     ]
    },
    {
     "name": "stdout",
     "output_type": "stream",
     "text": [
      "✅ Correct!\n"
     ]
    },
    {
     "name": "stdin",
     "output_type": "stream",
     "text": [
      "Press [Enter] for next, [m]enu, or [e]xit:  \n"
     ]
    },
    {
     "name": "stdout",
     "output_type": "stream",
     "text": [
      "\n",
      "Question: What is the default EIGRP administative distance?\n"
     ]
    },
    {
     "name": "stdin",
     "output_type": "stream",
     "text": [
      "Your answer:  90\n"
     ]
    },
    {
     "name": "stdout",
     "output_type": "stream",
     "text": [
      "✅ Correct!\n"
     ]
    },
    {
     "name": "stdin",
     "output_type": "stream",
     "text": [
      "Press [Enter] for next, [m]enu, or [e]xit:  \n"
     ]
    },
    {
     "name": "stdout",
     "output_type": "stream",
     "text": [
      "\n",
      "Question: What does EIGRP stand for?\n"
     ]
    },
    {
     "name": "stdin",
     "output_type": "stream",
     "text": [
      "Your answer:  Enhanced Interior Gateway Routing Protocol\n"
     ]
    },
    {
     "name": "stdout",
     "output_type": "stream",
     "text": [
      "✅ Correct!\n"
     ]
    }
   ],
   "source": [
    "def main_menu():\n",
    "    while True:\n",
    "        print(\"\\n--- Cisco Exam Quiz ---\")\n",
    "        for key, value in TOPICS.items():\n",
    "            if value != \"exit\":\n",
    "                print(f\"{key}. {value.upper()}\")\n",
    "        print(\"0. Exit\")\n",
    "\n",
    "        choice = input(\"Choose a topic: \").strip()\n",
    "        if choice in TOPICS:\n",
    "            if choice == \"0\":\n",
    "                print(\"Good luck with your exam!\")\n",
    "                break\n",
    "            else:\n",
    "                quiz_topic(TOPICS[choice])\n",
    "        else:\n",
    "            print(\"Invalid choice. Please try again.\")\n",
    "\n",
    "if __name__ == \"__main__\":\n",
    "    main_menu()"
   ]
  },
  {
   "cell_type": "code",
   "execution_count": null,
   "id": "b59f70aa-efb3-4b78-bfd0-61424ed4f161",
   "metadata": {},
   "outputs": [],
   "source": [
    "TOPICS"
   ]
  },
  {
   "cell_type": "code",
   "execution_count": 8,
   "id": "325aa050-c0dc-4a67-a1b9-3ebf11b8955b",
   "metadata": {},
   "outputs": [],
   "source": [
    "questions = {\n",
    "    \"What does BGP stand for?\": {\n",
    "        \"anwser\": \"Border Gateway Protocol\", \n",
    "        \"notes\": \"...\"\n",
    "         },\n",
    "    \"What is the default administrative distance for eBGP?\": {\n",
    "        \"answer\": \"20\", \n",
    "        \"notes\": \"...\"\n",
    "         },\n",
    "    \"What is the TCP port of BGP?\": {\n",
    "        \"answer\": \"179\", \n",
    "        \"notes\": \"This is the default BGP port\"\n",
    "         },\n",
    "    \"Which BGP attribute must be recogonized by all BGP implementations and advertised to other autonomous systems?\": {\n",
    "        \"answer\": \"Well-known mandatory\", \n",
    "        \"notes\": \"...\"\n",
    "         }, \n",
    "    \"How are the BGP Path Attributes (PAs) classified?\": {\n",
    "        \"answer\": \"Well-known mandatory, well-known discretionary, optional transitive, optional non-transitive\", \n",
    "        \"notes\": \"...\"\n",
    "         }, \n",
    "    \"Well-known mandatory PAs must be included with every prefix advertisement (Y/N)\": {\n",
    "        \"answer\": \"Y\", \n",
    "        \"notes\":\"Example of well-know mandatory attributes: AS-path\" \n",
    "         },\n",
    "    \"Well-known discretionary PAs must be included with the prefix advertisement (Y/N)\": {\n",
    "        \"answer\": \"N\", \n",
    "        \"notes\":\"...\" },\n",
    "    \"The IPv6 address family must be initialized to establish a BGP session with a peer using IPv6 addressing (Y/N)\": {\n",
    "        \"answer\": \"Y\", \n",
    "        \"notes\": \"The IPv6 address family does not exits by default on IOS-based devices\"\n",
    "         },    \n",
    "}"
   ]
  },
  {
   "cell_type": "code",
   "execution_count": 9,
   "id": "65862d5c-2548-4abc-b723-239fbd91075e",
   "metadata": {},
   "outputs": [
    {
     "data": {
      "text/plain": [
       "{'What does BGP stand for?': {'anwser': 'Border Gateway Protocol',\n",
       "  'notes': '...'},\n",
       " 'What is the default administrative distance for eBGP?': {'answer': '20',\n",
       "  'notes': '...'},\n",
       " 'What is the TCP port of BGP?': {'answer': '179',\n",
       "  'notes': 'This is the default BGP port'},\n",
       " 'Which BGP attribute must be recogonized by all BGP implementations and advertised to other autonomous systems?': {'answer': 'Well-known mandatory',\n",
       "  'notes': '...'},\n",
       " 'How are the BGP Path Attributes (PAs) classified?': {'answer': 'Well-known mandatory, well-known discretionary, optional transitive, optional non-transitive',\n",
       "  'notes': '...'},\n",
       " 'Well-known mandatory PAs must be included with every prefix advertisement (Y/N)': {'answer': 'Y',\n",
       "  'notes': 'Example of well-know mandatory attributes: AS-path'},\n",
       " 'Well-known discretionary PAs must be included with the prefix advertisement (Y/N)': {'answer': 'N',\n",
       "  'notes': '...'},\n",
       " 'The IPv6 address family must be initialized to establish a BGP session with a peer using IPv6 addressing (Y/N)': {'answer': 'Y',\n",
       "  'notes': 'The IPv6 address family does not exits by default on IOS-based devices'}}"
      ]
     },
     "execution_count": 9,
     "metadata": {},
     "output_type": "execute_result"
    }
   ],
   "source": [
    "questions\n"
   ]
  },
  {
   "cell_type": "code",
   "execution_count": 10,
   "id": "233c97e0-0e90-465d-9d22-90f8c016d1f0",
   "metadata": {},
   "outputs": [],
   "source": [
    "question_keys = list(questions.keys())\n"
   ]
  },
  {
   "cell_type": "code",
   "execution_count": 11,
   "id": "96903e44-0796-473a-b67c-7b2309f43618",
   "metadata": {},
   "outputs": [
    {
     "data": {
      "text/plain": [
       "['What does BGP stand for?',\n",
       " 'What is the default administrative distance for eBGP?',\n",
       " 'What is the TCP port of BGP?',\n",
       " 'Which BGP attribute must be recogonized by all BGP implementations and advertised to other autonomous systems?',\n",
       " 'How are the BGP Path Attributes (PAs) classified?',\n",
       " 'Well-known mandatory PAs must be included with every prefix advertisement (Y/N)',\n",
       " 'Well-known discretionary PAs must be included with the prefix advertisement (Y/N)',\n",
       " 'The IPv6 address family must be initialized to establish a BGP session with a peer using IPv6 addressing (Y/N)']"
      ]
     },
     "execution_count": 11,
     "metadata": {},
     "output_type": "execute_result"
    }
   ],
   "source": [
    "question_keys"
   ]
  },
  {
   "cell_type": "code",
   "execution_count": 12,
   "id": "7fb0b2f6-75f9-4801-91a5-4f2207e7a026",
   "metadata": {},
   "outputs": [],
   "source": [
    "correct_info = questions['The IPv6 address family must be initialized to establish a BGP session with a peer using IPv6 addressing (Y/N)']"
   ]
  },
  {
   "cell_type": "code",
   "execution_count": 13,
   "id": "0ace05c6-16db-4f08-a84c-e33f7902eb19",
   "metadata": {},
   "outputs": [
    {
     "data": {
      "text/plain": [
       "{'answer': 'Y',\n",
       " 'notes': 'The IPv6 address family does not exits by default on IOS-based devices'}"
      ]
     },
     "execution_count": 13,
     "metadata": {},
     "output_type": "execute_result"
    }
   ],
   "source": [
    "correct_info"
   ]
  },
  {
   "cell_type": "code",
   "execution_count": 14,
   "id": "68b8cbce-7d0e-4c13-99ad-d00a695481bb",
   "metadata": {},
   "outputs": [
    {
     "data": {
      "text/plain": [
       "True"
      ]
     },
     "execution_count": 14,
     "metadata": {},
     "output_type": "execute_result"
    }
   ],
   "source": [
    "isinstance(correct_info, dict)"
   ]
  },
  {
   "cell_type": "code",
   "execution_count": 15,
   "id": "aafec6fe-32c6-4e11-b3cc-a75ef1371cb2",
   "metadata": {},
   "outputs": [],
   "source": [
    "notes = correct_info.get(\"notes\")"
   ]
  },
  {
   "cell_type": "code",
   "execution_count": 16,
   "id": "62399ba0-fb19-4f2f-8494-304cfbed12e5",
   "metadata": {},
   "outputs": [
    {
     "data": {
      "text/plain": [
       "'The IPv6 address family does not exits by default on IOS-based devices'"
      ]
     },
     "execution_count": 16,
     "metadata": {},
     "output_type": "execute_result"
    }
   ],
   "source": [
    "notes"
   ]
  },
  {
   "cell_type": "code",
   "execution_count": 17,
   "id": "8d97dc1a-b136-44b3-8ae6-1ede6ea6b33a",
   "metadata": {},
   "outputs": [
    {
     "ename": "SyntaxError",
     "evalue": "incomplete input (1426432082.py, line 1)",
     "output_type": "error",
     "traceback": [
      "\u001b[1;36m  Cell \u001b[1;32mIn[17], line 1\u001b[1;36m\u001b[0m\n\u001b[1;33m    if notes:\u001b[0m\n\u001b[1;37m             ^\u001b[0m\n\u001b[1;31mSyntaxError\u001b[0m\u001b[1;31m:\u001b[0m incomplete input\n"
     ]
    }
   ],
   "source": [
    "if notes:"
   ]
  },
  {
   "cell_type": "code",
   "execution_count": 18,
   "id": "2fef95eb-c841-48d3-8ad2-63f043045a53",
   "metadata": {},
   "outputs": [
    {
     "name": "stdout",
     "output_type": "stream",
     "text": [
      "💡 Note: The IPv6 address family does not exits by default on IOS-based devices\n"
     ]
    }
   ],
   "source": [
    "if notes:\n",
    "    print(f\"💡 Note: {notes}\")"
   ]
  },
  {
   "cell_type": "code",
   "execution_count": null,
   "id": "1fe12dd2-e07d-47f2-a889-d2767b4ce02a",
   "metadata": {},
   "outputs": [],
   "source": []
  }
 ],
 "metadata": {
  "kernelspec": {
   "display_name": "Python 3 (ipykernel)",
   "language": "python",
   "name": "python3"
  },
  "language_info": {
   "codemirror_mode": {
    "name": "ipython",
    "version": 3
   },
   "file_extension": ".py",
   "mimetype": "text/x-python",
   "name": "python",
   "nbconvert_exporter": "python",
   "pygments_lexer": "ipython3",
   "version": "3.11.7"
  }
 },
 "nbformat": 4,
 "nbformat_minor": 5
}
