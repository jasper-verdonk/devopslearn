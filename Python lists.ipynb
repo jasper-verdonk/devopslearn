{
 "cells": [
  {
   "cell_type": "markdown",
   "id": "fc269f37-d2de-496f-97fc-5bb3a178ce95",
   "metadata": {},
   "source": [
    "# What are lists?"
   ]
  },
  {
   "cell_type": "code",
   "execution_count": 2,
   "id": "500fd7f8-209a-4a14-9d97-d002975ee155",
   "metadata": {},
   "outputs": [],
   "source": [
    "shopping_list = ['apples', 'bananas', 'MG42', 'bulletbarrels']"
   ]
  },
  {
   "cell_type": "code",
   "execution_count": 3,
   "id": "6d3a384a-b74e-449e-8974-93fe74fc1148",
   "metadata": {},
   "outputs": [
    {
     "data": {
      "text/plain": [
       "['apples', 'bananas', 'MG42', 'bulletbarrels']"
      ]
     },
     "execution_count": 3,
     "metadata": {},
     "output_type": "execute_result"
    }
   ],
   "source": [
    "shopping_list"
   ]
  },
  {
   "cell_type": "code",
   "execution_count": 3,
   "id": "3c3d91a9-38df-4b3e-923d-ea2887c8f1bd",
   "metadata": {},
   "outputs": [
    {
     "data": {
      "text/plain": [
       "list"
      ]
     },
     "execution_count": 3,
     "metadata": {},
     "output_type": "execute_result"
    }
   ],
   "source": [
    "type(shopping_list)"
   ]
  },
  {
   "cell_type": "code",
   "execution_count": 4,
   "id": "40fb32bb-be6e-415d-9256-605b6c50855e",
   "metadata": {},
   "outputs": [],
   "source": [
    "number_list = [1, 3, 5, 7]"
   ]
  },
  {
   "cell_type": "code",
   "execution_count": 5,
   "id": "f3b58b42-4599-4bb9-a6de-89e183fdd84c",
   "metadata": {},
   "outputs": [],
   "source": [
    "mixed_list = ['MG42', 100]"
   ]
  },
  {
   "cell_type": "code",
   "execution_count": 6,
   "id": "a0ad07ec-cabd-4334-8838-ac462daaff15",
   "metadata": {},
   "outputs": [],
   "source": [
    "mixed_list_all_types = [True, 3.14, 'Jozef Stalin', 27]"
   ]
  },
  {
   "cell_type": "code",
   "execution_count": 7,
   "id": "d7733370-a2dc-46b2-8ae5-32e7ad88e554",
   "metadata": {},
   "outputs": [
    {
     "data": {
      "text/plain": [
       "[True, 3.14, 'Jozef Stalin', 27]"
      ]
     },
     "execution_count": 7,
     "metadata": {},
     "output_type": "execute_result"
    }
   ],
   "source": [
    "mixed_list_all_types"
   ]
  },
  {
   "cell_type": "code",
   "execution_count": 8,
   "id": "1260f56f-67e1-4d6e-b2a8-54942e710dba",
   "metadata": {},
   "outputs": [],
   "source": [
    "mixed_list_all_types = [True, 3.14, 'Jozef Stalin', 27, [1, 3, 5, 7]]"
   ]
  },
  {
   "cell_type": "code",
   "execution_count": 9,
   "id": "15f0502a-d8ec-41c9-bec2-bff93b777bb4",
   "metadata": {},
   "outputs": [
    {
     "data": {
      "text/plain": [
       "[True, 3.14, 'Jozef Stalin', 27, [1, 3, 5, 7]]"
      ]
     },
     "execution_count": 9,
     "metadata": {},
     "output_type": "execute_result"
    }
   ],
   "source": [
    "mixed_list_all_types"
   ]
  },
  {
   "cell_type": "code",
   "execution_count": 10,
   "id": "ea28fed1-0ce7-430d-86bd-ce31d9280abc",
   "metadata": {},
   "outputs": [],
   "source": [
    "tic_tac_toe = [\n",
    "    [[\" \"], [\" \"], [\" \"]],\n",
    "    [[\" \"], [\" \"], [\" \"]], \n",
    "    [[\" \"], [\" \"], [\" \"]]\n",
    "]"
   ]
  },
  {
   "cell_type": "code",
   "execution_count": 11,
   "id": "a973762f-a475-4406-9ac7-4c7aa74f4d79",
   "metadata": {},
   "outputs": [
    {
     "data": {
      "text/plain": [
       "[[[' '], [' '], [' ']], [[' '], [' '], [' ']], [[' '], [' '], [' ']]]"
      ]
     },
     "execution_count": 11,
     "metadata": {},
     "output_type": "execute_result"
    }
   ],
   "source": [
    "tic_tac_toe"
   ]
  },
  {
   "cell_type": "markdown",
   "id": "30b9de99-99a6-4a14-a2dd-08e336a0d11f",
   "metadata": {},
   "source": [
    "# Accessing list elements"
   ]
  },
  {
   "cell_type": "code",
   "execution_count": 12,
   "id": "ea527502-5da9-4a5e-ab76-bbe95e084742",
   "metadata": {},
   "outputs": [],
   "source": [
    "shopping_list = ['apples', 'bananas', 'MG42', 'bulletbarrels']"
   ]
  },
  {
   "cell_type": "code",
   "execution_count": 17,
   "id": "200fa9de-b142-45ba-a829-833c4bfed87e",
   "metadata": {},
   "outputs": [
    {
     "data": {
      "text/plain": [
       "'MG42'"
      ]
     },
     "execution_count": 17,
     "metadata": {},
     "output_type": "execute_result"
    }
   ],
   "source": [
    "shopping_list[2]"
   ]
  },
  {
   "cell_type": "code",
   "execution_count": 18,
   "id": "11f516cb-b8ba-447c-8661-8fd498a170e1",
   "metadata": {},
   "outputs": [],
   "source": [
    "position = [1, 2, 3, 4, 5, [6, 7, 8, 9, 10]]"
   ]
  },
  {
   "cell_type": "code",
   "execution_count": 19,
   "id": "56b3c1d9-101d-4dce-acae-8d8aba27b6c3",
   "metadata": {},
   "outputs": [
    {
     "data": {
      "text/plain": [
       "[6, 7, 8, 9, 10]"
      ]
     },
     "execution_count": 19,
     "metadata": {},
     "output_type": "execute_result"
    }
   ],
   "source": [
    "position[5]"
   ]
  },
  {
   "cell_type": "code",
   "execution_count": 20,
   "id": "46ad7bfb-8690-4980-9dab-16c29becd725",
   "metadata": {},
   "outputs": [
    {
     "data": {
      "text/plain": [
       "list"
      ]
     },
     "execution_count": 20,
     "metadata": {},
     "output_type": "execute_result"
    }
   ],
   "source": [
    "type(position[5])"
   ]
  },
  {
   "cell_type": "code",
   "execution_count": 21,
   "id": "ca885499-45b2-442c-9591-b90f8371fe18",
   "metadata": {},
   "outputs": [
    {
     "data": {
      "text/plain": [
       "7"
      ]
     },
     "execution_count": 21,
     "metadata": {},
     "output_type": "execute_result"
    }
   ],
   "source": [
    "position[5][1]"
   ]
  },
  {
   "cell_type": "code",
   "execution_count": 22,
   "id": "31291a51-6e3b-4d3d-9978-5366cda93314",
   "metadata": {},
   "outputs": [
    {
     "data": {
      "text/plain": [
       "7"
      ]
     },
     "execution_count": 22,
     "metadata": {},
     "output_type": "execute_result"
    }
   ],
   "source": [
    "position[-1][1]"
   ]
  },
  {
   "cell_type": "code",
   "execution_count": 23,
   "id": "43f141c1-510e-4984-903d-a0babab11f83",
   "metadata": {},
   "outputs": [
    {
     "data": {
      "text/plain": [
       "7"
      ]
     },
     "execution_count": 23,
     "metadata": {},
     "output_type": "execute_result"
    }
   ],
   "source": [
    "position[-1][-4]"
   ]
  },
  {
   "cell_type": "markdown",
   "id": "05cf2cb0-c706-407b-a5af-0b2370246260",
   "metadata": {},
   "source": [
    "Slicing Lists"
   ]
  },
  {
   "cell_type": "code",
   "execution_count": 34,
   "id": "96de6f0e-e8b1-4349-907b-e317e9215802",
   "metadata": {},
   "outputs": [],
   "source": [
    "shopping_list = ['apples', 'bananas', 'MG42', 'bulletbarrels', 'chocolotes', 'japanse', \n",
    "                'Random', 'Command Prompt', 'Is nuts']"
   ]
  },
  {
   "cell_type": "code",
   "execution_count": 35,
   "id": "df1fc319-cd89-469b-8486-914c5d20b01b",
   "metadata": {},
   "outputs": [
    {
     "data": {
      "text/plain": [
       "['apples', 'bananas', 'MG42', 'bulletbarrels', 'chocolotes', 'japanse']"
      ]
     },
     "execution_count": 35,
     "metadata": {},
     "output_type": "execute_result"
    }
   ],
   "source": [
    "shopping_list[0:6]"
   ]
  },
  {
   "cell_type": "code",
   "execution_count": 36,
   "id": "d13b957b-2980-43e8-bb48-fcb17054e892",
   "metadata": {},
   "outputs": [],
   "source": [
    "bens_shopping_list = shopping_list[0:6]"
   ]
  },
  {
   "cell_type": "code",
   "execution_count": 37,
   "id": "a413b570-06ad-4462-8047-920f0c5d74d3",
   "metadata": {},
   "outputs": [
    {
     "data": {
      "text/plain": [
       "['apples', 'bananas', 'MG42', 'bulletbarrels', 'chocolotes', 'japanse']"
      ]
     },
     "execution_count": 37,
     "metadata": {},
     "output_type": "execute_result"
    }
   ],
   "source": [
    "bens_shopping_list"
   ]
  },
  {
   "cell_type": "code",
   "execution_count": 38,
   "id": "e13d2362-abb1-4dd4-a333-75bda6120dad",
   "metadata": {},
   "outputs": [
    {
     "data": {
      "text/plain": [
       "['apples', 'bananas', 'MG42', 'bulletbarrels', 'chocolotes', 'japanse']"
      ]
     },
     "execution_count": 38,
     "metadata": {},
     "output_type": "execute_result"
    }
   ],
   "source": [
    "shopping_list[:6]"
   ]
  },
  {
   "cell_type": "code",
   "execution_count": 39,
   "id": "d3e334b5-e6d8-47c8-9884-e9cf3d48c3bf",
   "metadata": {},
   "outputs": [],
   "source": [
    "tail_shopping_list = shopping_list[6:]"
   ]
  },
  {
   "cell_type": "code",
   "execution_count": 40,
   "id": "68ae5b43-8fe0-4cdf-8d0c-68785997a835",
   "metadata": {},
   "outputs": [
    {
     "data": {
      "text/plain": [
       "['Random', 'Command Prompt', 'Is nuts']"
      ]
     },
     "execution_count": 40,
     "metadata": {},
     "output_type": "execute_result"
    }
   ],
   "source": [
    "tail_shopping_list"
   ]
  },
  {
   "cell_type": "code",
   "execution_count": 41,
   "id": "529186fe-6157-410e-9f7f-0a1924b31fe2",
   "metadata": {},
   "outputs": [
    {
     "data": {
      "text/plain": [
       "['apples',\n",
       " 'bananas',\n",
       " 'MG42',\n",
       " 'bulletbarrels',\n",
       " 'chocolotes',\n",
       " 'japanse',\n",
       " 'Random',\n",
       " 'Command Prompt',\n",
       " 'Is nuts']"
      ]
     },
     "execution_count": 41,
     "metadata": {},
     "output_type": "execute_result"
    }
   ],
   "source": [
    "shopping_list[:]"
   ]
  },
  {
   "cell_type": "code",
   "execution_count": 48,
   "id": "20e1bebc-6a48-417a-821f-b228f221384a",
   "metadata": {},
   "outputs": [
    {
     "data": {
      "text/plain": [
       "['apples',\n",
       " 'bananas',\n",
       " 'MG42',\n",
       " 'bulletbarrels',\n",
       " 'chocolotes',\n",
       " 'japanse',\n",
       " 'Random']"
      ]
     },
     "execution_count": 48,
     "metadata": {},
     "output_type": "execute_result"
    }
   ],
   "source": [
    "shopping_list[:-2]"
   ]
  },
  {
   "cell_type": "code",
   "execution_count": 49,
   "id": "66efd42d-5d49-4e64-80a5-6a6172ece595",
   "metadata": {},
   "outputs": [
    {
     "data": {
      "text/plain": [
       "['apples', 'MG42', 'chocolotes', 'Random', 'Is nuts']"
      ]
     },
     "execution_count": 49,
     "metadata": {},
     "output_type": "execute_result"
    }
   ],
   "source": [
    "shopping_list[::2]"
   ]
  },
  {
   "cell_type": "code",
   "execution_count": 50,
   "id": "18f31617-236b-446f-943f-0f5a8c203469",
   "metadata": {},
   "outputs": [
    {
     "data": {
      "text/plain": [
       "['bananas', 'bulletbarrels', 'japanse', 'Command Prompt']"
      ]
     },
     "execution_count": 50,
     "metadata": {},
     "output_type": "execute_result"
    }
   ],
   "source": [
    "shopping_list[1::2]"
   ]
  },
  {
   "cell_type": "markdown",
   "id": "50cf2739-21f9-4823-9307-7767d3606593",
   "metadata": {},
   "source": [
    "List are muttable objects. The elements can be changed. "
   ]
  },
  {
   "cell_type": "code",
   "execution_count": 51,
   "id": "c166319f-3fb7-41d4-9593-46d6737223fb",
   "metadata": {},
   "outputs": [],
   "source": [
    "greetings = ['Hello', 'Yo', 'Hi']"
   ]
  },
  {
   "cell_type": "code",
   "execution_count": 52,
   "id": "04f89c44-4a60-4d20-a756-34a4506f19ac",
   "metadata": {},
   "outputs": [],
   "source": [
    "shopping_list.sort()"
   ]
  },
  {
   "cell_type": "code",
   "execution_count": 53,
   "id": "23f649b1-4811-4a8b-8474-afbe01a52316",
   "metadata": {},
   "outputs": [],
   "source": [
    "sorted_shopping_list = shopping_list.sort()"
   ]
  },
  {
   "cell_type": "code",
   "execution_count": 54,
   "id": "d7338d71-f832-4df9-b028-4e2b9ae4f099",
   "metadata": {},
   "outputs": [],
   "source": [
    "sorted_shopping_list"
   ]
  },
  {
   "cell_type": "code",
   "execution_count": 55,
   "id": "bf2368cb-1856-4738-af10-458b9981da78",
   "metadata": {},
   "outputs": [
    {
     "data": {
      "text/plain": [
       "['Command Prompt',\n",
       " 'Is nuts',\n",
       " 'MG42',\n",
       " 'Random',\n",
       " 'apples',\n",
       " 'bananas',\n",
       " 'bulletbarrels',\n",
       " 'chocolotes',\n",
       " 'japanse']"
      ]
     },
     "execution_count": 55,
     "metadata": {},
     "output_type": "execute_result"
    }
   ],
   "source": [
    "shopping_list"
   ]
  },
  {
   "cell_type": "code",
   "execution_count": 56,
   "id": "f19c3669-a546-407e-a187-3159151ff152",
   "metadata": {},
   "outputs": [],
   "source": [
    "shopping_list.sort(reverse=True)"
   ]
  },
  {
   "cell_type": "code",
   "execution_count": 57,
   "id": "5c6e24d6-578a-4924-8558-5c3de428c94d",
   "metadata": {},
   "outputs": [
    {
     "data": {
      "text/plain": [
       "['japanse',\n",
       " 'chocolotes',\n",
       " 'bulletbarrels',\n",
       " 'bananas',\n",
       " 'apples',\n",
       " 'Random',\n",
       " 'MG42',\n",
       " 'Is nuts',\n",
       " 'Command Prompt']"
      ]
     },
     "execution_count": 57,
     "metadata": {},
     "output_type": "execute_result"
    }
   ],
   "source": [
    "shopping_list"
   ]
  },
  {
   "cell_type": "code",
   "execution_count": 58,
   "id": "7fe81671-155e-4f40-b340-6b59d02aa3bc",
   "metadata": {},
   "outputs": [
    {
     "data": {
      "text/plain": [
       "['Command Prompt',\n",
       " 'Is nuts',\n",
       " 'MG42',\n",
       " 'Random',\n",
       " 'apples',\n",
       " 'bananas',\n",
       " 'bulletbarrels',\n",
       " 'chocolotes',\n",
       " 'japanse']"
      ]
     },
     "execution_count": 58,
     "metadata": {},
     "output_type": "execute_result"
    }
   ],
   "source": [
    "sorted(shopping_list)"
   ]
  },
  {
   "cell_type": "code",
   "execution_count": 4,
   "id": "4cc2b988-2849-47de-8368-ab99ccd8348f",
   "metadata": {},
   "outputs": [
    {
     "data": {
      "text/plain": [
       "['apples', 'bananas', 'MG42', 'bulletbarrels']"
      ]
     },
     "execution_count": 4,
     "metadata": {},
     "output_type": "execute_result"
    }
   ],
   "source": [
    "shopping_list"
   ]
  },
  {
   "cell_type": "code",
   "execution_count": 6,
   "id": "e5a018ee-cfb3-4af8-aac5-fb9a6e7be84f",
   "metadata": {},
   "outputs": [],
   "source": [
    "dogs_list = ['pieteman', 'dejzi']"
   ]
  },
  {
   "cell_type": "code",
   "execution_count": 7,
   "id": "c055e08f-5249-476c-a5a2-911efad2e694",
   "metadata": {},
   "outputs": [
    {
     "data": {
      "text/plain": [
       "['apples', 'bananas', 'MG42', 'bulletbarrels', 'pieteman', 'dejzi']"
      ]
     },
     "execution_count": 7,
     "metadata": {},
     "output_type": "execute_result"
    }
   ],
   "source": [
    "shopping_list + dogs_list"
   ]
  },
  {
   "cell_type": "code",
   "execution_count": 8,
   "id": "f197fc4b-c821-4bf4-8a79-bff491b06bd6",
   "metadata": {},
   "outputs": [],
   "source": [
    "shopping_list += dogs_list\n"
   ]
  },
  {
   "cell_type": "code",
   "execution_count": 9,
   "id": "e27ecc79-5471-44af-8fa2-5028278e9fa0",
   "metadata": {},
   "outputs": [
    {
     "data": {
      "text/plain": [
       "['apples', 'bananas', 'MG42', 'bulletbarrels', 'pieteman', 'dejzi']"
      ]
     },
     "execution_count": 9,
     "metadata": {},
     "output_type": "execute_result"
    }
   ],
   "source": [
    "shopping_list\n"
   ]
  },
  {
   "cell_type": "code",
   "execution_count": 1,
   "id": "5522cba1-72fc-4ae6-a2b3-22037c39a6a8",
   "metadata": {},
   "outputs": [],
   "source": [
    "next_list = ['Jan', 'Bob']"
   ]
  },
  {
   "cell_type": "code",
   "execution_count": 12,
   "id": "d7131b98-4f42-44bb-b647-a7e717d1345b",
   "metadata": {},
   "outputs": [],
   "source": [
    "shopping_list.append(next_list)"
   ]
  },
  {
   "cell_type": "code",
   "execution_count": 14,
   "id": "e198ba0c-8506-4a1f-9f51-1eb1c23d417b",
   "metadata": {},
   "outputs": [],
   "source": [
    "shopping_list.extend(next_list)"
   ]
  },
  {
   "cell_type": "markdown",
   "id": "5592417b-d880-4112-b7d6-e21edf35e8b3",
   "metadata": {},
   "source": [
    "# Remove elements from the list"
   ]
  },
  {
   "cell_type": "code",
   "execution_count": 20,
   "id": "aaa46fca-73a9-4292-9781-a2dd1e5f7a45",
   "metadata": {},
   "outputs": [],
   "source": [
    "to_do_list = ['eat', 'sleep', 'work', 'rest']"
   ]
  },
  {
   "cell_type": "code",
   "execution_count": 21,
   "id": "494eedf0-fc13-429f-89aa-49547248405e",
   "metadata": {},
   "outputs": [],
   "source": [
    "Agnes_Wiekens = shopping_list.pop()"
   ]
  },
  {
   "cell_type": "code",
   "execution_count": 22,
   "id": "7be492c4-905d-4cee-9409-c5395868fe9a",
   "metadata": {},
   "outputs": [
    {
     "data": {
      "text/plain": [
       "'Agnes wiekens'"
      ]
     },
     "execution_count": 22,
     "metadata": {},
     "output_type": "execute_result"
    }
   ],
   "source": [
    "Agnes_Wiekens"
   ]
  },
  {
   "cell_type": "code",
   "execution_count": 23,
   "id": "f6579ec1-d718-4f60-8463-29457937d151",
   "metadata": {},
   "outputs": [],
   "source": [
    "to_do_list.remove('work')"
   ]
  },
  {
   "cell_type": "code",
   "execution_count": 24,
   "id": "feee2ab5-2dbe-4365-b309-154d79e7f420",
   "metadata": {},
   "outputs": [
    {
     "data": {
      "text/plain": [
       "['eat', 'sleep', 'rest']"
      ]
     },
     "execution_count": 24,
     "metadata": {},
     "output_type": "execute_result"
    }
   ],
   "source": [
    "to_do_list"
   ]
  },
  {
   "cell_type": "code",
   "execution_count": 26,
   "id": "09ce05d6-a85e-4107-a762-9d8d352878b6",
   "metadata": {},
   "outputs": [
    {
     "data": {
      "text/plain": [
       "'MG42'"
      ]
     },
     "execution_count": 26,
     "metadata": {},
     "output_type": "execute_result"
    }
   ],
   "source": [
    "shopping_list.pop(3)"
   ]
  },
  {
   "cell_type": "code",
   "execution_count": 32,
   "id": "ea224f6c-b3cf-4145-8518-f057c74b60d3",
   "metadata": {},
   "outputs": [],
   "source": [
    "del shopping_list[7:]"
   ]
  },
  {
   "cell_type": "code",
   "execution_count": 37,
   "id": "41b6b45f-3963-4ac6-ac3e-ec352cd41413",
   "metadata": {},
   "outputs": [],
   "source": [
    "shopping_list.append(Sarah_Thorp)"
   ]
  },
  {
   "cell_type": "code",
   "execution_count": 39,
   "id": "feb2a437-9deb-4f86-840b-44b7091d7e16",
   "metadata": {},
   "outputs": [],
   "source": [
    "del shopping_list[2]"
   ]
  },
  {
   "cell_type": "code",
   "execution_count": 42,
   "id": "01f30304-e3ef-4769-8fba-10a73dbaf602",
   "metadata": {},
   "outputs": [],
   "source": [
    "del shopping_list[5:]"
   ]
  },
  {
   "cell_type": "code",
   "execution_count": null,
   "id": "c9ecadc8-487d-483d-a5b9-20d1abf9f0ff",
   "metadata": {},
   "outputs": [],
   "source": []
  },
  {
   "cell_type": "code",
   "execution_count": 43,
   "id": "67a65faf-b836-43b6-8f32-65aa04d936e0",
   "metadata": {},
   "outputs": [
    {
     "data": {
      "text/plain": [
       "['apples', 'bananas', 'bulletbarrels', 'pieteman', 'dejzi']"
      ]
     },
     "execution_count": 43,
     "metadata": {},
     "output_type": "execute_result"
    }
   ],
   "source": [
    "shopping_list"
   ]
  },
  {
   "cell_type": "code",
   "execution_count": 44,
   "id": "fd1aa82a-fff1-4ab5-b695-57da7fa02109",
   "metadata": {},
   "outputs": [],
   "source": [
    "shopping_list.clear()"
   ]
  },
  {
   "cell_type": "code",
   "execution_count": null,
   "id": "d6bb18cf-0533-4601-a716-8163d0c3d767",
   "metadata": {},
   "outputs": [],
   "source": []
  },
  {
   "cell_type": "code",
   "execution_count": 45,
   "id": "696dc65f-0ab3-4717-aece-0db19542980f",
   "metadata": {},
   "outputs": [
    {
     "data": {
      "text/plain": [
       "[]"
      ]
     },
     "execution_count": 45,
     "metadata": {},
     "output_type": "execute_result"
    }
   ],
   "source": [
    "shopping_list"
   ]
  },
  {
   "cell_type": "code",
   "execution_count": 46,
   "id": "78cfccc0-c52e-40ef-913c-f8556bdd7b95",
   "metadata": {},
   "outputs": [
    {
     "data": {
      "text/plain": [
       "0"
      ]
     },
     "execution_count": 46,
     "metadata": {},
     "output_type": "execute_result"
    }
   ],
   "source": [
    "len(shopping_list)"
   ]
  },
  {
   "cell_type": "code",
   "execution_count": 47,
   "id": "5c308cd8-4604-4294-9725-6b60d57e63ca",
   "metadata": {},
   "outputs": [
    {
     "data": {
      "text/plain": [
       "range(0, 10)"
      ]
     },
     "execution_count": 47,
     "metadata": {},
     "output_type": "execute_result"
    }
   ],
   "source": [
    "range(10)"
   ]
  },
  {
   "cell_type": "code",
   "execution_count": 48,
   "id": "e89217eb-4c95-43c3-869c-05b7cd3c81bb",
   "metadata": {},
   "outputs": [
    {
     "data": {
      "text/plain": [
       "[0, 1, 2, 3, 4, 5, 6, 7, 8, 9]"
      ]
     },
     "execution_count": 48,
     "metadata": {},
     "output_type": "execute_result"
    }
   ],
   "source": [
    "list(range(10))"
   ]
  },
  {
   "cell_type": "code",
   "execution_count": 49,
   "id": "449b3a94-0332-4105-9c46-17964244013e",
   "metadata": {},
   "outputs": [
    {
     "data": {
      "text/plain": [
       "[5, 6, 7, 8, 9, 10, 11, 12, 13, 14, 15]"
      ]
     },
     "execution_count": 49,
     "metadata": {},
     "output_type": "execute_result"
    }
   ],
   "source": [
    "list(range(5,16))"
   ]
  },
  {
   "cell_type": "code",
   "execution_count": 50,
   "id": "399a97f7-3ac9-4d22-bb97-81565f34ea6a",
   "metadata": {},
   "outputs": [
    {
     "data": {
      "text/plain": [
       "[0, 10, 20, 30, 40, 50, 60, 70, 80, 90, 100]"
      ]
     },
     "execution_count": 50,
     "metadata": {},
     "output_type": "execute_result"
    }
   ],
   "source": [
    "list(range(0,101,10))"
   ]
  },
  {
   "cell_type": "code",
   "execution_count": 51,
   "id": "20e0befc-bc92-4e2b-8530-e054bb6fd530",
   "metadata": {},
   "outputs": [],
   "source": [
    "device_names = ['PE1', 'AC2', 'FW3', 'LB3']\n",
    "device_types = ['router', 'switch', 'firewall', 'loadbalance']\n",
    "device_serials = ['BDN2', 'DFJ3', 'DHDK2', 'DLLY']"
   ]
  },
  {
   "cell_type": "code",
   "execution_count": 52,
   "id": "4ef08fef-3b7b-4ba2-9849-77a3a735f253",
   "metadata": {},
   "outputs": [],
   "source": [
    "device_names_types_serials = zip(device_names, device_types, device_serials)"
   ]
  },
  {
   "cell_type": "code",
   "execution_count": 53,
   "id": "f678896c-e5a8-4dfc-a144-ea446ef65a0c",
   "metadata": {},
   "outputs": [
    {
     "data": {
      "text/plain": [
       "<zip at 0x1bcf6eb8c00>"
      ]
     },
     "execution_count": 53,
     "metadata": {},
     "output_type": "execute_result"
    }
   ],
   "source": [
    "device_names_types_serials"
   ]
  },
  {
   "cell_type": "code",
   "execution_count": 54,
   "id": "5024941a-7038-4b10-9db7-7dbe1219240a",
   "metadata": {},
   "outputs": [],
   "source": [
    "device_list = list(device_names_types_serials)"
   ]
  },
  {
   "cell_type": "code",
   "execution_count": 55,
   "id": "fe18d2b8-70e1-4908-b631-30ea9b8943ea",
   "metadata": {},
   "outputs": [
    {
     "data": {
      "text/plain": [
       "[('PE1', 'router', 'BDN2'),\n",
       " ('AC2', 'switch', 'DFJ3'),\n",
       " ('FW3', 'firewall', 'DHDK2'),\n",
       " ('LB3', 'loadbalance', 'DLLY')]"
      ]
     },
     "execution_count": 55,
     "metadata": {},
     "output_type": "execute_result"
    }
   ],
   "source": [
    "device_list"
   ]
  },
  {
   "cell_type": "code",
   "execution_count": 57,
   "id": "20576c8e-dec1-446d-b8b4-ed16db550a3e",
   "metadata": {},
   "outputs": [
    {
     "data": {
      "text/plain": [
       "3"
      ]
     },
     "execution_count": 57,
     "metadata": {},
     "output_type": "execute_result"
    }
   ],
   "source": [
    "device_names.index('LB3')"
   ]
  },
  {
   "cell_type": "code",
   "execution_count": 58,
   "id": "45c033e8-d75c-4a48-a1f9-e5d7c946f5e6",
   "metadata": {},
   "outputs": [
    {
     "data": {
      "text/plain": [
       "True"
      ]
     },
     "execution_count": 58,
     "metadata": {},
     "output_type": "execute_result"
    }
   ],
   "source": [
    "'PE1' in device_names"
   ]
  },
  {
   "cell_type": "code",
   "execution_count": 60,
   "id": "e8f66abc-0632-427a-8bde-6033aa870264",
   "metadata": {},
   "outputs": [
    {
     "data": {
      "text/plain": [
       "True"
      ]
     },
     "execution_count": 60,
     "metadata": {},
     "output_type": "execute_result"
    }
   ],
   "source": [
    "'Stalingrad' not in device_types"
   ]
  },
  {
   "cell_type": "code",
   "execution_count": 62,
   "id": "68838d77-f863-4482-8e47-6feb6c634458",
   "metadata": {},
   "outputs": [],
   "source": [
    "colours = 'red, blue, green'"
   ]
  },
  {
   "cell_type": "code",
   "execution_count": 64,
   "id": "dc3c351a-9885-4160-b22e-9d1c112053df",
   "metadata": {},
   "outputs": [],
   "source": [
    "colours_list = colours.split(',')"
   ]
  },
  {
   "cell_type": "code",
   "execution_count": 67,
   "id": "f1b12817-76e4-43b5-930c-614ede732e79",
   "metadata": {},
   "outputs": [
    {
     "data": {
      "text/plain": [
       "['red', ' blue', ' green']"
      ]
     },
     "execution_count": 67,
     "metadata": {},
     "output_type": "execute_result"
    }
   ],
   "source": [
    "colours_list"
   ]
  },
  {
   "cell_type": "code",
   "execution_count": 68,
   "id": "cfeed5ad-76d8-4420-a75d-fca535acbdde",
   "metadata": {},
   "outputs": [],
   "source": [
    "a, b, c = colours_list"
   ]
  },
  {
   "cell_type": "code",
   "execution_count": 69,
   "id": "3221af64-9437-48d4-978d-bb5f12b4388a",
   "metadata": {},
   "outputs": [
    {
     "data": {
      "text/plain": [
       "'red'"
      ]
     },
     "execution_count": 69,
     "metadata": {},
     "output_type": "execute_result"
    }
   ],
   "source": [
    "a"
   ]
  },
  {
   "cell_type": "code",
   "execution_count": 70,
   "id": "20edca55-fcc5-47ae-b3ba-95bbb77e0c17",
   "metadata": {},
   "outputs": [
    {
     "data": {
      "text/plain": [
       "' blue'"
      ]
     },
     "execution_count": 70,
     "metadata": {},
     "output_type": "execute_result"
    }
   ],
   "source": [
    "b"
   ]
  },
  {
   "cell_type": "code",
   "execution_count": 71,
   "id": "a043abfc-6150-443e-939f-355d64ed0184",
   "metadata": {},
   "outputs": [
    {
     "data": {
      "text/plain": [
       "' green'"
      ]
     },
     "execution_count": 71,
     "metadata": {},
     "output_type": "execute_result"
    }
   ],
   "source": [
    "c"
   ]
  },
  {
   "cell_type": "code",
   "execution_count": 78,
   "id": "76c888f6-c2e9-4d39-ad62-50f3b6887129",
   "metadata": {},
   "outputs": [],
   "source": [
    "split_sentence = sentence = 'Trump is een lul'"
   ]
  },
  {
   "cell_type": "code",
   "execution_count": 79,
   "id": "b8584067-9c73-47b1-884b-ff3077c1e0d4",
   "metadata": {},
   "outputs": [
    {
     "data": {
      "text/plain": [
       "['Trump', 'is', 'een', 'lul']"
      ]
     },
     "execution_count": 79,
     "metadata": {},
     "output_type": "execute_result"
    }
   ],
   "source": [
    "sentence.split(' ')"
   ]
  },
  {
   "cell_type": "code",
   "execution_count": 81,
   "id": "ea6d1d09-8fa6-4551-a6e3-75df38e72186",
   "metadata": {},
   "outputs": [
    {
     "data": {
      "text/plain": [
       "'Trump is een lul'"
      ]
     },
     "execution_count": 81,
     "metadata": {},
     "output_type": "execute_result"
    }
   ],
   "source": [
    "''.join(split_sentence)"
   ]
  },
  {
   "cell_type": "code",
   "execution_count": 82,
   "id": "6801a199-d6c2-46da-8c32-17c01cd3502a",
   "metadata": {},
   "outputs": [
    {
     "data": {
      "text/plain": [
       "['red', ' blue', ' green']"
      ]
     },
     "execution_count": 82,
     "metadata": {},
     "output_type": "execute_result"
    }
   ],
   "source": [
    "colours_list"
   ]
  },
  {
   "cell_type": "code",
   "execution_count": 83,
   "id": "d67eb511-57fb-4a84-bfa9-3a0c9dc3c37f",
   "metadata": {},
   "outputs": [
    {
     "data": {
      "text/plain": [
       "'red and  blue and  green'"
      ]
     },
     "execution_count": 83,
     "metadata": {},
     "output_type": "execute_result"
    }
   ],
   "source": [
    "' and '.join(colours_list)"
   ]
  },
  {
   "cell_type": "code",
   "execution_count": 84,
   "id": "2269d3c2-cb6c-43f2-a3f7-2345fa1ca693",
   "metadata": {},
   "outputs": [
    {
     "data": {
      "text/plain": [
       "[' blue', ' green', 'red']"
      ]
     },
     "execution_count": 84,
     "metadata": {},
     "output_type": "execute_result"
    }
   ],
   "source": [
    "sorted(colours_list)"
   ]
  },
  {
   "cell_type": "code",
   "execution_count": null,
   "id": "abeabfd6-fbe1-4743-af5d-b4411bced38a",
   "metadata": {},
   "outputs": [],
   "source": [
    "sorted"
   ]
  },
  {
   "cell_type": "code",
   "execution_count": null,
   "id": "74558ec5-2c05-44a8-b9ec-7f60b3c0a3ff",
   "metadata": {},
   "outputs": [],
   "source": []
  }
 ],
 "metadata": {
  "kernelspec": {
   "display_name": "Python 3 (ipykernel)",
   "language": "python",
   "name": "python3"
  },
  "language_info": {
   "codemirror_mode": {
    "name": "ipython",
    "version": 3
   },
   "file_extension": ".py",
   "mimetype": "text/x-python",
   "name": "python",
   "nbconvert_exporter": "python",
   "pygments_lexer": "ipython3",
   "version": "3.11.7"
  }
 },
 "nbformat": 4,
 "nbformat_minor": 5
}
