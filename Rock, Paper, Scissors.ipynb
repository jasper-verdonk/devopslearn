{
 "cells": [
  {
   "cell_type": "markdown",
   "id": "6636e8a0-3d6e-4935-a16e-80ca6a6b8fe5",
   "metadata": {},
   "source": [
    "## Rock, Paper, Scissors ##"
   ]
  },
  {
   "cell_type": "markdown",
   "id": "da032b20-4222-4fb6-918c-23ae6208ed56",
   "metadata": {},
   "source": [
    "Games Ltd wants to add to their collection of online games. They would like to produce a version of the popular Rock, Paper, Scissors game!"
   ]
  },
  {
   "cell_type": "markdown",
   "id": "3b33d94b-af2f-46a7-9d45-ee60f07fbf1e",
   "metadata": {},
   "source": [
    "The application should be:\n",
    "\n",
    "1) obtain a computer generated selection.\n",
    "2) Allow a user to select Rock, Paper, or Scissors.\n",
    "3) Compare the selection and observe whether it is a draw or a win:\n",
    "   1) Rock smashes scissors.\n",
    "   2) Paper covers rock\n",
    "   3) Scissors cut paper.\n",
    "4) Keep track of the score.\n",
    "\n"
   ]
  },
  {
   "cell_type": "markdown",
   "id": "3435fbc4-2d7c-480f-83dd-56a58f3dc46f",
   "metadata": {},
   "source": [
    "The application can be broken down into the following tasks:\n",
    "1) Create a function that obtains the users input.\n",
    "2) Create a function that generates a randomly selected choice for the computer.\n",
    "3) Determine the winner for each round and keep track of the score.\n",
    "4) Create a function that checks to see if a user wants to play the game again.\n",
    "5) Produce a working game using a while loop. "
   ]
  },
  {
   "cell_type": "markdown",
   "id": "17433001-ff7c-4bf1-b57e-5914f1b8cbae",
   "metadata": {},
   "source": [
    "# Create a function that obtains the users input"
   ]
  },
  {
   "cell_type": "code",
   "execution_count": 1,
   "id": "e6a3b4af-70df-408c-b7f7-50a6ac9cbfd3",
   "metadata": {},
   "outputs": [],
   "source": [
    "def user_input():\n",
    "    user_choice = input(\"Please select: (Rock/Paper/Scissors)\")\n",
    "    while True:\n",
    "        if user_choice.lower() not in ['rock', 'paper', 'scissors']:\n",
    "            print(\"Please select: (Rock/Paper/Scissors)\")\n",
    "            user_choice = input(\"Please select: (Rock/Paper/Scissors)\")\n",
    "            continue\n",
    "        else:\n",
    "            print(\"Thank you for selecting: {}.\".format(user_choice))\n",
    "            break\n",
    "            \n",
    "    return user_choice\n",
    "            \n",
    "            "
   ]
  },
  {
   "cell_type": "code",
   "execution_count": 27,
   "id": "054dabe4-7781-427d-a9df-5de114de6896",
   "metadata": {},
   "outputs": [
    {
     "name": "stdin",
     "output_type": "stream",
     "text": [
      "Please select: (Rock/Paper/Scissors) Rock\n"
     ]
    },
    {
     "name": "stdout",
     "output_type": "stream",
     "text": [
      "Thank you for selecting: Rock.\n"
     ]
    },
    {
     "data": {
      "text/plain": [
       "'Rock'"
      ]
     },
     "execution_count": 27,
     "metadata": {},
     "output_type": "execute_result"
    }
   ],
   "source": [
    "user_input()"
   ]
  },
  {
   "cell_type": "code",
   "execution_count": 3,
   "id": "5330858e-32a6-45dc-b5dd-5f0549f5236e",
   "metadata": {},
   "outputs": [
    {
     "name": "stdin",
     "output_type": "stream",
     "text": [
      "Please select: (Rock/Paper/Scissors) Stalingrad\n"
     ]
    },
    {
     "name": "stdout",
     "output_type": "stream",
     "text": [
      "Please select: (Rock/Paper/Scissors)\n"
     ]
    },
    {
     "name": "stdin",
     "output_type": "stream",
     "text": [
      "Please select: (Rock/Paper/Scissors) Rock\n"
     ]
    },
    {
     "name": "stdout",
     "output_type": "stream",
     "text": [
      "Thank you for selecting: Rock.\n"
     ]
    },
    {
     "data": {
      "text/plain": [
       "'Rock'"
      ]
     },
     "execution_count": 3,
     "metadata": {},
     "output_type": "execute_result"
    }
   ],
   "source": [
    "user_input()"
   ]
  },
  {
   "cell_type": "markdown",
   "id": "3f2cd9db-b52e-4416-9cb0-1ee3ade69f9f",
   "metadata": {},
   "source": [
    "# Create a function that generates a randomly choice for the computer. "
   ]
  },
  {
   "cell_type": "code",
   "execution_count": 2,
   "id": "3bd97cf6-6a2f-4409-adaa-c97ed404ce80",
   "metadata": {},
   "outputs": [],
   "source": [
    "import random\n",
    "\n",
    "def computer_input():\n",
    "    choices = ['Rock', 'Paper', 'Scissors']\n",
    "    computer_choice = random.choice(choices)\n",
    "\n",
    "    return computer_choice\n",
    "    \n"
   ]
  },
  {
   "cell_type": "code",
   "execution_count": 29,
   "id": "615236ee-dcc6-4d44-b5b0-573da210ddb9",
   "metadata": {},
   "outputs": [
    {
     "data": {
      "text/plain": [
       "'Paper'"
      ]
     },
     "execution_count": 29,
     "metadata": {},
     "output_type": "execute_result"
    }
   ],
   "source": [
    "computer_input()"
   ]
  },
  {
   "cell_type": "markdown",
   "id": "5f82db68-4cc2-49f0-80cc-489cfdf675fc",
   "metadata": {},
   "source": [
    "# Determine the winner for each round and keep track of the score."
   ]
  },
  {
   "cell_type": "code",
   "execution_count": 15,
   "id": "96d13f06-ffd6-4a97-85d3-56a8130db33b",
   "metadata": {
    "scrolled": true
   },
   "outputs": [],
   "source": [
    "def game(user_value, computer_value, user_choice, computer_choice):\n",
    "\n",
    "    if user_choice.lower() == 'rock' and computer_choice.lower() == 'scissors':\n",
    "        user_value += 1\n",
    "        print(\"User wins this round! The users input is \\'{}\\' and the computer input is \\'{}\\'\".format(user_choice, computer_choice))\n",
    "        print(\"The user score is: {}. The computer score is: {}\".format(user_value, computer_value))\n",
    "    elif user_choice.lower() == 'scissors' and computer_choice.lower() == 'rock':\n",
    "        computer_value += 1\n",
    "        print(\"Computer wins this round! The users input is \\'{}\\' and the computer input is \\'{}\\'\".format(user_choice, computer_choice))\n",
    "        print(\"The user score is: {}. The computer score is: {}\".format(user_value, computer_value))\n",
    "    elif user_choice.lower() == 'paper' and computer_choice.lower() == 'rock':\n",
    "        user_value += 1\n",
    "        print(\"User wins this round! The users input is \\'{}\\' and the computer input is \\'{}\\'\".format(user_choice, computer_choice))\n",
    "        print(\"The user score is: {}. The computer score is: {}\".format(user_value, computer_value))\n",
    "    elif user_choice.lower() == 'rock' and computer_choice.lower() == 'paper':\n",
    "        computer_value += 1\n",
    "        print(\"Computer wins this round! The users input is \\'{}\\' and the computer input is \\'{}\\'\".format(user_choice, computer_choice))\n",
    "        print(\"The user score is: {}. The computer score is: {}\".format(user_value, computer_value))\n",
    "    elif user_choice.lower() == 'scissors' and computer_choice.lower() == 'paper':\n",
    "        user_value += 1\n",
    "        print(\"User wins this round! The users input is \\'{}\\' and the computer input is \\'{}\\'\".format(user_choice, computer_choice))\n",
    "        print(\"The user score is: {}. The computer score is: {}\".format(user_value, computer_value))\n",
    "    elif user_choice.lower() == 'rock' and computer_choice.lower() == 'scissors':\n",
    "        computer_value += 1\n",
    "        print(\"Computer wins this round! The users input is \\'{}\\' and the computer input is \\'{}\\'\".format(user_choice, computer_choice))\n",
    "        print(\"The user score is: {}. The computer score is: {}\".format(user_value, computer_value))\n",
    "    else:\n",
    "        print(\"input user and computer is the same! This is a draw. The users input is \\'{}\\' and the computer input is \\'{}\\'\".format(user_choice, computer_choice))\n",
    "        print(\"The user score is: {}. The computer score is: {}\".format(user_value, computer_value))\n",
    "        \n",
    "    return [user_value, computer_value]\n",
    "        \n"
   ]
  },
  {
   "cell_type": "code",
   "execution_count": 40,
   "id": "3583fd13-e6b6-421f-8b63-1e827b69385d",
   "metadata": {},
   "outputs": [],
   "source": [
    "user_score = 0\n",
    "computer_score = 0"
   ]
  },
  {
   "cell_type": "code",
   "execution_count": 41,
   "id": "a567b20a-64f2-41be-b614-938c81f9e0fd",
   "metadata": {},
   "outputs": [
    {
     "ename": "AttributeError",
     "evalue": "'function' object has no attribute 'lower'",
     "output_type": "error",
     "traceback": [
      "\u001b[1;31m---------------------------------------------------------------------------\u001b[0m",
      "\u001b[1;31mAttributeError\u001b[0m                            Traceback (most recent call last)",
      "Cell \u001b[1;32mIn[41], line 1\u001b[0m\n\u001b[1;32m----> 1\u001b[0m game(user_score, computer_score, user_input, computer_input)\n",
      "Cell \u001b[1;32mIn[36], line 3\u001b[0m, in \u001b[0;36mgame\u001b[1;34m(user_score, computer_score, user_input, computer_input)\u001b[0m\n\u001b[0;32m      1\u001b[0m \u001b[38;5;28;01mdef\u001b[39;00m \u001b[38;5;21mgame\u001b[39m(user_score, computer_score, user_input, computer_input):\n\u001b[1;32m----> 3\u001b[0m     \u001b[38;5;28;01mif\u001b[39;00m user_input\u001b[38;5;241m.\u001b[39mlower() \u001b[38;5;241m==\u001b[39m \u001b[38;5;124m'\u001b[39m\u001b[38;5;124mrock\u001b[39m\u001b[38;5;124m'\u001b[39m \u001b[38;5;129;01mand\u001b[39;00m computer_input\u001b[38;5;241m.\u001b[39mlower() \u001b[38;5;241m==\u001b[39m \u001b[38;5;124m'\u001b[39m\u001b[38;5;124mscissors\u001b[39m\u001b[38;5;124m'\u001b[39m:\n\u001b[0;32m      4\u001b[0m         user_score \u001b[38;5;241m+\u001b[39m\u001b[38;5;241m=\u001b[39m \u001b[38;5;241m1\u001b[39m\n\u001b[0;32m      5\u001b[0m         \u001b[38;5;28mprint\u001b[39m(\u001b[38;5;124m\"\u001b[39m\u001b[38;5;124mUser wins this round! The users input is \u001b[39m\u001b[38;5;130;01m\\'\u001b[39;00m\u001b[38;5;132;01m{}\u001b[39;00m\u001b[38;5;130;01m\\'\u001b[39;00m\u001b[38;5;124m and the computer input is \u001b[39m\u001b[38;5;130;01m\\'\u001b[39;00m\u001b[38;5;132;01m{}\u001b[39;00m\u001b[38;5;130;01m\\'\u001b[39;00m\u001b[38;5;124m\"\u001b[39m\u001b[38;5;241m.\u001b[39mformat(user_input, computer_input))\n",
      "\u001b[1;31mAttributeError\u001b[0m: 'function' object has no attribute 'lower'"
     ]
    }
   ],
   "source": [
    "game(user_score, computer_score, user_input, computer_input)"
   ]
  },
  {
   "cell_type": "code",
   "execution_count": 14,
   "id": "6177c56d-97f8-4d9a-9945-35c6f3d480d7",
   "metadata": {},
   "outputs": [
    {
     "name": "stdin",
     "output_type": "stream",
     "text": [
      "Please select: (Rock/Paper/Scissors) Rock\n"
     ]
    },
    {
     "name": "stdout",
     "output_type": "stream",
     "text": [
      "Thank you for selecting: Rock.\n"
     ]
    },
    {
     "data": {
      "text/plain": [
       "'Rock'"
      ]
     },
     "execution_count": 14,
     "metadata": {},
     "output_type": "execute_result"
    }
   ],
   "source": [
    "user_input()"
   ]
  },
  {
   "cell_type": "code",
   "execution_count": 15,
   "id": "18a92f9c-1bda-4cb3-a5a1-d3435b2c42a5",
   "metadata": {},
   "outputs": [
    {
     "data": {
      "text/plain": [
       "'Paper'"
      ]
     },
     "execution_count": 15,
     "metadata": {},
     "output_type": "execute_result"
    }
   ],
   "source": [
    "computer_input()"
   ]
  },
  {
   "cell_type": "code",
   "execution_count": 16,
   "id": "34280987-c56e-4c14-becd-ee62059db013",
   "metadata": {},
   "outputs": [
    {
     "data": {
      "text/plain": [
       "0"
      ]
     },
     "execution_count": 16,
     "metadata": {},
     "output_type": "execute_result"
    }
   ],
   "source": [
    "user_score"
   ]
  },
  {
   "cell_type": "code",
   "execution_count": 17,
   "id": "1a70bfe7-2fc3-4ac6-9c45-211d47213207",
   "metadata": {},
   "outputs": [
    {
     "data": {
      "text/plain": [
       "0"
      ]
     },
     "execution_count": 17,
     "metadata": {},
     "output_type": "execute_result"
    }
   ],
   "source": [
    "computer_score"
   ]
  },
  {
   "cell_type": "code",
   "execution_count": 18,
   "id": "d7169440-9823-4e96-aec9-d264282080d8",
   "metadata": {},
   "outputs": [
    {
     "ename": "TypeError",
     "evalue": "game() missing 4 required positional arguments: 'user_score', 'computer_score', 'user_input', and 'computer_input'",
     "output_type": "error",
     "traceback": [
      "\u001b[1;31m---------------------------------------------------------------------------\u001b[0m",
      "\u001b[1;31mTypeError\u001b[0m                                 Traceback (most recent call last)",
      "Cell \u001b[1;32mIn[18], line 1\u001b[0m\n\u001b[1;32m----> 1\u001b[0m game()\n",
      "\u001b[1;31mTypeError\u001b[0m: game() missing 4 required positional arguments: 'user_score', 'computer_score', 'user_input', and 'computer_input'"
     ]
    }
   ],
   "source": [
    "game()"
   ]
  },
  {
   "cell_type": "code",
   "execution_count": 43,
   "id": "249878ac-b84e-4521-862c-7ba6880d8f4e",
   "metadata": {},
   "outputs": [
    {
     "name": "stdin",
     "output_type": "stream",
     "text": [
      "Please select: (Rock/Paper/Scissors) Rock\n"
     ]
    },
    {
     "name": "stdout",
     "output_type": "stream",
     "text": [
      "Thank you for selecting: Rock.\n"
     ]
    }
   ],
   "source": [
    "user_input = user_input()"
   ]
  },
  {
   "cell_type": "code",
   "execution_count": 45,
   "id": "65a0f021-32b1-4f0e-b816-c1b33dcaf469",
   "metadata": {},
   "outputs": [
    {
     "ename": "TypeError",
     "evalue": "'str' object is not callable",
     "output_type": "error",
     "traceback": [
      "\u001b[1;31m---------------------------------------------------------------------------\u001b[0m",
      "\u001b[1;31mTypeError\u001b[0m                                 Traceback (most recent call last)",
      "Cell \u001b[1;32mIn[45], line 1\u001b[0m\n\u001b[1;32m----> 1\u001b[0m computer_input \u001b[38;5;241m=\u001b[39m computer_input()\n",
      "\u001b[1;31mTypeError\u001b[0m: 'str' object is not callable"
     ]
    }
   ],
   "source": [
    "computer_input = computer_input()\n"
   ]
  },
  {
   "cell_type": "code",
   "execution_count": 46,
   "id": "8957297c-6c4b-4e83-b036-48fa4ba814dc",
   "metadata": {},
   "outputs": [
    {
     "name": "stdout",
     "output_type": "stream",
     "text": [
      "input user and computer is the same! This is a draw. The users input is 'Rock' and the computer input is 'Rock'\n",
      "The user score is: 0. The computer score is: 0\n"
     ]
    }
   ],
   "source": [
    "game(user_score, computer_score, user_input, computer_input)"
   ]
  },
  {
   "cell_type": "code",
   "execution_count": 11,
   "id": "7f916fdf-0e76-48dd-8b39-5b68d73c234a",
   "metadata": {},
   "outputs": [],
   "source": [
    "user_score = 0\n",
    "computer_score = 0"
   ]
  },
  {
   "cell_type": "code",
   "execution_count": 26,
   "id": "9d862e9f-8a36-4247-aff0-9dbf0f7fe6b4",
   "metadata": {},
   "outputs": [
    {
     "data": {
      "text/plain": [
       "0"
      ]
     },
     "execution_count": 26,
     "metadata": {},
     "output_type": "execute_result"
    }
   ],
   "source": [
    "computer_score"
   ]
  },
  {
   "cell_type": "code",
   "execution_count": 27,
   "id": "7bcf98bf-dd8f-4c16-91a8-eab0a81533b8",
   "metadata": {},
   "outputs": [
    {
     "data": {
      "text/plain": [
       "0"
      ]
     },
     "execution_count": 27,
     "metadata": {},
     "output_type": "execute_result"
    }
   ],
   "source": [
    "user_score"
   ]
  },
  {
   "cell_type": "code",
   "execution_count": 33,
   "id": "e5a85e93-42da-4d08-b10a-5d92b5dff640",
   "metadata": {},
   "outputs": [
    {
     "name": "stdin",
     "output_type": "stream",
     "text": [
      "Please select: (Rock/Paper/Scissors) Susan\n"
     ]
    },
    {
     "name": "stdout",
     "output_type": "stream",
     "text": [
      "Please select: (Rock/Paper/Scissors)\n"
     ]
    },
    {
     "name": "stdin",
     "output_type": "stream",
     "text": [
      "Please select: (Rock/Paper/Scissors) Rock\n"
     ]
    },
    {
     "name": "stdout",
     "output_type": "stream",
     "text": [
      "Thank you for selecting: Rock.\n"
     ]
    },
    {
     "data": {
      "text/plain": [
       "'Rock'"
      ]
     },
     "execution_count": 33,
     "metadata": {},
     "output_type": "execute_result"
    }
   ],
   "source": [
    "user_input()"
   ]
  },
  {
   "cell_type": "code",
   "execution_count": 37,
   "id": "02e70c81-9b08-4edf-a1be-3ef6ce62471e",
   "metadata": {},
   "outputs": [
    {
     "data": {
      "text/plain": [
       "'Rock'"
      ]
     },
     "execution_count": 37,
     "metadata": {},
     "output_type": "execute_result"
    }
   ],
   "source": [
    "computer_input()"
   ]
  },
  {
   "cell_type": "code",
   "execution_count": 42,
   "id": "6221a2cd-bf2c-4133-aed4-761060fd8aa6",
   "metadata": {},
   "outputs": [
    {
     "data": {
      "text/plain": [
       "<function __main__.user_input()>"
      ]
     },
     "execution_count": 42,
     "metadata": {},
     "output_type": "execute_result"
    }
   ],
   "source": [
    "user_input"
   ]
  },
  {
   "cell_type": "markdown",
   "id": "6a9628f7-9793-4533-b7ef-26677d5d06e6",
   "metadata": {},
   "source": [
    "# Create a function that checks to see if the user wants to play again"
   ]
  },
  {
   "cell_type": "code",
   "execution_count": 4,
   "id": "70d403a9-e009-45b7-98f7-d11a6f0b7f08",
   "metadata": {},
   "outputs": [],
   "source": [
    "def game_control():\n",
    "    again = ''\n",
    "    while again.lower() not in ['y', 'n']:\n",
    "        again = input(\"Do you want to play again? Please provide (Y/N).\")\n",
    "        if again.lower() == 'y':\n",
    "            return True \n",
    "        elif again.lower() == 'n':\n",
    "            return False"
   ]
  },
  {
   "cell_type": "markdown",
   "id": "17788518-664f-4859-a692-132de634d0bc",
   "metadata": {},
   "source": [
    "# Produce a working game providing a while loop"
   ]
  },
  {
   "cell_type": "code",
   "execution_count": 17,
   "id": "d417a0e4-6a4f-42b1-bb74-e7a91e1681a4",
   "metadata": {},
   "outputs": [
    {
     "name": "stdin",
     "output_type": "stream",
     "text": [
      "Please select: (Rock/Paper/Scissors) Rock\n"
     ]
    },
    {
     "name": "stdout",
     "output_type": "stream",
     "text": [
      "Thank you for selecting: Rock.\n",
      "input user and computer is the same! This is a draw. The users input is 'Rock' and the computer input is 'Rock'\n",
      "The user score is: 0. The computer score is: 0\n"
     ]
    },
    {
     "name": "stdin",
     "output_type": "stream",
     "text": [
      "Do you want to play again? Please provide (Y/N). Y\n",
      "Please select: (Rock/Paper/Scissors) Paper\n"
     ]
    },
    {
     "name": "stdout",
     "output_type": "stream",
     "text": [
      "Thank you for selecting: Paper.\n",
      "input user and computer is the same! This is a draw. The users input is 'Paper' and the computer input is 'Paper'\n",
      "The user score is: 0. The computer score is: 0\n"
     ]
    },
    {
     "name": "stdin",
     "output_type": "stream",
     "text": [
      "Do you want to play again? Please provide (Y/N). Y\n",
      "Please select: (Rock/Paper/Scissors) Paper\n"
     ]
    },
    {
     "name": "stdout",
     "output_type": "stream",
     "text": [
      "Thank you for selecting: Paper.\n",
      "input user and computer is the same! This is a draw. The users input is 'Paper' and the computer input is 'Paper'\n",
      "The user score is: 0. The computer score is: 0\n"
     ]
    },
    {
     "name": "stdin",
     "output_type": "stream",
     "text": [
      "Do you want to play again? Please provide (Y/N). Y\n",
      "Please select: (Rock/Paper/Scissors) Rock\n"
     ]
    },
    {
     "name": "stdout",
     "output_type": "stream",
     "text": [
      "Thank you for selecting: Rock.\n",
      "User wins this round! The users input is 'Rock' and the computer input is 'Scissors'\n",
      "The user score is: 1. The computer score is: 0\n"
     ]
    },
    {
     "name": "stdin",
     "output_type": "stream",
     "text": [
      "Do you want to play again? Please provide (Y/N). Y\n",
      "Please select: (Rock/Paper/Scissors) Rock\n"
     ]
    },
    {
     "name": "stdout",
     "output_type": "stream",
     "text": [
      "Thank you for selecting: Rock.\n",
      "Computer wins this round! The users input is 'Rock' and the computer input is 'Paper'\n",
      "The user score is: 1. The computer score is: 1\n"
     ]
    },
    {
     "name": "stdin",
     "output_type": "stream",
     "text": [
      "Do you want to play again? Please provide (Y/N). Y\n",
      "Please select: (Rock/Paper/Scissors) Scissors\n"
     ]
    },
    {
     "name": "stdout",
     "output_type": "stream",
     "text": [
      "Thank you for selecting: Scissors.\n",
      "User wins this round! The users input is 'Scissors' and the computer input is 'Paper'\n",
      "The user score is: 2. The computer score is: 1\n"
     ]
    },
    {
     "name": "stdin",
     "output_type": "stream",
     "text": [
      "Do you want to play again? Please provide (Y/N). N\n"
     ]
    },
    {
     "name": "stdout",
     "output_type": "stream",
     "text": [
      "The final score user: 2. The final score computer: 1\n"
     ]
    }
   ],
   "source": [
    "from IPython.display import clear_output\n",
    "\n",
    "clear_output()\n",
    "user_score = 0\n",
    "computer_score = 0\n",
    "user_choice = '.'\n",
    "computer_choice = '.'\n",
    "play_again = True\n",
    "while True: \n",
    "    if play_again == False:\n",
    "        print(\"The final score user: {}. The final score computer: {}\".format(user_score, computer_score))\n",
    "        break\n",
    "    else:\n",
    "        users_pick = user_input()\n",
    "        computers_pick = computer_input()\n",
    "        user_score, computer_score = game(user_score, computer_score, users_pick, computers_pick)\n",
    "        play_again = game_control()\n",
    "        continue\n",
    "            \n",
    "            \n",
    "        \n",
    "    "
   ]
  },
  {
   "cell_type": "code",
   "execution_count": 11,
   "id": "b931354f-805f-4802-a2f4-08571d4b07c1",
   "metadata": {},
   "outputs": [
    {
     "name": "stdin",
     "output_type": "stream",
     "text": [
      "Do you want to play again? Please provide (Y/N). Y\n"
     ]
    },
    {
     "ename": "UnboundLocalError",
     "evalue": "cannot access local variable 'user_input' where it is not associated with a value",
     "output_type": "error",
     "traceback": [
      "\u001b[1;31m---------------------------------------------------------------------------\u001b[0m",
      "\u001b[1;31mUnboundLocalError\u001b[0m                         Traceback (most recent call last)",
      "Cell \u001b[1;32mIn[11], line 1\u001b[0m\n\u001b[1;32m----> 1\u001b[0m play_game()\n",
      "Cell \u001b[1;32mIn[10], line 6\u001b[0m, in \u001b[0;36mplay_game\u001b[1;34m()\u001b[0m\n\u001b[0;32m      4\u001b[0m play_again \u001b[38;5;241m=\u001b[39m game_control()\n\u001b[0;32m      5\u001b[0m \u001b[38;5;28;01mwhile\u001b[39;00m \u001b[38;5;28;01mTrue\u001b[39;00m:   \n\u001b[1;32m----> 6\u001b[0m     user_input \u001b[38;5;241m=\u001b[39m user_input()\n\u001b[0;32m      7\u001b[0m     computer_input \u001b[38;5;241m=\u001b[39m computer_input()\n\u001b[0;32m      8\u001b[0m     \u001b[38;5;28;01mif\u001b[39;00m play_again \u001b[38;5;241m==\u001b[39m \u001b[38;5;28;01mFalse\u001b[39;00m:\n",
      "\u001b[1;31mUnboundLocalError\u001b[0m: cannot access local variable 'user_input' where it is not associated with a value"
     ]
    }
   ],
   "source": [
    "play_game()"
   ]
  },
  {
   "cell_type": "code",
   "execution_count": null,
   "id": "0eaac61a-4ee7-4705-819b-1a0581a6514f",
   "metadata": {},
   "outputs": [],
   "source": []
  }
 ],
 "metadata": {
  "kernelspec": {
   "display_name": "Python 3 (ipykernel)",
   "language": "python",
   "name": "python3"
  },
  "language_info": {
   "codemirror_mode": {
    "name": "ipython",
    "version": 3
   },
   "file_extension": ".py",
   "mimetype": "text/x-python",
   "name": "python",
   "nbconvert_exporter": "python",
   "pygments_lexer": "ipython3",
   "version": "3.11.7"
  }
 },
 "nbformat": 4,
 "nbformat_minor": 5
}
