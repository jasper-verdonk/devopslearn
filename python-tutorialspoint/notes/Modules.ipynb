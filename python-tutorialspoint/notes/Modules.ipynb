{
 "cells": [
  {
   "cell_type": "markdown",
   "id": "8de89e51-ee56-4441-a160-ad49c731e41b",
   "metadata": {},
   "source": [
    "# Importing Modules in Python"
   ]
  },
  {
   "cell_type": "code",
   "execution_count": 1,
   "id": "a1c15fe2-e521-45c4-96e7-dba26fec13d1",
   "metadata": {},
   "outputs": [],
   "source": [
    "import adder as a\n",
    "import math"
   ]
  },
  {
   "cell_type": "markdown",
   "id": "dd507331-bd0c-45f9-b97c-b14bd351ca78",
   "metadata": {},
   "source": [
    "Modules are individual Python files"
   ]
  },
  {
   "cell_type": "code",
   "execution_count": 2,
   "id": "ed411e12-15c0-4726-884c-48117aa00fa8",
   "metadata": {},
   "outputs": [
    {
     "name": "stdout",
     "output_type": "stream",
     "text": [
      "11\n"
     ]
    }
   ],
   "source": [
    "a.add(5,6)"
   ]
  },
  {
   "cell_type": "code",
   "execution_count": 3,
   "id": "336c68c4-69ab-4fdf-995d-cf2361e858b8",
   "metadata": {},
   "outputs": [
    {
     "data": {
      "text/plain": [
       "3.141592653589793"
      ]
     },
     "execution_count": 3,
     "metadata": {},
     "output_type": "execute_result"
    }
   ],
   "source": [
    "math.pi"
   ]
  },
  {
   "cell_type": "markdown",
   "id": "ec27ca2a-e199-4039-aa00-156d3d9d0605",
   "metadata": {},
   "source": [
    "We have an alias a for adder\n",
    "```\n",
    "import adder as a\n",
    "```\n",
    "This is equivalent with:\n",
    "```\n",
    "import adder\n",
    "```"
   ]
  },
  {
   "cell_type": "code",
   "execution_count": 4,
   "id": "be5b5612-bc60-425d-9c28-aa07f4a56394",
   "metadata": {},
   "outputs": [],
   "source": [
    "from adder import add"
   ]
  },
  {
   "cell_type": "markdown",
   "id": "5e7f002e-f983-48ff-a254-09837f62eeab",
   "metadata": {},
   "source": [
    "Import only the function add from module adder. No need to use adder upon calling. "
   ]
  },
  {
   "cell_type": "code",
   "execution_count": 5,
   "id": "d8b10ade-e1a9-4ea4-9cfd-db6119b124e4",
   "metadata": {},
   "outputs": [
    {
     "name": "stdout",
     "output_type": "stream",
     "text": [
      "12\n"
     ]
    }
   ],
   "source": [
    "add(5,7)"
   ]
  },
  {
   "cell_type": "code",
   "execution_count": 7,
   "id": "0dbec95e-2c59-43fe-ae64-df7108454736",
   "metadata": {},
   "outputs": [],
   "source": [
    "from math import pi"
   ]
  },
  {
   "cell_type": "code",
   "execution_count": 8,
   "id": "9c717640-4585-4d04-8037-e9754a02b5a5",
   "metadata": {},
   "outputs": [],
   "source": [
    "from math import *"
   ]
  },
  {
   "cell_type": "code",
   "execution_count": 9,
   "id": "653c7d93-7e46-47ac-8459-f5a5f979af70",
   "metadata": {},
   "outputs": [
    {
     "data": {
      "text/plain": [
       "3.141592653589793"
      ]
     },
     "execution_count": 9,
     "metadata": {},
     "output_type": "execute_result"
    }
   ],
   "source": [
    "pi"
   ]
  },
  {
   "cell_type": "code",
   "execution_count": 10,
   "id": "8e6235b0-ecb3-4f78-9608-d43a03c99693",
   "metadata": {},
   "outputs": [
    {
     "data": {
      "text/plain": [
       "2.718281828459045"
      ]
     },
     "execution_count": 10,
     "metadata": {},
     "output_type": "execute_result"
    }
   ],
   "source": [
    "e"
   ]
  },
  {
   "cell_type": "markdown",
   "id": "b107fc57-ef6a-4c0e-99e6-0e8e915865a8",
   "metadata": {},
   "source": [
    "If possible be specific as possible. For readability and to avoid non-uniqueness of function names of respective modules. "
   ]
  },
  {
   "cell_type": "markdown",
   "id": "8d4efeca-df49-4f5a-ae88-76068d2c155a",
   "metadata": {},
   "source": [
    "# Python module search path"
   ]
  },
  {
   "cell_type": "markdown",
   "id": "2a7b895e-9a92-42a4-8d2a-b620c42a6376",
   "metadata": {},
   "source": [
    "0) The interpreter first looks in the current directory. \n",
    "1) The interpreter secondly looks for build-in Modules in python-path  (list of directories).\n",
    "   ```\n",
    "   import sys\n",
    "   sys.path\n",
    "   ```"
   ]
  },
  {
   "cell_type": "code",
   "execution_count": 12,
   "id": "10f1c3e0-9bf3-4ea5-91c1-8622e0940a1a",
   "metadata": {},
   "outputs": [
    {
     "data": {
      "text/plain": [
       "['C:\\\\Users\\\\everjas\\\\Red Bee Media Limited\\\\Galileo and Security Programmes - Connectivity Transformation - Detailed Design Phase\\\\Documents\\\\Courses\\\\Python',\n",
       " 'C:\\\\Users\\\\everjas\\\\AppData\\\\Local\\\\anaconda3\\\\python311.zip',\n",
       " 'C:\\\\Users\\\\everjas\\\\AppData\\\\Local\\\\anaconda3\\\\DLLs',\n",
       " 'C:\\\\Users\\\\everjas\\\\AppData\\\\Local\\\\anaconda3\\\\Lib',\n",
       " 'C:\\\\Users\\\\everjas\\\\AppData\\\\Local\\\\anaconda3',\n",
       " '',\n",
       " 'C:\\\\Users\\\\everjas\\\\AppData\\\\Local\\\\anaconda3\\\\Lib\\\\site-packages',\n",
       " 'C:\\\\Users\\\\everjas\\\\AppData\\\\Local\\\\anaconda3\\\\Lib\\\\site-packages\\\\win32',\n",
       " 'C:\\\\Users\\\\everjas\\\\AppData\\\\Local\\\\anaconda3\\\\Lib\\\\site-packages\\\\win32\\\\lib',\n",
       " 'C:\\\\Users\\\\everjas\\\\AppData\\\\Local\\\\anaconda3\\\\Lib\\\\site-packages\\\\Pythonwin']"
      ]
     },
     "execution_count": 12,
     "metadata": {},
     "output_type": "execute_result"
    }
   ],
   "source": [
    "import sys\n",
    "sys.path"
   ]
  },
  {
   "cell_type": "code",
   "execution_count": 13,
   "id": "6fc8e3ce-1268-48a6-b83a-16e4e8eb0700",
   "metadata": {},
   "outputs": [
    {
     "data": {
      "text/plain": [
       "list"
      ]
     },
     "execution_count": 13,
     "metadata": {},
     "output_type": "execute_result"
    }
   ],
   "source": [
    "type(sys.path)"
   ]
  },
  {
   "cell_type": "code",
   "execution_count": 14,
   "id": "be91270d-8c4b-48e6-8129-b2e8ef21fbf9",
   "metadata": {},
   "outputs": [],
   "source": [
    "import pandas"
   ]
  },
  {
   "cell_type": "code",
   "execution_count": 15,
   "id": "8d4691af-3f0e-4803-9b7f-b0032a5c81e3",
   "metadata": {},
   "outputs": [
    {
     "data": {
      "text/plain": [
       "['C:\\\\Users\\\\everjas\\\\AppData\\\\Local\\\\anaconda3\\\\Lib\\\\site-packages\\\\pandas']"
      ]
     },
     "execution_count": 15,
     "metadata": {},
     "output_type": "execute_result"
    }
   ],
   "source": [
    "pandas.__path__"
   ]
  },
  {
   "cell_type": "markdown",
   "id": "a8d4ce04-8a84-4e4f-88cf-03140d97cf82",
   "metadata": {},
   "source": [
    "# Reloading a module"
   ]
  },
  {
   "cell_type": "code",
   "execution_count": 23,
   "id": "35cb79e3-7905-4617-a2f9-d4e4b2f2f742",
   "metadata": {},
   "outputs": [],
   "source": [
    "import welcome"
   ]
  },
  {
   "cell_type": "code",
   "execution_count": 24,
   "id": "354ab341-9e12-406c-8015-ee31a1597a6d",
   "metadata": {},
   "outputs": [],
   "source": [
    "import welcome"
   ]
  },
  {
   "cell_type": "markdown",
   "id": "9041f7be-8853-43a4-a63f-1cd39b9bd510",
   "metadata": {},
   "source": [
    "The module is only imported ones! "
   ]
  },
  {
   "cell_type": "code",
   "execution_count": 25,
   "id": "a43e7ccc-3d5c-41a0-af75-93b903053349",
   "metadata": {},
   "outputs": [
    {
     "name": "stderr",
     "output_type": "stream",
     "text": [
      "C:\\Users\\everjas\\AppData\\Local\\Temp\\ipykernel_11228\\713651319.py:1: DeprecationWarning: the imp module is deprecated in favour of importlib and slated for removal in Python 3.12; see the module's documentation for alternative uses\n",
      "  import imp\n"
     ]
    }
   ],
   "source": [
    "import imp"
   ]
  },
  {
   "cell_type": "code",
   "execution_count": 26,
   "id": "90e5911b-7810-413c-9d24-70411a195e74",
   "metadata": {},
   "outputs": [],
   "source": [
    "import importlib"
   ]
  },
  {
   "cell_type": "code",
   "execution_count": 27,
   "id": "fb1e6b9d-af8f-484b-b981-cecea013fdf1",
   "metadata": {},
   "outputs": [
    {
     "name": "stdout",
     "output_type": "stream",
     "text": [
      "Welcome.py has just been executed!\n",
      "Welcome.py has just been updated!\n"
     ]
    },
    {
     "data": {
      "text/plain": [
       "<module 'welcome' from 'C:\\\\Users\\\\everjas\\\\Red Bee Media Limited\\\\Galileo and Security Programmes - Connectivity Transformation - Detailed Design Phase\\\\Documents\\\\Courses\\\\Python\\\\welcome.py'>"
      ]
     },
     "execution_count": 27,
     "metadata": {},
     "output_type": "execute_result"
    }
   ],
   "source": [
    "importlib.reload(welcome)"
   ]
  },
  {
   "cell_type": "markdown",
   "id": "c2057885-8aae-4234-bb5e-3f783f2be80b",
   "metadata": {},
   "source": [
    "# Introduction to packages"
   ]
  },
  {
   "cell_type": "markdown",
   "id": "fa4135c0-00c9-4dcd-98a1-9637d64333c4",
   "metadata": {},
   "source": [
    "In Python directories are like packages. Python files (within packages) are called Modules. Place Modules of the same genre within the same packages. Within the package there is a dunder file __init__.py"
   ]
  },
  {
   "cell_type": "code",
   "execution_count": null,
   "id": "85d9789a-32f9-420b-bfb2-28afeabe4785",
   "metadata": {},
   "outputs": [],
   "source": []
  }
 ],
 "metadata": {
  "kernelspec": {
   "display_name": "Python 3 (ipykernel)",
   "language": "python",
   "name": "python3"
  },
  "language_info": {
   "codemirror_mode": {
    "name": "ipython",
    "version": 3
   },
   "file_extension": ".py",
   "mimetype": "text/x-python",
   "name": "python",
   "nbconvert_exporter": "python",
   "pygments_lexer": "ipython3",
   "version": "3.11.7"
  }
 },
 "nbformat": 4,
 "nbformat_minor": 5
}
