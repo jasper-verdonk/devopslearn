{
 "cells": [
  {
   "cell_type": "markdown",
   "id": "b8e43e82-b777-46f1-b551-bf04f72e24a9",
   "metadata": {},
   "source": [
    "## Imports"
   ]
  },
  {
   "cell_type": "code",
   "execution_count": null,
   "id": "09bb75fa-fd3c-4a60-bc26-eeb2e112519d",
   "metadata": {},
   "outputs": [],
   "source": []
  },
  {
   "cell_type": "markdown",
   "id": "156fbc61-8eeb-4bd7-be76-31d553491e49",
   "metadata": {},
   "source": [
    "## Global variables"
   ]
  },
  {
   "cell_type": "code",
   "execution_count": 13,
   "id": "fc887f06-0b63-43f9-8ac0-f61b9751c72a",
   "metadata": {},
   "outputs": [],
   "source": [
    "suites = ('Diamonds', 'Hearts', 'Spades', 'Clubs')\n",
    "ranks = ('Two', 'Three', 'Four', 'Five', 'Six', 'Seven', 'Eight', 'Nine', 'Ten', 'Jack', 'Queen', 'King', 'Ace')\n",
    "values = {'Two':2, 'Three':3, 'Four':4, 'Five':5, 'Six':6, 'Seven':7, 'Eight':8, 'Nine':9, 'Ten':10, 'Jack':10, 'Queen':10, 'King':10, 'Ace':11}\n"
   ]
  },
  {
   "cell_type": "code",
   "execution_count": 14,
   "id": "2740b945-ce7f-4840-9b6a-89fb39b2f41e",
   "metadata": {},
   "outputs": [
    {
     "data": {
      "text/plain": [
       "{'Two': 2,\n",
       " 'Three': 3,\n",
       " 'Four': 4,\n",
       " 'Five': 5,\n",
       " 'Six': 6,\n",
       " 'Seven': 7,\n",
       " 'Eight': 8,\n",
       " 'Nine': 9,\n",
       " 'Ten': 10,\n",
       " 'Jack': 10,\n",
       " 'Queen': 10,\n",
       " 'King': 10,\n",
       " 'Ace': 11}"
      ]
     },
     "execution_count": 14,
     "metadata": {},
     "output_type": "execute_result"
    }
   ],
   "source": [
    "values"
   ]
  },
  {
   "cell_type": "markdown",
   "id": "0b8da1dc-8c98-4d4b-bef6-b72eab97069d",
   "metadata": {},
   "source": [
    "## Logic to create standard playing cards"
   ]
  },
  {
   "cell_type": "code",
   "execution_count": 1,
   "id": "5d863307-6157-474b-8388-8650fcb2309b",
   "metadata": {},
   "outputs": [],
   "source": [
    "class Card:\n",
    "\n",
    "    def __int__(self, suit, rank):\n",
    "        self.suit = suit\n",
    "        self.rank = rank\n",
    "\n",
    "    def __str__(self):\n",
    "        return self.suit + ' of ' + self.rank\n",
    "        "
   ]
  },
  {
   "cell_type": "code",
   "execution_count": 2,
   "id": "abc57c14-dc7e-489d-ad90-0aab595c05bd",
   "metadata": {},
   "outputs": [
    {
     "data": {
      "text/plain": [
       "__main__.Card"
      ]
     },
     "execution_count": 2,
     "metadata": {},
     "output_type": "execute_result"
    }
   ],
   "source": [
    "Card"
   ]
  },
  {
   "cell_type": "code",
   "execution_count": 3,
   "id": "1339fb0b-607b-4bbf-b4a2-9cf4cd778445",
   "metadata": {},
   "outputs": [
    {
     "data": {
      "text/plain": [
       "type"
      ]
     },
     "execution_count": 3,
     "metadata": {},
     "output_type": "execute_result"
    }
   ],
   "source": [
    "type(Card)"
   ]
  },
  {
   "cell_type": "code",
   "execution_count": 4,
   "id": "b58f294f-66dc-4e3d-bc6a-b838b66f5512",
   "metadata": {},
   "outputs": [
    {
     "ename": "TypeError",
     "evalue": "Card() takes no arguments",
     "output_type": "error",
     "traceback": [
      "\u001b[0;31m---------------------------------------------------------------------------\u001b[0m",
      "\u001b[0;31mTypeError\u001b[0m                                 Traceback (most recent call last)",
      "Cell \u001b[0;32mIn[4], line 1\u001b[0m\n\u001b[0;32m----> 1\u001b[0m three_clubs \u001b[38;5;241m=\u001b[39m Card(\u001b[38;5;124m'\u001b[39m\u001b[38;5;124mClubs\u001b[39m\u001b[38;5;124m'\u001b[39m, \u001b[38;5;124m'\u001b[39m\u001b[38;5;124mThree\u001b[39m\u001b[38;5;124m'\u001b[39m)\n",
      "\u001b[0;31mTypeError\u001b[0m: Card() takes no arguments"
     ]
    }
   ],
   "source": [
    "three_clubs = Card('Clubs', 'Three')"
   ]
  },
  {
   "cell_type": "code",
   "execution_count": null,
   "id": "7950f897-b362-4921-a1c7-9842e644bc46",
   "metadata": {},
   "outputs": [],
   "source": []
  }
 ],
 "metadata": {
  "kernelspec": {
   "display_name": "Python 3 (ipykernel)",
   "language": "python",
   "name": "python3"
  },
  "language_info": {
   "codemirror_mode": {
    "name": "ipython",
    "version": 3
   },
   "file_extension": ".py",
   "mimetype": "text/x-python",
   "name": "python",
   "nbconvert_exporter": "python",
   "pygments_lexer": "ipython3",
   "version": "3.13.5"
  }
 },
 "nbformat": 4,
 "nbformat_minor": 5
}
