{
 "cells": [
  {
   "cell_type": "markdown",
   "id": "b8e43e82-b777-46f1-b551-bf04f72e24a9",
   "metadata": {},
   "source": [
    "## Imports"
   ]
  },
  {
   "cell_type": "code",
   "execution_count": 16,
   "id": "09bb75fa-fd3c-4a60-bc26-eeb2e112519d",
   "metadata": {},
   "outputs": [],
   "source": [
    "import random"
   ]
  },
  {
   "cell_type": "markdown",
   "id": "156fbc61-8eeb-4bd7-be76-31d553491e49",
   "metadata": {},
   "source": [
    "## Global variables"
   ]
  },
  {
   "cell_type": "code",
   "execution_count": 1,
   "id": "fc887f06-0b63-43f9-8ac0-f61b9751c72a",
   "metadata": {},
   "outputs": [],
   "source": [
    "suites = ('Diamonds', 'Hearts', 'Spades', 'Clubs')\n",
    "ranks = ('Two', 'Three', 'Four', 'Five', 'Six', 'Seven', 'Eight', 'Nine', 'Ten', 'Jack', 'Queen', 'King', 'Ace')\n",
    "values = {'Two':2, 'Three':3, 'Four':4, 'Five':5, 'Six':6, 'Seven':7, 'Eight':8, 'Nine':9, 'Ten':10, 'Jack':10, 'Queen':10, 'King':10, 'Ace':11}\n"
   ]
  },
  {
   "cell_type": "markdown",
   "id": "0b8da1dc-8c98-4d4b-bef6-b72eab97069d",
   "metadata": {},
   "source": [
    "## Logic to create standard playing cards"
   ]
  },
  {
   "cell_type": "code",
   "execution_count": 7,
   "id": "5d863307-6157-474b-8388-8650fcb2309b",
   "metadata": {},
   "outputs": [],
   "source": [
    "class Card:\n",
    "\n",
    "    def __init__(self, suit, rank):\n",
    "        self.suit = suit\n",
    "        self.rank = rank\n",
    "\n",
    "    def __str__(self):\n",
    "        return self.rank + ' of ' + self.suit\n",
    "        "
   ]
  },
  {
   "cell_type": "code",
   "execution_count": 8,
   "id": "b58f294f-66dc-4e3d-bc6a-b838b66f5512",
   "metadata": {},
   "outputs": [],
   "source": [
    "three_clubs = Card('Clubs', 'Three')"
   ]
  },
  {
   "cell_type": "code",
   "execution_count": 23,
   "id": "7950f897-b362-4921-a1c7-9842e644bc46",
   "metadata": {},
   "outputs": [],
   "source": [
    "class Deck:\n",
    "\n",
    "    def __init__(self):\n",
    "        self.deck = []\n",
    "        for suit in suites:\n",
    "            for rank in ranks:\n",
    "                self.deck.append(Card(suit, rank))\n",
    "\n",
    "    def __str__(self):\n",
    "        deck_check = ''\n",
    "        for card in self.deck:\n",
    "            deck_check += '\\n ' + card.__str__()\n",
    "        return 'The deck you are using has: ' + deck_check\n",
    "\n",
    "    def shuffle(self):\n",
    "        random.shuffle(self.deck)\n",
    "\n",
    "    def deal(self):\n",
    "        single_card = self.deck.pop()\n",
    "        return single_card"
   ]
  },
  {
   "cell_type": "code",
   "execution_count": 24,
   "id": "a7d53754-988b-4796-8070-6f415e887531",
   "metadata": {},
   "outputs": [],
   "source": [
    "test_deck = Deck()"
   ]
  },
  {
   "cell_type": "code",
   "execution_count": 15,
   "id": "55675053-ec2d-4e44-99e6-bcf6c4303f06",
   "metadata": {},
   "outputs": [
    {
     "name": "stdout",
     "output_type": "stream",
     "text": [
      "The deck you are using has: \n",
      " Two of Diamonds\n",
      " Three of Diamonds\n",
      " Four of Diamonds\n",
      " Five of Diamonds\n",
      " Six of Diamonds\n",
      " Seven of Diamonds\n",
      " Eight of Diamonds\n",
      " Nine of Diamonds\n",
      " Ten of Diamonds\n",
      " Jack of Diamonds\n",
      " Queen of Diamonds\n",
      " King of Diamonds\n",
      " Ace of Diamonds\n",
      " Two of Hearts\n",
      " Three of Hearts\n",
      " Four of Hearts\n",
      " Five of Hearts\n",
      " Six of Hearts\n",
      " Seven of Hearts\n",
      " Eight of Hearts\n",
      " Nine of Hearts\n",
      " Ten of Hearts\n",
      " Jack of Hearts\n",
      " Queen of Hearts\n",
      " King of Hearts\n",
      " Ace of Hearts\n",
      " Two of Spades\n",
      " Three of Spades\n",
      " Four of Spades\n",
      " Five of Spades\n",
      " Six of Spades\n",
      " Seven of Spades\n",
      " Eight of Spades\n",
      " Nine of Spades\n",
      " Ten of Spades\n",
      " Jack of Spades\n",
      " Queen of Spades\n",
      " King of Spades\n",
      " Ace of Spades\n",
      " Two of Clubs\n",
      " Three of Clubs\n",
      " Four of Clubs\n",
      " Five of Clubs\n",
      " Six of Clubs\n",
      " Seven of Clubs\n",
      " Eight of Clubs\n",
      " Nine of Clubs\n",
      " Ten of Clubs\n",
      " Jack of Clubs\n",
      " Queen of Clubs\n",
      " King of Clubs\n",
      " Ace of Clubs\n"
     ]
    }
   ],
   "source": [
    "print(test_deck)"
   ]
  },
  {
   "cell_type": "code",
   "execution_count": 21,
   "id": "92d00532-ecd0-4bd8-91b9-57a8be22ade2",
   "metadata": {},
   "outputs": [],
   "source": [
    "test_deck.shuffle()"
   ]
  },
  {
   "cell_type": "code",
   "execution_count": 22,
   "id": "986b354c-aa15-4b5a-ab86-ad9ca557d629",
   "metadata": {},
   "outputs": [
    {
     "name": "stdout",
     "output_type": "stream",
     "text": [
      "The deck you are using has: \n",
      " Six of Hearts\n",
      " Queen of Clubs\n",
      " Five of Clubs\n",
      " King of Diamonds\n",
      " Ace of Spades\n",
      " Nine of Diamonds\n",
      " Four of Diamonds\n",
      " Jack of Hearts\n",
      " King of Clubs\n",
      " Four of Spades\n",
      " Ace of Clubs\n",
      " Three of Diamonds\n",
      " Five of Diamonds\n",
      " Eight of Spades\n",
      " Seven of Spades\n",
      " Three of Hearts\n",
      " Four of Clubs\n",
      " Seven of Hearts\n",
      " Ten of Clubs\n",
      " King of Spades\n",
      " Eight of Diamonds\n",
      " Ace of Hearts\n",
      " Ten of Hearts\n",
      " Five of Spades\n",
      " Jack of Spades\n",
      " Ace of Diamonds\n",
      " Queen of Diamonds\n",
      " Two of Diamonds\n",
      " Two of Hearts\n",
      " Three of Spades\n",
      " Nine of Hearts\n",
      " Ten of Spades\n",
      " Six of Clubs\n",
      " Eight of Hearts\n",
      " Ten of Diamonds\n",
      " Eight of Clubs\n",
      " Jack of Clubs\n",
      " Three of Clubs\n",
      " King of Hearts\n",
      " Seven of Diamonds\n",
      " Two of Clubs\n",
      " Seven of Clubs\n",
      " Nine of Spades\n",
      " Queen of Spades\n",
      " Six of Spades\n",
      " Five of Hearts\n",
      " Two of Spades\n",
      " Nine of Clubs\n",
      " Four of Hearts\n",
      " Jack of Diamonds\n",
      " Queen of Hearts\n",
      " Six of Diamonds\n"
     ]
    }
   ],
   "source": [
    "print(test_deck)"
   ]
  },
  {
   "cell_type": "code",
   "execution_count": 25,
   "id": "bd26e14f-1689-4958-801a-cf073f51aa94",
   "metadata": {},
   "outputs": [
    {
     "data": {
      "text/plain": [
       "<__main__.Card at 0x2235b340490>"
      ]
     },
     "execution_count": 25,
     "metadata": {},
     "output_type": "execute_result"
    }
   ],
   "source": [
    "test_deck.deal()"
   ]
  },
  {
   "cell_type": "code",
   "execution_count": 26,
   "id": "e11b1468-6c56-44be-82b4-2217461006d5",
   "metadata": {},
   "outputs": [
    {
     "data": {
      "text/plain": [
       "<bound method Deck.deal of <__main__.Deck object at 0x000002235B325690>>"
      ]
     },
     "execution_count": 26,
     "metadata": {},
     "output_type": "execute_result"
    }
   ],
   "source": [
    "test_deck.deal"
   ]
  },
  {
   "cell_type": "code",
   "execution_count": 27,
   "id": "953dee40-bd62-4e7e-8c1c-535f1bb69eb7",
   "metadata": {},
   "outputs": [
    {
     "name": "stdout",
     "output_type": "stream",
     "text": [
      "King of Clubs\n"
     ]
    }
   ],
   "source": [
    "print(test_deck.deal())"
   ]
  },
  {
   "cell_type": "code",
   "execution_count": null,
   "id": "d3182e7c-3a75-42d3-a35e-8a77b1d229d9",
   "metadata": {},
   "outputs": [],
   "source": []
  }
 ],
 "metadata": {
  "kernelspec": {
   "display_name": "Python 3 (ipykernel)",
   "language": "python",
   "name": "python3"
  },
  "language_info": {
   "codemirror_mode": {
    "name": "ipython",
    "version": 3
   },
   "file_extension": ".py",
   "mimetype": "text/x-python",
   "name": "python",
   "nbconvert_exporter": "python",
   "pygments_lexer": "ipython3",
   "version": "3.11.7"
  }
 },
 "nbformat": 4,
 "nbformat_minor": 5
}
