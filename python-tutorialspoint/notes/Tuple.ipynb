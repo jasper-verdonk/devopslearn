{
 "cells": [
  {
   "cell_type": "markdown",
   "id": "8c4339fa-5fe8-4cc9-b4e7-fff62e6aacfa",
   "metadata": {},
   "source": [
    "# What is a tuple?"
   ]
  },
  {
   "cell_type": "markdown",
   "id": "dc768829-ca80-4b10-8946-ee78acd3803a",
   "metadata": {},
   "source": [
    "cannot change the elements of a tuple when it is assigned. "
   ]
  },
  {
   "cell_type": "code",
   "execution_count": 1,
   "id": "416d0e14-2afb-4d25-8ef0-5528b70deb85",
   "metadata": {},
   "outputs": [],
   "source": [
    "my_tuple = ()"
   ]
  },
  {
   "cell_type": "code",
   "execution_count": 2,
   "id": "9b7e6f4f-6895-4085-bcdd-8aa156150b36",
   "metadata": {},
   "outputs": [
    {
     "data": {
      "text/plain": [
       "tuple"
      ]
     },
     "execution_count": 2,
     "metadata": {},
     "output_type": "execute_result"
    }
   ],
   "source": [
    "type(my_tuple)"
   ]
  },
  {
   "cell_type": "code",
   "execution_count": 3,
   "id": "ef94e311-6556-4a50-9cb6-92dab7bb4b13",
   "metadata": {},
   "outputs": [],
   "source": [
    "my_tuple = (1, 2, 3)"
   ]
  },
  {
   "cell_type": "code",
   "execution_count": 4,
   "id": "e322903c-84c0-49c5-a9e4-5d85e79b8d64",
   "metadata": {},
   "outputs": [
    {
     "data": {
      "text/plain": [
       "(1, 2, 3)"
      ]
     },
     "execution_count": 4,
     "metadata": {},
     "output_type": "execute_result"
    }
   ],
   "source": [
    "my_tuple"
   ]
  },
  {
   "cell_type": "code",
   "execution_count": 5,
   "id": "3517021d-f5d6-49ee-9c90-f3bfe2c2c093",
   "metadata": {},
   "outputs": [],
   "source": [
    "my_tuple_1 = (1, 'hello', 2.5)"
   ]
  },
  {
   "cell_type": "code",
   "execution_count": 6,
   "id": "307cde43-3ff2-48d7-9880-46374328520a",
   "metadata": {},
   "outputs": [
    {
     "data": {
      "text/plain": [
       "(1, 'hello', 2.5)"
      ]
     },
     "execution_count": 6,
     "metadata": {},
     "output_type": "execute_result"
    }
   ],
   "source": [
    "my_tuple_1"
   ]
  },
  {
   "cell_type": "code",
   "execution_count": 7,
   "id": "878f0d86-d1d9-4a8c-bb50-ae5ba4d89837",
   "metadata": {},
   "outputs": [],
   "source": [
    "my_tuple_2 = ('football', [1, 2, 3], ('hello', 'good by'))"
   ]
  },
  {
   "cell_type": "code",
   "execution_count": 8,
   "id": "deb91501-e1c0-43d4-b27c-735347262b14",
   "metadata": {},
   "outputs": [
    {
     "data": {
      "text/plain": [
       "('football', [1, 2, 3], ('hello', 'good by'))"
      ]
     },
     "execution_count": 8,
     "metadata": {},
     "output_type": "execute_result"
    }
   ],
   "source": [
    "my_tuple_2"
   ]
  },
  {
   "cell_type": "code",
   "execution_count": 9,
   "id": "ac8f4a65-bb2e-45eb-b168-b6ac3035b96b",
   "metadata": {},
   "outputs": [],
   "source": [
    "my_tuple_3 = 1, 'spain', [1, 2, 3]"
   ]
  },
  {
   "cell_type": "code",
   "execution_count": 10,
   "id": "5971b664-765e-497e-aa83-0c7dab7ed18e",
   "metadata": {},
   "outputs": [
    {
     "data": {
      "text/plain": [
       "(1, 'spain', [1, 2, 3])"
      ]
     },
     "execution_count": 10,
     "metadata": {},
     "output_type": "execute_result"
    }
   ],
   "source": [
    "my_tuple_3"
   ]
  },
  {
   "cell_type": "code",
   "execution_count": 11,
   "id": "276788ac-a624-4f1b-b076-5905a473ed3d",
   "metadata": {},
   "outputs": [
    {
     "data": {
      "text/plain": [
       "tuple"
      ]
     },
     "execution_count": 11,
     "metadata": {},
     "output_type": "execute_result"
    }
   ],
   "source": [
    "type(my_tuple_3)"
   ]
  },
  {
   "cell_type": "code",
   "execution_count": 16,
   "id": "1d4f8c42-ba6e-420c-ba53-4b0dfc140605",
   "metadata": {},
   "outputs": [],
   "source": [
    "my_tuple_4 = ('hello')"
   ]
  },
  {
   "cell_type": "code",
   "execution_count": 17,
   "id": "ae965eb3-ecb5-4744-89b7-b2a8d2d21230",
   "metadata": {},
   "outputs": [
    {
     "data": {
      "text/plain": [
       "str"
      ]
     },
     "execution_count": 17,
     "metadata": {},
     "output_type": "execute_result"
    }
   ],
   "source": [
    "type(my_tuple_4)"
   ]
  },
  {
   "cell_type": "code",
   "execution_count": 18,
   "id": "9f24e165-ac17-4779-9fd5-3eb414b092ad",
   "metadata": {},
   "outputs": [],
   "source": [
    "my_tuple_4 = ('hello',)"
   ]
  },
  {
   "cell_type": "code",
   "execution_count": 19,
   "id": "696af064-8aee-42f5-87ad-ab70d5c50773",
   "metadata": {},
   "outputs": [
    {
     "data": {
      "text/plain": [
       "tuple"
      ]
     },
     "execution_count": 19,
     "metadata": {},
     "output_type": "execute_result"
    }
   ],
   "source": [
    "type(my_tuple_4)"
   ]
  },
  {
   "cell_type": "markdown",
   "id": "23478e82-e79c-41e5-b893-13a75c828bc7",
   "metadata": {},
   "source": [
    "Accessing tuple elements"
   ]
  },
  {
   "cell_type": "code",
   "execution_count": 20,
   "id": "695190fd-a3cb-444e-921e-1e91397bc41c",
   "metadata": {},
   "outputs": [],
   "source": [
    "my_test_tuple = (1, 2, 3, 4, 5, [6, 7, 9], (10, 11, 12))"
   ]
  },
  {
   "cell_type": "code",
   "execution_count": 21,
   "id": "00e32ea1-6830-49e9-bf77-23cc0ec0e886",
   "metadata": {},
   "outputs": [
    {
     "data": {
      "text/plain": [
       "7"
      ]
     },
     "execution_count": 21,
     "metadata": {},
     "output_type": "execute_result"
    }
   ],
   "source": [
    "len(my_test_tuple)"
   ]
  },
  {
   "cell_type": "code",
   "execution_count": 22,
   "id": "b12cf17b-4492-4e8c-aeab-ccdd4dd58f43",
   "metadata": {},
   "outputs": [
    {
     "data": {
      "text/plain": [
       "5"
      ]
     },
     "execution_count": 22,
     "metadata": {},
     "output_type": "execute_result"
    }
   ],
   "source": [
    "my_test_tuple[4]"
   ]
  },
  {
   "cell_type": "code",
   "execution_count": 24,
   "id": "dc90debc-cf70-48d0-9675-28aabdbea880",
   "metadata": {},
   "outputs": [
    {
     "data": {
      "text/plain": [
       "4"
      ]
     },
     "execution_count": 24,
     "metadata": {},
     "output_type": "execute_result"
    }
   ],
   "source": [
    "my_test_tuple[3]"
   ]
  },
  {
   "cell_type": "code",
   "execution_count": 25,
   "id": "c692845c-bda5-4139-aa0c-489a3689f6ed",
   "metadata": {},
   "outputs": [
    {
     "data": {
      "text/plain": [
       "(10, 11, 12)"
      ]
     },
     "execution_count": 25,
     "metadata": {},
     "output_type": "execute_result"
    }
   ],
   "source": [
    "my_test_tuple[-1]"
   ]
  },
  {
   "cell_type": "code",
   "execution_count": 27,
   "id": "a8c707b8-8752-41fc-bf0c-236c0f26ebba",
   "metadata": {},
   "outputs": [
    {
     "data": {
      "text/plain": [
       "(1, 2, 3)"
      ]
     },
     "execution_count": 27,
     "metadata": {},
     "output_type": "execute_result"
    }
   ],
   "source": [
    "my_test_tuple[:3]"
   ]
  },
  {
   "cell_type": "code",
   "execution_count": 28,
   "id": "3cf6ed6f-9a8f-48bf-8ab1-0ebccfad038c",
   "metadata": {},
   "outputs": [
    {
     "data": {
      "text/plain": [
       "([6, 7, 9], (10, 11, 12))"
      ]
     },
     "execution_count": 28,
     "metadata": {},
     "output_type": "execute_result"
    }
   ],
   "source": [
    "my_test_tuple[5:]"
   ]
  },
  {
   "cell_type": "code",
   "execution_count": 29,
   "id": "48768ed2-35ba-44cf-a3d1-a0de9221f789",
   "metadata": {},
   "outputs": [
    {
     "data": {
      "text/plain": [
       "(5, [6, 7, 9], (10, 11, 12))"
      ]
     },
     "execution_count": 29,
     "metadata": {},
     "output_type": "execute_result"
    }
   ],
   "source": [
    "my_test_tuple[-3:]"
   ]
  },
  {
   "cell_type": "markdown",
   "id": "3a00a13b-7dfd-4a1d-bb4a-7678874ed112",
   "metadata": {},
   "source": [
    "# Tuples are immutable unlike lists"
   ]
  },
  {
   "cell_type": "markdown",
   "id": "bffa7834-c24e-487b-adf0-e9acfd8eb4fb",
   "metadata": {},
   "source": [
    "changing elements in tubles"
   ]
  },
  {
   "cell_type": "code",
   "execution_count": 30,
   "id": "c38092b8-cb13-44f1-80f5-d2fc1739b3a9",
   "metadata": {},
   "outputs": [
    {
     "data": {
      "text/plain": [
       "(1, 2, 3, 4, 5, [6, 7, 9], (10, 11, 12))"
      ]
     },
     "execution_count": 30,
     "metadata": {},
     "output_type": "execute_result"
    }
   ],
   "source": [
    "my_test_tuple"
   ]
  },
  {
   "cell_type": "code",
   "execution_count": 31,
   "id": "fa5cfb80-a0d2-43cc-b8ff-d4c93e371b31",
   "metadata": {},
   "outputs": [],
   "source": [
    "my_test_tuple = (1, 2, 3, 4, 5, [6, 7, 9], (10, 11, 12))"
   ]
  },
  {
   "cell_type": "code",
   "execution_count": 32,
   "id": "41557af7-c05e-466f-940c-19ad25499897",
   "metadata": {},
   "outputs": [
    {
     "ename": "TypeError",
     "evalue": "'tuple' object does not support item assignment",
     "output_type": "error",
     "traceback": [
      "\u001b[1;31m---------------------------------------------------------------------------\u001b[0m",
      "\u001b[1;31mTypeError\u001b[0m                                 Traceback (most recent call last)",
      "Cell \u001b[1;32mIn[32], line 1\u001b[0m\n\u001b[1;32m----> 1\u001b[0m my_test_tuple[\u001b[38;5;241m0\u001b[39m] \u001b[38;5;241m=\u001b[39m \u001b[38;5;124m'\u001b[39m\u001b[38;5;124mhello\u001b[39m\u001b[38;5;124m'\u001b[39m\n",
      "\u001b[1;31mTypeError\u001b[0m: 'tuple' object does not support item assignment"
     ]
    }
   ],
   "source": [
    "my_test_tuple[0] = 'hello'"
   ]
  },
  {
   "cell_type": "code",
   "execution_count": 33,
   "id": "5fbf78f2-5fd8-442e-aacc-df74f38df722",
   "metadata": {},
   "outputs": [],
   "source": [
    "my_test_list = [1, 2, 3]"
   ]
  },
  {
   "cell_type": "code",
   "execution_count": 34,
   "id": "cc133bd8-a89c-4214-adb2-e435414d9565",
   "metadata": {},
   "outputs": [],
   "source": [
    "my_test_list[0] = 'hello'"
   ]
  },
  {
   "cell_type": "code",
   "execution_count": 35,
   "id": "668b35d3-2fee-4bd4-b102-d5287f3efa6c",
   "metadata": {},
   "outputs": [
    {
     "data": {
      "text/plain": [
       "['hello', 2, 3]"
      ]
     },
     "execution_count": 35,
     "metadata": {},
     "output_type": "execute_result"
    }
   ],
   "source": [
    "my_test_list"
   ]
  },
  {
   "cell_type": "code",
   "execution_count": 36,
   "id": "b9841dc3-df97-4f68-be34-b0bb0ca30fdb",
   "metadata": {},
   "outputs": [
    {
     "data": {
      "text/plain": [
       "[6, 7, 9]"
      ]
     },
     "execution_count": 36,
     "metadata": {},
     "output_type": "execute_result"
    }
   ],
   "source": [
    "my_test_tuple[5]"
   ]
  },
  {
   "cell_type": "code",
   "execution_count": 37,
   "id": "3725e018-e75d-472f-92f3-c64c88944ca2",
   "metadata": {},
   "outputs": [],
   "source": [
    "my_test_tuple[5][2] = 80"
   ]
  },
  {
   "cell_type": "code",
   "execution_count": 39,
   "id": "ae60923b-d3e8-45f8-9307-2bf3b073e08b",
   "metadata": {},
   "outputs": [
    {
     "data": {
      "text/plain": [
       "(1, 2, 3, 4, 5, [6, 7, 80], (10, 11, 12))"
      ]
     },
     "execution_count": 39,
     "metadata": {},
     "output_type": "execute_result"
    }
   ],
   "source": [
    "my_test_tuple"
   ]
  },
  {
   "cell_type": "code",
   "execution_count": 40,
   "id": "1263241a-ab6f-43cb-844e-8199d2d8ffbf",
   "metadata": {},
   "outputs": [],
   "source": [
    "my_test_tuple[5].append(99)"
   ]
  },
  {
   "cell_type": "code",
   "execution_count": 41,
   "id": "6208c306-87ac-4b83-934a-b24493cd1165",
   "metadata": {},
   "outputs": [
    {
     "data": {
      "text/plain": [
       "(1, 2, 3, 4, 5, [6, 7, 80, 99], (10, 11, 12))"
      ]
     },
     "execution_count": 41,
     "metadata": {},
     "output_type": "execute_result"
    }
   ],
   "source": [
    "my_test_tuple"
   ]
  },
  {
   "cell_type": "code",
   "execution_count": 42,
   "id": "e7d1bcc9-6498-4505-8ed8-194f9567096b",
   "metadata": {},
   "outputs": [],
   "source": [
    "my_tuple = ('one', 'two', 'three')"
   ]
  },
  {
   "cell_type": "code",
   "execution_count": 44,
   "id": "6084f1c8-d244-453a-a0f2-b3ceec97cccb",
   "metadata": {},
   "outputs": [],
   "source": [
    "concat_tuple = my_tuple + (4, 5, 6)"
   ]
  },
  {
   "cell_type": "code",
   "execution_count": 45,
   "id": "4fdb1f87-32cc-4bc8-a027-4dd6c194e9a9",
   "metadata": {},
   "outputs": [
    {
     "data": {
      "text/plain": [
       "('one', 'two', 'three', 4, 5, 6)"
      ]
     },
     "execution_count": 45,
     "metadata": {},
     "output_type": "execute_result"
    }
   ],
   "source": [
    "concat_tuple"
   ]
  },
  {
   "cell_type": "code",
   "execution_count": 46,
   "id": "6dc4bc32-c2bd-4f2a-af12-afde830a334e",
   "metadata": {},
   "outputs": [
    {
     "data": {
      "text/plain": [
       "('one', 'two', 'three', 4, 5, 6, 'one', 'two', 'three', 4, 5, 6)"
      ]
     },
     "execution_count": 46,
     "metadata": {},
     "output_type": "execute_result"
    }
   ],
   "source": [
    "concat_tuple*2"
   ]
  },
  {
   "cell_type": "code",
   "execution_count": 48,
   "id": "eb1eb618-838b-462a-b8aa-f1c80d4ed3f8",
   "metadata": {},
   "outputs": [
    {
     "ename": "TypeError",
     "evalue": "'tuple' object doesn't support item deletion",
     "output_type": "error",
     "traceback": [
      "\u001b[1;31m---------------------------------------------------------------------------\u001b[0m",
      "\u001b[1;31mTypeError\u001b[0m                                 Traceback (most recent call last)",
      "Cell \u001b[1;32mIn[48], line 1\u001b[0m\n\u001b[1;32m----> 1\u001b[0m \u001b[38;5;28;01mdel\u001b[39;00m concat_tuple[\u001b[38;5;241m3\u001b[39m]\n",
      "\u001b[1;31mTypeError\u001b[0m: 'tuple' object doesn't support item deletion"
     ]
    }
   ],
   "source": [
    "del concat_tuple[3]"
   ]
  },
  {
   "cell_type": "code",
   "execution_count": 49,
   "id": "017ebfe5-2ab6-42cd-94a3-b295dd91dc13",
   "metadata": {},
   "outputs": [],
   "source": [
    "del concat_tuple"
   ]
  },
  {
   "cell_type": "markdown",
   "id": "02766e56-ebc1-4170-ba71-3a7f8d938fe5",
   "metadata": {},
   "source": [
    "# Tuple methods and operations"
   ]
  },
  {
   "cell_type": "code",
   "execution_count": 52,
   "id": "218e6c47-0767-4025-bc51-5fbf4bec9157",
   "metadata": {},
   "outputs": [],
   "source": [
    "my_tuble = (1, 1, 1, 1, 2, 3, 4, 1) + (1,)"
   ]
  },
  {
   "cell_type": "code",
   "execution_count": 53,
   "id": "c970adaf-447c-4c80-aa4c-eb31ea1f5333",
   "metadata": {},
   "outputs": [
    {
     "data": {
      "text/plain": [
       "(1, 1, 1, 1, 2, 3, 4, 1, 1)"
      ]
     },
     "execution_count": 53,
     "metadata": {},
     "output_type": "execute_result"
    }
   ],
   "source": [
    "my_tuble"
   ]
  },
  {
   "cell_type": "code",
   "execution_count": 56,
   "id": "5aa27855-0286-46e8-a7f2-e87c87e7d082",
   "metadata": {},
   "outputs": [
    {
     "data": {
      "text/plain": [
       "6"
      ]
     },
     "execution_count": 56,
     "metadata": {},
     "output_type": "execute_result"
    }
   ],
   "source": [
    "my_tuble.count(1)"
   ]
  },
  {
   "cell_type": "code",
   "execution_count": 58,
   "id": "d0eebfbd-7c2c-48d4-8529-1c7a7f61efcd",
   "metadata": {},
   "outputs": [
    {
     "data": {
      "text/plain": [
       "6"
      ]
     },
     "execution_count": 58,
     "metadata": {},
     "output_type": "execute_result"
    }
   ],
   "source": [
    "my_tuble.index(4)"
   ]
  },
  {
   "cell_type": "code",
   "execution_count": 59,
   "id": "af7ff07c-180c-41bb-b400-613cd47ac0b7",
   "metadata": {},
   "outputs": [
    {
     "data": {
      "text/plain": [
       "0"
      ]
     },
     "execution_count": 59,
     "metadata": {},
     "output_type": "execute_result"
    }
   ],
   "source": [
    "my_tuble.index(1)"
   ]
  },
  {
   "cell_type": "code",
   "execution_count": 60,
   "id": "c143dc38-8d36-4186-a527-e1949be409ba",
   "metadata": {},
   "outputs": [
    {
     "data": {
      "text/plain": [
       "True"
      ]
     },
     "execution_count": 60,
     "metadata": {},
     "output_type": "execute_result"
    }
   ],
   "source": [
    "1 in my_tuble"
   ]
  },
  {
   "cell_type": "code",
   "execution_count": 61,
   "id": "219b5d3e-9db9-46d0-878a-a44973b91eba",
   "metadata": {},
   "outputs": [
    {
     "data": {
      "text/plain": [
       "False"
      ]
     },
     "execution_count": 61,
     "metadata": {},
     "output_type": "execute_result"
    }
   ],
   "source": [
    "99 in my_tuble"
   ]
  },
  {
   "cell_type": "code",
   "execution_count": 62,
   "id": "afc35d16-cfba-4cd3-b525-75df6b10dcf8",
   "metadata": {},
   "outputs": [
    {
     "data": {
      "text/plain": [
       "True"
      ]
     },
     "execution_count": 62,
     "metadata": {},
     "output_type": "execute_result"
    }
   ],
   "source": [
    "99 not in my_tuble "
   ]
  },
  {
   "cell_type": "markdown",
   "id": "8d55ad5f-433b-4b79-a8b8-411dfba34ffb",
   "metadata": {},
   "source": [
    "Tuple unpacking"
   ]
  },
  {
   "cell_type": "code",
   "execution_count": 63,
   "id": "068b81d8-f5fd-4252-b302-ff8193b96390",
   "metadata": {},
   "outputs": [],
   "source": [
    "my_tuble = 1, 2, 'hello', 2.5"
   ]
  },
  {
   "cell_type": "code",
   "execution_count": 64,
   "id": "f55bb6d8-453b-4cbf-9614-ade6a50b1c21",
   "metadata": {},
   "outputs": [
    {
     "data": {
      "text/plain": [
       "tuple"
      ]
     },
     "execution_count": 64,
     "metadata": {},
     "output_type": "execute_result"
    }
   ],
   "source": [
    "type(my_tuble)"
   ]
  },
  {
   "cell_type": "code",
   "execution_count": 65,
   "id": "0c950899-3595-47d4-8cf6-dfe0621d20ab",
   "metadata": {},
   "outputs": [],
   "source": [
    "a, b, c, d = my_tuble"
   ]
  },
  {
   "cell_type": "code",
   "execution_count": 66,
   "id": "58929a98-61e5-44a7-af05-00faf9ef482a",
   "metadata": {},
   "outputs": [
    {
     "data": {
      "text/plain": [
       "1"
      ]
     },
     "execution_count": 66,
     "metadata": {},
     "output_type": "execute_result"
    }
   ],
   "source": [
    "a"
   ]
  },
  {
   "cell_type": "code",
   "execution_count": 67,
   "id": "a968d2c6-0fc1-4693-9f84-9afec2737392",
   "metadata": {},
   "outputs": [
    {
     "data": {
      "text/plain": [
       "2"
      ]
     },
     "execution_count": 67,
     "metadata": {},
     "output_type": "execute_result"
    }
   ],
   "source": [
    "b"
   ]
  },
  {
   "cell_type": "code",
   "execution_count": 68,
   "id": "5223a70b-d490-41fd-96d3-1a49d6d70080",
   "metadata": {},
   "outputs": [
    {
     "data": {
      "text/plain": [
       "2.5"
      ]
     },
     "execution_count": 68,
     "metadata": {},
     "output_type": "execute_result"
    }
   ],
   "source": [
    "d"
   ]
  },
  {
   "cell_type": "code",
   "execution_count": 69,
   "id": "6137f588-67db-4fa4-acec-d601ecdb4362",
   "metadata": {},
   "outputs": [
    {
     "ename": "ValueError",
     "evalue": "too many values to unpack (expected 3)",
     "output_type": "error",
     "traceback": [
      "\u001b[1;31m---------------------------------------------------------------------------\u001b[0m",
      "\u001b[1;31mValueError\u001b[0m                                Traceback (most recent call last)",
      "Cell \u001b[1;32mIn[69], line 1\u001b[0m\n\u001b[1;32m----> 1\u001b[0m d, e, f \u001b[38;5;241m=\u001b[39m my_tuble\n",
      "\u001b[1;31mValueError\u001b[0m: too many values to unpack (expected 3)"
     ]
    }
   ],
   "source": [
    "d, e, f = my_tuble"
   ]
  },
  {
   "cell_type": "markdown",
   "id": "6dcef5da-cd25-479a-bf5a-a072be4eec3a",
   "metadata": {},
   "source": [
    "# Tuples vs Lists"
   ]
  },
  {
   "cell_type": "code",
   "execution_count": null,
   "id": "ee38518f-07da-4fb0-9258-e759bfa111b6",
   "metadata": {},
   "outputs": [],
   "source": []
  }
 ],
 "metadata": {
  "kernelspec": {
   "display_name": "Python 3 (ipykernel)",
   "language": "python",
   "name": "python3"
  },
  "language_info": {
   "codemirror_mode": {
    "name": "ipython",
    "version": 3
   },
   "file_extension": ".py",
   "mimetype": "text/x-python",
   "name": "python",
   "nbconvert_exporter": "python",
   "pygments_lexer": "ipython3",
   "version": "3.11.7"
  }
 },
 "nbformat": 4,
 "nbformat_minor": 5
}
