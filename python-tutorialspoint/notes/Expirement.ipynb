{
 "cells": [
  {
   "cell_type": "code",
   "execution_count": null,
   "id": "a8b32c0b-cfa3-4bee-9e92-635095d6d444",
   "metadata": {},
   "outputs": [],
   "source": [
    "import time\n",
    "import datetime\n"
   ]
  },
  {
   "cell_type": "code",
   "execution_count": 1,
   "id": "d31bd125-9aa8-44c8-970b-d3ea9e600bb9",
   "metadata": {},
   "outputs": [
    {
     "ename": "NameError",
     "evalue": "name 'datetime' is not defined",
     "output_type": "error",
     "traceback": [
      "\u001b[31m---------------------------------------------------------------------------\u001b[39m",
      "\u001b[31mNameError\u001b[39m                                 Traceback (most recent call last)",
      "\u001b[36mCell\u001b[39m\u001b[36m \u001b[39m\u001b[32mIn[1]\u001b[39m\u001b[32m, line 1\u001b[39m\n\u001b[32m----> \u001b[39m\u001b[32m1\u001b[39m date_time = \u001b[43mdatetime\u001b[49m.datetime.now()\n",
      "\u001b[31mNameError\u001b[39m: name 'datetime' is not defined"
     ]
    }
   ],
   "source": [
    "date_time = datetime.datetime.now()"
   ]
  },
  {
   "cell_type": "code",
   "execution_count": 12,
   "id": "d160b734-4114-4665-8215-f5e3236bdc08",
   "metadata": {},
   "outputs": [
    {
     "data": {
      "text/plain": [
       "datetime.datetime(2025, 3, 28, 16, 15, 10, 668431)"
      ]
     },
     "execution_count": 12,
     "metadata": {},
     "output_type": "execute_result"
    }
   ],
   "source": [
    "date_time"
   ]
  },
  {
   "cell_type": "code",
   "execution_count": 13,
   "id": "73e25b16-8aaa-4c71-8a7d-47978f7759b6",
   "metadata": {},
   "outputs": [],
   "source": [
    "date_time_str = str(date_time.strftime(\"%d-%m-%Y-%H-%M-%S\"))"
   ]
  },
  {
   "cell_type": "code",
   "execution_count": 14,
   "id": "aba51d14-19cb-481c-a4d8-8c8992114743",
   "metadata": {},
   "outputs": [
    {
     "data": {
      "text/plain": [
       "'28-03-2025-16-15-10'"
      ]
     },
     "execution_count": 14,
     "metadata": {},
     "output_type": "execute_result"
    }
   ],
   "source": [
    "date_time_str\n"
   ]
  },
  {
   "cell_type": "code",
   "execution_count": 17,
   "id": "70345317-3aa4-4384-8032-2820a1c34db7",
   "metadata": {},
   "outputs": [],
   "source": [
    "FileLogs = r\"C:\\Users\\everjas\\Red Bee Media Limited\\Documents\\Network projects\\NL Channel Store\\file_log \" + date_time_str + \".txt\""
   ]
  },
  {
   "cell_type": "code",
   "execution_count": 18,
   "id": "3262608b-620f-45bc-97b4-3f000d82da61",
   "metadata": {},
   "outputs": [
    {
     "data": {
      "text/plain": [
       "'C:\\\\Users\\\\everjas\\\\Red Bee Media Limited\\\\Documents\\\\Network projects\\\\NL Channel Store\\\\file_log 28-03-2025-16-15-10.txt'"
      ]
     },
     "execution_count": 18,
     "metadata": {},
     "output_type": "execute_result"
    }
   ],
   "source": [
    "FileLogs"
   ]
  },
  {
   "cell_type": "code",
   "execution_count": 1,
   "id": "b664f567-93c0-401b-a8b8-15a7e427339a",
   "metadata": {},
   "outputs": [],
   "source": [
    "def welcome():\n",
    "    '''This function welcome the users and asks them how they are.'''\n",
    "    message = \"How are you doing today\"\n",
    "    return message\n"
   ]
  },
  {
   "cell_type": "code",
   "execution_count": 2,
   "id": "b8e5551c-c5db-469d-a265-422770c6c128",
   "metadata": {},
   "outputs": [
    {
     "data": {
      "text/plain": [
       "'How are you doing today'"
      ]
     },
     "execution_count": 2,
     "metadata": {},
     "output_type": "execute_result"
    }
   ],
   "source": [
    "welcome()"
   ]
  },
  {
   "cell_type": "code",
   "execution_count": 3,
   "id": "88590af6-d7ba-4dcd-9be1-2a0076860382",
   "metadata": {},
   "outputs": [
    {
     "data": {
      "text/plain": [
       "str"
      ]
     },
     "execution_count": 3,
     "metadata": {},
     "output_type": "execute_result"
    }
   ],
   "source": [
    "type(welcome())\n"
   ]
  },
  {
   "cell_type": "code",
   "execution_count": 4,
   "id": "646b2d93-8775-426a-a822-7d04a44e2c88",
   "metadata": {},
   "outputs": [
    {
     "data": {
      "text/plain": [
       "function"
      ]
     },
     "execution_count": 4,
     "metadata": {},
     "output_type": "execute_result"
    }
   ],
   "source": [
    "type(welcome)"
   ]
  },
  {
   "cell_type": "code",
   "execution_count": 6,
   "id": "794fb5f0-dee2-4619-ad27-a6ca533f9a61",
   "metadata": {},
   "outputs": [
    {
     "data": {
      "text/plain": [
       "'HOW ARE YOU DOING TODAY'"
      ]
     },
     "execution_count": 6,
     "metadata": {},
     "output_type": "execute_result"
    }
   ],
   "source": [
    "welcome().upper()"
   ]
  },
  {
   "cell_type": "code",
   "execution_count": 7,
   "id": "a1b9bcef-ec30-4c62-9a06-1077b91bfb42",
   "metadata": {},
   "outputs": [],
   "source": [
    "def the_doubler(num):\n",
    "    result = 2 * num\n",
    "    return result\n",
    "    "
   ]
  },
  {
   "cell_type": "code",
   "execution_count": 8,
   "id": "2b34a847-31aa-4ad6-9f3f-7e507a75b1ce",
   "metadata": {},
   "outputs": [
    {
     "data": {
      "text/plain": [
       "30"
      ]
     },
     "execution_count": 8,
     "metadata": {},
     "output_type": "execute_result"
    }
   ],
   "source": [
    "the_doubler(15)"
   ]
  },
  {
   "cell_type": "code",
   "execution_count": 13,
   "id": "99b199cc-d021-42a9-be84-51ea6ea99efc",
   "metadata": {},
   "outputs": [
    {
     "data": {
      "text/plain": [
       "int"
      ]
     },
     "execution_count": 13,
     "metadata": {},
     "output_type": "execute_result"
    }
   ],
   "source": [
    "type(the_doubler(15))\n"
   ]
  },
  {
   "cell_type": "code",
   "execution_count": 14,
   "id": "6402d0ea-22f5-4f2e-84ed-39f6ab2f2a1a",
   "metadata": {},
   "outputs": [],
   "source": [
    "def play_again(play):\n",
    "    if play == 'yes':\n",
    "        return True\n",
    "    elif play == 'no':\n",
    "        return False\n",
    "    else:\n",
    "        return -1"
   ]
  },
  {
   "cell_type": "code",
   "execution_count": 15,
   "id": "813b3b4c-90ab-4f14-9f16-938267549fbc",
   "metadata": {},
   "outputs": [
    {
     "data": {
      "text/plain": [
       "True"
      ]
     },
     "execution_count": 15,
     "metadata": {},
     "output_type": "execute_result"
    }
   ],
   "source": [
    "play_again('yes')"
   ]
  },
  {
   "cell_type": "code",
   "execution_count": 16,
   "id": "49118cfd-b01d-4c41-9896-142f8ebc855c",
   "metadata": {},
   "outputs": [
    {
     "data": {
      "text/plain": [
       "-1"
      ]
     },
     "execution_count": 16,
     "metadata": {},
     "output_type": "execute_result"
    }
   ],
   "source": [
    "play_again('Stalingrad')"
   ]
  },
  {
   "cell_type": "code",
   "execution_count": 17,
   "id": "795a6055-5dc9-492a-b8b0-dc3a68db3187",
   "metadata": {},
   "outputs": [
    {
     "data": {
      "text/plain": [
       "False"
      ]
     },
     "execution_count": 17,
     "metadata": {},
     "output_type": "execute_result"
    }
   ],
   "source": [
    "play_again('no')"
   ]
  },
  {
   "cell_type": "code",
   "execution_count": 19,
   "id": "195e02e0-3010-4405-b167-3f0903d3e88b",
   "metadata": {},
   "outputs": [
    {
     "name": "stdout",
     "output_type": "stream",
     "text": [
      "Lets have more luck next time\n"
     ]
    }
   ],
   "source": [
    "if play_again('Stalingrad') == True:\n",
    "    print(\"Great choice, lets play again\")\n",
    "else:\n",
    "    print(\"Lets have more luck next time\")"
   ]
  },
  {
   "cell_type": "code",
   "execution_count": null,
   "id": "bf3d7812-7fce-4668-8155-2e86bee8b55d",
   "metadata": {},
   "outputs": [],
   "source": []
  },
  {
   "cell_type": "code",
   "execution_count": 29,
   "id": "3f64bf8b-71b1-41e5-a6f9-45fd8c8ed26b",
   "metadata": {},
   "outputs": [],
   "source": [
    "def welcome(first_name, last_name):\n",
    "    '''This function welcome the users and asks them how they are.'''\n",
    "    message = \"Hello {} {}. How are you doing today\".format(first_name, last_name) \n",
    "    return message\n"
   ]
  },
  {
   "cell_type": "markdown",
   "id": "92982d49-5050-4fec-8293-423ded030648",
   "metadata": {},
   "source": [
    "Positional arguments and key arguments"
   ]
  },
  {
   "cell_type": "code",
   "execution_count": 46,
   "id": "8cb9bf49-0209-452e-9bf5-36626053b5e3",
   "metadata": {},
   "outputs": [
    {
     "data": {
      "text/plain": [
       "'Hello Susan Swerver. How are you doing today'"
      ]
     },
     "execution_count": 46,
     "metadata": {},
     "output_type": "execute_result"
    }
   ],
   "source": [
    "welcome('Susan', 'Zwerver')"
   ]
  },
  {
   "cell_type": "code",
   "execution_count": 47,
   "id": "ad594486-a12f-497b-a130-51c5979e3329",
   "metadata": {},
   "outputs": [
    {
     "data": {
      "text/plain": [
       "'Hello Susan Zwerver. How are you doing today'"
      ]
     },
     "execution_count": 47,
     "metadata": {},
     "output_type": "execute_result"
    }
   ],
   "source": [
    "welcome(first_name='Susan', last_name='Zwerver')"
   ]
  },
  {
   "cell_type": "code",
   "execution_count": 48,
   "id": "e9e21663-a245-4a2d-b3cb-11fe3ebe7983",
   "metadata": {},
   "outputs": [
    {
     "data": {
      "text/plain": [
       "'Hello Tieland Paul. How are you doing today'"
      ]
     },
     "execution_count": 48,
     "metadata": {},
     "output_type": "execute_result"
    }
   ],
   "source": [
    "welcome(last_name='Paul', first_name='Tieland')"
   ]
  },
  {
   "cell_type": "code",
   "execution_count": 33,
   "id": "982e7ed4-793c-444a-8c94-1984ff4eac12",
   "metadata": {},
   "outputs": [
    {
     "data": {
      "text/plain": [
       "'Hello Sarah Thorp. How are you doing today'"
      ]
     },
     "execution_count": 33,
     "metadata": {},
     "output_type": "execute_result"
    }
   ],
   "source": [
    "welcome('Sarah', last_name='Thorp')"
   ]
  },
  {
   "cell_type": "code",
   "execution_count": 49,
   "id": "cd9207c5-084d-4d55-8fae-dd59d00607e2",
   "metadata": {},
   "outputs": [
    {
     "ename": "SyntaxError",
     "evalue": "positional argument follows keyword argument (320428322.py, line 1)",
     "output_type": "error",
     "traceback": [
      "\u001b[1;36m  Cell \u001b[1;32mIn[49], line 1\u001b[1;36m\u001b[0m\n\u001b[1;33m    welcome(last_name='Verdonk', 'Stalin')\u001b[0m\n\u001b[1;37m                                         ^\u001b[0m\n\u001b[1;31mSyntaxError\u001b[0m\u001b[1;31m:\u001b[0m positional argument follows keyword argument\n"
     ]
    }
   ],
   "source": [
    "welcome(last_name='Verdonk', 'Stalin')"
   ]
  },
  {
   "cell_type": "markdown",
   "id": "d172e46c-3278-4b1d-bc35-0e9417827a23",
   "metadata": {},
   "source": [
    "Positional argument follows keyword argument"
   ]
  },
  {
   "cell_type": "code",
   "execution_count": null,
   "id": "f78e2b7b-18dc-4c3e-8079-86f5e321d04e",
   "metadata": {},
   "outputs": [],
   "source": []
  },
  {
   "cell_type": "code",
   "execution_count": 50,
   "id": "5e4006fc-6fb0-4677-a2a7-b123a42a5336",
   "metadata": {},
   "outputs": [],
   "source": [
    "def welcome(first_name, last_name='Stalin'):\n",
    "    '''This function welcome the users and asks them how they are.'''\n",
    "    message = \"Hello {} {}. How are you doing today\".format(first_name, last_name) \n",
    "    return message\n"
   ]
  },
  {
   "cell_type": "code",
   "execution_count": 52,
   "id": "8a2bb091-448c-4e27-8740-0bd95e04af54",
   "metadata": {},
   "outputs": [
    {
     "data": {
      "text/plain": [
       "'Hello Susan Stalin. How are you doing today'"
      ]
     },
     "execution_count": 52,
     "metadata": {},
     "output_type": "execute_result"
    }
   ],
   "source": [
    "welcome('Susan')"
   ]
  },
  {
   "cell_type": "code",
   "execution_count": null,
   "id": "a1334bda-a030-4286-ab4f-1237836300c4",
   "metadata": {},
   "outputs": [],
   "source": []
  },
  {
   "cell_type": "code",
   "execution_count": 38,
   "id": "64227493-513e-4aa9-b59b-8625e8b6975d",
   "metadata": {},
   "outputs": [],
   "source": [
    "def calculator(int1, int2, int3):\n",
    "    sum = int1 + int2 + int3\n",
    "    return sum"
   ]
  },
  {
   "cell_type": "code",
   "execution_count": 39,
   "id": "df38a0b8-9040-4648-82f1-f2d60610c2db",
   "metadata": {},
   "outputs": [
    {
     "data": {
      "text/plain": [
       "9"
      ]
     },
     "execution_count": 39,
     "metadata": {},
     "output_type": "execute_result"
    }
   ],
   "source": [
    "calculator(2, 3, 4)"
   ]
  },
  {
   "cell_type": "code",
   "execution_count": 40,
   "id": "61806db8-3612-446f-a1d8-b230392e6ed4",
   "metadata": {},
   "outputs": [
    {
     "ename": "SyntaxError",
     "evalue": "positional argument follows keyword argument (1132621228.py, line 1)",
     "output_type": "error",
     "traceback": [
      "\u001b[1;36m  Cell \u001b[1;32mIn[40], line 1\u001b[1;36m\u001b[0m\n\u001b[1;33m    calculator(int1=2, 4, 5)\u001b[0m\n\u001b[1;37m                           ^\u001b[0m\n\u001b[1;31mSyntaxError\u001b[0m\u001b[1;31m:\u001b[0m positional argument follows keyword argument\n"
     ]
    }
   ],
   "source": [
    "calculator(int1=2, 4, 5)"
   ]
  },
  {
   "cell_type": "code",
   "execution_count": 41,
   "id": "bc4a2a6b-fbc5-4658-9813-b092ea9ec951",
   "metadata": {},
   "outputs": [
    {
     "data": {
      "text/plain": [
       "11"
      ]
     },
     "execution_count": 41,
     "metadata": {},
     "output_type": "execute_result"
    }
   ],
   "source": [
    "calculator(2, 4, int3=5)"
   ]
  },
  {
   "cell_type": "code",
   "execution_count": null,
   "id": "15f6163c-5b29-44c6-9e66-a21d322fd574",
   "metadata": {},
   "outputs": [],
   "source": [
    "last_name='Verdonk'"
   ]
  },
  {
   "cell_type": "code",
   "execution_count": 42,
   "id": "943c33e5-83e2-4dc2-8a23-7ba79e9d7abb",
   "metadata": {},
   "outputs": [],
   "source": [
    "def calculator(int1, int2, int3=100):\n",
    "    sum = int1 + int2 + int3\n",
    "    return sum"
   ]
  },
  {
   "cell_type": "code",
   "execution_count": 43,
   "id": "fa455743-36b2-432f-8bb9-aa0e9952adea",
   "metadata": {},
   "outputs": [
    {
     "data": {
      "text/plain": [
       "103"
      ]
     },
     "execution_count": 43,
     "metadata": {},
     "output_type": "execute_result"
    }
   ],
   "source": [
    "calculator(1, 2)"
   ]
  },
  {
   "cell_type": "code",
   "execution_count": 45,
   "id": "a086489a-2635-489b-91e0-acf9faf4d956",
   "metadata": {},
   "outputs": [
    {
     "data": {
      "text/plain": [
       "104"
      ]
     },
     "execution_count": 45,
     "metadata": {},
     "output_type": "execute_result"
    }
   ],
   "source": [
    "calculator(int2=1, int1=3, int3=100)"
   ]
  },
  {
   "cell_type": "code",
   "execution_count": 53,
   "id": "fd3c1e91-4d47-4128-8786-3fecb945d9ea",
   "metadata": {},
   "outputs": [],
   "source": [
    "def game_players(*names):\n",
    "    for name in names:\n",
    "        print(\"Hello \" + name)\n",
    "        "
   ]
  },
  {
   "cell_type": "code",
   "execution_count": 54,
   "id": "912f6289-76a6-48be-bb5d-a495f09e7c6e",
   "metadata": {},
   "outputs": [
    {
     "name": "stdout",
     "output_type": "stream",
     "text": [
      "Hello Sally\n",
      "Hello Boot\n",
      "Hello Hans\n",
      "Hello Stoffers\n"
     ]
    }
   ],
   "source": [
    "game_players(\"Sally\", \"Boot\", \"Hans\", \"Stoffers\")"
   ]
  },
  {
   "cell_type": "markdown",
   "id": "71776815-4aa7-4968-bb7f-7484f4e6409f",
   "metadata": {},
   "source": [
    "The names are rapped up in a Tuple data structure and is passed into the function"
   ]
  },
  {
   "cell_type": "code",
   "execution_count": 55,
   "id": "596dfb3b-bd22-4051-945d-4ed05eaeaf42",
   "metadata": {},
   "outputs": [
    {
     "name": "stdout",
     "output_type": "stream",
     "text": [
      "Hello Ben\n",
      "Hello Daarom\n"
     ]
    }
   ],
   "source": [
    "game_players(\"Ben\", \"Daarom\")"
   ]
  },
  {
   "cell_type": "code",
   "execution_count": 56,
   "id": "77b82f2c-2ffa-4465-b995-d49709385261",
   "metadata": {},
   "outputs": [],
   "source": [
    "def add_machine(a, b, c):\n",
    "    total = a + b + c\n",
    "    return total\n",
    "    "
   ]
  },
  {
   "cell_type": "code",
   "execution_count": 57,
   "id": "2b525a2e-2a77-4ebb-bf77-bee5c1dd6e4e",
   "metadata": {},
   "outputs": [
    {
     "data": {
      "text/plain": [
       "9"
      ]
     },
     "execution_count": 57,
     "metadata": {},
     "output_type": "execute_result"
    }
   ],
   "source": [
    "add_machine(1, 3, 5)"
   ]
  },
  {
   "cell_type": "code",
   "execution_count": 58,
   "id": "8dcf286f-7553-48d9-8448-08e8d5296cd0",
   "metadata": {},
   "outputs": [
    {
     "ename": "TypeError",
     "evalue": "add_machine() takes 3 positional arguments but 4 were given",
     "output_type": "error",
     "traceback": [
      "\u001b[1;31m---------------------------------------------------------------------------\u001b[0m",
      "\u001b[1;31mTypeError\u001b[0m                                 Traceback (most recent call last)",
      "Cell \u001b[1;32mIn[58], line 1\u001b[0m\n\u001b[1;32m----> 1\u001b[0m add_machine(\u001b[38;5;241m1\u001b[39m, \u001b[38;5;241m2\u001b[39m, \u001b[38;5;241m3\u001b[39m, \u001b[38;5;241m4\u001b[39m)\n",
      "\u001b[1;31mTypeError\u001b[0m: add_machine() takes 3 positional arguments but 4 were given"
     ]
    }
   ],
   "source": [
    "add_machine(1, 2, 3, 4)"
   ]
  },
  {
   "cell_type": "code",
   "execution_count": 59,
   "id": "acb0058d-a5a1-4d48-b11b-313b2c90a43b",
   "metadata": {},
   "outputs": [],
   "source": [
    "def add_machine(*nums):\n",
    "    total = 0\n",
    "    for num in nums:\n",
    "        total += num\n",
    "    return total"
   ]
  },
  {
   "cell_type": "code",
   "execution_count": 60,
   "id": "02683206-4d7f-4197-b360-e2e9e391b892",
   "metadata": {},
   "outputs": [
    {
     "data": {
      "text/plain": [
       "20"
      ]
     },
     "execution_count": 60,
     "metadata": {},
     "output_type": "execute_result"
    }
   ],
   "source": [
    "add_machine(2, 3, 4, 5, 6)"
   ]
  },
  {
   "cell_type": "code",
   "execution_count": 61,
   "id": "748066b9-c2ea-43ab-8876-b1e9db64e545",
   "metadata": {},
   "outputs": [
    {
     "data": {
      "text/plain": [
       "5"
      ]
     },
     "execution_count": 61,
     "metadata": {},
     "output_type": "execute_result"
    }
   ],
   "source": [
    "add_machine(2, 3)"
   ]
  },
  {
   "cell_type": "markdown",
   "id": "8c63ced2-d04f-41e7-9d22-48806a3f4d61",
   "metadata": {},
   "source": [
    "args & kwargs.  Key - Word arguments.  *args and **kwargs  call in the function. "
   ]
  },
  {
   "cell_type": "code",
   "execution_count": 62,
   "id": "a7287615-2f8c-4674-a99f-2ea61a4c5b7b",
   "metadata": {},
   "outputs": [],
   "source": [
    "def personal_info(**info):\n",
    "    print(type(info))\n",
    "    for key, value in info.items():\n",
    "        print(\"The key {} has a value of {}\".format(key, value))\n",
    "        \n",
    "              "
   ]
  },
  {
   "cell_type": "code",
   "execution_count": 64,
   "id": "ca51bf64-eb95-4362-afbc-eeacb844cbef",
   "metadata": {},
   "outputs": [
    {
     "name": "stdout",
     "output_type": "stream",
     "text": [
      "<class 'dict'>\n",
      "The key first_name has a value of Susan\n",
      "The key last_name has a value of Zwerver\n",
      "The key age has a value of 52\n",
      "The key hobby has a value of trading\n",
      "The key friend has a value of Jasper Verdonk\n"
     ]
    }
   ],
   "source": [
    "personal_info(first_name='Susan', last_name='Zwerver', age=52, hobby='trading', friend='Jasper Verdonk')"
   ]
  },
  {
   "cell_type": "code",
   "execution_count": 65,
   "id": "38f210cc-a898-4de8-b1aa-b6fa0e00c42c",
   "metadata": {},
   "outputs": [
    {
     "name": "stdout",
     "output_type": "stream",
     "text": [
      "10\n",
      "30\n"
     ]
    }
   ],
   "source": [
    "# *args example\n",
    "def fun(*args):\n",
    "    return sum(args)\n",
    "\n",
    "print(fun(1, 2, 3, 4)) \n",
    "print(fun(5, 10, 15))"
   ]
  },
  {
   "cell_type": "markdown",
   "id": "8fadd813-5522-4ff4-b462-b63731f4e005",
   "metadata": {},
   "source": [
    "In Python, *args and **kwargs are used to allow functions to accept an arbitrary number of arguments. These features provide great flexibility when designing functions that need to handle a varying number of inputs."
   ]
  },
  {
   "cell_type": "code",
   "execution_count": 67,
   "id": "137b1e06-8ff6-4f71-975c-a2ea1cff5448",
   "metadata": {},
   "outputs": [
    {
     "name": "stdout",
     "output_type": "stream",
     "text": [
      "a 1\n",
      "b 2\n",
      "c 3\n"
     ]
    }
   ],
   "source": [
    "# **kwargs example\n",
    "def fun(**kwargs):\n",
    "    for k, val in kwargs.items():\n",
    "        print(k, val)\n",
    "\n",
    "fun(a=1, b=2, c=3)"
   ]
  },
  {
   "cell_type": "markdown",
   "id": "eaf17aa8-2879-42eb-9ec0-d6ecbd336686",
   "metadata": {},
   "source": [
    "Lambda functions"
   ]
  },
  {
   "cell_type": "code",
   "execution_count": 68,
   "id": "b509f6a2-3d76-4868-b87c-9b270bba44a6",
   "metadata": {},
   "outputs": [
    {
     "data": {
      "text/plain": [
       "<function __main__.<lambda>(num)>"
      ]
     },
     "execution_count": 68,
     "metadata": {},
     "output_type": "execute_result"
    }
   ],
   "source": [
    "lambda num: num * 2\n"
   ]
  },
  {
   "cell_type": "code",
   "execution_count": 70,
   "id": "a72590cf-5e0b-406f-999f-dd1644f5df42",
   "metadata": {},
   "outputs": [],
   "source": [
    "double = lambda num: num * 2"
   ]
  },
  {
   "cell_type": "code",
   "execution_count": 71,
   "id": "af3b0865-cd51-460b-b843-3126a8882cb0",
   "metadata": {},
   "outputs": [
    {
     "data": {
      "text/plain": [
       "4"
      ]
     },
     "execution_count": 71,
     "metadata": {},
     "output_type": "execute_result"
    }
   ],
   "source": [
    "double(2)"
   ]
  },
  {
   "cell_type": "code",
   "execution_count": 72,
   "id": "3a07a037-d0a2-47a3-9108-50d1242a2f44",
   "metadata": {},
   "outputs": [
    {
     "data": {
      "text/plain": [
       "6.8"
      ]
     },
     "execution_count": 72,
     "metadata": {},
     "output_type": "execute_result"
    }
   ],
   "source": [
    "double(3.4)"
   ]
  },
  {
   "cell_type": "code",
   "execution_count": 73,
   "id": "3e198343-81ef-4e43-b163-df7a13952091",
   "metadata": {},
   "outputs": [],
   "source": [
    "def double_fun(num):\n",
    "    return num * 2"
   ]
  },
  {
   "cell_type": "code",
   "execution_count": 74,
   "id": "fa5d3f9a-1843-4668-94fd-7562a05e3adb",
   "metadata": {},
   "outputs": [
    {
     "data": {
      "text/plain": [
       "6.8"
      ]
     },
     "execution_count": 74,
     "metadata": {},
     "output_type": "execute_result"
    }
   ],
   "source": [
    "double_fun(3.4)"
   ]
  },
  {
   "cell_type": "code",
   "execution_count": 75,
   "id": "ae8557a6-cd9e-4d6a-8c80-4b8e8d457c1e",
   "metadata": {},
   "outputs": [],
   "source": [
    "multi = lambda a, b: a * b "
   ]
  },
  {
   "cell_type": "code",
   "execution_count": 76,
   "id": "4702e8e4-d9c5-4955-bc55-04fd576d104c",
   "metadata": {},
   "outputs": [
    {
     "data": {
      "text/plain": [
       "55"
      ]
     },
     "execution_count": 76,
     "metadata": {},
     "output_type": "execute_result"
    }
   ],
   "source": [
    "multi(5, 11)"
   ]
  },
  {
   "cell_type": "code",
   "execution_count": 77,
   "id": "761ed454-024a-48af-b1ef-3a545da0d253",
   "metadata": {},
   "outputs": [
    {
     "data": {
      "text/plain": [
       "function"
      ]
     },
     "execution_count": 77,
     "metadata": {},
     "output_type": "execute_result"
    }
   ],
   "source": [
    "type(multi)"
   ]
  },
  {
   "cell_type": "markdown",
   "id": "fcedd526-5db7-4f84-bb16-980efa6f908a",
   "metadata": {},
   "source": [
    "Filter() & map() functions"
   ]
  },
  {
   "cell_type": "code",
   "execution_count": 79,
   "id": "17f9b404-1ba4-4ea7-9aa1-6b39a3eb0a99",
   "metadata": {},
   "outputs": [],
   "source": [
    "num_list = [1, 2, 3, 4, 5, 6, 7, 8, 9, 10]"
   ]
  },
  {
   "cell_type": "code",
   "execution_count": 80,
   "id": "7ed18097-ffbb-4c5a-ba7f-f6b4894aec2d",
   "metadata": {},
   "outputs": [
    {
     "data": {
      "text/plain": [
       "<function __main__.<lambda>(num)>"
      ]
     },
     "execution_count": 80,
     "metadata": {},
     "output_type": "execute_result"
    }
   ],
   "source": [
    "lambda num: (num % 2 == 0)"
   ]
  },
  {
   "cell_type": "code",
   "execution_count": 81,
   "id": "f1e7f00d-b8ab-4deb-a692-288949e3eff2",
   "metadata": {},
   "outputs": [
    {
     "data": {
      "text/plain": [
       "<filter at 0x1ced0b6ab30>"
      ]
     },
     "execution_count": 81,
     "metadata": {},
     "output_type": "execute_result"
    }
   ],
   "source": [
    "filter(lambda num: (num % 2 == 0), num_list)"
   ]
  },
  {
   "cell_type": "code",
   "execution_count": 86,
   "id": "bfd12696-6e7e-4ba1-82d5-710a22f8a7fb",
   "metadata": {},
   "outputs": [],
   "source": [
    "even_nums = list(filter(lambda num: (num % 2 == 0), num_list))"
   ]
  },
  {
   "cell_type": "code",
   "execution_count": 87,
   "id": "174e3b52-96a5-46bc-b011-dd1d69a61815",
   "metadata": {},
   "outputs": [
    {
     "data": {
      "text/plain": [
       "[2, 4, 6, 8, 10]"
      ]
     },
     "execution_count": 87,
     "metadata": {},
     "output_type": "execute_result"
    }
   ],
   "source": [
    "even_nums"
   ]
  },
  {
   "cell_type": "code",
   "execution_count": 88,
   "id": "324ce08c-54cc-4c43-a099-822b9e4efba1",
   "metadata": {},
   "outputs": [],
   "source": [
    "odd_nums =[1, 3, 5, 7, 9, 11, 13, 15]"
   ]
  },
  {
   "cell_type": "code",
   "execution_count": 89,
   "id": "cdd28677-d701-4b1a-837c-cdeda8823e5e",
   "metadata": {},
   "outputs": [
    {
     "data": {
      "text/plain": [
       "<function __main__.<lambda>(num)>"
      ]
     },
     "execution_count": 89,
     "metadata": {},
     "output_type": "execute_result"
    }
   ],
   "source": [
    "lambda num: num * 2"
   ]
  },
  {
   "cell_type": "code",
   "execution_count": 90,
   "id": "d9650f39-899f-4256-a8ba-d9d8b9506907",
   "metadata": {},
   "outputs": [
    {
     "data": {
      "text/plain": [
       "<map at 0x1ced0b8b880>"
      ]
     },
     "execution_count": 90,
     "metadata": {},
     "output_type": "execute_result"
    }
   ],
   "source": [
    "map(lambda num: num * 2, odd_nums)"
   ]
  },
  {
   "cell_type": "code",
   "execution_count": 91,
   "id": "997bd285-14b1-46a1-bc60-bc127b847dfb",
   "metadata": {},
   "outputs": [
    {
     "data": {
      "text/plain": [
       "[2, 6, 10, 14, 18, 22, 26, 30]"
      ]
     },
     "execution_count": 91,
     "metadata": {},
     "output_type": "execute_result"
    }
   ],
   "source": [
    "list(map(lambda num: num * 2, odd_nums))"
   ]
  },
  {
   "cell_type": "code",
   "execution_count": 92,
   "id": "81d6d497-6036-4f0d-8a69-20b8e66d9fa7",
   "metadata": {},
   "outputs": [],
   "source": [
    "odd_nums_list = list(map(lambda num: num * 2, odd_nums))"
   ]
  },
  {
   "cell_type": "code",
   "execution_count": 93,
   "id": "efaceb60-3ccc-477b-8d9e-66bc19ff2ebf",
   "metadata": {},
   "outputs": [
    {
     "data": {
      "text/plain": [
       "[2, 6, 10, 14, 18, 22, 26, 30]"
      ]
     },
     "execution_count": 93,
     "metadata": {},
     "output_type": "execute_result"
    }
   ],
   "source": [
    "odd_nums_list"
   ]
  },
  {
   "cell_type": "code",
   "execution_count": 94,
   "id": "343f287c-9476-491a-9c0b-9b424d475b00",
   "metadata": {},
   "outputs": [],
   "source": [
    "double = lambda num: num * 2"
   ]
  },
  {
   "cell_type": "code",
   "execution_count": 95,
   "id": "5183380e-1493-439d-8887-b2ab1f7c124a",
   "metadata": {},
   "outputs": [
    {
     "data": {
      "text/plain": [
       "<map at 0x1ced0beb6d0>"
      ]
     },
     "execution_count": 95,
     "metadata": {},
     "output_type": "execute_result"
    }
   ],
   "source": [
    "map(double, odd_nums)"
   ]
  },
  {
   "cell_type": "code",
   "execution_count": 96,
   "id": "21e9f9db-31f7-4de5-bea7-6d2f39f9195d",
   "metadata": {},
   "outputs": [
    {
     "data": {
      "text/plain": [
       "[2, 6, 10, 14, 18, 22, 26, 30]"
      ]
     },
     "execution_count": 96,
     "metadata": {},
     "output_type": "execute_result"
    }
   ],
   "source": [
    "list(map(double, odd_nums))"
   ]
  },
  {
   "cell_type": "markdown",
   "id": "07f64e24-7e8c-4b6e-9df9-7990a4204f74",
   "metadata": {},
   "source": [
    "Scope and the LEGB rule"
   ]
  },
  {
   "cell_type": "markdown",
   "id": "b981fe6c-8525-44cd-ae3e-b1d15bd1d212",
   "metadata": {},
   "source": [
    "Local, Enclosing, Global, Build-in"
   ]
  },
  {
   "cell_type": "code",
   "execution_count": 103,
   "id": "1c02f15e-bd6c-46de-8038-7ec2aa418eb4",
   "metadata": {},
   "outputs": [],
   "source": [
    "word = 'Global'\n",
    "def space():\n",
    "    word = 'Enclosing'\n",
    "    def inner_space():\n",
    "        word = 'Local'\n",
    "        print(\"I came from \" + word)\n",
    "    inner_space()\n"
   ]
  },
  {
   "cell_type": "code",
   "execution_count": 104,
   "id": "54ad3244-886e-43e0-8f2c-be90bb1af9d5",
   "metadata": {},
   "outputs": [
    {
     "name": "stdout",
     "output_type": "stream",
     "text": [
      "I came from Local\n"
     ]
    }
   ],
   "source": [
    "space()"
   ]
  },
  {
   "cell_type": "code",
   "execution_count": 105,
   "id": "62cb4164-a30f-432f-9e80-532896ffdc0c",
   "metadata": {},
   "outputs": [],
   "source": [
    "word = 'Global'\n",
    "\n",
    "def space():\n",
    "    #word = 'Enclosing'\n",
    "    def inner_space():\n",
    "        #word = 'Local'\n",
    "        print(\"I came from \" + word)\n",
    "    inner_space()"
   ]
  },
  {
   "cell_type": "code",
   "execution_count": 106,
   "id": "10934000-3343-49e1-bc90-964d3725b0d8",
   "metadata": {},
   "outputs": [
    {
     "name": "stdout",
     "output_type": "stream",
     "text": [
      "I came from Global\n"
     ]
    }
   ],
   "source": [
    "space()"
   ]
  },
  {
   "cell_type": "markdown",
   "id": "0fabfaa4-86e2-4716-b828-9b755fe39523",
   "metadata": {},
   "source": [
    "Global keyword"
   ]
  },
  {
   "cell_type": "code",
   "execution_count": 107,
   "id": "a547b70d-41be-40c9-9972-7189aa0c0247",
   "metadata": {},
   "outputs": [],
   "source": [
    "x = 5"
   ]
  },
  {
   "cell_type": "code",
   "execution_count": 108,
   "id": "a2e297f7-67de-415f-a032-0c634911870a",
   "metadata": {},
   "outputs": [
    {
     "data": {
      "text/plain": [
       "5"
      ]
     },
     "execution_count": 108,
     "metadata": {},
     "output_type": "execute_result"
    }
   ],
   "source": [
    "x"
   ]
  },
  {
   "cell_type": "code",
   "execution_count": 109,
   "id": "c9d37ad9-ff5d-40f6-829e-731565758ade",
   "metadata": {},
   "outputs": [],
   "source": [
    "x = 10"
   ]
  },
  {
   "cell_type": "code",
   "execution_count": 110,
   "id": "83779df5-7435-4ec9-ba2d-ab260c998f2b",
   "metadata": {},
   "outputs": [
    {
     "data": {
      "text/plain": [
       "10"
      ]
     },
     "execution_count": 110,
     "metadata": {},
     "output_type": "execute_result"
    }
   ],
   "source": [
    "x"
   ]
  },
  {
   "cell_type": "code",
   "execution_count": 111,
   "id": "68e6922f-c245-4ce6-beef-d23e8dee135f",
   "metadata": {},
   "outputs": [],
   "source": [
    "x = 100\n",
    "\n",
    "def func(x):\n",
    "    print(\"x is originally {}\".format(x))\n",
    "\n",
    "    x = 200\n",
    "    print(\"Function changed x to be {}\".format(x))"
   ]
  },
  {
   "cell_type": "code",
   "execution_count": 112,
   "id": "ec948c1e-db31-42be-9c02-09f448088f6c",
   "metadata": {},
   "outputs": [
    {
     "name": "stdout",
     "output_type": "stream",
     "text": [
      "x is originally 100\n",
      "Function changed x to be 200\n"
     ]
    }
   ],
   "source": [
    "func(x)"
   ]
  },
  {
   "cell_type": "code",
   "execution_count": 113,
   "id": "4e692850-badd-4c7b-b456-e00cca9be340",
   "metadata": {},
   "outputs": [
    {
     "data": {
      "text/plain": [
       "100"
      ]
     },
     "execution_count": 113,
     "metadata": {},
     "output_type": "execute_result"
    }
   ],
   "source": [
    "x"
   ]
  },
  {
   "cell_type": "code",
   "execution_count": 116,
   "id": "6df9ddd1-8f29-4311-8bcf-7923ea483f13",
   "metadata": {},
   "outputs": [],
   "source": [
    "x = 100\n",
    "\n",
    "def func():\n",
    "    global x # access the global variable x\n",
    "    \n",
    "    print(\"x is originally {}\".format(x))\n",
    "\n",
    "    x = 200\n",
    "    print(\"Function changed x to be {}\".format(x))"
   ]
  },
  {
   "cell_type": "code",
   "execution_count": 117,
   "id": "09282d75-7d9e-42d6-8b7d-127af4d28554",
   "metadata": {},
   "outputs": [
    {
     "data": {
      "text/plain": [
       "100"
      ]
     },
     "execution_count": 117,
     "metadata": {},
     "output_type": "execute_result"
    }
   ],
   "source": [
    "x"
   ]
  },
  {
   "cell_type": "code",
   "execution_count": 118,
   "id": "aa64c394-b88b-44bb-b7d5-dfd4a7e1313c",
   "metadata": {},
   "outputs": [
    {
     "name": "stdout",
     "output_type": "stream",
     "text": [
      "x is originally 100\n",
      "Function changed x to be 200\n"
     ]
    }
   ],
   "source": [
    "func()"
   ]
  },
  {
   "cell_type": "code",
   "execution_count": 119,
   "id": "8076214a-d505-42c0-b010-e08bf57c3884",
   "metadata": {},
   "outputs": [
    {
     "data": {
      "text/plain": [
       "200"
      ]
     },
     "execution_count": 119,
     "metadata": {},
     "output_type": "execute_result"
    }
   ],
   "source": [
    "x"
   ]
  },
  {
   "cell_type": "code",
   "execution_count": 120,
   "id": "429b3199-adfb-48ae-9a24-dd00cd6861a2",
   "metadata": {},
   "outputs": [
    {
     "data": {
      "text/plain": [
       "'This function welcome the users and asks them how they are.'"
      ]
     },
     "execution_count": 120,
     "metadata": {},
     "output_type": "execute_result"
    }
   ],
   "source": [
    "welcome.__doc__"
   ]
  },
  {
   "cell_type": "code",
   "execution_count": null,
   "id": "f8f97824-bfcb-4518-86be-c5a0b9f24e13",
   "metadata": {},
   "outputs": [],
   "source": []
  }
 ],
 "metadata": {
  "kernelspec": {
   "display_name": "Python 3",
   "language": "python",
   "name": "python3"
  },
  "language_info": {
   "codemirror_mode": {
    "name": "ipython",
    "version": 3
   },
   "file_extension": ".py",
   "mimetype": "text/x-python",
   "name": "python",
   "nbconvert_exporter": "python",
   "pygments_lexer": "ipython3",
   "version": "3.11.9"
  }
 },
 "nbformat": 4,
 "nbformat_minor": 5
}
