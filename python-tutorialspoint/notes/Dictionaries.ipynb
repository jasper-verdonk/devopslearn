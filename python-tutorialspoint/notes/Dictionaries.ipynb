{
 "cells": [
  {
   "cell_type": "markdown",
   "id": "dc554ffb-e533-4b86-b591-29f981d908f7",
   "metadata": {},
   "source": [
    "# Dictionaries\n"
   ]
  },
  {
   "cell_type": "markdown",
   "id": "e76bf1f1-7b65-42de-91c7-f4f5e371907d",
   "metadata": {},
   "source": [
    "Dictionaries are unordered but are mutable "
   ]
  },
  {
   "cell_type": "code",
   "execution_count": 3,
   "id": "68ce2610-b80d-4f82-a0c9-3b740b2328e6",
   "metadata": {},
   "outputs": [],
   "source": [
    "my_dict = {1: 'banana', 2: 'pear'}"
   ]
  },
  {
   "cell_type": "code",
   "execution_count": 2,
   "id": "b15e7ec6-d7d1-456c-8e5a-a3edb56c027b",
   "metadata": {},
   "outputs": [
    {
     "data": {
      "text/plain": [
       "dict"
      ]
     },
     "execution_count": 2,
     "metadata": {},
     "output_type": "execute_result"
    }
   ],
   "source": [
    "type(my_dict)"
   ]
  },
  {
   "cell_type": "markdown",
   "id": "60d91423-3e59-4453-bc7b-848789b84ea7",
   "metadata": {},
   "source": [
    "The keys are unmutable - strings, integers and tubles. "
   ]
  },
  {
   "cell_type": "code",
   "execution_count": 4,
   "id": "19adb241-6b9e-48d6-a1cc-15c72c83e9c9",
   "metadata": {},
   "outputs": [],
   "source": [
    "my_dict_2 = {'apple': 0.49, 'guitar': 4.99}"
   ]
  },
  {
   "cell_type": "code",
   "execution_count": 5,
   "id": "80de6038-d6f6-4769-85d3-bec75ac1d789",
   "metadata": {},
   "outputs": [],
   "source": [
    "my_dict_3 = {'name': 'Peter', 1: [1, 2, 3, 4]}"
   ]
  },
  {
   "cell_type": "code",
   "execution_count": 6,
   "id": "7608ad83-f199-48b5-a756-bd697d3bd5a1",
   "metadata": {},
   "outputs": [
    {
     "data": {
      "text/plain": [
       "dict"
      ]
     },
     "execution_count": 6,
     "metadata": {},
     "output_type": "execute_result"
    }
   ],
   "source": [
    "type(my_dict_3)"
   ]
  },
  {
   "cell_type": "code",
   "execution_count": 8,
   "id": "dfa71e40-fedd-4449-91b9-e0844fe84fea",
   "metadata": {},
   "outputs": [],
   "source": [
    "names_list = ['Jan', 'Joost', 'Susan']\n",
    "names_ages = [34, 55, 32]\n",
    "names_ages_dict = dict(zip(names_list, names_ages))\n"
   ]
  },
  {
   "cell_type": "code",
   "execution_count": 9,
   "id": "83a7fc71-5f64-43c7-9f67-dbc265be5526",
   "metadata": {},
   "outputs": [
    {
     "data": {
      "text/plain": [
       "{'Jan': 34, 'Joost': 55, 'Susan': 32}"
      ]
     },
     "execution_count": 9,
     "metadata": {},
     "output_type": "execute_result"
    }
   ],
   "source": [
    "names_ages_dict"
   ]
  },
  {
   "cell_type": "code",
   "execution_count": 10,
   "id": "210f637b-1616-4a98-9d49-f148dc4359c8",
   "metadata": {},
   "outputs": [
    {
     "data": {
      "text/plain": [
       "34"
      ]
     },
     "execution_count": 10,
     "metadata": {},
     "output_type": "execute_result"
    }
   ],
   "source": [
    "names_ages_dict['Jan']"
   ]
  },
  {
   "cell_type": "code",
   "execution_count": 11,
   "id": "d3c9366f-b304-4c77-a0be-ed231f88d057",
   "metadata": {},
   "outputs": [
    {
     "data": {
      "text/plain": [
       "55"
      ]
     },
     "execution_count": 11,
     "metadata": {},
     "output_type": "execute_result"
    }
   ],
   "source": [
    "names_ages_dict['Joost']"
   ]
  },
  {
   "cell_type": "code",
   "execution_count": 12,
   "id": "fe0aafed-8abe-4b1b-90bc-bb2ddd13c14b",
   "metadata": {},
   "outputs": [
    {
     "data": {
      "text/plain": [
       "34"
      ]
     },
     "execution_count": 12,
     "metadata": {},
     "output_type": "execute_result"
    }
   ],
   "source": [
    "names_ages_dict.get('Jan')"
   ]
  },
  {
   "cell_type": "code",
   "execution_count": 13,
   "id": "05dc507f-7406-4f34-abbb-37663820d2ce",
   "metadata": {},
   "outputs": [
    {
     "data": {
      "text/plain": [
       "32"
      ]
     },
     "execution_count": 13,
     "metadata": {},
     "output_type": "execute_result"
    }
   ],
   "source": [
    "names_ages_dict.get('Susan')"
   ]
  },
  {
   "cell_type": "code",
   "execution_count": 14,
   "id": "53c178dc-3933-4748-ba9b-29c0a79dea68",
   "metadata": {},
   "outputs": [],
   "source": [
    "names_ages_dict.get('Stalin')"
   ]
  },
  {
   "cell_type": "code",
   "execution_count": 15,
   "id": "d7b106d9-5e8b-4ee4-b8e1-ff0df60e8adb",
   "metadata": {},
   "outputs": [
    {
     "data": {
      "text/plain": [
       "NoneType"
      ]
     },
     "execution_count": 15,
     "metadata": {},
     "output_type": "execute_result"
    }
   ],
   "source": [
    "type(names_ages_dict.get('Stalin'))"
   ]
  },
  {
   "cell_type": "markdown",
   "id": "a6fed330-49e3-41dc-8270-d5fc89b1ccbc",
   "metadata": {},
   "source": [
    "# Changing elements of a dictionary"
   ]
  },
  {
   "cell_type": "code",
   "execution_count": 1,
   "id": "16f519a7-5f8b-4919-a645-6773d25dafe5",
   "metadata": {},
   "outputs": [],
   "source": [
    "my_dict = {'apple': 0.49, 'banana': 0.44, 'bread': 2.33}"
   ]
  },
  {
   "cell_type": "code",
   "execution_count": 18,
   "id": "074c6c20-62c9-4ca3-a791-cbd507f32873",
   "metadata": {},
   "outputs": [],
   "source": [
    "my_dict['apple'] = 3.5"
   ]
  },
  {
   "cell_type": "code",
   "execution_count": 19,
   "id": "7929512d-4f12-4ead-8ed7-89246ba3ff4f",
   "metadata": {},
   "outputs": [
    {
     "data": {
      "text/plain": [
       "{'apple': 3.5, 'banana': 0.44, 'bread': 2.33}"
      ]
     },
     "execution_count": 19,
     "metadata": {},
     "output_type": "execute_result"
    }
   ],
   "source": [
    "my_dict"
   ]
  },
  {
   "cell_type": "code",
   "execution_count": 20,
   "id": "9d17798d-7a03-4db2-a654-d02c44649c4d",
   "metadata": {},
   "outputs": [],
   "source": [
    "my_dict['pear'] = 9.99"
   ]
  },
  {
   "cell_type": "code",
   "execution_count": 21,
   "id": "5d92c8d6-66a4-41b5-b257-b228884780cd",
   "metadata": {},
   "outputs": [
    {
     "data": {
      "text/plain": [
       "{'apple': 3.5, 'banana': 0.44, 'bread': 2.33, 'pear': 9.99}"
      ]
     },
     "execution_count": 21,
     "metadata": {},
     "output_type": "execute_result"
    }
   ],
   "source": [
    "my_dict"
   ]
  },
  {
   "cell_type": "markdown",
   "id": "0caf8185-a502-465f-a24c-4d6eb2f6f5e1",
   "metadata": {},
   "source": [
    "# Removing elements from a dictionary"
   ]
  },
  {
   "cell_type": "code",
   "execution_count": 22,
   "id": "77752f84-833f-4cde-ae9c-daa3af39b695",
   "metadata": {},
   "outputs": [
    {
     "data": {
      "text/plain": [
       "9.99"
      ]
     },
     "execution_count": 22,
     "metadata": {},
     "output_type": "execute_result"
    }
   ],
   "source": [
    "my_dict.pop('pear')"
   ]
  },
  {
   "cell_type": "code",
   "execution_count": 23,
   "id": "35953ecb-a230-4009-9cf0-e6392f6ce836",
   "metadata": {},
   "outputs": [
    {
     "data": {
      "text/plain": [
       "{'apple': 3.5, 'banana': 0.44, 'bread': 2.33}"
      ]
     },
     "execution_count": 23,
     "metadata": {},
     "output_type": "execute_result"
    }
   ],
   "source": [
    "my_dict"
   ]
  },
  {
   "cell_type": "code",
   "execution_count": 25,
   "id": "cf6298a9-21c1-4ee0-a1f7-d51ac36f4eec",
   "metadata": {},
   "outputs": [
    {
     "data": {
      "text/plain": [
       "666"
      ]
     },
     "execution_count": 25,
     "metadata": {},
     "output_type": "execute_result"
    }
   ],
   "source": [
    "my_dict.pop('Jozef Stalin', 666)"
   ]
  },
  {
   "cell_type": "code",
   "execution_count": 26,
   "id": "76f4d96d-5a7e-4eca-a336-c123a0389daa",
   "metadata": {},
   "outputs": [
    {
     "data": {
      "text/plain": [
       "{'apple': 3.5, 'banana': 0.44, 'bread': 2.33}"
      ]
     },
     "execution_count": 26,
     "metadata": {},
     "output_type": "execute_result"
    }
   ],
   "source": [
    "my_dict"
   ]
  },
  {
   "cell_type": "code",
   "execution_count": 27,
   "id": "6457502c-653c-450d-b675-6e81db870610",
   "metadata": {},
   "outputs": [
    {
     "data": {
      "text/plain": [
       "('bread', 2.33)"
      ]
     },
     "execution_count": 27,
     "metadata": {},
     "output_type": "execute_result"
    }
   ],
   "source": [
    "my_dict.popitem()"
   ]
  },
  {
   "cell_type": "code",
   "execution_count": 28,
   "id": "6cf6d153-e88f-4a72-8252-0879c1833df6",
   "metadata": {},
   "outputs": [
    {
     "data": {
      "text/plain": [
       "{'apple': 3.5, 'banana': 0.44}"
      ]
     },
     "execution_count": 28,
     "metadata": {},
     "output_type": "execute_result"
    }
   ],
   "source": [
    "my_dict"
   ]
  },
  {
   "cell_type": "code",
   "execution_count": 29,
   "id": "d6c87f89-6434-42a4-ac9a-1338d41b7ae8",
   "metadata": {},
   "outputs": [],
   "source": [
    "del my_dict['apple']"
   ]
  },
  {
   "cell_type": "code",
   "execution_count": 30,
   "id": "d4b2311f-606f-4988-9161-bfad70526888",
   "metadata": {},
   "outputs": [
    {
     "data": {
      "text/plain": [
       "{'banana': 0.44}"
      ]
     },
     "execution_count": 30,
     "metadata": {},
     "output_type": "execute_result"
    }
   ],
   "source": [
    "my_dict"
   ]
  },
  {
   "cell_type": "code",
   "execution_count": 31,
   "id": "6a0de7e6-66dd-43f3-b5a7-bb4b5a314c9c",
   "metadata": {},
   "outputs": [],
   "source": [
    "my_dict.clear()"
   ]
  },
  {
   "cell_type": "code",
   "execution_count": 32,
   "id": "cbfebe7c-18c3-435a-989d-1af130ead24f",
   "metadata": {},
   "outputs": [
    {
     "data": {
      "text/plain": [
       "{}"
      ]
     },
     "execution_count": 32,
     "metadata": {},
     "output_type": "execute_result"
    }
   ],
   "source": [
    "my_dict"
   ]
  },
  {
   "cell_type": "code",
   "execution_count": 33,
   "id": "f064777a-3578-4c36-a990-1e87caf92af6",
   "metadata": {},
   "outputs": [],
   "source": [
    "del my_dict"
   ]
  },
  {
   "cell_type": "code",
   "execution_count": 34,
   "id": "f7784c25-7892-4d16-b5ee-a22541a53051",
   "metadata": {},
   "outputs": [
    {
     "ename": "NameError",
     "evalue": "name 'my_dict' is not defined",
     "output_type": "error",
     "traceback": [
      "\u001b[1;31m---------------------------------------------------------------------------\u001b[0m",
      "\u001b[1;31mNameError\u001b[0m                                 Traceback (most recent call last)",
      "Cell \u001b[1;32mIn[34], line 1\u001b[0m\n\u001b[1;32m----> 1\u001b[0m my_dict\n",
      "\u001b[1;31mNameError\u001b[0m: name 'my_dict' is not defined"
     ]
    }
   ],
   "source": [
    "my_dict"
   ]
  },
  {
   "cell_type": "code",
   "execution_count": 2,
   "id": "6f7b7b80-5190-4827-8cb2-36b55c4d2f1d",
   "metadata": {},
   "outputs": [
    {
     "data": {
      "text/plain": [
       "{'apple': 0.49, 'banana': 0.44, 'bread': 2.33}"
      ]
     },
     "execution_count": 2,
     "metadata": {},
     "output_type": "execute_result"
    }
   ],
   "source": [
    "my_dict"
   ]
  },
  {
   "cell_type": "code",
   "execution_count": 3,
   "id": "ceb7baac-3733-4646-a48f-61685b272210",
   "metadata": {},
   "outputs": [
    {
     "data": {
      "text/plain": [
       "dict_items([('apple', 0.49), ('banana', 0.44), ('bread', 2.33)])"
      ]
     },
     "execution_count": 3,
     "metadata": {},
     "output_type": "execute_result"
    }
   ],
   "source": [
    "my_dict.items()"
   ]
  },
  {
   "cell_type": "code",
   "execution_count": 4,
   "id": "ff67eba3-bc72-4fc5-a106-772fd2711521",
   "metadata": {},
   "outputs": [
    {
     "data": {
      "text/plain": [
       "dict_items"
      ]
     },
     "execution_count": 4,
     "metadata": {},
     "output_type": "execute_result"
    }
   ],
   "source": [
    "type(my_dict.items())"
   ]
  },
  {
   "cell_type": "code",
   "execution_count": 5,
   "id": "2835520c-b322-45b4-a7ed-c90fbb54bbb9",
   "metadata": {},
   "outputs": [
    {
     "data": {
      "text/plain": [
       "[('apple', 0.49), ('banana', 0.44), ('bread', 2.33)]"
      ]
     },
     "execution_count": 5,
     "metadata": {},
     "output_type": "execute_result"
    }
   ],
   "source": [
    "list(my_dict.items())"
   ]
  },
  {
   "cell_type": "code",
   "execution_count": 6,
   "id": "31d11fb3-fb00-49d3-8172-5d3e461190b1",
   "metadata": {},
   "outputs": [
    {
     "data": {
      "text/plain": [
       "dict_keys(['apple', 'banana', 'bread'])"
      ]
     },
     "execution_count": 6,
     "metadata": {},
     "output_type": "execute_result"
    }
   ],
   "source": [
    "my_dict.keys()"
   ]
  },
  {
   "cell_type": "code",
   "execution_count": 7,
   "id": "6e81fef2-978e-4526-bdab-f39ac8b2a9e2",
   "metadata": {},
   "outputs": [
    {
     "data": {
      "text/plain": [
       "dict_keys"
      ]
     },
     "execution_count": 7,
     "metadata": {},
     "output_type": "execute_result"
    }
   ],
   "source": [
    "type(my_dict.keys())"
   ]
  },
  {
   "cell_type": "code",
   "execution_count": 8,
   "id": "1b9ff5f0-60a2-471c-a9e7-3ab8903d2b44",
   "metadata": {},
   "outputs": [
    {
     "data": {
      "text/plain": [
       "['apple', 'banana', 'bread']"
      ]
     },
     "execution_count": 8,
     "metadata": {},
     "output_type": "execute_result"
    }
   ],
   "source": [
    "list(my_dict.keys())"
   ]
  },
  {
   "cell_type": "code",
   "execution_count": 9,
   "id": "726b9ec0-5aed-4e0c-942f-766236dd6ca8",
   "metadata": {},
   "outputs": [
    {
     "data": {
      "text/plain": [
       "[0.49, 0.44, 2.33]"
      ]
     },
     "execution_count": 9,
     "metadata": {},
     "output_type": "execute_result"
    }
   ],
   "source": [
    "list(my_dict.values())"
   ]
  },
  {
   "cell_type": "code",
   "execution_count": 11,
   "id": "802c157a-8d83-4fb3-bbd1-0a4b738529bd",
   "metadata": {},
   "outputs": [
    {
     "name": "stdout",
     "output_type": "stream",
     "text": [
      "0.49\n",
      "0.44\n",
      "2.33\n"
     ]
    }
   ],
   "source": [
    "for value in my_dict.values():\n",
    "    print(value)"
   ]
  },
  {
   "cell_type": "code",
   "execution_count": 12,
   "id": "e8db7333-1ae8-4755-aea0-242432b53ef1",
   "metadata": {},
   "outputs": [
    {
     "name": "stdout",
     "output_type": "stream",
     "text": [
      "('apple', 0.49)\n",
      "('banana', 0.44)\n",
      "('bread', 2.33)\n"
     ]
    }
   ],
   "source": [
    "for items in my_dict.items():\n",
    "    print(items)"
   ]
  },
  {
   "cell_type": "code",
   "execution_count": 22,
   "id": "3b2c1423-822f-4831-9153-aad9875a28d8",
   "metadata": {},
   "outputs": [],
   "source": [
    "my_dict = {'custard': 1.49, False: 0.44, 'bread': 2.33, 'kiwi': 0.95}"
   ]
  },
  {
   "cell_type": "code",
   "execution_count": 15,
   "id": "fe5c89ef-f8a7-4f96-8ac2-4df42b26564b",
   "metadata": {},
   "outputs": [
    {
     "data": {
      "text/plain": [
       "True"
      ]
     },
     "execution_count": 15,
     "metadata": {},
     "output_type": "execute_result"
    }
   ],
   "source": [
    "'kiwi' in my_dict"
   ]
  },
  {
   "cell_type": "code",
   "execution_count": 16,
   "id": "85293e35-b7a7-465c-97e0-6e46147ff7c4",
   "metadata": {},
   "outputs": [
    {
     "data": {
      "text/plain": [
       "False"
      ]
     },
     "execution_count": 16,
     "metadata": {},
     "output_type": "execute_result"
    }
   ],
   "source": [
    "'grapes' in my_dict"
   ]
  },
  {
   "cell_type": "code",
   "execution_count": 17,
   "id": "d41140b8-8111-4dde-b600-4469597bef06",
   "metadata": {},
   "outputs": [
    {
     "data": {
      "text/plain": [
       "True"
      ]
     },
     "execution_count": 17,
     "metadata": {},
     "output_type": "execute_result"
    }
   ],
   "source": [
    "'grapes' not in my_dict"
   ]
  },
  {
   "cell_type": "code",
   "execution_count": 18,
   "id": "6759ffe1-ea87-4299-8635-aa7844d27a36",
   "metadata": {},
   "outputs": [
    {
     "data": {
      "text/plain": [
       "4"
      ]
     },
     "execution_count": 18,
     "metadata": {},
     "output_type": "execute_result"
    }
   ],
   "source": [
    "len(my_dict)"
   ]
  },
  {
   "cell_type": "code",
   "execution_count": 19,
   "id": "bd6d6f3d-363b-4a3d-a576-9cc1f0e117e5",
   "metadata": {},
   "outputs": [
    {
     "data": {
      "text/plain": [
       "['banana', 'bread', 'custard', 'kiwi']"
      ]
     },
     "execution_count": 19,
     "metadata": {},
     "output_type": "execute_result"
    }
   ],
   "source": [
    "sorted(my_dict)"
   ]
  },
  {
   "cell_type": "code",
   "execution_count": 20,
   "id": "6b66e2fb-e412-4719-ad9a-169d74d39a9a",
   "metadata": {},
   "outputs": [
    {
     "data": {
      "text/plain": [
       "True"
      ]
     },
     "execution_count": 20,
     "metadata": {},
     "output_type": "execute_result"
    }
   ],
   "source": [
    "all(my_dict)"
   ]
  },
  {
   "cell_type": "code",
   "execution_count": 21,
   "id": "e90c6747-a1ca-4b7a-8af6-829a7ee729cb",
   "metadata": {},
   "outputs": [
    {
     "data": {
      "text/plain": [
       "True"
      ]
     },
     "execution_count": 21,
     "metadata": {},
     "output_type": "execute_result"
    }
   ],
   "source": [
    "any(my_dict)"
   ]
  },
  {
   "cell_type": "code",
   "execution_count": 24,
   "id": "48a9f5ee-8058-40b7-9a15-2fc6d9963b7f",
   "metadata": {},
   "outputs": [
    {
     "data": {
      "text/plain": [
       "False"
      ]
     },
     "execution_count": 24,
     "metadata": {},
     "output_type": "execute_result"
    }
   ],
   "source": [
    "all(my_dict) # all the keys must be true. False when one of the keys is False. "
   ]
  },
  {
   "cell_type": "code",
   "execution_count": 25,
   "id": "a153e1ad-6f47-4771-a119-c76a13a0a267",
   "metadata": {},
   "outputs": [
    {
     "ename": "TypeError",
     "evalue": "unhashable type: 'list'",
     "output_type": "error",
     "traceback": [
      "\u001b[1;31m---------------------------------------------------------------------------\u001b[0m",
      "\u001b[1;31mTypeError\u001b[0m                                 Traceback (most recent call last)",
      "Cell \u001b[1;32mIn[25], line 1\u001b[0m\n\u001b[1;32m----> 1\u001b[0m test_dict \u001b[38;5;241m=\u001b[39m {\u001b[38;5;241m1\u001b[39m: \u001b[38;5;124m'\u001b[39m\u001b[38;5;124mhello\u001b[39m\u001b[38;5;124m'\u001b[39m, \u001b[38;5;124m'\u001b[39m\u001b[38;5;124mapple\u001b[39m\u001b[38;5;124m'\u001b[39m: \u001b[38;5;241m0.49\u001b[39m, [\u001b[38;5;241m1\u001b[39m, \u001b[38;5;241m2\u001b[39m]: \u001b[38;5;241m12\u001b[39m}\n",
      "\u001b[1;31mTypeError\u001b[0m: unhashable type: 'list'"
     ]
    }
   ],
   "source": [
    "test_dict = {1: 'hello', 'apple': 0.49, [1, 2]: 12}"
   ]
  },
  {
   "cell_type": "code",
   "execution_count": 26,
   "id": "17bbc2b7-f845-42ab-a9a6-a51e18cdc254",
   "metadata": {},
   "outputs": [
    {
     "data": {
      "text/plain": [
       "{'custard': 1.49, False: 0.44, 'bread': 2.33, 'kiwi': 0.95}"
      ]
     },
     "execution_count": 26,
     "metadata": {},
     "output_type": "execute_result"
    }
   ],
   "source": [
    "my_dict"
   ]
  },
  {
   "cell_type": "code",
   "execution_count": 27,
   "id": "4cb8fc8d-ddcf-4ae0-a47a-6405508fc0ac",
   "metadata": {},
   "outputs": [
    {
     "ename": "KeyError",
     "evalue": "'test'",
     "output_type": "error",
     "traceback": [
      "\u001b[1;31m---------------------------------------------------------------------------\u001b[0m",
      "\u001b[1;31mKeyError\u001b[0m                                  Traceback (most recent call last)",
      "Cell \u001b[1;32mIn[27], line 1\u001b[0m\n\u001b[1;32m----> 1\u001b[0m my_dict[\u001b[38;5;124m'\u001b[39m\u001b[38;5;124mtest\u001b[39m\u001b[38;5;124m'\u001b[39m]\n",
      "\u001b[1;31mKeyError\u001b[0m: 'test'"
     ]
    }
   ],
   "source": [
    "my_dict['test']"
   ]
  },
  {
   "cell_type": "markdown",
   "id": "d96d6bac-4f11-4b3c-98f2-97477c8f989d",
   "metadata": {},
   "source": []
  }
 ],
 "metadata": {
  "kernelspec": {
   "display_name": "Python 3 (ipykernel)",
   "language": "python",
   "name": "python3"
  },
  "language_info": {
   "codemirror_mode": {
    "name": "ipython",
    "version": 3
   },
   "file_extension": ".py",
   "mimetype": "text/x-python",
   "name": "python",
   "nbconvert_exporter": "python",
   "pygments_lexer": "ipython3",
   "version": "3.11.7"
  }
 },
 "nbformat": 4,
 "nbformat_minor": 5
}
