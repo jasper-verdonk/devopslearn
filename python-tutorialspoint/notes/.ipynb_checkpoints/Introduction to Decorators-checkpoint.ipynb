{
 "cells": [
  {
   "cell_type": "markdown",
   "id": "64291f4f-3335-4e38-8dae-aa6a1c7f8520",
   "metadata": {},
   "source": [
    "Introduction to Decorators"
   ]
  },
  {
   "cell_type": "code",
   "execution_count": 1,
   "id": "ad695996-09d5-48b1-bfad-f6143d23284a",
   "metadata": {},
   "outputs": [],
   "source": [
    "a = \"Hello\""
   ]
  },
  {
   "cell_type": "markdown",
   "id": "945d84a1-672e-4717-8d4c-ec504a6f347d",
   "metadata": {},
   "source": [
    "Named identifier bound to the object 'a' in this example. \n",
    "The name 'b' is bound to this list object. "
   ]
  },
  {
   "cell_type": "code",
   "execution_count": null,
   "id": "8ecf6a37-6448-447a-89e4-3c2f57ac329f",
   "metadata": {},
   "outputs": [],
   "source": [
    "b = [1, 2, 3] "
   ]
  },
  {
   "cell_type": "code",
   "execution_count": 2,
   "id": "0a961bf2-69f4-4376-b0d5-19b5d57e7921",
   "metadata": {},
   "outputs": [],
   "source": [
    "def greeting(message):\n",
    "    print(message)\n"
   ]
  },
  {
   "cell_type": "markdown",
   "id": "8ed7400b-5481-44f2-b55b-16fffcc8d427",
   "metadata": {},
   "source": [
    "We can bound different names to the same object. "
   ]
  },
  {
   "cell_type": "code",
   "execution_count": 3,
   "id": "8c453685-a18d-47eb-9961-8c506e52b0f4",
   "metadata": {},
   "outputs": [
    {
     "name": "stdout",
     "output_type": "stream",
     "text": [
      "Hi\n"
     ]
    }
   ],
   "source": [
    "greeting(\"Hi\")\n"
   ]
  },
  {
   "cell_type": "code",
   "execution_count": 4,
   "id": "9478b56a-56f9-4ea7-b1b8-6691c6cdb940",
   "metadata": {},
   "outputs": [],
   "source": [
    "welcome = greeting"
   ]
  },
  {
   "cell_type": "code",
   "execution_count": 5,
   "id": "c4d5a4ad-692b-4d20-b3dc-356e031280dc",
   "metadata": {},
   "outputs": [
    {
     "data": {
      "text/plain": [
       "<function __main__.greeting(message)>"
      ]
     },
     "execution_count": 5,
     "metadata": {},
     "output_type": "execute_result"
    }
   ],
   "source": [
    "welcome"
   ]
  },
  {
   "cell_type": "code",
   "execution_count": 6,
   "id": "0746e4ee-187e-4ec0-bcd0-5d0b0bdb01bf",
   "metadata": {},
   "outputs": [
    {
     "name": "stdout",
     "output_type": "stream",
     "text": [
      "Hi\n"
     ]
    }
   ],
   "source": [
    "welcome(\"Hi\")"
   ]
  },
  {
   "cell_type": "code",
   "execution_count": 7,
   "id": "4bd152b4-13d1-4b1f-b084-389211576cf0",
   "metadata": {},
   "outputs": [],
   "source": [
    "def increase(x):\n",
    "    return x + 1"
   ]
  },
  {
   "cell_type": "code",
   "execution_count": 8,
   "id": "48d8e5bd-f05c-46bb-913f-816e8773450b",
   "metadata": {},
   "outputs": [],
   "source": [
    "def decrease(x):\n",
    "    return x - 1\n",
    "    "
   ]
  },
  {
   "cell_type": "code",
   "execution_count": 9,
   "id": "f1025658-560e-4946-b6ef-9166e7bc5567",
   "metadata": {},
   "outputs": [],
   "source": [
    "def the_operation(func, x):\n",
    "    result = func(x)\n",
    "    return result"
   ]
  },
  {
   "cell_type": "code",
   "execution_count": 10,
   "id": "fe637916-4923-47ad-ac78-08568f7e6b61",
   "metadata": {},
   "outputs": [
    {
     "data": {
      "text/plain": [
       "6"
      ]
     },
     "execution_count": 10,
     "metadata": {},
     "output_type": "execute_result"
    }
   ],
   "source": [
    "the_operation(increase, 5)"
   ]
  },
  {
   "cell_type": "code",
   "execution_count": 11,
   "id": "7debcd40-0fd8-4ebd-96ac-cae9e4317ebe",
   "metadata": {},
   "outputs": [
    {
     "data": {
      "text/plain": [
       "84"
      ]
     },
     "execution_count": 11,
     "metadata": {},
     "output_type": "execute_result"
    }
   ],
   "source": [
    "the_operation(decrease, 85)"
   ]
  },
  {
   "cell_type": "code",
   "execution_count": 12,
   "id": "67ba11ee-bf80-4103-92f3-5b340ec204fd",
   "metadata": {},
   "outputs": [],
   "source": [
    "def im_being_called():\n",
    "    def im_being_returned():\n",
    "        print(\"Hi\")\n",
    "    return im_being_returned\n",
    "    "
   ]
  },
  {
   "cell_type": "code",
   "execution_count": 14,
   "id": "1b6c3ccb-70d2-4dfd-8a27-0b540beccb35",
   "metadata": {},
   "outputs": [],
   "source": [
    "new_name = im_being_called()"
   ]
  },
  {
   "cell_type": "code",
   "execution_count": 15,
   "id": "0c2d9a8b-b96d-4df3-a73b-b0eb9f561e55",
   "metadata": {},
   "outputs": [
    {
     "data": {
      "text/plain": [
       "function"
      ]
     },
     "execution_count": 15,
     "metadata": {},
     "output_type": "execute_result"
    }
   ],
   "source": [
    "type(new_name)"
   ]
  },
  {
   "cell_type": "code",
   "execution_count": 16,
   "id": "b9e0c92c-7dd4-4967-83cc-3f06cad535b4",
   "metadata": {},
   "outputs": [
    {
     "name": "stdout",
     "output_type": "stream",
     "text": [
      "Hi\n"
     ]
    }
   ],
   "source": [
    "new_name()"
   ]
  },
  {
   "cell_type": "markdown",
   "id": "d3d5e0bb-574a-4f52-93ba-8a4e89bf5b51",
   "metadata": {},
   "source": [
    "Nested function example. "
   ]
  },
  {
   "cell_type": "markdown",
   "id": "3d0a4162-5278-4054-8684-2a49e21130cc",
   "metadata": {},
   "source": [
    "Understanding Closures Part1 "
   ]
  },
  {
   "cell_type": "code",
   "execution_count": 20,
   "id": "1b8fa9c3-aa74-46f4-9110-8bd34c1c03b1",
   "metadata": {},
   "outputs": [],
   "source": [
    "def greeting(message):\n",
    "    ''' First indentation level - is called outer enclosing function'''\n",
    "\n",
    "    def welcome():\n",
    "        '''Nested function'''\n",
    "        '''Welcome can access the non-local variable 'message\\''''\n",
    "        print(message)\n",
    "        \n",
    "    welcome()"
   ]
  },
  {
   "cell_type": "code",
   "execution_count": 18,
   "id": "e6f6faef-d3e1-4366-9821-c20e56535b01",
   "metadata": {},
   "outputs": [
    {
     "name": "stdout",
     "output_type": "stream",
     "text": [
      "Hello\n"
     ]
    }
   ],
   "source": [
    "greeting(\"Hello\")"
   ]
  },
  {
   "cell_type": "code",
   "execution_count": 21,
   "id": "6273061b-ec01-40da-83ab-ebfacd80481c",
   "metadata": {},
   "outputs": [],
   "source": [
    "def greeting(message):\n",
    "    ''' First indentation level - is called outer enclosing function'''\n",
    "\n",
    "    def welcome():\n",
    "        '''Nested function'''\n",
    "        '''Welcome can access the non-local variable 'message\\''''\n",
    "        print(message)\n",
    "        \n",
    "    return welcome\n",
    "        "
   ]
  },
  {
   "cell_type": "code",
   "execution_count": 22,
   "id": "53208ba6-057e-4c55-b6c9-f9c530fada2f",
   "metadata": {},
   "outputs": [],
   "source": [
    "new_name = greeting(\"Hello\")"
   ]
  },
  {
   "cell_type": "code",
   "execution_count": 23,
   "id": "3dfeb7cb-ca53-48dd-b3ab-5113303d215e",
   "metadata": {},
   "outputs": [
    {
     "name": "stdout",
     "output_type": "stream",
     "text": [
      "Hello\n"
     ]
    }
   ],
   "source": [
    "new_name()"
   ]
  },
  {
   "cell_type": "code",
   "execution_count": 24,
   "id": "896750ba-ddb9-47a9-b82f-a99dd76fce0d",
   "metadata": {},
   "outputs": [],
   "source": [
    "del greeting"
   ]
  },
  {
   "cell_type": "code",
   "execution_count": 25,
   "id": "56deac58-6d38-45e4-839a-207f8139cb2a",
   "metadata": {},
   "outputs": [
    {
     "ename": "NameError",
     "evalue": "name 'greeting' is not defined",
     "output_type": "error",
     "traceback": [
      "\u001b[1;31m---------------------------------------------------------------------------\u001b[0m",
      "\u001b[1;31mNameError\u001b[0m                                 Traceback (most recent call last)",
      "Cell \u001b[1;32mIn[25], line 1\u001b[0m\n\u001b[1;32m----> 1\u001b[0m greeting(\u001b[38;5;124m\"\u001b[39m\u001b[38;5;124mHello\u001b[39m\u001b[38;5;124m\"\u001b[39m)\n",
      "\u001b[1;31mNameError\u001b[0m: name 'greeting' is not defined"
     ]
    }
   ],
   "source": [
    "greeting(\"Hello\")"
   ]
  },
  {
   "cell_type": "code",
   "execution_count": 26,
   "id": "5aaeae01-634d-4f69-b77e-63c488f27fd5",
   "metadata": {},
   "outputs": [
    {
     "name": "stdout",
     "output_type": "stream",
     "text": [
      "Hello\n"
     ]
    }
   ],
   "source": [
    "new_name()"
   ]
  },
  {
   "cell_type": "markdown",
   "id": "8528d740-a19c-4235-827b-a02e9407939c",
   "metadata": {},
   "source": [
    "Understanding Closures Part 2"
   ]
  },
  {
   "cell_type": "code",
   "execution_count": 27,
   "id": "099bc82e-e384-408e-acd5-7a471533380b",
   "metadata": {},
   "outputs": [],
   "source": [
    "def greeting(message):\n",
    "    ''' First indentation level - is called outer enclosing function'''\n",
    "\n",
    "    def welcome():\n",
    "        '''Nested function'''\n",
    "        '''Welcome can access the non-local variable 'message\\''''\n",
    "        print(message)\n",
    "        \n",
    "    return welcome"
   ]
  },
  {
   "cell_type": "code",
   "execution_count": 28,
   "id": "91b9b513-b4db-4855-8c8f-6542cf1decab",
   "metadata": {},
   "outputs": [],
   "source": [
    "new_name = greeting(\"Hello\")"
   ]
  },
  {
   "cell_type": "code",
   "execution_count": 29,
   "id": "7a02d85e-17d8-4f27-8927-6349dc6f197f",
   "metadata": {},
   "outputs": [],
   "source": [
    "def base_multiple(base):\n",
    "    def multiply_by(x):\n",
    "        return base * x\n",
    "    return multiply_by"
   ]
  },
  {
   "cell_type": "code",
   "execution_count": 30,
   "id": "13f0dafd-94cb-40af-98c3-1017d86001ec",
   "metadata": {},
   "outputs": [],
   "source": [
    "multiply_by_8 = base_multiple(8)"
   ]
  },
  {
   "cell_type": "code",
   "execution_count": 31,
   "id": "035deaff-99cc-46d1-ace9-5d28b983a47a",
   "metadata": {},
   "outputs": [
    {
     "name": "stdout",
     "output_type": "stream",
     "text": [
      "80\n"
     ]
    }
   ],
   "source": [
    "print(multiply_by_8(10))"
   ]
  },
  {
   "cell_type": "code",
   "execution_count": 32,
   "id": "4d1198ed-e584-40be-a72d-b89c68b97b8d",
   "metadata": {},
   "outputs": [
    {
     "name": "stdout",
     "output_type": "stream",
     "text": [
      "96\n"
     ]
    }
   ],
   "source": [
    "print(multiply_by_8(12))"
   ]
  },
  {
   "cell_type": "code",
   "execution_count": 33,
   "id": "b4ef7d44-9302-41cd-b3bc-f5d0fdb8cbc1",
   "metadata": {},
   "outputs": [],
   "source": [
    "multiply_by_15 = base_multiple(15)"
   ]
  },
  {
   "cell_type": "code",
   "execution_count": 34,
   "id": "afc70c29-5a21-4ffb-9ca4-83f6c2ac7a36",
   "metadata": {},
   "outputs": [
    {
     "name": "stdout",
     "output_type": "stream",
     "text": [
      "30\n"
     ]
    }
   ],
   "source": [
    "print(multiply_by_15(2))"
   ]
  },
  {
   "cell_type": "code",
   "execution_count": 35,
   "id": "a6f4dab5-5dbf-484e-bf70-6c91ab2e12f0",
   "metadata": {},
   "outputs": [
    {
     "name": "stdout",
     "output_type": "stream",
     "text": [
      "225\n"
     ]
    }
   ],
   "source": [
    "print(multiply_by_15(15))"
   ]
  },
  {
   "cell_type": "markdown",
   "id": "75f804a3-8232-4587-8777-7ab8d9841e74",
   "metadata": {},
   "source": [
    "A Simple Decorator example"
   ]
  },
  {
   "cell_type": "markdown",
   "id": "c58a9222-119c-43dd-b9ef-fb5ed5486c21",
   "metadata": {},
   "source": [
    "A decorator is a callable that returns a callable. A decorator takes in a function, add functionality and then returns it. "
   ]
  },
  {
   "cell_type": "code",
   "execution_count": 36,
   "id": "77fd4543-f5e0-4782-973a-3ee3a815dcea",
   "metadata": {},
   "outputs": [],
   "source": [
    "def orignal_func():\n",
    "    print(\"I am the original function\")\n",
    "\n",
    "def jazz_up_the_function(func):\n",
    "\n",
    "    def inner():\n",
    "        print(\"I am adding this first\")\n",
    "        func()\n",
    "        print(\"I'll finish with this\")\n",
    "    return inner\n",
    "    "
   ]
  },
  {
   "cell_type": "code",
   "execution_count": 37,
   "id": "626225c2-63c3-4c17-8b88-9fa1167e62c9",
   "metadata": {},
   "outputs": [
    {
     "name": "stdout",
     "output_type": "stream",
     "text": [
      "I am the original function\n"
     ]
    }
   ],
   "source": [
    "orignal_func()"
   ]
  },
  {
   "cell_type": "code",
   "execution_count": 38,
   "id": "71e7c223-79bb-4e8e-9ddb-083062c8612d",
   "metadata": {},
   "outputs": [],
   "source": [
    "jazzed_up = jazz_up_the_function(orignal_func)"
   ]
  },
  {
   "cell_type": "code",
   "execution_count": 39,
   "id": "7b661095-3bcf-4c15-ae09-c62521b6c5c1",
   "metadata": {},
   "outputs": [
    {
     "data": {
      "text/plain": [
       "function"
      ]
     },
     "execution_count": 39,
     "metadata": {},
     "output_type": "execute_result"
    }
   ],
   "source": [
    "type(jazzed_up)"
   ]
  },
  {
   "cell_type": "code",
   "execution_count": 40,
   "id": "7892f2f8-ff2e-4128-bbbc-24fd270ea1e8",
   "metadata": {},
   "outputs": [
    {
     "name": "stdout",
     "output_type": "stream",
     "text": [
      "I am adding this first\n",
      "I am the original function\n",
      "I'll finish with this\n"
     ]
    }
   ],
   "source": [
    "jazzed_up()"
   ]
  },
  {
   "cell_type": "code",
   "execution_count": 42,
   "id": "9d09aab7-606e-4425-99fa-68b3b81fd0d9",
   "metadata": {},
   "outputs": [],
   "source": [
    "@jazz_up_the_function\n",
    "def original_func():\n",
    "    print(\"I am the original function\")"
   ]
  },
  {
   "cell_type": "code",
   "execution_count": 44,
   "id": "52f3a2bd-5db9-4c1e-8f68-6567a8b41a58",
   "metadata": {},
   "outputs": [
    {
     "name": "stdout",
     "output_type": "stream",
     "text": [
      "I am adding this first\n",
      "I am the original function\n",
      "I'll finish with this\n"
     ]
    }
   ],
   "source": [
    "original_func()"
   ]
  },
  {
   "cell_type": "markdown",
   "id": "dcbaf3df-85f3-4f19-9710-0c6be966725a",
   "metadata": {},
   "source": [
    "Decorating functions with parameters"
   ]
  },
  {
   "cell_type": "code",
   "execution_count": 45,
   "id": "bb48374c-10b4-4e93-9fbe-9fe45bbe4d3e",
   "metadata": {},
   "outputs": [],
   "source": [
    "def divider(a, b):\n",
    "    return a/b\n",
    "    "
   ]
  },
  {
   "cell_type": "code",
   "execution_count": 46,
   "id": "26bf0f53-f0cf-42f7-9ea4-ec4047c66d4f",
   "metadata": {},
   "outputs": [
    {
     "data": {
      "text/plain": [
       "5.0"
      ]
     },
     "execution_count": 46,
     "metadata": {},
     "output_type": "execute_result"
    }
   ],
   "source": [
    "divider(10,2)"
   ]
  },
  {
   "cell_type": "code",
   "execution_count": 47,
   "id": "a1e1fb99-10c6-441a-aa12-c6ad98fff76a",
   "metadata": {},
   "outputs": [
    {
     "ename": "ZeroDivisionError",
     "evalue": "division by zero",
     "output_type": "error",
     "traceback": [
      "\u001b[1;31m---------------------------------------------------------------------------\u001b[0m",
      "\u001b[1;31mZeroDivisionError\u001b[0m                         Traceback (most recent call last)",
      "Cell \u001b[1;32mIn[47], line 1\u001b[0m\n\u001b[1;32m----> 1\u001b[0m divider(\u001b[38;5;241m10\u001b[39m,\u001b[38;5;241m0\u001b[39m)\n",
      "Cell \u001b[1;32mIn[45], line 2\u001b[0m, in \u001b[0;36mdivider\u001b[1;34m(a, b)\u001b[0m\n\u001b[0;32m      1\u001b[0m \u001b[38;5;28;01mdef\u001b[39;00m \u001b[38;5;21mdivider\u001b[39m(a, b):\n\u001b[1;32m----> 2\u001b[0m     \u001b[38;5;28;01mreturn\u001b[39;00m a\u001b[38;5;241m/\u001b[39mb\n",
      "\u001b[1;31mZeroDivisionError\u001b[0m: division by zero"
     ]
    }
   ],
   "source": [
    "divider(10,0)"
   ]
  },
  {
   "cell_type": "code",
   "execution_count": 48,
   "id": "ac3b1959-0bb4-43b5-843a-a139214b6d85",
   "metadata": {},
   "outputs": [],
   "source": [
    "def divider_v2(func):\n",
    "    def inner(a, b):\n",
    "        print(\"I am trying to divide\", a, \"and\", b)\n",
    "        if b == 0:\n",
    "            print(\"Stop right there! You can't divide by zero!\")\n",
    "            return\n",
    "        return func(a, b)\n",
    "    return inner"
   ]
  },
  {
   "cell_type": "code",
   "execution_count": 49,
   "id": "6c8f90e6-dbc0-474b-84ca-d2943eb5e3cf",
   "metadata": {},
   "outputs": [],
   "source": [
    "@divider_v2\n",
    "def divider(a, b):\n",
    "    print(a/b)\n",
    "    "
   ]
  },
  {
   "cell_type": "code",
   "execution_count": 50,
   "id": "0fbbd24f-3255-4ed3-87bf-98ec6f9809d4",
   "metadata": {},
   "outputs": [
    {
     "name": "stdout",
     "output_type": "stream",
     "text": [
      "I am trying to divide 10 and 2\n",
      "5.0\n"
     ]
    }
   ],
   "source": [
    "divider(10,2)"
   ]
  },
  {
   "cell_type": "code",
   "execution_count": 51,
   "id": "7e29e5b9-8ff3-451e-95c4-ac24de5505a7",
   "metadata": {},
   "outputs": [
    {
     "name": "stdout",
     "output_type": "stream",
     "text": [
      "I am trying to divide 10 and 0\n",
      "Stop right there! You can't divide by zero!\n"
     ]
    }
   ],
   "source": [
    "divider(10,0)"
   ]
  },
  {
   "cell_type": "code",
   "execution_count": 53,
   "id": "725d505f-9aeb-4f9f-8e65-02b3b5ba2e90",
   "metadata": {},
   "outputs": [],
   "source": [
    "def generic_decorator(func):\n",
    "    def inner(*args, **kwargs):\n",
    "        print(\"I decorate any function\")\n",
    "        return func(*args, **kwargs)\n",
    "    return inner"
   ]
  },
  {
   "cell_type": "code",
   "execution_count": 54,
   "id": "46fae426-f277-4a15-bffb-ab14f9db31f7",
   "metadata": {},
   "outputs": [],
   "source": [
    "@generic_decorator\n",
    "def divider(a, b):\n",
    "    print(a/b)"
   ]
  },
  {
   "cell_type": "code",
   "execution_count": 55,
   "id": "2a893704-9e10-4855-a11f-1b4abb1975ad",
   "metadata": {},
   "outputs": [
    {
     "name": "stdout",
     "output_type": "stream",
     "text": [
      "I decorate any function\n",
      "5.0\n"
     ]
    }
   ],
   "source": [
    "divider(10,2)"
   ]
  },
  {
   "cell_type": "markdown",
   "id": "5395c9f5-d3cf-4ce3-83fe-a65a4c08afc9",
   "metadata": {},
   "source": [
    "- Decorators allows you to take an existing function add more functionality to it.\n",
    "- A function that takes in another function as an argument it known as a higher order function.\n",
    "- A function can return another function\n",
    "- The symbol ``` @ ``` is used to decorate a function\n",
    "- Python decorators use of closures"
   ]
  },
  {
   "cell_type": "code",
   "execution_count": null,
   "id": "a2eac630-892c-45b6-aee4-c5f80c699f3b",
   "metadata": {},
   "outputs": [],
   "source": []
  }
 ],
 "metadata": {
  "kernelspec": {
   "display_name": "Python 3 (ipykernel)",
   "language": "python",
   "name": "python3"
  },
  "language_info": {
   "codemirror_mode": {
    "name": "ipython",
    "version": 3
   },
   "file_extension": ".py",
   "mimetype": "text/x-python",
   "name": "python",
   "nbconvert_exporter": "python",
   "pygments_lexer": "ipython3",
   "version": "3.11.7"
  }
 },
 "nbformat": 4,
 "nbformat_minor": 5
}
