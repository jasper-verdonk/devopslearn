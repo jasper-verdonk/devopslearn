{
 "cells": [
  {
   "cell_type": "code",
   "execution_count": 1,
   "id": "9b77ad3f-1a0b-4ea3-b0b4-9aa29aff4d8f",
   "metadata": {},
   "outputs": [],
   "source": [
    "#snake case variable name convention\n",
    "#test variable\n",
    "test_variable_case = 'This is my test variable'\n"
   ]
  },
  {
   "cell_type": "code",
   "execution_count": 2,
   "id": "c243f3ff-4733-413f-b02e-8c376e1a1c33",
   "metadata": {},
   "outputs": [],
   "source": [
    "#string concatenation \n",
    "x = 'I like ice cream' + ', this is better then anything else' + '.'"
   ]
  },
  {
   "cell_type": "code",
   "execution_count": 3,
   "id": "658d825e-d444-4149-b3e4-95cc1b18273d",
   "metadata": {},
   "outputs": [
    {
     "name": "stdout",
     "output_type": "stream",
     "text": [
      "I like ice cream, this is better then anything else.\n"
     ]
    }
   ],
   "source": [
    "print(x)"
   ]
  },
  {
   "cell_type": "code",
   "execution_count": 5,
   "id": "9a73db3d-3eb8-4aa8-9263-97dc0d4def0d",
   "metadata": {},
   "outputs": [
    {
     "name": "stdout",
     "output_type": "stream",
     "text": [
      "Ice cream is my favorite\n"
     ]
    }
   ],
   "source": [
    "x = 'Ice cream'\n",
    "y = ' is'\n",
    "z = ' my favorite'\n",
    "print(x+y+z)"
   ]
  },
  {
   "cell_type": "markdown",
   "id": "5b00143c-edb7-462a-a22b-5f9d27e6e1a4",
   "metadata": {},
   "source": [
    "Mutable vs immutable. "
   ]
  },
  {
   "cell_type": "markdown",
   "id": "689d08f9-573d-4605-b147-798be9627af0",
   "metadata": {},
   "source": [
    "In Python, every variable is a reference to an object, not an object itself. "
   ]
  },
  {
   "cell_type": "code",
   "execution_count": 6,
   "id": "cf232359-bc85-4b37-ac8a-98cb1f6681b1",
   "metadata": {},
   "outputs": [
    {
     "name": "stdout",
     "output_type": "stream",
     "text": [
      "7\n"
     ]
    }
   ],
   "source": [
    "num = 7 \n",
    "print(num)"
   ]
  },
  {
   "cell_type": "markdown",
   "id": "e513c45c-fa7e-4ad4-835c-3c8d601cd8e5",
   "metadata": {},
   "source": [
    "num holds the address towards the memory location where \\<int\\> 7 is stored. The variable num is a pointer or a reference"
   ]
  },
  {
   "cell_type": "markdown",
   "id": "05b2d3de-5806-401c-b3ec-1720b73b85eb",
   "metadata": {},
   "source": [
    "Mutable Objects: Objects whose value can change. \n",
    "Immutable Objects: Objects whose value cannot change. \n",
    "A mutable object is an object that can have its value modified 'in-place'. Mutable objects: Lists, Dictionaries, Sets. \n",
    "Immutable objects: Strings, Integers, Floats, Booleans, Tuples. "
   ]
  },
  {
   "cell_type": "code",
   "execution_count": 11,
   "id": "e4061fe8-2e59-40b8-8f40-d3c96f0e9d81",
   "metadata": {},
   "outputs": [
    {
     "name": "stdout",
     "output_type": "stream",
     "text": [
      "2223805644672\n",
      "2223805644672\n",
      "[20, 8, 12]\n"
     ]
    }
   ],
   "source": [
    "#Mutable object\n",
    "grades = [16, 8, 12]\n",
    "print(id(grades))\n",
    "grades[0]=20\n",
    "print(id(grades))\n",
    "print(grades)"
   ]
  },
  {
   "cell_type": "code",
   "execution_count": 10,
   "id": "6298dc3e-9520-40ee-b9b8-501193c761a4",
   "metadata": {},
   "outputs": [
    {
     "name": "stdout",
     "output_type": "stream",
     "text": [
      "2223792354368\n",
      "[20, 8, 12, 17, 17]\n"
     ]
    }
   ],
   "source": [
    "grades.append(17)\n",
    "print(id(grades))\n",
    "print(grades)"
   ]
  },
  {
   "cell_type": "code",
   "execution_count": 9,
   "id": "e5402a0c-0304-4df3-a156-1ba7b8de4241",
   "metadata": {},
   "outputs": [
    {
     "ename": "TypeError",
     "evalue": "'str' object does not support item assignment",
     "output_type": "error",
     "traceback": [
      "\u001b[1;31m---------------------------------------------------------------------------\u001b[0m",
      "\u001b[1;31mTypeError\u001b[0m                                 Traceback (most recent call last)",
      "Cell \u001b[1;32mIn[9], line 2\u001b[0m\n\u001b[0;32m      1\u001b[0m name \u001b[38;5;241m=\u001b[39m \u001b[38;5;124m'\u001b[39m\u001b[38;5;124mjoseph\u001b[39m\u001b[38;5;124m'\u001b[39m\n\u001b[1;32m----> 2\u001b[0m name[\u001b[38;5;241m0\u001b[39m]\u001b[38;5;241m=\u001b[39m \u001b[38;5;124m\"\u001b[39m\u001b[38;5;124mJ\u001b[39m\u001b[38;5;124m\"\u001b[39m\n\u001b[0;32m      3\u001b[0m \u001b[38;5;28mprint\u001b[39m(name)\n",
      "\u001b[1;31mTypeError\u001b[0m: 'str' object does not support item assignment"
     ]
    }
   ],
   "source": [
    "#Immutable object\n",
    "name = 'joseph'\n",
    "name[0]= \"J\"\n",
    "print(name)"
   ]
  },
  {
   "cell_type": "code",
   "execution_count": 16,
   "id": "1443007a-de4f-49fb-9a1e-9bb015c2892a",
   "metadata": {},
   "outputs": [
    {
     "name": "stdout",
     "output_type": "stream",
     "text": [
      "2223811017024\n",
      "2223811017024\n",
      "{'milk': 2.29, 'eggs': 1.79, 'banana': 0.99, 'bread': 1.49}\n"
     ]
    }
   ],
   "source": [
    "#Mutable object\n",
    "products = {\"milk\": 2.29, \"eggs\": 1.79, \"banana\": 0.99} \n",
    "type(products)\n",
    "print(id(products))\n",
    "products[\"bread\"] = 1.49\n",
    "print(id(products))\n",
    "print(products)"
   ]
  },
  {
   "cell_type": "code",
   "execution_count": 13,
   "id": "f1082af8-fe84-49ec-aa6a-1666fba594c3",
   "metadata": {},
   "outputs": [],
   "source": [
    "products[\"bread\"] = 1.49\n"
   ]
  },
  {
   "cell_type": "code",
   "execution_count": 14,
   "id": "ae6dcd94-b1ed-452e-8e09-6df4551e0858",
   "metadata": {},
   "outputs": [
    {
     "name": "stdout",
     "output_type": "stream",
     "text": [
      "{'milk': 2.29, 'eggs': 1.79, 'banana': 0.99, 'bread': 1.49}\n"
     ]
    }
   ],
   "source": [
    "print(products)"
   ]
  },
  {
   "cell_type": "code",
   "execution_count": 18,
   "id": "7bc0abf4-afb3-40ab-892e-65939535093e",
   "metadata": {},
   "outputs": [
    {
     "name": "stdout",
     "output_type": "stream",
     "text": [
      "2223791534512\n",
      "2223810967664\n"
     ]
    }
   ],
   "source": [
    "#Immutable object\n",
    "name = \"joseph\"\n",
    "print(id(name))\n",
    "name = \"Joseph\"\n",
    "print(id(name))"
   ]
  },
  {
   "cell_type": "code",
   "execution_count": 19,
   "id": "f080aeb3-5606-43dd-b01d-6c76aab33200",
   "metadata": {},
   "outputs": [
    {
     "name": "stdout",
     "output_type": "stream",
     "text": [
      "140732471231560\n",
      "140732471231592\n"
     ]
    }
   ],
   "source": [
    "x = 10\n",
    "print(id(x))\n",
    "x += 1\n",
    "print(id(x))"
   ]
  },
  {
   "cell_type": "markdown",
   "id": "97a0c9e8-eb94-4aa5-89f8-31d599c68495",
   "metadata": {},
   "source": [
    "One more important topic mutuability affects var1 = var2. Immutable: \"separate\", \"changes are not shared\" (var1 = var2). Mutable: \"linked\" \"Changes are shared\". "
   ]
  },
  {
   "cell_type": "code",
   "execution_count": 20,
   "id": "01875dc0-4934-437f-9189-0054ec799c1c",
   "metadata": {},
   "outputs": [
    {
     "name": "stdout",
     "output_type": "stream",
     "text": [
      "5 5\n",
      "140732471231400 140732471231400\n"
     ]
    }
   ],
   "source": [
    "a = 5\n",
    "b = a \n",
    "print(a, b)\n",
    "print(id(a), id(b))\n"
   ]
  },
  {
   "cell_type": "code",
   "execution_count": 21,
   "id": "6494736c-2015-45bb-b569-0fa45ac656bc",
   "metadata": {},
   "outputs": [
    {
     "name": "stdout",
     "output_type": "stream",
     "text": [
      "5 6\n",
      "140732471231400 140732471231432\n"
     ]
    }
   ],
   "source": [
    "a = 5\n",
    "b = a \n",
    "\n",
    "b += 1\n",
    "\n",
    "print(a, b)\n",
    "print(id(a), id(b))"
   ]
  },
  {
   "cell_type": "code",
   "execution_count": 22,
   "id": "3591d35f-ad17-4aa4-b042-0c4f6a7eb432",
   "metadata": {},
   "outputs": [
    {
     "name": "stdout",
     "output_type": "stream",
     "text": [
      "2223815377408 2223815377408\n"
     ]
    }
   ],
   "source": [
    "a = {1, 2, 3}\n",
    "b = a\n",
    "\n",
    "print(id(a), id(b))"
   ]
  },
  {
   "cell_type": "code",
   "execution_count": 23,
   "id": "69aa649e-de1a-4f23-920a-8e17176eec8c",
   "metadata": {},
   "outputs": [
    {
     "name": "stdout",
     "output_type": "stream",
     "text": [
      "2223822157216 2223822157216\n"
     ]
    }
   ],
   "source": [
    "a = {1, 2, 3}\n",
    "b = a\n",
    "\n",
    "b.add(10)\n",
    "\n",
    "print(id(a), id(b))"
   ]
  },
  {
   "cell_type": "code",
   "execution_count": 24,
   "id": "3f64e03f-f48f-435f-b236-978d2662d05e",
   "metadata": {},
   "outputs": [
    {
     "name": "stdout",
     "output_type": "stream",
     "text": [
      "{10, 1, 2, 3}\n",
      "{10, 1, 2, 3}\n"
     ]
    }
   ],
   "source": [
    "print(b)\n",
    "print(a)"
   ]
  },
  {
   "cell_type": "code",
   "execution_count": 25,
   "id": "79743e78-2da4-4a7c-bd7e-55ac091e0847",
   "metadata": {},
   "outputs": [
    {
     "name": "stdout",
     "output_type": "stream",
     "text": [
      "b: {1, 2, 3} 2223813350496\n",
      "a: {1, 2, 3} 2223813540576\n",
      "b: {10, 1, 2, 3} 2223813350496\n",
      "a: {1, 2, 3} 2223813540576\n"
     ]
    }
   ],
   "source": [
    "a = {1, 2, 3}\n",
    "b = a.copy()\n",
    "\n",
    "print(\"b:\", b, id(b))\n",
    "print(\"a:\", a, id(a))\n",
    "\n",
    "b.add(10)\n",
    "\n",
    "print(\"b:\", b, id(b))\n",
    "print(\"a:\", a, id(a))\n"
   ]
  },
  {
   "cell_type": "markdown",
   "id": "94b75182-d6b5-424c-8000-837386b4ec9a",
   "metadata": {},
   "source": [
    "What is the difference between \"Shallow Copy\" and \"Deep Copy\".  Only on mutable objects we have copy functions like above. It creats a diff. reference to the object in memory. "
   ]
  }
 ],
 "metadata": {
  "kernelspec": {
   "display_name": "Python 3 (ipykernel)",
   "language": "python",
   "name": "python3"
  },
  "language_info": {
   "codemirror_mode": {
    "name": "ipython",
    "version": 3
   },
   "file_extension": ".py",
   "mimetype": "text/x-python",
   "name": "python",
   "nbconvert_exporter": "python",
   "pygments_lexer": "ipython3",
   "version": "3.11.7"
  }
 },
 "nbformat": 4,
 "nbformat_minor": 5
}
