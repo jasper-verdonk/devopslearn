{
 "cells": [
  {
   "cell_type": "markdown",
   "id": "f07588a3-99bb-45ef-9cdb-afd36204f17c",
   "metadata": {},
   "source": [
    "# The shopping list\n",
    "A customer chain, Foodie, has asked you to create a shopping list application to help their customers whilst shopping. \n",
    "\n",
    "This application should allow a user to:\n",
    "1) add items to the shopping list\n",
    "2) remove items from the shopping list\n",
    "3) ask for help\n",
    "4) show the items in the shopping list"
   ]
  },
  {
   "cell_type": "code",
   "execution_count": 1,
   "id": "67b24371-dbe9-4638-937a-317481cbf6ed",
   "metadata": {},
   "outputs": [],
   "source": [
    "shopping_list = []\n",
    "\n"
   ]
  },
  {
   "cell_type": "code",
   "execution_count": 2,
   "id": "47151544-c327-4204-bbd4-84c8769e1992",
   "metadata": {},
   "outputs": [
    {
     "name": "stdin",
     "output_type": "stream",
     "text": [
      "Please select the item number DONE\n"
     ]
    }
   ],
   "source": [
    "item = input(\"Please select the item number\")"
   ]
  },
  {
   "cell_type": "code",
   "execution_count": 3,
   "id": "8d3ff1df-8fb7-4726-91cd-5136e178cf2d",
   "metadata": {},
   "outputs": [
    {
     "data": {
      "text/plain": [
       "'DONE'"
      ]
     },
     "execution_count": 3,
     "metadata": {},
     "output_type": "execute_result"
    }
   ],
   "source": [
    "item"
   ]
  },
  {
   "cell_type": "code",
   "execution_count": 4,
   "id": "84710f9d-d26e-45bf-84f7-098e70c773fe",
   "metadata": {},
   "outputs": [],
   "source": [
    "def shop():\n",
    "    while True:\n",
    "        print('''\n",
    "        Welcome to the shop! Select what you want!\n",
    "        0) What is my current list?\n",
    "        1) Continue and add items to the list\n",
    "        2) Delete items from the list\n",
    "        3) Ask for assistance in this shop!\n",
    "        4) Exit list\n",
    "        ''')\n",
    "        input = input(\"Please provide: [0/1/2/3/4]\")\n",
    "        if input == 0:\n",
    "            list\n",
    "        elif input == 1:\n",
    "            add_list(list)\n",
    "        elif input == 2:\n",
    "            remove_list(list)\n",
    "        elif input == 3:\n",
    "            ask_help()\n",
    "        else:\n",
    "            break\n",
    "            \n",
    "            \n",
    "        "
   ]
  },
  {
   "cell_type": "code",
   "execution_count": 5,
   "id": "9e3922ed-65b1-412e-8fbb-8ff63a748b09",
   "metadata": {},
   "outputs": [
    {
     "ename": "IndentationError",
     "evalue": "expected an indented block after 'while' statement on line 3 (1413532161.py, line 4)",
     "output_type": "error",
     "traceback": [
      "\u001b[1;36m  Cell \u001b[1;32mIn[5], line 4\u001b[1;36m\u001b[0m\n\u001b[1;33m    print('''\u001b[0m\n\u001b[1;37m    ^\u001b[0m\n\u001b[1;31mIndentationError\u001b[0m\u001b[1;31m:\u001b[0m expected an indented block after 'while' statement on line 3\n"
     ]
    }
   ],
   "source": [
    "list = []\n",
    "def add_list(list):\n",
    "    while True:\n",
    "    print('''\n",
    "    Please select items of the following:\n",
    "    1) Banana\n",
    "    2) Rosti\n",
    "    3) Vegan schitzel\n",
    "    4) LaChouffe\n",
    "    ''')\n",
    "    next_item = input(\"What item is it going to be?\")\n",
    "    control()\n",
    "    list.append(next_item)\n",
    "    print(\"This is the current shopping list: {}\".format(list))\n",
    "    if not control():\n",
    "        print(\"See you next time in the market!\")\n",
    "        break\n",
    "    \n",
    "def remove_list(list):\n",
    "    \n",
    "def control():\n",
    "    control = ''\n",
    "    while control not in ['y', 'n']:\n",
    "        input = input(\"Do you want to continue? [Y/N]\")\n",
    "        if input.lower() = 'y':\n",
    "            return True\n",
    "        if input.lower() = 'n':\n",
    "            return False\n",
    "        \n",
    "    \n",
    "                \n",
    "    "
   ]
  },
  {
   "cell_type": "markdown",
   "id": "08e69e1b-3492-4bf0-8fcf-168b504ef469",
   "metadata": {},
   "source": [
    "Solution"
   ]
  },
  {
   "cell_type": "code",
   "execution_count": 12,
   "id": "6c11e321-e546-48ed-a75b-136080c10d4f",
   "metadata": {},
   "outputs": [],
   "source": [
    "from IPython.display import clear_output"
   ]
  },
  {
   "cell_type": "code",
   "execution_count": null,
   "id": "761b8445-dad9-46df-ad13-3bbf1bebc229",
   "metadata": {},
   "outputs": [],
   "source": [
    "shopping_list = [] "
   ]
  },
  {
   "cell_type": "code",
   "execution_count": 10,
   "id": "e111e6de-7da1-4fd3-9fc2-20b189115ef7",
   "metadata": {},
   "outputs": [],
   "source": [
    "def start_menu():\n",
    "    print(\"What do you want to add to your shopping list?\")\n",
    "    print('''\n",
    "    ENTER 'DONE' to stop adding items.\n",
    "    ENTER 'HELP' for additional info.\n",
    "    ENTER 'SHOW' to see your shopping list.\n",
    "    ENTER 'REMOVE' to remove an item from your shopping list.\n",
    "    -----------------------------------------------\n",
    "    ''')\n",
    "    "
   ]
  },
  {
   "cell_type": "code",
   "execution_count": null,
   "id": "913c014a-6684-4a89-b8d0-69c560621aa8",
   "metadata": {},
   "outputs": [],
   "source": [
    "start_menu()"
   ]
  },
  {
   "cell_type": "markdown",
   "id": "a6bff45e-27a0-4bc1-8db5-46b690b0229d",
   "metadata": {},
   "source": [
    "Step 3: Create a function to add an item to the list"
   ]
  },
  {
   "cell_type": "code",
   "execution_count": 6,
   "id": "3358ce84-cd9e-4b95-a645-b4dd81244fdb",
   "metadata": {},
   "outputs": [],
   "source": [
    "def add_to_list(item):\n",
    "    item = item.capitalize()\n",
    "\n",
    "    if item not in shopping_list:\n",
    "        shopping_list.append(item)\n",
    "        print(\"{} was added to your shopping list!\".format(item))\n",
    "        print(\"You have {} items on your list.\".format(len(shopping_list)))\n",
    "    else:\n",
    "        print(\"You already have that item on your list!\")"
   ]
  },
  {
   "cell_type": "markdown",
   "id": "2a9f514d-b745-414c-9c39-89059633d52a",
   "metadata": {},
   "source": [
    "Step 4: Create an function to delete an item from the list"
   ]
  },
  {
   "cell_type": "code",
   "execution_count": 7,
   "id": "b68d949e-2ca0-4f51-83ea-fd2975bc0794",
   "metadata": {},
   "outputs": [],
   "source": [
    "def remove_from_list(item):\n",
    "    item = item.capitalize()\n",
    "\n",
    "    if item in shopping_list:\n",
    "        shopping_list.remove(item)\n",
    "        print(\"{} was removed from your shopping list!\".format(item))\n",
    "        print(\"You have {} items on your list.\".format(len(shopping_list)))\n",
    "    else:\n",
    "        print(\"The item is not on your list!\")"
   ]
  },
  {
   "cell_type": "code",
   "execution_count": null,
   "id": "ed9ac16f-7214-4247-8f18-b5a43215dbc2",
   "metadata": {},
   "outputs": [],
   "source": [
    "remove_from_list('Banana')"
   ]
  },
  {
   "cell_type": "markdown",
   "id": "71cd4d72-a647-4abd-8b17-201cadf280df",
   "metadata": {},
   "source": [
    "Step 5: Create a function that displays the shopping list to the screen"
   ]
  },
  {
   "cell_type": "code",
   "execution_count": 8,
   "id": "655512b9-2a74-4080-b140-592598fc3745",
   "metadata": {},
   "outputs": [],
   "source": [
    "def show_shopping_list():\n",
    "    print(\"My Shopping List:\")\n",
    "    for item in shopping_list:\n",
    "        print(item)"
   ]
  },
  {
   "cell_type": "markdown",
   "id": "8cee7942-5fde-4368-b203-845bd0ec5255",
   "metadata": {},
   "source": [
    "Step 6: Create a working Shopping List program using your functions above! "
   ]
  },
  {
   "cell_type": "code",
   "execution_count": null,
   "id": "46597222-7ea4-4ae3-a4f3-1934881ddaef",
   "metadata": {},
   "outputs": [
    {
     "name": "stdout",
     "output_type": "stream",
     "text": [
      "What do you want to add to your shopping list?\n",
      "\n",
      "    ENTER 'DONE' to stop adding items.\n",
      "    ENTER 'HELP' for additional info.\n",
      "    ENTER 'SHOW' to see your shopping list.\n",
      "    ENTER 'REMOVE' to remove an item from your shopping list.\n",
      "    -----------------------------------------------\n",
      "    \n",
      "My Shopping List:\n",
      "Lachouffe\n",
      "Bananen\n",
      "Chocolad\n"
     ]
    }
   ],
   "source": [
    "start_menu()\n",
    "while True:\n",
    "    user_input = input('> ')\n",
    "\n",
    "    if user_input == 'DONE':\n",
    "        clear_output()\n",
    "        start_menu()\n",
    "        print(\"See you soon!\")\n",
    "        break\n",
    "    elif user_input == 'HELP':\n",
    "        clear_output()\n",
    "        start_menu()\n",
    "        print('''\n",
    "        Type in an item into the box provided to add an\n",
    "        item to your shopping list!\n",
    "        ''')\n",
    "        continue\n",
    "    elif user_input == 'SHOW':\n",
    "        clear_output()\n",
    "        start_menu()\n",
    "        show_shopping_list()\n",
    "        continue\n",
    "    elif user_input == 'REMOVE':\n",
    "        clear_output()\n",
    "        show_shopping_list()\n",
    "        item = input(\"What do you want to remove?: \")\n",
    "        clear_output()\n",
    "        start_menu()\n",
    "        remove_from_list(item)\n",
    "        continue\n",
    "    else:\n",
    "        clear_output()\n",
    "        start_menu()\n",
    "        add_to_list(user_input)\n",
    "        \n",
    "show_shopping_list()"
   ]
  },
  {
   "cell_type": "code",
   "execution_count": null,
   "id": "267fb472-db9f-4def-80a7-5904b843e08a",
   "metadata": {},
   "outputs": [],
   "source": [
    "show_shopping_list()"
   ]
  },
  {
   "cell_type": "code",
   "execution_count": null,
   "id": "881a13f0-e762-4219-bfa7-27f7b6650e36",
   "metadata": {},
   "outputs": [],
   "source": [
    "shopping_list"
   ]
  },
  {
   "cell_type": "code",
   "execution_count": null,
   "id": "13a7ff84-92c0-433e-b898-0ecd40e289c1",
   "metadata": {},
   "outputs": [],
   "source": [
    "add_to_list('LaChouffe')"
   ]
  },
  {
   "cell_type": "code",
   "execution_count": null,
   "id": "a70d40a8-e011-4c55-89d2-3db353a5c1e7",
   "metadata": {},
   "outputs": [],
   "source": [
    "shopping_list"
   ]
  },
  {
   "cell_type": "code",
   "execution_count": null,
   "id": "0ba70fc4-3f16-43f6-bf2c-f88fd483cc05",
   "metadata": {},
   "outputs": [],
   "source": []
  }
 ],
 "metadata": {
  "kernelspec": {
   "display_name": "Python 3 (ipykernel)",
   "language": "python",
   "name": "python3"
  },
  "language_info": {
   "codemirror_mode": {
    "name": "ipython",
    "version": 3
   },
   "file_extension": ".py",
   "mimetype": "text/x-python",
   "name": "python",
   "nbconvert_exporter": "python",
   "pygments_lexer": "ipython3",
   "version": "3.11.7"
  }
 },
 "nbformat": 4,
 "nbformat_minor": 5
}
