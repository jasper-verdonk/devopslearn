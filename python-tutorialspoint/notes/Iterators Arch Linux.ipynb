{
 "cells": [
  {
   "cell_type": "markdown",
   "id": "368db86f-a58d-4700-ba57-e36e2f23a786",
   "metadata": {},
   "source": [
    "## Iterators "
   ]
  },
  {
   "cell_type": "code",
   "execution_count": 1,
   "id": "c1f54d7f-693d-412c-8f4e-7f859a234cba",
   "metadata": {},
   "outputs": [],
   "source": [
    "my_list = [1, 2, 3, 4]"
   ]
  },
  {
   "cell_type": "code",
   "execution_count": 2,
   "id": "18019830-b22e-4516-8f50-61326202f758",
   "metadata": {},
   "outputs": [
    {
     "name": "stdout",
     "output_type": "stream",
     "text": [
      "1\n",
      "2\n",
      "3\n",
      "4\n"
     ]
    }
   ],
   "source": [
    "for i in my_list:\n",
    "    print(i)\n",
    "    "
   ]
  },
  {
   "cell_type": "code",
   "execution_count": 3,
   "id": "ee798feb-ab7c-4d17-923b-7d32afa5cc21",
   "metadata": {},
   "outputs": [
    {
     "data": {
      "text/plain": [
       "['__add__',\n",
       " '__class__',\n",
       " '__class_getitem__',\n",
       " '__contains__',\n",
       " '__delattr__',\n",
       " '__delitem__',\n",
       " '__dir__',\n",
       " '__doc__',\n",
       " '__eq__',\n",
       " '__format__',\n",
       " '__ge__',\n",
       " '__getattribute__',\n",
       " '__getitem__',\n",
       " '__getstate__',\n",
       " '__gt__',\n",
       " '__hash__',\n",
       " '__iadd__',\n",
       " '__imul__',\n",
       " '__init__',\n",
       " '__init_subclass__',\n",
       " '__iter__',\n",
       " '__le__',\n",
       " '__len__',\n",
       " '__lt__',\n",
       " '__mul__',\n",
       " '__ne__',\n",
       " '__new__',\n",
       " '__reduce__',\n",
       " '__reduce_ex__',\n",
       " '__repr__',\n",
       " '__reversed__',\n",
       " '__rmul__',\n",
       " '__setattr__',\n",
       " '__setitem__',\n",
       " '__sizeof__',\n",
       " '__str__',\n",
       " '__subclasshook__',\n",
       " 'append',\n",
       " 'clear',\n",
       " 'copy',\n",
       " 'count',\n",
       " 'extend',\n",
       " 'index',\n",
       " 'insert',\n",
       " 'pop',\n",
       " 'remove',\n",
       " 'reverse',\n",
       " 'sort']"
      ]
     },
     "execution_count": 3,
     "metadata": {},
     "output_type": "execute_result"
    }
   ],
   "source": [
    "dir(my_list)"
   ]
  },
  {
   "cell_type": "markdown",
   "id": "0b36b3f4-7ecd-4204-88f9-15bc8e969279",
   "metadata": {},
   "source": [
    " The object has the __iter__ method. Hence the object is iterable. "
   ]
  },
  {
   "cell_type": "code",
   "execution_count": 4,
   "id": "902a829d-009d-4615-b0cc-6f751cf04750",
   "metadata": {},
   "outputs": [
    {
     "data": {
      "text/plain": [
       "<list_iterator at 0x7fc65412d840>"
      ]
     },
     "execution_count": 4,
     "metadata": {},
     "output_type": "execute_result"
    }
   ],
   "source": [
    "my_list.__iter__()"
   ]
  },
  {
   "cell_type": "code",
   "execution_count": 6,
   "id": "2091fb95-459d-47a4-9839-fd381b8ebbf2",
   "metadata": {},
   "outputs": [],
   "source": [
    "value = my_list.__iter__()"
   ]
  },
  {
   "cell_type": "code",
   "execution_count": 7,
   "id": "d361ad23-ac69-4b91-ac38-9ac4ee7c9453",
   "metadata": {},
   "outputs": [
    {
     "data": {
      "text/plain": [
       "list_iterator"
      ]
     },
     "execution_count": 7,
     "metadata": {},
     "output_type": "execute_result"
    }
   ],
   "source": [
    "type(value)"
   ]
  },
  {
   "cell_type": "markdown",
   "id": "d458b0a7-988e-4f65-a673-cf6e582be235",
   "metadata": {},
   "source": [
    "The next() method with the __\\iter\\__() set up the object with the iterable protocol. "
   ]
  },
  {
   "cell_type": "code",
   "execution_count": 8,
   "id": "bbd2a8c8-8511-4b50-acc3-fe9ede4a8731",
   "metadata": {},
   "outputs": [
    {
     "name": "stdout",
     "output_type": "stream",
     "text": [
      "1\n"
     ]
    }
   ],
   "source": [
    "element1 = value.__next__()\n",
    "print(element1)"
   ]
  },
  {
   "cell_type": "code",
   "execution_count": 9,
   "id": "3d3206cf-fd5b-4248-b41e-9625274b4bc8",
   "metadata": {},
   "outputs": [
    {
     "name": "stdout",
     "output_type": "stream",
     "text": [
      "2\n",
      "3\n",
      "4\n"
     ]
    }
   ],
   "source": [
    "element2 = value.__next__()\n",
    "print(element2)\n",
    "element3 = value.__next__()\n",
    "print(element3)\n",
    "element4= value.__next__()\n",
    "print(element4)"
   ]
  },
  {
   "cell_type": "code",
   "execution_count": 10,
   "id": "74e26b7d-dbbb-4ddb-950b-e3a94bab668d",
   "metadata": {},
   "outputs": [],
   "source": [
    "value = iter(my_list)\n",
    "element1 = next(value)\n",
    "element2 = next(value)\n",
    "element3 = next(value)\n",
    "element4 = next(value)\n",
    "\n",
    "\n",
    "\n"
   ]
  },
  {
   "cell_type": "code",
   "execution_count": 11,
   "id": "0d215f40-0df9-4c8c-8e2e-bd165c004c1f",
   "metadata": {},
   "outputs": [
    {
     "name": "stdout",
     "output_type": "stream",
     "text": [
      "1\n",
      "2\n",
      "3\n",
      "4\n"
     ]
    }
   ],
   "source": [
    "print(element1)\n",
    "print(element2)\n",
    "print(element3)\n",
    "print(element4)"
   ]
  },
  {
   "cell_type": "code",
   "execution_count": 12,
   "id": "cba77b73-8770-47e8-b41f-21079c3413d3",
   "metadata": {},
   "outputs": [
    {
     "ename": "StopIteration",
     "evalue": "",
     "output_type": "error",
     "traceback": [
      "\u001b[0;31m---------------------------------------------------------------------------\u001b[0m",
      "\u001b[0;31mStopIteration\u001b[0m                             Traceback (most recent call last)",
      "Cell \u001b[0;32mIn[12], line 1\u001b[0m\n\u001b[0;32m----> 1\u001b[0m element5 \u001b[38;5;241m=\u001b[39m \u001b[38;5;28mnext\u001b[39m(value)\n\u001b[1;32m      2\u001b[0m \u001b[38;5;28mprint\u001b[39m(element5)\n",
      "\u001b[0;31mStopIteration\u001b[0m: "
     ]
    }
   ],
   "source": [
    "element5 = next(value)\n",
    "print(element5)"
   ]
  },
  {
   "cell_type": "code",
   "execution_count": 13,
   "id": "d088d454-de6b-40ab-86aa-15b9fc4bc0a9",
   "metadata": {},
   "outputs": [],
   "source": [
    "new_list = [2, 4, 6, 8]"
   ]
  },
  {
   "cell_type": "code",
   "execution_count": 14,
   "id": "ec7533c1-a708-4fa3-be89-0cf447d2ee3f",
   "metadata": {},
   "outputs": [],
   "source": [
    "iter_new_list = iter(new_list)"
   ]
  },
  {
   "cell_type": "code",
   "execution_count": 15,
   "id": "b077c9b0-b005-4621-b8ca-6c7814778177",
   "metadata": {},
   "outputs": [
    {
     "name": "stdout",
     "output_type": "stream",
     "text": [
      "2\n",
      "4\n",
      "6\n",
      "8\n"
     ]
    }
   ],
   "source": [
    "while True:\n",
    "\n",
    "    try:\n",
    "        element = next(iter_new_list)\n",
    "        print(element)\n",
    "    except StopIteration:\n",
    "        break\n",
    "\n",
    "\n"
   ]
  },
  {
   "cell_type": "code",
   "execution_count": 16,
   "id": "329714df-76f5-439e-afee-1883ff84cbd8",
   "metadata": {},
   "outputs": [],
   "source": [
    "class TimesTen:\n",
    "\n",
    "    def __init__(self, max=0):\n",
    "        self.n = 1\n",
    "        self.max = max\n",
    "\n",
    "    def __iter__(self):\n",
    "        return self\n",
    "\n",
    "    def __next__(self):\n",
    "        if self.n <= self.max:\n",
    "            result = self.n * 10\n",
    "            self.n += 1\n",
    "            return result\n",
    "        else:\n",
    "            raise StopIteration\n",
    "            "
   ]
  },
  {
   "cell_type": "code",
   "execution_count": 17,
   "id": "6ac56924-0c55-40ad-b8db-05b3fd87735e",
   "metadata": {},
   "outputs": [],
   "source": [
    "numbers = TimesTen(3)"
   ]
  },
  {
   "cell_type": "code",
   "execution_count": 18,
   "id": "fe892014-9034-4902-92b5-c1900d0c2269",
   "metadata": {},
   "outputs": [],
   "source": [
    "i = iter(numbers)"
   ]
  },
  {
   "cell_type": "code",
   "execution_count": 19,
   "id": "6501d1fd-4230-45ff-9e75-87d88cf1fead",
   "metadata": {},
   "outputs": [
    {
     "name": "stdout",
     "output_type": "stream",
     "text": [
      "10\n",
      "20\n",
      "30\n"
     ]
    }
   ],
   "source": [
    "print(next(i))\n",
    "print(next(i))\n",
    "print(next(i))"
   ]
  },
  {
   "cell_type": "code",
   "execution_count": 20,
   "id": "50d46498-6875-48b2-84f8-773ca1f52be3",
   "metadata": {},
   "outputs": [
    {
     "ename": "StopIteration",
     "evalue": "",
     "output_type": "error",
     "traceback": [
      "\u001b[0;31m---------------------------------------------------------------------------\u001b[0m",
      "\u001b[0;31mStopIteration\u001b[0m                             Traceback (most recent call last)",
      "Cell \u001b[0;32mIn[20], line 1\u001b[0m\n\u001b[0;32m----> 1\u001b[0m \u001b[38;5;28mprint\u001b[39m(\u001b[38;5;28mnext\u001b[39m(i))\n",
      "Cell \u001b[0;32mIn[16], line 16\u001b[0m, in \u001b[0;36mTimesTen.__next__\u001b[0;34m(self)\u001b[0m\n\u001b[1;32m     14\u001b[0m     \u001b[38;5;28;01mreturn\u001b[39;00m result\n\u001b[1;32m     15\u001b[0m \u001b[38;5;28;01melse\u001b[39;00m:\n\u001b[0;32m---> 16\u001b[0m     \u001b[38;5;28;01mraise\u001b[39;00m \u001b[38;5;167;01mStopIteration\u001b[39;00m\n",
      "\u001b[0;31mStopIteration\u001b[0m: "
     ]
    }
   ],
   "source": [
    "print(next(i))"
   ]
  },
  {
   "cell_type": "markdown",
   "id": "a44ae051-5380-47f5-93f7-fee7bdd527c8",
   "metadata": {},
   "source": [
    "## Generators"
   ]
  },
  {
   "cell_type": "code",
   "execution_count": 22,
   "id": "2d64d611-2049-4bc4-9d2c-f639a959017a",
   "metadata": {},
   "outputs": [],
   "source": [
    "def my_generator():\n",
    "\n",
    "    n = 1\n",
    "    print(\"This is the first print statement in this function\")\n",
    "    yield n\n",
    "\n",
    "    n += 1\n",
    "    print(\"This is the second print statement in this function\")\n",
    "    yield n\n",
    "\n",
    "    n += 1\n",
    "    print(\"This is the last print statement in this function\")\n",
    "    yield n\n",
    "    \n",
    "    "
   ]
  },
  {
   "cell_type": "code",
   "execution_count": 23,
   "id": "967ef4f6-4dca-4263-92bd-8ee1ff97e39e",
   "metadata": {},
   "outputs": [],
   "source": [
    "gen1 = my_generator()"
   ]
  },
  {
   "cell_type": "code",
   "execution_count": 24,
   "id": "27a6bf2f-08a5-4b36-af89-ae9db6db13a6",
   "metadata": {},
   "outputs": [
    {
     "data": {
      "text/plain": [
       "generator"
      ]
     },
     "execution_count": 24,
     "metadata": {},
     "output_type": "execute_result"
    }
   ],
   "source": [
    "type(gen1)"
   ]
  },
  {
   "cell_type": "code",
   "execution_count": 25,
   "id": "b28e85c1-6748-479f-b222-10b062c0266c",
   "metadata": {},
   "outputs": [
    {
     "name": "stdout",
     "output_type": "stream",
     "text": [
      "This is the first print statement in this function\n"
     ]
    },
    {
     "data": {
      "text/plain": [
       "1"
      ]
     },
     "execution_count": 25,
     "metadata": {},
     "output_type": "execute_result"
    }
   ],
   "source": [
    "next(gen1)"
   ]
  },
  {
   "cell_type": "code",
   "execution_count": 26,
   "id": "5b957c6f-3414-44f4-8b7e-9cc713e2baf7",
   "metadata": {},
   "outputs": [
    {
     "name": "stdout",
     "output_type": "stream",
     "text": [
      "This is the second print statement in this function\n"
     ]
    },
    {
     "data": {
      "text/plain": [
       "2"
      ]
     },
     "execution_count": 26,
     "metadata": {},
     "output_type": "execute_result"
    }
   ],
   "source": [
    "next(gen1)"
   ]
  },
  {
   "cell_type": "code",
   "execution_count": 27,
   "id": "b9086858-f761-49da-b5f4-3a6ea2b6d867",
   "metadata": {},
   "outputs": [
    {
     "name": "stdout",
     "output_type": "stream",
     "text": [
      "This is the last print statement in this function\n"
     ]
    },
    {
     "data": {
      "text/plain": [
       "3"
      ]
     },
     "execution_count": 27,
     "metadata": {},
     "output_type": "execute_result"
    }
   ],
   "source": [
    "next(gen1)"
   ]
  },
  {
   "cell_type": "code",
   "execution_count": 28,
   "id": "cfcc3336-88b0-4bf0-b087-45bd20500d76",
   "metadata": {},
   "outputs": [
    {
     "ename": "StopIteration",
     "evalue": "",
     "output_type": "error",
     "traceback": [
      "\u001b[0;31m---------------------------------------------------------------------------\u001b[0m",
      "\u001b[0;31mStopIteration\u001b[0m                             Traceback (most recent call last)",
      "Cell \u001b[0;32mIn[28], line 1\u001b[0m\n\u001b[0;32m----> 1\u001b[0m \u001b[38;5;28mnext\u001b[39m(gen1)\n",
      "\u001b[0;31mStopIteration\u001b[0m: "
     ]
    }
   ],
   "source": [
    "next(gen1)"
   ]
  },
  {
   "cell_type": "markdown",
   "id": "6c5bc6e3-a606-4263-8279-32bcd4beaddd",
   "metadata": {},
   "source": [
    "The local variables of this function are not destroyed when the function yields. "
   ]
  },
  {
   "cell_type": "code",
   "execution_count": 29,
   "id": "daf8cde3-6c04-4bab-a8cb-9b187733d5d1",
   "metadata": {},
   "outputs": [
    {
     "name": "stdout",
     "output_type": "stream",
     "text": [
      "This is the first print statement in this function\n",
      "1\n",
      "This is the second print statement in this function\n",
      "2\n",
      "This is the last print statement in this function\n",
      "3\n"
     ]
    }
   ],
   "source": [
    "for i in my_generator():\n",
    "    print(i)"
   ]
  },
  {
   "cell_type": "code",
   "execution_count": 34,
   "id": "897d23f3-5785-406a-97bd-b8c1d76cdb3b",
   "metadata": {},
   "outputs": [],
   "source": [
    "def reverse_string(my_string):\n",
    "    lenght = len(my_string)\n",
    "    for i in range(lenght -1, -1, -1):\n",
    "        yield my_string[i]"
   ]
  },
  {
   "cell_type": "code",
   "execution_count": 35,
   "id": "bad17eb9-2657-4c5e-906c-7c89cbad0a3b",
   "metadata": {},
   "outputs": [
    {
     "name": "stdout",
     "output_type": "stream",
     "text": [
      "n\n",
      "o\n",
      "h\n",
      "t\n",
      "y\n",
      "p\n"
     ]
    }
   ],
   "source": [
    "for i in reverse_string(\"python\"):\n",
    "    print(i)\n",
    "    "
   ]
  },
  {
   "cell_type": "code",
   "execution_count": null,
   "id": "5d264472-61f6-4f89-b28d-598d411192ca",
   "metadata": {},
   "outputs": [],
   "source": []
  }
 ],
 "metadata": {
  "kernelspec": {
   "display_name": "Python 3 (ipykernel)",
   "language": "python",
   "name": "python3"
  },
  "language_info": {
   "codemirror_mode": {
    "name": "ipython",
    "version": 3
   },
   "file_extension": ".py",
   "mimetype": "text/x-python",
   "name": "python",
   "nbconvert_exporter": "python",
   "pygments_lexer": "ipython3",
   "version": "3.13.5"
  }
 },
 "nbformat": 4,
 "nbformat_minor": 5
}
